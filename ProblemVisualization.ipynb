{
 "cells": [
  {
   "cell_type": "code",
   "execution_count": null,
   "metadata": {},
   "outputs": [],
   "source": [
    "import numpy as np\n",
    "import matplotlib.pyplot as plt\n",
    "%matplotlib notebook\n",
    "%reload_ext autoreload\n",
    "%autoreload 2\n",
    "\n",
    "np.set_printoptions(precision=2)"
   ]
  },
  {
   "cell_type": "markdown",
   "metadata": {},
   "source": [
    "# Problem Setup"
   ]
  },
  {
   "cell_type": "code",
   "execution_count": null,
   "metadata": {},
   "outputs": [],
   "source": [
    "from trajectory import Trajectory\n",
    "from environment import Environment\n",
    "from global_variables import DIM\n",
    "\n",
    "n_anchors = 3 #number of anchors\n",
    "n_positions = 20 #number of robot sample positions\n",
    "n_complexity = 4 #model complexity\n",
    "\n",
    "trajectory = Trajectory(n_complexity, dim=DIM, model='polynomial')\n",
    "environment = Environment(n_anchors)\n",
    "basis = trajectory.get_basis(n_samples=n_positions)\n",
    "\n",
    "environment.set_random_anchors(seed=1)\n",
    "trajectory.set_coeffs(seed=1)\n",
    "\n",
    "print(basis.shape)\n",
    "sample_points = trajectory.get_sampling_points(basis=basis, seed=1)\n",
    "\n",
    "plt.figure()\n",
    "environment.plot()\n",
    "trajectory.plot(basis, color='orange')\n",
    "#plt.axis('off')\n",
    "#plt.savefig('traj_setup.png')"
   ]
  },
  {
   "cell_type": "code",
   "execution_count": null,
   "metadata": {},
   "outputs": [],
   "source": [
    "from measurements import create_mask, get_D_topright\n",
    "from solvers import alternativePseudoInverse\n",
    "\n",
    "n_it = 3\n",
    "D_noiseless = get_D_topright(environment.anchors, sample_points)\n",
    "print(D_noiseless.shape)\n",
    "basis = trajectory.get_basis(times=times)\n",
    "\n",
    "for i in range(n_it):\n",
    "    mask = create_mask(n_positions, n_anchors, strategy='minimal', dim=DIM, n_complexity=n_complexity, seed=i+1)\n",
    "    \n",
    "    try:\n",
    "        D_missing = np.multiply(D_noiseless, mask)\n",
    "        X = alternativePseudoInverse(D_missing, environment.anchors, basis)\n",
    "        X_noiseless = alternativePseudoInverse(D_noiseless, environment.anchors, basis)\n",
    "    \n",
    "        assert np.allclose(X_noiseless, trajectory.coeffs)\n",
    "        assert np.allclose(X, trajectory.coeffs, atol=1e-3)\n",
    "        print('Result exact for seed', i)\n",
    "        \n",
    "    except AssertionError:\n",
    "        print('diff noiseless:', X_noiseless - trajectory.coeffs)\n",
    "        print('diff noisy:    ', X - trajectory.coeffs)\n",
    "        print('Result not exact for seed', i)\n",
    "        \n",
    "    except Exception as e:\n",
    "        print('Singular matrix for seed {}? Error message:'.format(i)) \n",
    "        print(e)"
   ]
  },
  {
   "cell_type": "code",
   "execution_count": null,
   "metadata": {},
   "outputs": [],
   "source": [
    "from constraints import get_C_constraints\n",
    "import scipy\n",
    "\n",
    "C = trajectory.coeffs\n",
    "C_prime = np.r_[C.flatten(), (C.T.dot(C)).flatten()]\n",
    "\n",
    "\n",
    "T_A, T_B, b = get_C_constraints(D_missing, environment.anchors, basis)\n",
    "#T_A, T_B, b = get_C_constraints(D_noiseless, environment.anchors, basis)\n",
    "T = np.c_[T_A, -T_B/2]\n",
    "\n",
    "assert np.allclose(T.dot(C_prime), b)\n",
    "\n",
    "print(T.shape, b.shape)\n",
    "Lp, Up = scipy.linalg.lu(T, permute_l=True, )\n",
    "P, L, U = scipy.linalg.lu(T, permute_l=False)\n",
    "\n",
    "assert np.allclose(P.dot(L).dot(U), T)\n",
    "assert np.allclose(P.dot(L), Lp)\n",
    "assert np.allclose(U, Up)\n",
    "print('L, U shapes:', L.shape, U.shape)\n",
    "\n",
    "print(U.dot(C_prime))\n",
    "for row_idx in range(U.shape[0]):\n",
    "    num_nnz = trajectory.n_complexity * trajectory.dim\n",
    "    nnz_elements = U[row_idx, :num_nnz].dot(C_prime[:num_nnz])\n",
    "    z_elements = U[row_idx, num_nnz:].dot(C_prime[num_nnz:])\n",
    "    print('should be zero: {:2.2f}'.format(z_elements), 'should be nonzero: {:2.2f}'.format(nnz_elements))\n",
    "\n",
    "#P, L, U = scipy.linalg.lu(T.T, permute_l=False)"
   ]
  },
  {
   "cell_type": "code",
   "execution_count": null,
   "metadata": {
    "scrolled": false
   },
   "outputs": [],
   "source": [
    "fig = plt.matshow(L)\n",
    "plt.gcf().set_size_inches(5, 5)\n",
    "fig = plt.matshow(U)\n",
    "plt.gcf().set_size_inches(7, 5)\n",
    "fig = plt.matshow(trajectory.coeffs.reshape((-1, 1)))\n",
    "plt.gcf().set_size_inches(5, 5)\n",
    "\n",
    "#concat = np.c_[L, U]\n",
    "#\n",
    "#fig, ax = plt.subplots()\n",
    "#fig.set_size_inches(10, 5)\n",
    "#im = ax.matshow(concat)\n",
    "#plt.colorbar(im)\n",
    "#fig, axs = plt.subplots(1, 2)\n",
    "#axs[0].matshow(Lp)\n",
    "#axs[1].matshow(U)\n",
    "#plt.show()"
   ]
  },
  {
   "cell_type": "markdown",
   "metadata": {},
   "source": [
    "## SDP - based approach\n",
    "### Noiseless case - single experiment"
   ]
  },
  {
   "cell_type": "code",
   "execution_count": null,
   "metadata": {},
   "outputs": [],
   "source": [
    "print(\"Make sure that your cvxpy version is >= 1.0.6!\")\n",
    "import cvxpy\n",
    "print(\"Your version:\", cvxpy.__version__)\n",
    "\n",
    "from solvers import OPTIONS, semidefRelaxationNoiseless\n",
    "\n",
    "# We cane change the global variable OPTIONS here. \n",
    "\n",
    "#OPTIONS[cvxpy.SCS][\"max_iters\"] = 200\n",
    "# Seems to have no effect: \n",
    "#OPTIONS[cvxpy.SCS][\"use_indirect\"] = False \n",
    "# Seems to have no effect either: \n",
    "#OPTIONS[cvxpy.SCS][\"eps\"] = 1e-1\n",
    "# Seems to have no effect either: \n",
    "#OPTIONS[cvxpy.SCS][\"scale\"] = 1\n",
    "\n",
    "# Fails completely without this:\n",
    "#OPTIONS[cvxpy.CVXOPT][\"kktsolver\"] = \"robust\"\n",
    "\n",
    "# have no effect:\n",
    "#OPTIONS[cvxpy.CVXOPT][\"feastol\"] = 1e-3\n",
    "#OPTIONS[cvxpy.CVXOPT][\"reltol\"] = 1e-5\n",
    "#OPTIONS[cvxpy.CVXOPT][\"abstol\"] = 1e-5\n",
    "\n",
    "# leads to faster non-convergence: \n",
    "#OPTIONS[cvxpy.CVXOPT][\"refinement\"] = 0\n",
    "\n",
    "#OPTIONS[cvxpy.SCS][\"verbose\"] = False\n",
    "\n",
    "basis = trajectory.get_basis(times=times)\n",
    "\n",
    "X = semidefRelaxationNoiseless(D_noiseless, environment.anchors, basis, chosen_solver=cvxpy.CVXOPT)\n",
    "print('should be identity:\\n', X[:DIM, :DIM])\n",
    "print('should be equal:\\n', X[:DIM:, DIM:])\n",
    "print(trajectory.coeffs)"
   ]
  },
  {
   "cell_type": "code",
   "execution_count": null,
   "metadata": {},
   "outputs": [],
   "source": [
    "from solvers import alternativePseudoInverse\n",
    "X = alternativePseudoInverse(D_noiseless, environment.anchors, basis)\n",
    "print('should be equal:\\n', X[:,:])\n",
    "print(trajectory.coeffs)"
   ]
  },
  {
   "cell_type": "markdown",
   "metadata": {},
   "source": [
    "### Noisy case - single experiment - NOT CURRENTLY WORKING"
   ]
  },
  {
   "cell_type": "code",
   "execution_count": null,
   "metadata": {
    "scrolled": true
   },
   "outputs": [],
   "source": [
    "from solvers import semidefRelaxation\n",
    "from solvers import OPTIONS\n",
    "#OPTIONS[cvxpy.SCS][\"max_iters\"] = 00\n",
    "\n",
    "#X = semidefRelaxation(D_topright, environment.anchors, basis)\n",
    "print('should be identity:\\n', X[:DIM, :DIM])\n",
    "print('should be equal:\\n', X[DIM:, DIM:])\n",
    "print(trajectory.coeffs)"
   ]
  },
  {
   "cell_type": "markdown",
   "metadata": {},
   "source": [
    "## Investigate null space"
   ]
  },
  {
   "cell_type": "code",
   "execution_count": null,
   "metadata": {},
   "outputs": [],
   "source": [
    "from constraints import *\n",
    "\n",
    "ConstraintsMat, ConstraintsVec = get_constraints_matrix(D_noiseless, environment.anchors, basis)\n",
    "ConstraintsMat=np.array(ConstraintsMat)\n",
    "ConstraintsVec=np.array(ConstraintsVec)\n",
    "\n",
    "print(np.isclose(ConstraintsMat@trajectory.Z_opt.flatten(),ConstraintsVec))\n",
    "\n",
    "print(ConstraintsMat.shape)\n",
    "print(ConstraintsVec.shape)\n",
    "u, s, vh = np.linalg.svd(ConstraintsMat, full_matrices=True)\n",
    "print(np.around(s,3))"
   ]
  },
  {
   "cell_type": "code",
   "execution_count": null,
   "metadata": {},
   "outputs": [],
   "source": [
    "#construct right inverse and check meets constraints\n",
    "num_zero_SVs = len(np.where(s<1e-10)[0])\n",
    "Z_hat = vh[:-num_zero_SVs,:].T@np.diag(1/s[:-num_zero_SVs])@u[:,:len(s)-num_zero_SVs].T@ConstraintsVec #right inverse\n",
    "Z_hat = Z_hat.reshape([DIM + n_complexity,DIM + n_complexity])\n",
    "print(np.isclose(ConstraintsMat@Z_hat.flatten(),ConstraintsVec)) #should satisfy constraints since it's a right inverse\n",
    "coeffs_hat = Z_hat[:DIM,DIM:]\n",
    "print(np.isclose(trajectory.coeffs,coeffs_hat))"
   ]
  },
  {
   "cell_type": "code",
   "execution_count": null,
   "metadata": {},
   "outputs": [],
   "source": [
    "print('find basis vectors of null space')\n",
    "tmp = vh[-num_zero_SVs:,:]\n",
    "print(tmp.shape)\n",
    "nullSpace = []\n",
    "for i in range(num_zero_SVs):\n",
    "    nullSpace.append(tmp[i,:].reshape([DIM + n_complexity,DIM + n_complexity]))\n",
    "\n",
    "nullSpace = np.array(nullSpace)\n",
    "Z_hat2 = Z_hat+nullSpace[0,:]+2*nullSpace[1,:]+3*nullSpace[2,:]\n",
    "print(np.isclose(ConstraintsMat@(Z_hat2.flatten()),ConstraintsVec))"
   ]
  },
  {
   "cell_type": "code",
   "execution_count": null,
   "metadata": {},
   "outputs": [],
   "source": [
    "print(np.around(nullSpace[0,:],5))\n",
    "print(np.around(nullSpace[1,:],5))\n",
    "print(np.around(nullSpace[2,:],5))"
   ]
  },
  {
   "cell_type": "markdown",
   "metadata": {},
   "source": [
    "### Solve as linear program"
   ]
  },
  {
   "cell_type": "code",
   "execution_count": null,
   "metadata": {},
   "outputs": [],
   "source": [
    "# try linear program\n",
    "from cvxopt import matrix, solvers\n",
    "\n",
    "tmpMat=np.diag(s[:-num_zero_SVs])@vh[:-num_zero_SVs,:]\n",
    "tmpVec = u[:,:len(s)-num_zero_SVs].T@ConstraintsVec\n",
    "A = matrix(np.vstack([tmpMat,-tmpMat]))\n",
    "b = matrix(np.hstack([tmpVec,-tmpVec]))\n",
    "c = matrix(np.ones((DIM + n_complexity)*(DIM + n_complexity)))\n",
    "sol=solvers.lp(c,A,b, solver='glpk') #doesn't work eith defualt solver but glpk good\n",
    "print(sol)\n",
    "Z_hat = np.array(sol['x']).reshape([DIM + n_complexity,DIM + n_complexity])\n",
    "print(np.isclose(Z_hat,trajectory.Z_opt))"
   ]
  },
  {
   "cell_type": "markdown",
   "metadata": {},
   "source": [
    "## MDS - based approach\n",
    "### Noiseless case"
   ]
  },
  {
   "cell_type": "code",
   "execution_count": null,
   "metadata": {},
   "outputs": [],
   "source": [
    "# find new coefficients\n",
    "from baseline_solvers import customMDS\n",
    "coeffs_est = customMDS(D_noiseless, basis, environment.anchors)\n",
    "print(coeffs_est.shape)\n",
    "print(coeffs_est)\n",
    "print(trajectory.coeffs)"
   ]
  },
  {
   "cell_type": "code",
   "execution_count": null,
   "metadata": {},
   "outputs": [],
   "source": [
    "from trajectory import Trajectory\n",
    "trajectory_est = Trajectory(n_complexity, model='polynomial')\n",
    "trajectory_est.set_coeffs(coeffs=coeffs_est)\n",
    "\n",
    "plt.figure()\n",
    "environment.plot()\n",
    "trajectory_est.plot(basis=basis, color='red', linestyle=':')\n",
    "trajectory.plot(basis=basis, color='green', linestyle='--')"
   ]
  },
  {
   "cell_type": "markdown",
   "metadata": {},
   "source": [
    "### Noisy case"
   ]
  },
  {
   "cell_type": "code",
   "execution_count": null,
   "metadata": {},
   "outputs": [],
   "source": [
    "from baseline_solvers import gradientDescent\n",
    "\n",
    "sigma = 4\n",
    "\n",
    "np.random.seed(1)\n",
    "D_topright_noisy = D_noiseless + sigma * np.random.randn(*(D_noiseless.shape))\n",
    "coeffs_est_noisy = customMDS(D_topright_noisy, basis, environment.anchors)\n",
    "\n",
    "coeffs_est_noisy, costs = gradientDescent(\n",
    "    environment.anchors, basis, coeffs_est_noisy, \n",
    "    D_topright_noisy,maxIters=50)\n",
    "#print(checkStationaryPointSRLS(A,F,C_hat,DTR_tilde))\n",
    "#plt.plot(costs)"
   ]
  },
  {
   "cell_type": "code",
   "execution_count": null,
   "metadata": {},
   "outputs": [],
   "source": [
    "trajectory_est_noisy = Trajectory(n_complexity, model='polynomial')\n",
    "trajectory_est_noisy.set_coeffs(coeffs=coeffs_est_noisy)\n",
    "\n",
    "plt.figure()\n",
    "environment.plot()\n",
    "trajectory_est_noisy.plot(basis=basis, color='red', linestyle=':')\n",
    "trajectory.plot(basis=basis, color='green', linestyle='--')"
   ]
  },
  {
   "cell_type": "code",
   "execution_count": null,
   "metadata": {},
   "outputs": [],
   "source": []
  }
 ],
 "metadata": {
  "kernelspec": {
   "display_name": "Python 3",
   "language": "python",
   "name": "python3"
  },
  "language_info": {
   "codemirror_mode": {
    "name": "ipython",
    "version": 3
   },
   "file_extension": ".py",
   "mimetype": "text/x-python",
   "name": "python",
   "nbconvert_exporter": "python",
   "pygments_lexer": "ipython3",
   "version": "3.5.2"
  }
 },
 "nbformat": 4,
 "nbformat_minor": 2
}
