{
 "cells": [
  {
   "cell_type": "code",
   "execution_count": null,
   "metadata": {},
   "outputs": [],
   "source": [
    "import numpy as np\n",
    "import matplotlib.pyplot as plt\n",
    "%matplotlib inline\n",
    "%reload_ext autoreload\n",
    "%autoreload 2"
   ]
  },
  {
   "cell_type": "markdown",
   "metadata": {},
   "source": [
    "# Do new simulations "
   ]
  },
  {
   "cell_type": "code",
   "execution_count": null,
   "metadata": {},
   "outputs": [],
   "source": [
    "from simulation import run_simulation\n",
    "\n",
    "### Option 1: Reproduce results\n",
    "\n",
    "#key = 'fixed_complexity'\n",
    "#paramfolder = 'results/{}/'.format(key)\n",
    "#results = run_simulation(paramfolder, outfolder=None)\n",
    "\n",
    "### Option 2: Add new results to existing folder \n",
    "\n",
    "#run_simulation(paramfolder, outfolder=paramfolder)\n",
    "\n",
    "### Option 3: Created completely new results or add new to existing folder.\n",
    "\n",
    "parameters = {\n",
    "    'key': 'fixed_complexity_right_inverse', \n",
    "    'n_its': 10, \n",
    "    'time': 'undefined', \n",
    "    'positions': [2,4,6,8,10,12,14],\n",
    "    'complexities': [3,4,5,6], \n",
    "    'anchors': [8,9,10], \n",
    "}\n",
    "outfolder = 'results/{}/'.format(parameters['key'])\n",
    "run_simulation(parameters, outfolder, solver=\"rightInverseOfConstraints\")"
   ]
  },
  {
   "cell_type": "markdown",
   "metadata": {},
   "source": [
    "# Read and plot results"
   ]
  },
  {
   "cell_type": "code",
   "execution_count": null,
   "metadata": {},
   "outputs": [],
   "source": [
    "from simulation import read_results, read_params\n",
    "from global_variables import DIM\n",
    "from plotting_tools import add_plot_decoration, generate_labels\n",
    "\n",
    "key =  'fixed_complexity_right_inverse'\n",
    "resultfolder = 'results/{}/'.format(key)\n",
    "results = read_results(resultfolder + 'result_')\n",
    "parameters = read_params(resultfolder + 'parameters.json')\n",
    "complexities = np.array(parameters['complexities'])\n",
    "positions = np.array(parameters['positions'])\n",
    "anchors = np.array(parameters['anchors'])\n",
    "\n",
    "    \n",
    "dims = {\n",
    "    'complexities' : 0,\n",
    "    'anchors' : 1,\n",
    "    'positions' : 2,\n",
    "    'measurements' : 3,\n",
    "}    \n",
    "\n",
    "# Choose which parameters to plot - the values are indexes to the previously given parameters\n",
    "indices = [[]]*len(dims)\n",
    "indices[dims['complexities']] = range(len(complexities))\n",
    "indices[dims['anchors']] = [0]\n",
    "indices[dims['positions']] = [3]\n",
    "indices[dims['measurements']] = range(np.max(positions[indices[dims['positions']]])*np.max(anchors[indices[dims['anchors']] ]) ) \n",
    "\n",
    "grid = np.meshgrid(indices[0], indices[1], indices[2], indices[3])\n",
    "title, label = generate_labels(dims, parameters, indices)\n",
    "\n",
    "print(\"NOTE: values are nan if never visited (white)\")\n",
    "\n",
    "plt.matshow(np.squeeze(results['successes'][grid]))\n",
    "plt.title('Number of successful solutions'+title)\n",
    "add_plot_decoration(label, parameters)\n",
    "plt.show()\n",
    "\n",
    "result_dimentions = np.shape(results['successes'])\n",
    "bound_theory = np.zeros(result_dimentions)\n",
    "\n",
    "for c_idx in indices[dims['complexities']]:\n",
    "    for a_idx in indices[dims['anchors']]:\n",
    "        for p_idx in indices[dims['positions']]:\n",
    "            for m_idx in indices[dims['measurements']]:\n",
    "                n_min = complexities[c_idx] * 2 + DIM * complexities[c_idx]\n",
    "                max_measurements = positions[p_idx]*anchors[a_idx]\n",
    "                if (m_idx <= max_measurements - n_min) and (positions[p_idx]>= complexities[c_idx]):\n",
    "                    bound_theory[c_idx, a_idx, p_idx, m_idx] = 1.0\n",
    "                if m_idx > max_measurements:\n",
    "                    bound_theory[c_idx, a_idx, p_idx, m_idx] = np.nan\n",
    "\n",
    "print(\"NOTE: shows theoretical bound () and value from which zero measurements are left (white)\")\n",
    "plt.matshow(np.squeeze(bound_theory[grid]))\n",
    "plt.title('theoretical bound'+title)\n",
    "add_plot_decoration(label, parameters)\n",
    "plt.show()\n",
    "\n",
    "plt.matshow(np.squeeze(results['num-not-solved'][grid]))\n",
    "plt.title('Number of solver failures'+title)\n",
    "add_plot_decoration(label, parameters)\n",
    "plt.show()\n",
    "\n",
    "plt.matshow(np.squeeze(results['num-not-accurate'][grid]))\n",
    "plt.title('Number of inaccurate solutions'+title)\n",
    "add_plot_decoration(label, parameters)\n",
    "plt.show()"
   ]
  },
  {
   "cell_type": "code",
   "execution_count": null,
   "metadata": {},
   "outputs": [],
   "source": []
  }
 ],
 "metadata": {
  "kernelspec": {
   "display_name": "Python 3",
   "language": "python",
   "name": "python3"
  },
  "language_info": {
   "codemirror_mode": {
    "name": "ipython",
    "version": 3
   },
   "file_extension": ".py",
   "mimetype": "text/x-python",
   "name": "python",
   "nbconvert_exporter": "python",
   "pygments_lexer": "ipython3",
   "version": "3.6.6"
  }
 },
 "nbformat": 4,
 "nbformat_minor": 2
}
