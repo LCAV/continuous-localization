{
 "cells": [
  {
   "cell_type": "code",
   "execution_count": null,
   "metadata": {},
   "outputs": [],
   "source": [
    "import numpy as np\n",
    "import matplotlib.pyplot as plt\n",
    "%matplotlib inline\n",
    "%reload_ext autoreload\n",
    "%autoreload 2"
   ]
  },
  {
   "cell_type": "markdown",
   "metadata": {},
   "source": [
    "# Do new simulations "
   ]
  },
  {
   "cell_type": "code",
   "execution_count": null,
   "metadata": {},
   "outputs": [],
   "source": [
    "from simulation import run_simulation\n",
    "\n",
    "### Option 1: Reproduce results\n",
    "\n",
    "#key = 'fixed_complexity'\n",
    "#paramfolder = 'results/{}/'.format(key)\n",
    "#results = run_simulation(paramfolder, outfolder=None)\n",
    "\n",
    "### Option 2: Add new results to existing folder \n",
    "\n",
    "#run_simulation(paramfolder, outfolder=paramfolder)\n",
    "\n",
    "### Option 3: Created completely new results or add new to existing folder.\n",
    "\n",
    "parameters = {\n",
    "    'key': 'fixed_complexity', \n",
    "    'n_its': 2, \n",
    "    'time': 'undefined', \n",
    "    'positions': [15],\n",
    "    'complexities': [6], \n",
    "    'anchors': [10], \n",
    "}\n",
    "outfolder = 'results/{}/'.format(parameters['key'])\n",
    "run_simulation(parameters, outfolder=None)"
   ]
  },
  {
   "cell_type": "markdown",
   "metadata": {},
   "source": [
    "# Read and plot results"
   ]
  },
  {
   "cell_type": "code",
   "execution_count": null,
   "metadata": {},
   "outputs": [],
   "source": [
    "from simulation import read_results, read_params\n",
    "from global_variables import DIM\n",
    "key =  'fixed_complexity'\n",
    "resultfolder = 'results/{}/'.format(key)\n",
    "results = read_results(resultfolder + 'result_')\n",
    "parameters = read_params(resultfolder + 'parameters.json')\n",
    "\n",
    "def add_plot_decoration():\n",
    "    plt.colorbar()\n",
    "    plt.xlabel('number of missing measurements')\n",
    "    plt.ylabel('n_positions')\n",
    "    plt.yticks(range(len(positions)), positions)\n",
    "    plt.gca().xaxis.tick_bottom()\n",
    "    plt.show()\n",
    "    \n",
    "print(\"NOTE: values are nan if never visited (white)\")\n",
    "    \n",
    "if results['successes'].ndim >= 2:\n",
    "    n_complexity = parameters['complexities'][0]\n",
    "    positions = parameters['positions']\n",
    "    n_anchors = parameters['anchors'][0]\n",
    "    \n",
    "    plt.matshow(results['successes'])\n",
    "    plt.title('Number of successful solutions')\n",
    "    add_plot_decoration()\n",
    "\n",
    "    plt.matshow(results['num-not-solved'])\n",
    "    plt.title('Number of solver failures')\n",
    "    add_plot_decoration()\n",
    "\n",
    "    plt.matshow(results['num-not-accurate'])\n",
    "    plt.title('Number of inaccurate solutions')\n",
    "    add_plot_decoration()\n",
    "\n",
    "    bound_theory = np.zeros_like(results['successes'])\n",
    "    n_min = n_complexity * (n_complexity + 1) / 2 + DIM * n_complexity\n",
    "    print('needed number of measurements:',  n_min)\n",
    "    for i, n_pos in enumerate(positions):\n",
    "        max_missing_allowed = max(int(n_pos * n_anchors - n_min), 0)\n",
    "        if max_missing_allowed < bound_theory.shape[1]:\n",
    "            bound_theory[i, max_missing_allowed] = 1.0\n",
    "        if n_pos * n_anchors < bound_theory.shape[1]:\n",
    "            bound_theory[i, (n_pos * n_anchors):] = np.nan\n",
    "\n",
    "    print(\"NOTE: shows theoretical bound () and value from which zero measurements are left (white)\")\n",
    "    plt.matshow(bound_theory)\n",
    "    plt.title('theoretical bound')\n",
    "    add_plot_decoration()\n",
    "else:\n",
    "    plt.plot(results['successes'], label='success', linestyle=\"-\")\n",
    "    plt.plot(results['num-not-solved'], label='not-solved', linestyle=\":\")\n",
    "    plt.plot(results['num-not-accurate'], label='not-accurate', linestyle=\":\")\n",
    "    plt.legend(loc='center left')\n",
    "    print(str(parameters))\n",
    "    plt.title('K={}, N={}, M={}'.format(parameters['complexities'][0],\n",
    "                                        parameters['positions'][0],\n",
    "                                        parameters['anchors'][0]))\n",
    "    fig = plt.gcf()\n",
    "    fig.set_size_inches(10, 5)"
   ]
  },
  {
   "cell_type": "code",
   "execution_count": null,
   "metadata": {},
   "outputs": [],
   "source": []
  }
 ],
 "metadata": {
  "kernelspec": {
   "display_name": "Python 3",
   "language": "python",
   "name": "python3"
  },
  "language_info": {
   "codemirror_mode": {
    "name": "ipython",
    "version": 3
   },
   "file_extension": ".py",
   "mimetype": "text/x-python",
   "name": "python",
   "nbconvert_exporter": "python",
   "pygments_lexer": "ipython3",
   "version": "3.6.5"
  }
 },
 "nbformat": 4,
 "nbformat_minor": 2
}
