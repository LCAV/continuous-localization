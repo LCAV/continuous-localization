{
 "cells": [
  {
   "cell_type": "code",
   "execution_count": null,
   "metadata": {},
   "outputs": [],
   "source": [
    "import math\n",
    "import matplotlib.pyplot as plt\n",
    "import numpy as np\n",
    "import pandas as pd\n",
    "import seaborn as sns\n",
    "\n",
    "import os\n",
    "\n",
    "%matplotlib inline\n",
    "%reload_ext autoreload\n",
    "%autoreload 2\n",
    "\n",
    "np.set_printoptions(precision=2)"
   ]
  },
  {
   "cell_type": "code",
   "execution_count": null,
   "metadata": {},
   "outputs": [],
   "source": [
    "# trajectory model to test.\n",
    "\n",
    "#trajectory_type = 'circle'  # has constant velocity in model.\n",
    "#trajectory_type = 'ellipse' # non-constant velocity.\n",
    "#trajectory_type = 'linear' # linear constant velocity\n",
    "trajectory_type = 'linear_accel' # linear constant acceleration"
   ]
  },
  {
   "cell_type": "code",
   "execution_count": null,
   "metadata": {},
   "outputs": [],
   "source": [
    "from trajectory_creator import get_trajectory\n",
    "from trajectory import Trajectory\n",
    "\n",
    "n_times = 21\n",
    "\n",
    "if trajectory_type == 'circle':\n",
    "    trajectory = get_trajectory('circle2_double.csv')\n",
    "    lengths_uniform = r * 2 * np.pi / (n_times - 1)\n",
    "    print('uniform length:', lengths_uniform)\n",
    "    max_time = trajectory.params['tau']\n",
    "    \n",
    "if trajectory_type == 'ellipse':\n",
    "    trajectory = get_trajectory('circle2_double.csv')\n",
    "    trajectory.set_coeffs(seed=2)\n",
    "    max_time = trajectory.params['tau']\n",
    "    \n",
    "if trajectory_type == 'linear':\n",
    "    trajectory = get_trajectory('straight1.csv')\n",
    "    max_time = 1.0\n",
    "    \n",
    "if trajectory_type == 'linear_accel':\n",
    "    trajectory = get_trajectory('straight1.csv')\n",
    "    trajectory = Trajectory(n_complexity=3, dim=2, model='polynomial')\n",
    "    trajectory.set_coeffs(coeffs=np.array([[0, 1, 1], [0, 0.5, 0.5]]))\n",
    "    max_time = 1.0\n",
    "    \n",
    "plt.figure()\n",
    "times_uniform = np.linspace(0, max_time, n_times)\n",
    "basis = trajectory.get_basis(times=times_uniform)\n",
    "trajectory.plot(times=times_uniform)\n",
    "plt.axis('equal')"
   ]
  },
  {
   "cell_type": "code",
   "execution_count": null,
   "metadata": {},
   "outputs": [],
   "source": [
    "lengths_noncum = trajectory.get_distances_from_times(times_uniform)\n",
    "\n",
    "if np.allclose(lengths_noncum, lengths_noncum[0]):\n",
    "    print('constant velocity:', lengths_noncum[0])\n",
    "else:\n",
    "    print('non-constant velocity')\n",
    "\n",
    "lengths_cum = np.cumsum(lengths_noncum)\n",
    "print('cumulative lengths:', lengths_cum)\n",
    "times_prime, __, __ = trajectory.get_times_from_distances(arbitrary_distances=lengths_cum)\n",
    "\n",
    "np.testing.assert_allclose(times_prime, times_uniform, rtol=1e-3, atol=1e-3)\n",
    "print('test 1 passed.')"
   ]
  },
  {
   "cell_type": "code",
   "execution_count": null,
   "metadata": {},
   "outputs": [],
   "source": [
    "# for linear acceleration only\n",
    "if trajectory_type != 'linear_accel':\n",
    "    print('Nothing else to do here.')\n",
    "else:\n",
    "    # convert the nonlinear times to times at constant velocity (such as what we get from robot). \n",
    "    new_times = times_uniform\n",
    "    points = trajectory.get_sampling_points(times=new_times)\n",
    "    direction = points[:, -1] - points[:, 0]\n",
    "    points_robot = points[:, 0] + np.linspace(0, 1, n_times).reshape((-1, 1)) * direction\n",
    "    points_robot = points_robot.T\n",
    "    \n",
    "    fig, ax = plt.subplots(2, 3); fig.set_size_inches(13, 4)\n",
    "    ax[0, 0].scatter(*points[:2])\n",
    "    ax[0, 0].set_title('model points')\n",
    "    ax[0, 1].scatter(*points_robot[:2])\n",
    "    ax[0, 1].set_title('robot measurement points')\n",
    "    ax[1, 0].scatter(new_times, y=[1]*len(new_times))\n",
    "    ax[1, 1].scatter(new_times, y=[1]*len(new_times))\n",
    "    \n",
    "    constant_length = np.linalg.norm(points_robot[:, 0] - points_robot[:, 1])\n",
    "    constant_velocity = constant_length / (new_times[1] - new_times[0])\n",
    "    \n",
    "    lengths = [constant_length] * (n_times - 1)\n",
    "    \n",
    "    times_prime, __, __ = trajectory.get_times_from_distances(arbitrary_distances=np.cumsum(lengths))\n",
    "    \n",
    "    sampling_points = trajectory.get_sampling_points(times=times_prime)\n",
    "    ax[0, 2].scatter(*sampling_points[:2])\n",
    "    ax[0, 2].set_title('sampling points')\n",
    "    ax[1, 2].scatter(times_prime, y=[1]*len(times_prime))\n",
    "    \n",
    "    for i in range(3):\n",
    "        ax[0, i].set_xlabel('x');  \n",
    "        ax[0, i].set_ylabel('y'); \n",
    "        ax[1, i].set_ylabel('')\n",
    "        ax[1, i].set_yticklabels('')\n",
    "        ax[1, i].set_xlabel('times')\n",
    "    \n",
    "    np.testing.assert_allclose(sampling_points, points_robot, rtol=1e-3, atol=1e-3)\n",
    "    print('test 2 passed.')\n"
   ]
  },
  {
   "cell_type": "code",
   "execution_count": null,
   "metadata": {},
   "outputs": [],
   "source": []
  },
  {
   "cell_type": "code",
   "execution_count": null,
   "metadata": {},
   "outputs": [],
   "source": []
  }
 ],
 "metadata": {
  "kernelspec": {
   "display_name": "Python 3",
   "language": "python",
   "name": "python3"
  },
  "language_info": {
   "codemirror_mode": {
    "name": "ipython",
    "version": 3
   },
   "file_extension": ".py",
   "mimetype": "text/x-python",
   "name": "python",
   "nbconvert_exporter": "python",
   "pygments_lexer": "ipython3",
   "version": "3.5.2"
  }
 },
 "nbformat": 4,
 "nbformat_minor": 2
}
