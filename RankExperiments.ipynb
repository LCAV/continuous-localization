{
 "cells": [
  {
   "cell_type": "code",
   "execution_count": null,
   "metadata": {},
   "outputs": [],
   "source": [
    "import numpy as np\n",
    "import matplotlib.pyplot as plt\n",
    "import hypothesis as h\n",
    "\n",
    "import time\n",
    "plt.rcParams['figure.figsize'] = 10, 5"
   ]
  },
  {
   "cell_type": "markdown",
   "metadata": {},
   "source": [
    "# Analysis of the rank of the constrain matrix\n",
    "\n",
    "If not stated otherwise, we assume that there is at most one measurement per time instance.\n",
    "\n",
    "In this notebook we use a little rearanged definitions of the left and right parts of matrix:\n",
    "\n",
    "Let us write $\\pmb{f_n}^\\top$ as $[1\\ \\pmb{g_n}^\\top]^\\top$, and similarly\n",
    "$\\tilde{\\pmb{a}}_m^\\top = [\\pmb{a_m}^\\top 1]^\\top$. We can then \n",
    "write the whole constraint vector as:\n",
    "$$\\begin{bmatrix}\n",
    "\\text{vect}(\\tilde{\\pmb{a}}_m\\pmb{f}_n^\\top)^\\top & \\text{vect}( \n",
    "\\pmb{g_n} \\pmb{f_n}^\\top)^\\top\n",
    "\\end{bmatrix}$$\n",
    "Then we have the needed constrains on the left, and constrains added due to the \n",
    "regularisation on the right.\n",
    "From the Lemmas from the paper we know that we can write:\n",
    "$$\\text{vect}(\\pmb{f_n f_n^\\top}) = \\pmb{R} \\pmb{f_n^e},$$\n",
    "where $\\pmb{R}$ is some (sparse) matrix, and $\\pmb{f_n^e}$ is a vector \n",
    "similar in structure to $\\pmb{f_n}$, and can be written as a concatenation of  $\\pmb{f_n}$ and $\\pmb{f}_n^{r}$.\n",
    "This means we can write our full system of equations as:\n",
    "\\begin{align}\n",
    "b &=\n",
    "\\begin{bmatrix}\n",
    "\\text{vect}(\\pmb{a_m f_n}^\\top)^\\top & (\\pmb{f_n^e})^\\top\n",
    "\\end{bmatrix}\n",
    "\\begin{bmatrix}\n",
    "\\pmb{C} \\\\\n",
    "\\pmb{R^\\top L} \\\\\\end{bmatrix}\\\\\n",
    "\\end{align}\n",
    "Or using $\\tilde{\\pmb{a}}_m$:\n",
    "\\begin{align}\n",
    "b &=\n",
    "\\begin{bmatrix}\n",
    "\\text{vect}(\\tilde{\\pmb{a}}_m \\pmb{f}_n^\\top)^\\top & \\pmb{f}_n^{r\\top}\n",
    "\\end{bmatrix}\n",
    "\\begin{bmatrix}\n",
    "\\pmb{C} \\\\\n",
    "\\pmb{R}^\\top \\pmb{L} \\\\\\end{bmatrix}\n",
    "\\end{align}\n",
    "\n",
    "And so for us left hand side refers to $\\text{vect}(\\tilde{\\pmb{a}}_m \\pmb{f}_n^\\top)^\\top$ and right hand side refers to $\\pmb{f}_n^{r\\top}$.\n"
   ]
  },
  {
   "cell_type": "markdown",
   "metadata": {},
   "source": [
    "## Rank vs number of measurements: simulations\n",
    "In those experiments, the number of dimentions $D$, number of constrains $K$ and number of positions $N$ is fixed,\n",
    "and for several different ranks the number of measurements is increased. The second experiment allows for many measurements per time instance. We can see that with at most one measurement per time we have better results for more than D+1 anchors, but for D+1 anchors there many measurements setup is better."
   ]
  },
  {
   "cell_type": "code",
   "execution_count": null,
   "metadata": {},
   "outputs": [],
   "source": [
    "plt.rcParams['figure.figsize'] = 10, 5\n",
    "\n",
    "experiment_params={\n",
    "    \"n_dimensions\": 2,\n",
    "    \"n_constraints\": 5,\n",
    "    \"n_positions\": 60,\n",
    "    \"n_repetitions\": 100,\n",
    "    \"full_matrix\": True,\n",
    "    \"n_anchors_list\": [1, 2, 4, 8, 100],\n",
    "    \"one_per_time\": True,\n",
    "}\n",
    "\n",
    "ranks, params = h.matrix_rank_experiment(experiment_params)\n",
    "\n",
    "h.plot_results(ranks, params)\n",
    "plt.show()\n",
    "\n",
    "experiment_params={\n",
    "    \"n_dimensions\": 2,\n",
    "    \"n_constraints\": 5,\n",
    "    \"n_positions\": 20,\n",
    "    \"n_repetitions\": 100,\n",
    "    \"full_matrix\": True,\n",
    "    \"n_anchors_list\": [1, 2, 4, 8, 100],\n",
    "    \"one_per_time\": False,\n",
    "}\n",
    "\n",
    "ranks, params = h.matrix_rank_experiment(experiment_params)\n",
    "\n",
    "h.plot_results(ranks, params)\n",
    "plt.show()"
   ]
  },
  {
   "cell_type": "markdown",
   "metadata": {},
   "source": [
    "## Rank vs number of measurements: theory and simulations\n",
    "First plots in this part focus on the rank of the left hand side of the matrix."
   ]
  },
  {
   "cell_type": "code",
   "execution_count": null,
   "metadata": {},
   "outputs": [],
   "source": [
    "n_constrains = 5\n",
    "experiment_params={\n",
    "    \"n_dimensions\": 2,\n",
    "    \"n_constraints\": n_constrains,\n",
    "    \"n_repetitions\": 1000,\n",
    "    \"full_matrix\": True,\n",
    "    \"n_anchors_list\": [1, 2, 3, 10],\n",
    "    \"n_positions\": 40,\n",
    "    \"one_per_time\": True,\n",
    "}\n",
    "\n",
    "start = time.time()\n",
    "ranks, params = h.matrix_rank_experiment(experiment_params)\n",
    "end = time.time()\n",
    "print(\"elapsed time: {:.2f}s\".format(end - start))"
   ]
  },
  {
   "cell_type": "code",
   "execution_count": null,
   "metadata": {},
   "outputs": [],
   "source": [
    "n_measurement_list = params[\"second_list\"]\n",
    "\n",
    "probabilities = []\n",
    "for idx, n_anchors in enumerate(params[\"n_anchors_list\"]):\n",
    "    print(\"{} anchors\".format(n_anchors))\n",
    "    probabilities.append([h.probability_upper_bound_any_measurements(\n",
    "        params[\"n_dimensions\"],\n",
    "        params[\"n_constraints\"],\n",
    "        n_measurements=n,\n",
    "        position_wise=False,\n",
    "        n_anchors=n_anchors,\n",
    "        n_positions=np.Infinity\n",
    "    ) for n in n_measurement_list])\n",
    "probabilities = np.array(probabilities)\n"
   ]
  },
  {
   "cell_type": "markdown",
   "metadata": {},
   "source": [
    "### Plot and save results"
   ]
  },
  {
   "cell_type": "code",
   "execution_count": null,
   "metadata": {},
   "outputs": [],
   "source": [
    "import pickle\n",
    "from plotting_tools import make_dirs_safe\n",
    "directory = 'theory/'\n",
    "make_dirs_safe(directory)\n",
    "name = 'first_one_per_time_plots'\n",
    "data = {\"ranks\": ranks, \"probabilities\":probabilities, \"params\": params}\n",
    "pickle.dump(data, open( directory + name + '.p', \"wb\" ) )\n",
    "\n",
    "plt.rcParams['figure.figsize'] = 10, 5\n",
    "f, ax = plt.subplots()\n",
    "for idx, n_anchors in enumerate(params[\"n_anchors_list\"]):\n",
    "\n",
    "    max_rank = params[\"max_rank\"]\n",
    "    mean =  np.mean(ranks[:, idx, :] >= max_rank, axis=-1)\n",
    "    std = np.std(ranks[:, idx, :] >= max_rank, axis=-1)\n",
    "    anchor_condition = np.mean(params[\"anchor_condition\"][:, idx, :], axis=-1)\n",
    "    frame_condition = np.mean(params[\"frame_condition\"][:, idx, :], axis=-1)\n",
    "    both_conditions = np.mean((params[\"anchor_condition\"] * params[\"frame_condition\"])[:, idx, :], axis=-1)\n",
    "\n",
    "\n",
    "    p = plt.step(\n",
    "        n_measurement_list,\n",
    "        probabilities[idx],\n",
    "        label=\"calculated prob. {} anchors\".format(n_anchors), # using the old model, what needs to be changed?\n",
    "        linestyle=\":\",\n",
    "        where='post')\n",
    "    plt.step(\n",
    "        n_measurement_list,\n",
    "        mean,\n",
    "        label=\"estimated prob. {} anchors\".format(n_anchors),\n",
    "        color=p[-1].get_color(),\n",
    "        where='post')\n",
    "\n",
    "plt.xlabel(\"number of measurements\")\n",
    "plt.ylim(0)\n",
    "plt.grid()\n",
    "plt.legend()\n",
    "matrix_name = \"Full matrix\" if params[\"full_matrix\"] else \"Left hand side\"\n",
    "plt.title(matrix_name + \", one measurement at time, complexity {}\".format(params[\"n_constraints\"]))\n",
    "plt.savefig(directory + name + str(params[\"full_matrix\"]) + '.pdf')\n",
    "plt.show()"
   ]
  },
  {
   "cell_type": "code",
   "execution_count": null,
   "metadata": {},
   "outputs": [],
   "source": []
  }
 ],
 "metadata": {
  "kernelspec": {
   "display_name": "Python 3",
   "language": "python",
   "name": "python3"
  },
  "language_info": {
   "codemirror_mode": {
    "name": "ipython",
    "version": 3
   },
   "file_extension": ".py",
   "mimetype": "text/x-python",
   "name": "python",
   "nbconvert_exporter": "python",
   "pygments_lexer": "ipython3",
   "version": "3.6.7"
  }
 },
 "nbformat": 4,
 "nbformat_minor": 2
}
