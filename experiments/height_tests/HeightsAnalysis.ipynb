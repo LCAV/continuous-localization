{
 "cells": [
  {
   "cell_type": "code",
   "execution_count": null,
   "metadata": {},
   "outputs": [],
   "source": [
    "import numpy as np\n",
    "import matplotlib as mpl\n",
    "import pandas as pd\n",
    "import seaborn as sns\n",
    "import matplotlib.pylab as plt"
   ]
  },
  {
   "cell_type": "code",
   "execution_count": null,
   "metadata": {},
   "outputs": [],
   "source": [
    "def convert_to_seconds(float_time, verbose=False):\n",
    "    seconds = np.round(float_time % 1.0, 3) \n",
    "    minutes = np.round(float_time - seconds, 0)\n",
    "    if verbose:\n",
    "        print(seconds, minutes)\n",
    "    return minutes*60 + seconds*100\n",
    "print(convert_to_seconds(1.15))"
   ]
  },
  {
   "cell_type": "code",
   "execution_count": null,
   "metadata": {},
   "outputs": [],
   "source": [
    "fname='h1.csv'\n",
    "real_distances = {\n",
    "    'd1': {'time':[0, 0.30], 'distance': 0.5},\n",
    "    'd2': {'time':[0.4, 1.10], 'distance': 1.0},\n",
    "    'd3': {'time':[1.25, 2.00], 'distance': 2.5},\n",
    "    'd4': {'time':[2.20, 3.00], 'distance': 5.0},\n",
    "    'd5': {'time':[3.20, 4.00], 'distance': 7.5},\n",
    "}\n",
    "phone_height=0.23\n",
    "ap_height=0.93"
   ]
  },
  {
   "cell_type": "code",
   "execution_count": null,
   "metadata": {},
   "outputs": [],
   "source": [
    "fname='h2.csv'\n",
    "real_distances = {\n",
    "    'd1': {'time':[0, 1.00], 'distance': 7.5},\n",
    "    'd2': {'time':[1.2, 1.50], 'distance': 6},\n",
    "    'd3': {'time':[2.1, 2.40], 'distance': 5},\n",
    "    'd4': {'time':[3.1, 3.40], 'distance': 4},\n",
    "    'd5': {'time':[4.1, 4.50], 'distance': 3},\n",
    "    'd6': {'time':[5.1, 5.40], 'distance': 2.5},\n",
    "    'd7': {'time':[6.1, 6.40], 'distance': 1},\n",
    "}\n",
    "phone_height=0.23\n",
    "ap_height=0.93"
   ]
  },
  {
   "cell_type": "code",
   "execution_count": null,
   "metadata": {},
   "outputs": [],
   "source": [
    "fname='h3.csv'\n",
    "real_distances = {\n",
    "    'd1': {'time':[0.0, 0.30], 'distance': 1},\n",
    "    'd2': {'time':[0.45, 1.15], 'distance': 2},\n",
    "    'd3': {'time':[1.3, 2.00], 'distance': 3},\n",
    "    'd4': {'time':[2.15, 2.45], 'distance': 4},\n",
    "    'd5': {'time':[3.0, 3.30], 'distance': 5},\n",
    "    'd6': {'time':[3.5, 4.20], 'distance': 6},\n",
    "    'd7': {'time':[4.4, 5.10], 'distance': 7.5},\n",
    "}\n",
    "phone_height=0.23\n",
    "ap_height=0.93"
   ]
  },
  {
   "cell_type": "code",
   "execution_count": null,
   "metadata": {},
   "outputs": [],
   "source": [
    "data=pd.read_csv(fname)\n",
    "data.timestamp /= 1000.\n",
    "data.timestamp -= data.timestamp[0]\n",
    "verbose=False\n",
    "for dict_ in real_distances.values():\n",
    "    tmin, tmax = dict_['time']\n",
    "    tmin_sec = convert_to_seconds(tmin)\n",
    "    tmax_sec = convert_to_seconds(tmax, verbose=verbose)\n",
    "    dreal = (dict_['distance']**2 + (ap_height - phone_height)**2)**0.5\n",
    "    print(tmin_sec, tmax_sec, dreal)\n",
    "    data.loc[(data.timestamp <= tmax_sec) & (data.timestamp >= tmin_sec), 'distance_real'] = dreal"
   ]
  },
  {
   "cell_type": "code",
   "execution_count": null,
   "metadata": {},
   "outputs": [],
   "source": [
    "fig, ax = plt.subplots()\n",
    "ax.scatter(data.timestamp, data.distance, label='measured')\n",
    "ax.scatter(data.timestamp, data.distance_real, label='real')\n",
    "ax.legend(loc='best')\n",
    "ax.set_xlabel('time [s]')\n",
    "ax.set_ylabel('distance [m]')"
   ]
  },
  {
   "cell_type": "code",
   "execution_count": null,
   "metadata": {},
   "outputs": [],
   "source": []
  }
 ],
 "metadata": {
  "kernelspec": {
   "display_name": "Python 3",
   "language": "python",
   "name": "python3"
  },
  "language_info": {
   "codemirror_mode": {
    "name": "ipython",
    "version": 3
   },
   "file_extension": ".py",
   "mimetype": "text/x-python",
   "name": "python",
   "nbconvert_exporter": "python",
   "pygments_lexer": "ipython3",
   "version": "3.6.7"
  }
 },
 "nbformat": 4,
 "nbformat_minor": 2
}
