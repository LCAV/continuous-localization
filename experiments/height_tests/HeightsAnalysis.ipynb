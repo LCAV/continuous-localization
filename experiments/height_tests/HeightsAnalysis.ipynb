{
 "cells": [
  {
   "cell_type": "code",
   "execution_count": null,
   "metadata": {},
   "outputs": [],
   "source": [
    "import numpy as np\n",
    "import matplotlib as mpl\n",
    "import pandas as pd\n",
    "import seaborn as sns\n",
    "import matplotlib.pylab as plt\n",
    "\n",
    "%load_ext autoreload\n",
    "%autoreload 2"
   ]
  },
  {
   "cell_type": "code",
   "execution_count": null,
   "metadata": {},
   "outputs": [],
   "source": [
    "from utils import *"
   ]
  },
  {
   "cell_type": "markdown",
   "metadata": {},
   "source": [
    "# Experiments in LCAV corridor of BC 3rd floor\n",
    "\n",
    "Phone always on robot, screen is facing access point."
   ]
  },
  {
   "cell_type": "code",
   "execution_count": null,
   "metadata": {},
   "outputs": [],
   "source": [
    "fname='h1.csv'\n",
    "real_distances = {\n",
    "    'd1': {'time':[0, 0.30], 'distance': 0.5},\n",
    "    'd2': {'time':[0.4, 1.10], 'distance': 1.0},\n",
    "    'd3': {'time':[1.25, 2.00], 'distance': 2.5},\n",
    "    'd4': {'time':[2.20, 3.00], 'distance': 5.0},\n",
    "    'd5': {'time':[3.20, 4.00], 'distance': 7.5},\n",
    "}\n",
    "phone_height=0.23\n",
    "ap_height=0.93"
   ]
  },
  {
   "cell_type": "code",
   "execution_count": null,
   "metadata": {},
   "outputs": [],
   "source": [
    "fname='h2.csv'\n",
    "real_distances = {\n",
    "    'd1': {'time':[0, 1.00], 'distance': 7.5},\n",
    "    'd2': {'time':[1.2, 1.50], 'distance': 6},\n",
    "    'd3': {'time':[2.1, 2.40], 'distance': 5},\n",
    "    'd4': {'time':[3.1, 3.40], 'distance': 4},\n",
    "    'd5': {'time':[4.1, 4.50], 'distance': 3},\n",
    "    'd6': {'time':[5.1, 5.40], 'distance': 2.5},\n",
    "    'd7': {'time':[6.1, 6.40], 'distance': 1},\n",
    "}\n",
    "phone_height=0.23\n",
    "ap_height=0.93"
   ]
  },
  {
   "cell_type": "code",
   "execution_count": null,
   "metadata": {},
   "outputs": [],
   "source": [
    "fname='h3.csv' # antennas bent down to 90 degrees\n",
    "real_distances = {\n",
    "    'd1': {'time':[0.0, 0.30], 'distance': 1},\n",
    "    'd2': {'time':[0.45, 1.15], 'distance': 2},\n",
    "    'd3': {'time':[1.3, 2.00], 'distance': 3},\n",
    "    'd4': {'time':[2.15, 2.45], 'distance': 4},\n",
    "    'd5': {'time':[3.0, 3.30], 'distance': 5},\n",
    "    'd6': {'time':[3.5, 4.20], 'distance': 6},\n",
    "    'd7': {'time':[4.4, 5.10], 'distance': 7.5},\n",
    "}\n",
    "phone_height=0.23\n",
    "ap_height=0.93"
   ]
  },
  {
   "cell_type": "markdown",
   "metadata": {},
   "source": [
    "# Experiments in BC Atrium"
   ]
  },
  {
   "cell_type": "code",
   "execution_count": null,
   "metadata": {},
   "outputs": [],
   "source": [
    "#fname='g1.csv'  # phone on robot, screen facing the access point\n",
    "#phone_height=0.23\n",
    "\n",
    "fname='g2.csv'  # phone on robot on square chair thingy, screen facing the access point\n",
    "phone_height=0.5\n",
    "\n",
    "real_distances = {\n",
    "    'd1': {'time':[0.0, 0.30], 'distance': 1},\n",
    "    'd2': {'time':[0.45, 1.15], 'distance': 2},\n",
    "    'd3': {'time':[1.3, 2.00], 'distance': 3},\n",
    "    'd4': {'time':[2.20, 2.50], 'distance': 4},\n",
    "    'd5': {'time':[3.05, 3.35], 'distance': 5},\n",
    "    'd6': {'time':[3.55, 4.25], 'distance': 6},\n",
    "    'd7': {'time':[4.45, 5.15], 'distance': 7},\n",
    "}\n",
    "ap_height=0.93"
   ]
  },
  {
   "cell_type": "code",
   "execution_count": null,
   "metadata": {},
   "outputs": [],
   "source": [
    "#fname='g3.csv' # walking while facing access point, looking at phone\n",
    "#fname='g4.csv' # walking while facing access point, phone looks away (looks to AP)\n",
    "fname='g5.csv' # walking away from access point, so body introduces obstacle.\n",
    "phone_height=1.2\n",
    "\n",
    "real_distances = {\n",
    "    'd1': {'time': [0.00, 0.30], 'distance': 1},\n",
    "    'd2': {'time': [0.35, 1.05], 'distance': 2},\n",
    "    'd3': {'time': [1.10, 1.40], 'distance': 3},\n",
    "    'd4': {'time': [1.45, 2.15], 'distance': 4},\n",
    "    'd5': {'time': [2.20, 2.50], 'distance': 5},\n",
    "    'd6': {'time': [2.55, 3.25], 'distance': 6},\n",
    "    'd7': {'time': [3.30, 4.00], 'distance': 7},\n",
    "}\n",
    "ap_height=0.93"
   ]
  },
  {
   "cell_type": "code",
   "execution_count": null,
   "metadata": {},
   "outputs": [],
   "source": [
    "# Put phone on robot, on square chair thingy. Rotate the whole robot by 90, 180, etc. degrees.\n",
    "\n",
    "#fname = 'f1.csv'; d=7 \n",
    "#fname = 'f2.csv'; d=5\n",
    "fname = 'f3.csv'; d=2\n",
    "real_distances = {\n",
    "    'd1': {'time': [0.00, 0.30], 'distance': d}, # face west, which means phone screen faces AP.\n",
    "    'd2': {'time': [0.50, 1.20], 'distance': d}, # face south\n",
    "    'd3': {'time': [1.30, 2.10], 'distance': d}, # face east\n",
    "    'd4': {'time': [2.30, 3.00], 'distance': d}, # face north\n",
    "}\n",
    "phone_height=0.5"
   ]
  },
  {
   "cell_type": "markdown",
   "metadata": {},
   "source": [
    "# Plotting \n",
    "\n",
    "## (Run one of above cells to select setup, then below to plot.)"
   ]
  },
  {
   "cell_type": "code",
   "execution_count": null,
   "metadata": {
    "scrolled": false
   },
   "outputs": [],
   "source": [
    "fnames = sorted(parameters.keys())\n",
    "#fig, axs = plt.subplots(len(fnames), 1, sharey=True)\n",
    "#fig.set_size_inches(5, len(fnames) * 5)\n",
    "#for fname, ax in zip(fnames, axs):\n",
    "for fname in fnames:\n",
    "    params = parameters[fname]\n",
    "    read_and_plot(fname, params, ax=None, y='rssi')"
   ]
  }
 ],
 "metadata": {
  "kernelspec": {
   "display_name": "Python 3",
   "language": "python",
   "name": "python3"
  },
  "language_info": {
   "codemirror_mode": {
    "name": "ipython",
    "version": 3
   },
   "file_extension": ".py",
   "mimetype": "text/x-python",
   "name": "python",
   "nbconvert_exporter": "python",
   "pygments_lexer": "ipython3",
   "version": "3.5.2"
  }
 },
 "nbformat": 4,
 "nbformat_minor": 2
}
