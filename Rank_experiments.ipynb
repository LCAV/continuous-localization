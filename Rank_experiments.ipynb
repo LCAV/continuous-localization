{
 "cells": [
  {
   "cell_type": "code",
   "execution_count": null,
   "metadata": {
    "collapsed": true
   },
   "outputs": [],
   "source": [
    "import numpy as np\n",
    "import matplotlib.pyplot as plt\n",
    "import matplotlib.ticker as tck"
   ]
  },
  {
   "cell_type": "code",
   "execution_count": null,
   "metadata": {
    "collapsed": true
   },
   "outputs": [],
   "source": [
    "n_dimensions = 2\n",
    "n_constrains = 5\n",
    "n_anchors = 10\n",
    "n_positions = 30\n",
    "fixed_probability = True\n",
    "directory = \"results/ranks/\"\n",
    "\n",
    "key = \"_d{}_c{}_a{}_p{}_{}\".format(n_dimensions, n_constrains, n_anchors, n_positions, True)"
   ]
  },
  {
   "cell_type": "markdown",
   "metadata": {},
   "source": [
    "In order to generate results, run\n",
    "    \n",
    "    hypothesis.py"
   ]
  },
  {
   "cell_type": "code",
   "execution_count": null,
   "metadata": {
    "collapsed": false
   },
   "outputs": [],
   "source": [
    "ranks = np.load(directory+\"ranks\"+key+\".npy\")"
   ]
  },
  {
   "cell_type": "code",
   "execution_count": null,
   "metadata": {
    "collapsed": false
   },
   "outputs": [],
   "source": [
    "DK = n_dimensions * n_constrains\n",
    "stop = 3 * DK\n",
    "n_repetitions = ranks.shape[1]\n",
    "\n",
    "if fixed_probability:\n",
    "    x = np.linspace(0, 1, ranks.shape[0])\n",
    "else:\n",
    "    x = (np.arange(n_positions * n_anchors) + 1) / DK\n",
    "f, ax = plt.subplots()\n",
    "plt.plot(\n",
    "    x[:stop],\n",
    "    np.mean(ranks, axis=1)[:stop] / DK,\n",
    "    label=\"mean rank / full rank\")\n",
    "plt.plot(\n",
    "    x[:stop],\n",
    "    np.sum(ranks >= DK, axis=1)[:stop] / n_repetitions,\n",
    "    label=\"prob. of full rank\")\n",
    "if fixed_probability:\n",
    "    plt.xlabel(\"probabitlty\")\n",
    "else:\n",
    "    plt.xlabel(\"number of measurements\")\n",
    "plt.grid()\n",
    "if not fixed_probability:\n",
    "    ax.xaxis.set_major_formatter(tck.FormatStrFormatter('%g DK'))\n",
    "    ax.xaxis.set_major_locator(tck.MultipleLocator(base=1))\n",
    "plt.legend()\n",
    "plt.savefig(directory + \"ranks_DK\" + key + \".pdf\")\n",
    "plt.show()"
   ]
  },
  {
   "cell_type": "markdown",
   "metadata": {},
   "source": [
    "## Estimation of probability\n",
    "An attempt to estimate probability of matrix being full rank"
   ]
  },
  {
   "cell_type": "code",
   "execution_count": null,
   "metadata": {
    "collapsed": true
   },
   "outputs": [],
   "source": [
    "def no_edge_prob(alpha, D, K, M, N):\n",
    "    exponent = (N - (K - 1)) * (M - (D - 1))\n",
    "    base = (1 - alpha * (N * D) / (M * N))\n",
    "    if base <= 0:\n",
    "        return np.nan\n",
    "    return np.power(base, exponent)\n",
    "\n",
    "def simplified_nep(alpha, p, M, N):\n",
    "    return no_edge_prob(alpha, p * M, p * N, M, N)\n",
    "\n",
    "def total_prob(alpha, p, M, N):\n",
    "    p_part = simplified_nep(alpha, p, M, N)\n",
    "    if p_part == np.nan:\n",
    "        return np.nan\n",
    "    exponent = M * N * p * p\n",
    "    return 1 - np.power((1 - p_part), exponent)"
   ]
  },
  {
   "cell_type": "code",
   "execution_count": null,
   "metadata": {
    "collapsed": true
   },
   "outputs": [],
   "source": [
    "M = 100\n",
    "N = 100\n",
    "a_max = 2\n",
    "p_max = 1\n",
    "alphas = np.linspace(0, a_max, 100)\n",
    "\n",
    "ps = np.linspace(0, p_max, 100)\n",
    "\n",
    "results = np.zeros((len(alphas), len(ps)))\n",
    "\n",
    "for i_a, a in enumerate(alphas):\n",
    "    for i_p, p in enumerate(ps):\n",
    "        results[i_a, i_p] = total_prob(a, p, M, N)"
   ]
  },
  {
   "cell_type": "code",
   "execution_count": null,
   "metadata": {
    "collapsed": false
   },
   "outputs": [],
   "source": [
    "plt.matshow(results, extent=[0, p_max, a_max, 0])\n",
    "plt.colorbar()\n",
    "plt.show()"
   ]
  },
  {
   "cell_type": "code",
   "execution_count": null,
   "metadata": {
    "collapsed": true
   },
   "outputs": [],
   "source": []
  }
 ],
 "metadata": {
  "kernelspec": {
   "display_name": "Python 3",
   "language": "python",
   "name": "python3"
  },
  "language_info": {
   "codemirror_mode": {
    "name": "ipython",
    "version": 3
   },
   "file_extension": ".py",
   "mimetype": "text/x-python",
   "name": "python",
   "nbconvert_exporter": "python",
   "pygments_lexer": "ipython3",
   "version": "3.6.4"
  }
 },
 "nbformat": 4,
 "nbformat_minor": 2
}
