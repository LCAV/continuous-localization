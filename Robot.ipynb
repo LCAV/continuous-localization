{
 "cells": [
  {
   "cell_type": "markdown",
   "metadata": {},
   "source": [
    "# Robot stuff\n",
    "\n",
    "In this notebook we can check how to sample the trajectory of the robot, how to get velocity profiles from the trajectory, which can be used to control the robot, etc.  "
   ]
  },
  {
   "cell_type": "code",
   "execution_count": null,
   "metadata": {},
   "outputs": [],
   "source": [
    "import math\n",
    "import matplotlib.pyplot as plt\n",
    "import numpy as np\n",
    "%matplotlib notebook\n",
    "%reload_ext autoreload\n",
    "%autoreload 2\n",
    "\n",
    "np.set_printoptions(precision=2)"
   ]
  },
  {
   "cell_type": "markdown",
   "metadata": {},
   "source": [
    "### Trajectory sampled uniformly in time"
   ]
  },
  {
   "cell_type": "code",
   "execution_count": null,
   "metadata": {},
   "outputs": [],
   "source": [
    "from trajectory import Trajectory\n",
    "from environment import Environment\n",
    "from global_variables import EPSILON, ROBOT_WIDTH, MM\n",
    "from measurements import create_mask, get_D_topright\n",
    "from solvers import alternativePseudoInverse, exactSolution\n",
    "\n",
    "n_anchors = 4 #number of anchors\n",
    "n_complexity = 5 #complexity of trajectory\n",
    "dim = 2 # dimension of setup. \n",
    "n_positions = 10\n",
    "# model = 'full_bandlimited'\n",
    "model = 'polynomial'\n",
    "# model = 'bandlimited'\n",
    "\n",
    "trajectory = Trajectory(n_complexity, dim=dim, model=model, full_period=True)\n",
    "trajectory.set_coeffs(seed=4)\n",
    "# trajectory.coeffs = np.zeros_like(trajectory.coeffs)\n",
    "# trajectory.coeffs[0, 1] = 1\n",
    "# trajectory.coeffs[1, 3] = 1\n",
    "\n",
    "times_nonunif = trajectory.get_times(n_samples=n_positions)\n",
    "basis_nonunif = trajectory.get_basis(times=times_nonunif + 1e-10)\n",
    "sample_points_nonunif = trajectory.get_sampling_points(basis=basis_nonunif)\n",
    "\n",
    "plt.figure()\n",
    "trajectory.plot(basis_nonunif, color='orange', label='ground truth')\n",
    "plt.legend()"
   ]
  },
  {
   "cell_type": "markdown",
   "metadata": {},
   "source": [
    "### Scale the trajectory to a given bounding box"
   ]
  },
  {
   "cell_type": "code",
   "execution_count": null,
   "metadata": {},
   "outputs": [],
   "source": [
    "from matplotlib.patches import Rectangle\n",
    "\n",
    "box = np.array([2.0, 2.0])\n",
    "box = trajectory.scale_bounding_box(box, keep_aspect_ratio=False)\n",
    "fig, ax = plt.subplots(1)\n",
    "trajectory.plot(basis_nonunif)\n",
    "p = Rectangle((0, 0), box[0], box[1], linewidth=1, edgecolor='c',facecolor='none')\n",
    "ax.add_patch(p)\n",
    "plt.show()"
   ]
  },
  {
   "cell_type": "markdown",
   "metadata": {},
   "source": [
    "### Trajectory sampled uniformly in distance"
   ]
  },
  {
   "cell_type": "code",
   "execution_count": null,
   "metadata": {},
   "outputs": [],
   "source": [
    "from trajectory import Trajectory\n",
    "from environment import Environment\n",
    "\n",
    "from measurements import create_mask, get_D_topright\n",
    "from solvers import alternativePseudoInverse, exactSolution\n",
    "\n",
    "times_unif, distances, errors = trajectory.get_times_uniform_in_path(\n",
    "    n_samples=n_positions,\n",
    "    time_steps=50000,\n",
    "    plot=True)\n",
    "print(\"cumulative error: {}\".format(np.linalg.norm(errors)))\n",
    "basis_unif = trajectory.get_basis(times=times_unif)\n",
    "sample_points_unif = trajectory.get_sampling_points(basis=basis_unif)\n",
    "\n",
    "plt.figure()\n",
    "# environment.plot()\n",
    "trajectory.plot(basis_nonunif, color='blue', label='non uniform')\n",
    "trajectory.plot(basis_unif, color='orange', marker='x', label='uniform')\n",
    "plt.legend()"
   ]
  },
  {
   "cell_type": "markdown",
   "metadata": {},
   "source": [
    "## Compute the curvature at each point. \n",
    "\n",
    "For now there is still a problem. Since the points are not resampled in time, there is not only a radial acceleration (the one that makes the robot turn) but also a tangent acceleration. In plot below, the orange lines showing the curvature radius, are therefore oriented in the direction of the curve. \n",
    "\n",
    "For now I am not quite sure if this is a problem, or if we can still try to incorporate this in the controls for the robot. "
   ]
  },
  {
   "cell_type": "code",
   "execution_count": null,
   "metadata": {},
   "outputs": [],
   "source": [
    "fig, ax = plt.subplots()\n",
    "trajectory.plot(basis_nonunif, color='orange', label='ground truth')\n",
    "xlims = ax.get_xlim()\n",
    "ylims = ax.get_ylim()\n",
    "plt.axis('equal')\n",
    "\n",
    "radii, unit_tangents, radial_acc = trajectory.get_curvatures(times_nonunif, ax=ax)\n",
    "ax.set_xlim(xlims)\n",
    "ax.set_ylim(ylims)\n",
    "#plt.xlim([-2, 8])\n",
    "#plt.ylim([-2, 5])"
   ]
  },
  {
   "cell_type": "code",
   "execution_count": null,
   "metadata": {},
   "outputs": [],
   "source": [
    "# TODO(FD) Below needs some refactoring, \n",
    "# there is a lot of duplicate code. \n",
    "\n",
    "fig, ax = plt.subplots()\n",
    "trajectory.plot(basis_unif)\n",
    "plt.axis('equal')\n",
    "\n",
    "points_left, points_right = trajectory.get_left_and_right_points(times_unif, width=ROBOT_WIDTH, ax=ax)"
   ]
  },
  {
   "cell_type": "code",
   "execution_count": null,
   "metadata": {},
   "outputs": [],
   "source": [
    "left, right, _ = trajectory.get_left_and_right_arcs(min_max_distance=0.1, plot=True)\n",
    "plt.show()"
   ]
  },
  {
   "cell_type": "markdown",
   "metadata": {},
   "source": [
    "## Generate trajectories for both wheels \n",
    "This function uses milimiters as units!"
   ]
  },
  {
   "cell_type": "code",
   "execution_count": null,
   "metadata": {},
   "outputs": [],
   "source": [
    "import csv\n",
    "\n",
    "FOLDER = 'controls/'\n",
    "\n",
    "def generate_control_parameters(trajectory, \n",
    "                                fname='', \n",
    "                                min_max_distance=50,\n",
    "                                curvature_decimals=1,\n",
    "                                plot=True,\n",
    "                                comand_decimals=2):\n",
    "    \"\"\"Generate control files for the robot.\n",
    "    This function uses milimeters as units of it's imput and output, thats how they should be passed to the robot\n",
    "    :param fname: where to save parameters and plots. extension is ignored.  \n",
    "    :param plot: if True, plot and save figure of trajectory.\n",
    "    :param curvature_decimals, min_max_distance, width: See trajectory.get_left_and_right_arcs for details. \n",
    "    :param command_decimals: precision at which to save control parameters.\n",
    "    \"\"\"\n",
    "    left, right, command_times = trajectory.get_left_and_right_arcs(\n",
    "        curvature_decimals=curvature_decimals,\n",
    "        min_max_distance=min_max_distance*MM,\n",
    "        width=ROBOT_WIDTH)\n",
    "    \n",
    "    fname_parts = fname.split('.')\n",
    "    \n",
    "    fname = fname_parts[0] \n",
    "    \n",
    "    fnamepng = FOLDER + fname + '.png'\n",
    "    print(fnamepng)\n",
    "    if plot:\n",
    "        basis = trajectory.get_basis(times=command_times)\n",
    "\n",
    "        fig, ax = plt.subplots()\n",
    "        trajectory.plot(basis, color='orange', label='trajectory')\n",
    "        \n",
    "        ax.set_xlabel('x[m]')\n",
    "        ax.set_ylabel('y[m]')\n",
    "        xlims = ax.get_xlim()\n",
    "        ylims = ax.get_ylim()\n",
    "        plt.axis('equal')\n",
    "\n",
    "        pos_left, pos_right = trajectory.get_left_and_right_points(times=command_times, ax=ax, width=ROBOT_WIDTH)\n",
    "        ax.set_xlim(xlims)\n",
    "        ax.set_ylim(ylims)\n",
    "        ax.legend()\n",
    "        \n",
    "        # plot the beginning points in a different color. \n",
    "        basis_begin = trajectory.get_basis(times=command_times[:3])\n",
    "        coords_begin = trajectory.get_sampling_points(basis=basis_begin)\n",
    "        print(coords_begin.shape)\n",
    "        ax.scatter(*coords_begin[:, 0], color='green')\n",
    "        ax.scatter(*coords_begin[:, 1:2], color='blue')\n",
    "        \n",
    "        plt.title(model)\n",
    "        #plt.title(\"{} robot command[s]\".format(len(command_times)))\n",
    "        plt.savefig(fnamepng, bbox_inches='tight')\n",
    "        print('wrote plots as', fnamepng)\n",
    "    \n",
    "    left = np.round(left / MM, comand_decimals)\n",
    "    right = np.round(right / MM, comand_decimals)\n",
    "    \n",
    "    fnametxt = FOLDER + fname + '.gcode'\n",
    "    with open(fnametxt, 'w', newline='') as csvfile:\n",
    "        writer = csv.writer(csvfile, delimiter=' ')\n",
    "        #header = ['i', 'left_arc', 'right_arc']\n",
    "        #writer.writerow(header)\n",
    "        #line = ['G91']\n",
    "        #writer.writerow(line)\n",
    "        for i, (r, l) in enumerate(zip(left, right)):\n",
    "            #line = [i, r, l]\n",
    "            line = ['G91', 'X{:.2f}'.format(r), 'Y{:.2f}'.format(l)]\n",
    "            writer.writerow(line)\n",
    "            if False: #i % 10 == 0:\n",
    "                #line = ['M114', '']\n",
    "                line = ['G4','P0.01']\n",
    "                writer.writerow(line)\n",
    "                line = ['OCTO1']\n",
    "                writer.writerow(line)\n",
    "        print('wrote parameters as', fnametxt)"
   ]
  },
  {
   "cell_type": "markdown",
   "metadata": {},
   "source": [
    "### Chose parameters of the trajectories to save"
   ]
  },
  {
   "cell_type": "code",
   "execution_count": null,
   "metadata": {
    "scrolled": true
   },
   "outputs": [],
   "source": [
    "trajectories = [\n",
    "    dict(\n",
    "        model = 'bandlimited',\n",
    "        n_complexity = 3,\n",
    "        seed = 5,\n",
    "        controls = dict(\n",
    "            min_max_distance = 100,\n",
    "            fname = 'bandlimited1',\n",
    "        )\n",
    "    ), \n",
    "    dict(\n",
    "        model = 'polynomial',  \n",
    "        n_complexity = 3,\n",
    "        seed = 1,\n",
    "        controls = dict(\n",
    "            curvature_decimals = 2,\n",
    "            fname = 'polynomial1'\n",
    "        )\n",
    "    ), \n",
    "    dict(\n",
    "        model = 'full_bandlimited',\n",
    "        n_complexity = 5,\n",
    "        seed = 3,\n",
    "        controls = dict(\n",
    "            fname = 'full_bandlimited1',\n",
    "            min_max_distance = 200\n",
    "        )\n",
    "    ), \n",
    "    dict(\n",
    "        model = 'circle',\n",
    "        n_complexity = 5,\n",
    "        seed = 0,\n",
    "        controls = dict(\n",
    "            fname = 'circle1',\n",
    "        )\n",
    "    ), \n",
    "    dict(\n",
    "        model = 'eight',\n",
    "        n_complexity = 5,\n",
    "        seed = 0,\n",
    "        controls = dict(\n",
    "            fname = 'eight1.txt',\n",
    "            min_max_distance = 100\n",
    "        )\n",
    "    ), \n",
    "]\n",
    "\n",
    "def generate_trajectory(seed, n_complexity, model, box=np.array([2000.0, 2000.0]), **kwargs):\n",
    "    '''\n",
    "    :param seed: random seed to use for generating parameters. \n",
    "    :param n_complexity: complexity degree (K)\n",
    "    :param box: Dimensions of bounding box.  \n",
    "    :param model: trajectory model to use (circle or eight). If given, previous paramters are ignored.\n",
    "    \n",
    "    :param **kwargs: other kwargs are currently ignored. \n",
    "    '''\n",
    "    # This is a hack, see issue #22: https://github.com/duembgen/SamplingTrajectories/issues/22\n",
    "    if model == 'circle':\n",
    "        trajectory = Trajectory(n_complexity=3, model='full_bandlimited') \n",
    "        trajectory.coeffs = np.zeros_like(trajectory.coeffs)\n",
    "        trajectory.coeffs[0, 1] = 1\n",
    "        trajectory.coeffs[1, 2] = 1\n",
    "    elif model == 'eight':\n",
    "        trajectory = Trajectory(n_complexity=5, model='full_bandlimited') \n",
    "        trajectory.coeffs = np.zeros_like(trajectory.coeffs)\n",
    "        trajectory.coeffs[0, 1] = 1\n",
    "        trajectory.coeffs[1, 3] = 1\n",
    "    else:\n",
    "        trajectory = Trajectory(n_complexity=n_complexity, model=model) \n",
    "        trajectory.set_coeffs(seed=seed, dimension=2)\n",
    "    trajectory.scale_bounding_box(box*MM)\n",
    "    return trajectory\n",
    "    \n",
    "for traj in trajectories:\n",
    "    trajectory = generate_trajectory(**traj)\n",
    "    generate_control_parameters(trajectory, **(traj['controls']))"
   ]
  },
  {
   "cell_type": "markdown",
   "metadata": {},
   "source": [
    "## linear trajectories"
   ]
  },
  {
   "cell_type": "code",
   "execution_count": null,
   "metadata": {},
   "outputs": [],
   "source": [
    "box = np.array([2000., 2000.])\n",
    "\n",
    "trajectories = [\n",
    "    dict(\n",
    "        model = 'poly1',\n",
    "    )\n",
    "]\n",
    "\n",
    "def generate_linear(model):\n",
    "    c0 = np.array([0, 0])\n",
    "    if model == 'poly1':\n",
    "        c1 = np.array([4, 0])\n",
    "    if model == 'poly2':\n",
    "        c1 = np.array([3, 1])\n",
    "    if model == 'poly3':\n",
    "        c1 = np.array([2, 2])\n",
    "    if model == 'poly4':\n",
    "        c1 = np.array([1, 3])\n",
    "    if model == 'poly5':\n",
    "        c1 = np.array([0, 4])\n",
    "        \n",
    "    trajectory = Trajectory(model='polynomial', dim=2, n_complexity=2)\n",
    "    trajectory.set_coeffs(coeffs=np.c_[c0, c1])\n",
    "    return trajectory\n",
    "\n",
    "for traj in trajectories:\n",
    "    trajectory = generate_linear(traj['model']) \n",
    "    generate_control_parameters(trajectory, fname=traj['model'])"
   ]
  },
  {
   "cell_type": "markdown",
   "metadata": {},
   "source": [
    "## bandlimited trajectories"
   ]
  },
  {
   "cell_type": "code",
   "execution_count": null,
   "metadata": {},
   "outputs": [],
   "source": []
  }
 ],
 "metadata": {
  "kernelspec": {
   "display_name": "Python 3",
   "language": "python",
   "name": "python3"
  },
  "language_info": {
   "codemirror_mode": {
    "name": "ipython",
    "version": 3
   },
   "file_extension": ".py",
   "mimetype": "text/x-python",
   "name": "python",
   "nbconvert_exporter": "python",
   "pygments_lexer": "ipython3",
   "version": "3.5.2"
  }
 },
 "nbformat": 4,
 "nbformat_minor": 2
}
