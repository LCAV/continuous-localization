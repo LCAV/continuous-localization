{
 "cells": [
  {
   "cell_type": "markdown",
   "metadata": {},
   "source": [
    "# Robot stuff\n",
    "\n",
    "In this notebook we can check how to sample the trajectory of the robot, how to get velocity profiles from the trajectory, which can be used to control the robot, etc.  "
   ]
  },
  {
   "cell_type": "code",
   "execution_count": null,
   "metadata": {},
   "outputs": [],
   "source": [
    "import math\n",
    "import matplotlib.pyplot as plt\n",
    "import numpy as np\n",
    "%matplotlib notebook\n",
    "%reload_ext autoreload\n",
    "%autoreload 2\n",
    "\n",
    "np.set_printoptions(precision=2)"
   ]
  },
  {
   "cell_type": "markdown",
   "metadata": {},
   "source": [
    "### Trajectory sampled uniformly in time"
   ]
  },
  {
   "cell_type": "code",
   "execution_count": null,
   "metadata": {},
   "outputs": [],
   "source": [
    "from trajectory import Trajectory\n",
    "from environment import Environment\n",
    "from global_variables import EPSILON\n",
    "from measurements import create_mask, get_D_topright\n",
    "from solvers import alternativePseudoInverse, exactSolution\n",
    "\n",
    "n_anchors = 4 #number of anchors\n",
    "n_complexity = 3 #complexity of trajectory\n",
    "dim = 2 # dimension of setup. \n",
    "n_positions = 10\n",
    "model = 'full_bandlimited'\n",
    "# model = 'polynomial'\n",
    "\n",
    "trajectory = Trajectory(n_complexity, dim=dim, model=model, full_period=True)\n",
    "# trajectory.set_coeffs(seed=1)\n",
    "trajectory.coeffs = np.zeros_like(trajectory.coeffs)\n",
    "trajectory.coeffs[0, 1] = 1\n",
    "trajectory.coeffs[1, 2] = 1\n",
    "\n",
    "times_nonunif = trajectory.get_times(n_samples=n_positions)\n",
    "basis_nonunif = trajectory.get_basis(times=times_nonunif + 1e-10)\n",
    "sample_points_nonunif = trajectory.get_sampling_points(basis=basis_nonunif)\n",
    "\n",
    "plt.figure()\n",
    "trajectory.plot(basis_nonunif, color='orange', label='ground truth')\n",
    "plt.legend()"
   ]
  },
  {
   "cell_type": "markdown",
   "metadata": {},
   "source": [
    "### Scale the trajectory to a given bounding box"
   ]
  },
  {
   "cell_type": "code",
   "execution_count": null,
   "metadata": {},
   "outputs": [],
   "source": [
    "from matplotlib.patches import Rectangle\n",
    "\n",
    "box = np.array([2.0, 2.0])\n",
    "box = trajectory.scale_bounding_box(box, keep_aspect_ratio=False)\n",
    "fig, ax = plt.subplots(1)\n",
    "trajectory.plot(basis_nonunif)\n",
    "p = Rectangle((0, 0), box[0], box[1], linewidth=1, edgecolor='c',facecolor='none')\n",
    "ax.add_patch(p)\n",
    "plt.show()"
   ]
  },
  {
   "cell_type": "markdown",
   "metadata": {},
   "source": [
    "### Trajectory sampled uniformly in distance"
   ]
  },
  {
   "cell_type": "code",
   "execution_count": null,
   "metadata": {},
   "outputs": [],
   "source": [
    "from trajectory import Trajectory\n",
    "from environment import Environment\n",
    "\n",
    "from measurements import create_mask, get_D_topright\n",
    "from solvers import alternativePseudoInverse, exactSolution\n",
    "\n",
    "times_unif, distances, errors = trajectory.get_times_unform_in_path(\n",
    "    n_samples=n_positions,\n",
    "#     step_distance=0.5,\n",
    "    time_steps=50000,\n",
    "    plot=True)\n",
    "print(\"cumulative error: {}\".format(np.linalg.norm(errors)))\n",
    "basis_unif = trajectory.get_basis(times=times_unif)\n",
    "sample_points_unif = trajectory.get_sampling_points(basis=basis_unif)\n",
    "\n",
    "plt.figure()\n",
    "# environment.plot()\n",
    "trajectory.plot(basis_nonunif, color='blue', label='non uniform')\n",
    "trajectory.plot(basis_unif, color='orange', marker='x', label='uniform')\n",
    "plt.legend()"
   ]
  },
  {
   "cell_type": "markdown",
   "metadata": {},
   "source": [
    "## Compute the curvature at each point. \n",
    "\n",
    "For now there is still a problem. Since the points are not resampled in time, there is not only a radial acceleration (the one that makes the robot turn) but also a tangential radiation. In plot below, the orange lines showing the curvature radius, are therefore oriented in the direction of the curve. \n",
    "\n",
    "For now I am not quite sure if this is a problem, or if we can still try to incorporate this in the controls for the robot. "
   ]
  },
  {
   "cell_type": "code",
   "execution_count": null,
   "metadata": {},
   "outputs": [],
   "source": [
    "fig, ax = plt.subplots()\n",
    "trajectory.plot(basis_nonunif, color='orange', label='ground truth')\n",
    "xlims = ax.get_xlim()\n",
    "ylims = ax.get_ylim()\n",
    "plt.axis('equal')\n",
    "\n",
    "radii, unit_tangents, radial_acc = trajectory.get_curvatures(times_nonunif, ax=ax)\n",
    "ax.set_xlim(xlims)\n",
    "ax.set_ylim(ylims)\n",
    "#plt.xlim([-2, 8])\n",
    "#plt.ylim([-2, 5])"
   ]
  },
  {
   "cell_type": "code",
   "execution_count": null,
   "metadata": {},
   "outputs": [],
   "source": [
    "# TODO(FD) Below needs some refactoring, \n",
    "# there is a lot of duplicate code. \n",
    "\n",
    "fig, ax = plt.subplots()\n",
    "trajectory.plot(basis_unif)\n",
    "plt.axis('equal')\n",
    "\n",
    "ROBOT_WIDTH = 0.1\n",
    "points_left, points_right = trajectory.get_left_and_right_points(times_unif, width=ROBOT_WIDTH, ax=ax)"
   ]
  },
  {
   "cell_type": "markdown",
   "metadata": {},
   "source": [
    "## Generate trajectories for both wheels "
   ]
  },
  {
   "cell_type": "code",
   "execution_count": null,
   "metadata": {},
   "outputs": [],
   "source": [
    "import csv\n",
    "\n",
    "FOLDER = 'controls/'\n",
    "\n",
    "def generate_control_parameters(seed,\n",
    "                                n_complexity,\n",
    "                                model,\n",
    "                                n_samples=None,\n",
    "                                step_distance=None,\n",
    "                                fname='',\n",
    "                                box=np.array([2.0, 2.0])):\n",
    "    width = 0.3 # width of the robot\n",
    "    \n",
    "    \n",
    "    # This is a hack, see issue #22: https://github.com/duembgen/SamplingTrajectories/issues/22\n",
    "    if model == 'circle':\n",
    "        trajectory = Trajectory(n_complexity=3, model='full_bandlimited') \n",
    "        trajectory.coeffs = np.zeros_like(trajectory.coeffs)\n",
    "        trajectory.coeffs[0, 1] = 1\n",
    "        trajectory.coeffs[1, 2] = 1\n",
    "    elif model == 'eight':\n",
    "        trajectory = Trajectory(n_complexity=5, model='full_bandlimited') \n",
    "        trajectory.coeffs = np.zeros_like(trajectory.coeffs)\n",
    "        trajectory.coeffs[0, 1] = 1\n",
    "        trajectory.coeffs[1, 3] = 1\n",
    "    else:\n",
    "        trajectory = Trajectory(n_complexity=n_complexity, model=model) \n",
    "        trajectory.set_coeffs(seed=seed, dimension=2)\n",
    "    \n",
    "    trajectory.scale_bounding_box(box)\n",
    "    times, distances, errors = trajectory.get_times_unform_in_path(\n",
    "        n_samples=n_samples,\n",
    "        step_distance=step_distance,\n",
    "        plot=False)\n",
    "    # at time zero all the derivatives are zero, so it's \n",
    "    times = times + EPSILON\n",
    "    \n",
    "    basis = trajectory.get_basis(times=times)\n",
    "    sample_points = trajectory.get_sampling_points(basis=basis)\n",
    "    \n",
    "    fig, ax = plt.subplots()\n",
    "    trajectory.plot(basis, color='orange', label='trajectory')\n",
    "    ax.set_xlabel('x')\n",
    "    ax.set_ylabel('y')\n",
    "    xlims = ax.get_xlim()\n",
    "    ylims = ax.get_ylim()\n",
    "    plt.axis('equal')\n",
    "    \n",
    "    radii, __, __ = trajectory.get_curvatures(times=times, ax=None)\n",
    "    pos_left, pos_right = trajectory.get_left_and_right_points(times=times, width=width, ax=ax)\n",
    "    ax.set_xlim(xlims)\n",
    "    ax.set_ylim(ylims)\n",
    "    ax.legend()\n",
    "    plt.savefig(FOLDER + fname + '.png')\n",
    "    print('wrote plots as', FOLDER + fname + '.png')\n",
    "    \n",
    "    if fname[-4:] != '.txt':\n",
    "        fnametxt = fname + '.txt'\n",
    "    else:\n",
    "        fnametxt = fname\n",
    "        fname = fnametxt[:-4]\n",
    "    with open(FOLDER + fnametxt, 'w', newline='') as csvfile:\n",
    "        writer = csv.writer(csvfile, delimiter=',')\n",
    "        header = ['i', 'rad', 'dist', 'x', 'y', 'x_left', 'y_left', 'x_right', 'y_right']\n",
    "        #print(header)\n",
    "        writer.writerow(header)\n",
    "        for i in range(len(distances) - 1):\n",
    "            r = radii[i + 1]\n",
    "            delta_d = distances[i + 1]  - distances[i]\n",
    "            p = sample_points[:, i]\n",
    "            pl = pos_left[:, i]\n",
    "            pr = pos_right[:, i]\n",
    "            line = [i, r, delta_d, p[0], p[1], pl[0], pl[1], pr[0], pr[1]]\n",
    "            #print(np.array(line))\n",
    "            writer.writerow(line)\n",
    "        print('wrote parameters as', FOLDER + fnametxt)\n",
    "\n",
    "trajectories = [\n",
    "    dict(\n",
    "        fname = 'bandlimited1',\n",
    "        model = 'bandlimited',\n",
    "        n_complexity = 3,\n",
    "        step_distance = 0.1,\n",
    "        seed = 2\n",
    "    ), \n",
    "    dict(\n",
    "        fname = 'polynomial1',\n",
    "        model = 'polynomial',\n",
    "        n_complexity = 3,\n",
    "        step_distance = 0.1,\n",
    "        seed = 1\n",
    "    ), \n",
    "    dict(\n",
    "        fname = 'full_bandlimited1',\n",
    "        model = 'full_bandlimited',\n",
    "        n_complexity = 5,\n",
    "        step_distance = 0.1,\n",
    "        seed = 3\n",
    "    ), \n",
    "    dict(\n",
    "        fname = 'circle1',\n",
    "        model = 'circle',\n",
    "        n_complexity = 5,\n",
    "        step_distance = 0.1,\n",
    "        seed = 0\n",
    "    ), \n",
    "    dict(\n",
    "        fname = 'eight1',\n",
    "        model = 'eight',\n",
    "        n_complexity = 5,\n",
    "        step_distance = 0.1,\n",
    "        seed = 0\n",
    "    ), \n",
    "]\n",
    "\n",
    "for traj in trajectories:\n",
    "    generate_control_parameters(**traj)"
   ]
  },
  {
   "cell_type": "code",
   "execution_count": null,
   "metadata": {},
   "outputs": [],
   "source": []
  }
 ],
 "metadata": {
  "kernelspec": {
   "display_name": "Python 3",
   "language": "python",
   "name": "python3"
  },
  "language_info": {
   "codemirror_mode": {
    "name": "ipython",
    "version": 3
   },
   "file_extension": ".py",
   "mimetype": "text/x-python",
   "name": "python",
   "nbconvert_exporter": "python",
   "pygments_lexer": "ipython3",
   "version": "3.6.7"
  }
 },
 "nbformat": 4,
 "nbformat_minor": 2
}
