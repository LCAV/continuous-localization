{
 "cells": [
  {
   "cell_type": "markdown",
   "metadata": {},
   "source": [
    "# Robot stuff\n",
    "\n",
    "In this notebook we can check how to sample the trajectory of the robot, how to get velocity profiles from the trajectory, which can be used to control the robot, etc.  "
   ]
  },
  {
   "cell_type": "code",
   "execution_count": null,
   "metadata": {},
   "outputs": [],
   "source": [
    "import math\n",
    "import matplotlib.pyplot as plt\n",
    "import numpy as np\n",
    "%matplotlib inline\n",
    "%reload_ext autoreload\n",
    "%autoreload 2\n",
    "\n",
    "np.set_printoptions(precision=2)"
   ]
  },
  {
   "cell_type": "code",
   "execution_count": null,
   "metadata": {},
   "outputs": [],
   "source": [
    "from trajectory import Trajectory\n",
    "from environment import Environment\n",
    "\n",
    "from measurements import create_mask, get_D_topright\n",
    "from solvers import alternativePseudoInverse, exactSolution\n",
    "\n",
    "n_anchors = 4 #number of anchors\n",
    "n_complexity = 3 #number of robot sample positions\n",
    "dim = 2 # dimension of setup. \n",
    "\n",
    "trajectory = Trajectory(n_complexity, dim=dim, model='polynomial')\n",
    "trajectory.set_coeffs(seed=2)\n",
    "environment = Environment(n_anchors)\n",
    "environment.set_random_anchors(seed=2)\n",
    "\n",
    "n_positions = 5\n",
    "times = trajectory.get_times(n_samples=n_positions)\n",
    "basis = trajectory.get_basis(times=times)\n",
    "sample_points = trajectory.get_sampling_points(basis=basis)\n",
    "\n",
    "plt.figure()\n",
    "environment.plot()\n",
    "trajectory.plot(basis, color='orange', label='ground truth')\n",
    "plt.legend()"
   ]
  },
  {
   "cell_type": "markdown",
   "metadata": {},
   "source": [
    "## Compute the curvature at each point. \n",
    "\n",
    "For now there is still a problem. Since the points are not resampled in time, there is not only a radial acceleration (the one that makes the robot turn) but also a tangential radiation. In plot below, the orange lines showing the curvature radius, are therefore oriented in the direction of the curve.\n",
    "\n",
    "For now I am not quite sure if this is a problem, or if we can still try to incorporate this in the controls for the robot. "
   ]
  },
  {
   "cell_type": "code",
   "execution_count": null,
   "metadata": {},
   "outputs": [],
   "source": [
    "#curvature\n",
    "trajectory.plot(basis, color='orange', label='ground truth')\n",
    "plt.axis('equal')\n",
    "\n",
    "# compute derivatives of the basis vectors.\n",
    "basis_prime = trajectory.get_basis_prime(times=times)\n",
    "basis_twoprime = trajectory.get_basis_twoprime(times=times)\n",
    "\n",
    "# see wikipedia for these definitions: \n",
    "# https://en.wikipedia.org/wiki/Curvature \n",
    "# Section: Precise definition\n",
    "tangents = trajectory.coeffs.dot(basis_prime)\n",
    "unit_tangents = tangents / np.linalg.norm(tangents, axis=0)\n",
    "curvatures = trajectory.coeffs.dot(basis_twoprime) \n",
    "normal_vectors = curvatures / np.linalg.norm(curvatures, axis=0)\n",
    "\n",
    "# extract only radial component of acceleration \n",
    "radial_acc = []\n",
    "for norm, unit in zip(normal_vectors.T, unit_tangents.T):\n",
    "    norm = np.r_[norm.reshape((-1, )), 0]\n",
    "    unit = np.r_[unit.reshape((-1, )), 0]\n",
    "    radial = np.cross(unit, np.cross(norm, unit))\n",
    "    radial_acc.append(radial[:2])\n",
    "radial_acc = np.array(radial_acc).T\n",
    "radii = 1 / np.linalg.norm(radial_acc, axis=0)\n",
    "radial_norm = radial_acc * radii\n",
    "print(radii)\n",
    "\n",
    "from matplotlib.patches import Circle\n",
    "\n",
    "for i in range(sample_points.shape[1]):\n",
    "    s = sample_points[:, i]\n",
    "    t = s + unit_tangents[:, i]\n",
    "    n = s + normal_vectors[:, i]\n",
    "    r = s + radial_acc[:, i]\n",
    "    plt.plot([s[0], t[0]], [s[1], t[1]], ':', color='black')\n",
    "    plt.plot([s[0], n[0]], [s[1], n[1]], ':', color='orange')\n",
    "    plt.plot([s[0], r[0]], [s[1], r[1]], ':', color='blue')\n",
    "    \n",
    "    \n",
    "    radius = radii[i]\n",
    "    center = s + radius * radial_norm[:, i]\n",
    "    circ = Circle(xy=center, radius=radius, alpha=0.1, color='blue')\n",
    "    plt.scatter(*center, color='blue', marker='+')\n",
    "    plt.gca().add_artist(circ)"
   ]
  },
  {
   "cell_type": "code",
   "execution_count": null,
   "metadata": {},
   "outputs": [],
   "source": [
    "from scipy.signal import resample\n",
    "\n",
    "plt.plot(times, sample_points[0, :], label='x', marker='+')\n",
    "plt.plot(times, sample_points[1, :], label='y', marker='+')\n",
    "plt.title('trajectory over time.')\n",
    "plt.xlabel('time')\n",
    "plt.legend()"
   ]
  },
  {
   "cell_type": "code",
   "execution_count": null,
   "metadata": {},
   "outputs": [],
   "source": []
  }
 ],
 "metadata": {
  "kernelspec": {
   "display_name": "Python 3",
   "language": "python",
   "name": "python3"
  },
  "language_info": {
   "codemirror_mode": {
    "name": "ipython",
    "version": 3
   },
   "file_extension": ".py",
   "mimetype": "text/x-python",
   "name": "python",
   "nbconvert_exporter": "python",
   "pygments_lexer": "ipython3",
   "version": "3.5.2"
  }
 },
 "nbformat": 4,
 "nbformat_minor": 2
}
