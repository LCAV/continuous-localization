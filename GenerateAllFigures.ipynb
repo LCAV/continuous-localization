{
 "cells": [
  {
   "cell_type": "markdown",
   "metadata": {},
   "source": [
    "# Generate all figures\n",
    "\n",
    "Generate all the figures included in the paper\n",
    "*Relax and Recover: Guaranteed Range-Only Continuous Localization*."
   ]
  },
  {
   "cell_type": "code",
   "execution_count": null,
   "metadata": {},
   "outputs": [],
   "source": [
    "from itertools import cycle\n",
    "import time\n",
    "\n",
    "import matplotlib.pyplot as plt\n",
    "import matplotlib\n",
    "import numpy as np\n",
    "\n",
    "import sys\n",
    "sys.path.append('source/')\n",
    "\n",
    "import hypothesis as h\n",
    "\n",
    "%matplotlib inline\n",
    "%reload_ext autoreload\n",
    "%autoreload 2\n",
    "\n",
    "matplotlib.rcParams['pdf.fonttype'] = 42\n",
    "matplotlib.rcParams['ps.fonttype'] = 42\n",
    "\n",
    "from distutils.spawn import find_executable\n",
    "if find_executable('latex'):\n",
    "    print('using latex support')\n",
    "    matplotlib.rcParams['text.usetex'] = True"
   ]
  },
  {
   "cell_type": "code",
   "execution_count": null,
   "metadata": {},
   "outputs": [],
   "source": [
    "from plotting_tools import make_dirs_safe\n",
    "\n",
    "directory = 'figures/'\n",
    "make_dirs_safe(directory)\n",
    "lines = [\"-\", \"--\", \"-.\", \":\"]\n",
    "linecycler = cycle(lines)"
   ]
  },
  {
   "cell_type": "markdown",
   "metadata": {},
   "source": [
    "## Figure 4"
   ]
  },
  {
   "cell_type": "code",
   "execution_count": null,
   "metadata": {},
   "outputs": [],
   "source": [
    "from trajectory_creator import get_trajectory\n",
    "from plotting_tools import add_scalebar, remove_ticks\n",
    "from plotting_tools import savefig\n",
    "\n",
    "np.random.seed(0)\n",
    "\n",
    "fig, axis = plt.subplots(1, 4, figsize=(5, 1.2), sharey='row',\n",
    "                        gridspec_kw={'hspace': 0, 'wspace': 0.1})\n",
    "traj = get_trajectory(\"clover\")\n",
    "traj.scale_bounding_box([5, 5])\n",
    "error = np.random.normal(size=traj.coeffs.shape)\n",
    "error = error/np.linalg.norm(error)\n",
    "# todo scale the trajectory\n",
    "for idx, scale in enumerate([0.1, 0.2, 0.4, 0.8]):\n",
    "    ax = axis[idx]\n",
    "    traj.plot(ax=ax, linestyle='--')\n",
    "    perturbed = traj.copy()\n",
    "    perturbed.coeffs += scale*error\n",
    "    perturbed.plot(ax=ax)\n",
    "    ax.axis('equal')\n",
    "    ax.set_title(\"error: {}m\".format(scale))\n",
    "    add_scalebar(ax, loc='upper left', size=1)\n",
    "    remove_ticks(ax)\n",
    "    \n",
    "savefig(fig, directory+\"error_overview.pdf\")"
   ]
  },
  {
   "cell_type": "markdown",
   "metadata": {},
   "source": [
    "## Figure 5"
   ]
  },
  {
   "cell_type": "code",
   "execution_count": null,
   "metadata": {},
   "outputs": [],
   "source": [
    "from plotting_tools import plot_noise\n",
    "plt.rcParams['figure.figsize'] = 5, 2.5\n",
    "\n",
    "fig, axis = plt.subplots(2, 1, figsize=(5, 4), sharex='col', gridspec_kw={'hspace': 0.1, 'wspace': 0})\n",
    "\n",
    "plot = plot_noise('noise_and_anchors',\n",
    "                  error_types=['errors'],\n",
    "                  save_figures=True,\n",
    "                  min_noise=0,\n",
    "                  max_noise=None,\n",
    "                  background_alpha=0.2,\n",
    "                  start=30,\n",
    "                  anchors=True,\n",
    "                  ax=axis[1])\n",
    "plot = plot_noise('noise_right_inverse_weighted',\n",
    "                  error_types=['errors'],\n",
    "                  save_figures=False,\n",
    "                  max_noise=None,\n",
    "                  background_alpha=0.2,\n",
    "                  start=100,\n",
    "                  ax=axis[0])\n",
    "plot.set_xticks([31, 62, 125, 250, 500])\n",
    "axis[0].set_xlim(15, 500)\n",
    "axis[1].set_ylim(1e-4, 1e-1)\n",
    "axis[0].set_ylim(5e-4, 5e1)\n",
    "axis[0].grid()\n",
    "axis[1].grid()\n",
    "axis[0].set_ylabel('errors')\n",
    "axis[1].set_xlabel(\"number of measurements\")\n",
    "plt.tight_layout()\n",
    "\n",
    "savefig(fig, directory + 'noise.pdf')"
   ]
  },
  {
   "cell_type": "markdown",
   "metadata": {},
   "source": [
    "## Figure 3"
   ]
  },
  {
   "cell_type": "code",
   "execution_count": null,
   "metadata": {},
   "outputs": [],
   "source": [
    "n_measurement_list = range(10, 40)\n",
    "\n",
    "experiment_params={\n",
    "    \"n_dimensions\": 2,\n",
    "    \"n_anchors\": 4,\n",
    "    \"n_constraints\": 5,\n",
    "    \"n_anchors_list\": [3, 4, 5],\n",
    "    \"n_constraints_list\": [3, 5, 7],\n",
    "}\n",
    "\n",
    "start = time.time()\n",
    "probabilities_anchors = []\n",
    "for idx, n_anchors in enumerate(experiment_params[\"n_anchors_list\"]):\n",
    "    print(\"{} anchors\".format(n_anchors))\n",
    "    probabilities_anchors.append([h.probability_upper_bound(\n",
    "        n_dimensions=experiment_params[\"n_dimensions\"],\n",
    "        n_constraints=experiment_params[\"n_constraints\"],\n",
    "        n_measurements=n,\n",
    "        position_wise=False,\n",
    "        n_anchors=n_anchors,\n",
    "        n_positions=np.Infinity,\n",
    "        full_matrix=True\n",
    "    ) for n in n_measurement_list])\n",
    "probabilities_anchors = np.array(probabilities_anchors)\n",
    "print(\"anchors total time: {:.2f}s\".format(time.time()-start))\n",
    "\n",
    "start = time.time()\n",
    "probabilities_constraints = []\n",
    "for idx, n_constraints in enumerate(experiment_params[\"n_constraints_list\"]):\n",
    "    print(\"{} constraints\".format(n_constraints))\n",
    "    probabilities_constraints.append([h.probability_upper_bound(\n",
    "        n_dimensions=experiment_params[\"n_dimensions\"],\n",
    "        n_constraints=n_constraints,\n",
    "        n_measurements=n,\n",
    "        position_wise=False,\n",
    "        n_anchors=experiment_params[\"n_anchors\"],\n",
    "        n_positions=np.Infinity,\n",
    "        full_matrix=True,\n",
    "    ) for n in n_measurement_list])\n",
    "probabilities_constraints = np.array(probabilities_constraints)\n",
    "print(\"constrains total time: {:.2f}s\".format(time.time()-start))"
   ]
  },
  {
   "cell_type": "code",
   "execution_count": null,
   "metadata": {},
   "outputs": [],
   "source": [
    "fig, axis = plt.subplots(2, 1, figsize=(5, 4), sharex='col', gridspec_kw={'hspace': 0.1, 'wspace': 0})\n",
    "\n",
    "linecycler = cycle(lines)\n",
    "for idx, n_anchors in enumerate(experiment_params[\"n_anchors_list\"]):\n",
    "\n",
    "    p = axis[0].step(\n",
    "        n_measurement_list,\n",
    "        probabilities_anchors[idx],\n",
    "        label=\"{} anchors\".format(n_anchors),\n",
    "        where='post',\n",
    "        linestyle=next(linecycler))\n",
    "axis[0].set_ylabel(\"probability\")\n",
    "axis[0].grid()\n",
    "axis[0].legend(loc='lower right')\n",
    "\n",
    "linecycler = cycle(lines)\n",
    "for idx, n_constraints in enumerate(experiment_params[\"n_constraints_list\"]):\n",
    "\n",
    "    p = axis[1].step(\n",
    "        n_measurement_list,\n",
    "        probabilities_constraints[idx],\n",
    "        label=\"K={}\".format(n_constraints),\n",
    "        where='post',\n",
    "        linestyle=next(linecycler))\n",
    "axis[1].set_xlabel(\"number of measurements\")\n",
    "axis[1].set_ylabel(\"probability\")\n",
    "axis[1].grid()\n",
    "axis[1].legend()\n",
    "plt.tight_layout()\n",
    "\n",
    "savefig(fig, directory+'probability.pdf')"
   ]
  },
  {
   "cell_type": "markdown",
   "metadata": {},
   "source": [
    "## Figure 6"
   ]
  },
  {
   "cell_type": "code",
   "execution_count": null,
   "metadata": {},
   "outputs": [],
   "source": [
    "from scipy.io import loadmat\n",
    "from trajectory_creator import get_trajectory\n",
    "from public_data_utils import read_dataset, get_plotting_params\n",
    "\n",
    "plt.rcParams['figure.figsize'] = 7, 3\n",
    "\n",
    "verbose = False\n",
    "anchor_names = None  # use all anchors by default.\n",
    "filename = 'datasets/Plaza2.mat' # triangle. works well.\n",
    "\n",
    "full_df, anchors_df, traj = read_dataset(filename)\n",
    "xlim, ylim = get_plotting_params(filename)"
   ]
  },
  {
   "cell_type": "code",
   "execution_count": null,
   "metadata": {},
   "outputs": [],
   "source": [
    "from public_data_utils import get_ground_truth\n",
    "from evaluate_dataset import compute_distance_matrix, compute_anchors\n",
    "chosen_df = full_df\n",
    "chosen_distance = 'distance'\n",
    "range_system_id = 'Range'\n",
    "#chosen_distance = 'distance_gt'\n",
    "\n",
    "## Construct anchors. \n",
    "anchors = compute_anchors(anchors_df, anchor_names)\n",
    "\n",
    "## Construct times.\n",
    "times = chosen_df[chosen_df.system_id == range_system_id].timestamp.unique()\n",
    "\n",
    "## Construct D.\n",
    "D, times = compute_distance_matrix(chosen_df, anchors_df, anchor_names, times, chosen_distance)\n",
    "if np.sum(D > 0) > D.shape[0]:\n",
    "    print('Warning: multiple measurements for times:{}/{}!'.format(\n",
    "          np.sum(np.sum(D > 0, axis=1)>1), D.shape[0]))\n",
    "\n",
    "## Construct ground truth.\n",
    "ground_truth_pos = get_ground_truth(chosen_df, times)"
   ]
  },
  {
   "cell_type": "markdown",
   "metadata": {},
   "source": [
    "### Figure 6 first row "
   ]
  },
  {
   "cell_type": "code",
   "execution_count": null,
   "metadata": {},
   "outputs": [],
   "source": [
    "from other_algorithms import pointwise_srls\n",
    "from plotting_backup import plot_complexities_old\n",
    "\n",
    "list_complexities = [3, 5, 21, 51]\n",
    "fig_size = [5, 1.2]\n",
    "ylim = [-15, 75]\n",
    "\n",
    "srls = False\n",
    "rls = True\n",
    "\n",
    "anchors = anchors[:2, :]\n",
    "fig, axs = plot_complexities_old(traj, D, times, anchors, full_df, \n",
    "                             list_complexities, srls=srls, rls=rls)\n",
    "[ax.set_xlim(*xlim) for ax in axs]\n",
    "[ax.set_ylim(*ylim) for ax in axs]\n",
    "fig.set_size_inches(*fig_size) \n",
    "\n",
    "if srls:\n",
    "    savefig(fig, 'figures/results_with_srls.pdf')\n",
    "elif rls:\n",
    "    savefig(fig, 'figures/results_with_rls.pdf')\n",
    "else:\n",
    "    savefig(fig, 'figures/results.pdf')"
   ]
  },
  {
   "cell_type": "markdown",
   "metadata": {},
   "source": [
    "### Figure 6 second row"
   ]
  },
  {
   "cell_type": "code",
   "execution_count": null,
   "metadata": {},
   "outputs": [],
   "source": [
    "from plotting_backup import plot_subsample_old\n",
    "\n",
    "fig_size = [5, 1.2]\n",
    "\n",
    "n_complexity = 5\n",
    "traj.set_n_complexity(n_complexity)\n",
    "\n",
    "min_number = n_complexity*(traj.dim + 2) - 1 \n",
    "#n_measurements_list = np.arange(D.shape[0], min_number, step=-100)\n",
    "#n_measurements_list = [19, 20, 30, 40, 50, 100, 200, 300, 499]\n",
    "n_measurements_list = [19, 30, 60, 200][::-1]\n",
    "\n",
    "srls = False\n",
    "rls = True\n",
    "\n",
    "fig, axs = plot_subsample_old(traj, D, times, anchors, full_df, \n",
    "                          n_measurements_list, srls=srls, rls=rls)\n",
    "[ax.set_xlim(*xlim) for ax in axs]\n",
    "[ax.set_ylim(*ylim) for ax in axs]\n",
    "fig.set_size_inches(*fig_size)\n",
    "\n",
    "savefig(fig, 'figures/downsampling.pdf')"
   ]
  },
  {
   "cell_type": "code",
   "execution_count": null,
   "metadata": {},
   "outputs": [],
   "source": []
  }
 ],
 "metadata": {
  "kernelspec": {
   "display_name": "Python 3",
   "language": "python",
   "name": "python3"
  },
  "language_info": {
   "codemirror_mode": {
    "name": "ipython",
    "version": 3
   },
   "file_extension": ".py",
   "mimetype": "text/x-python",
   "name": "python",
   "nbconvert_exporter": "python",
   "pygments_lexer": "ipython3",
   "version": "3.6.8"
  },
  "pycharm": {
   "stem_cell": {
    "cell_type": "raw",
    "metadata": {
     "collapsed": false
    },
    "source": []
   }
  }
 },
 "nbformat": 4,
 "nbformat_minor": 2
}
