{
 "cells": [
  {
   "cell_type": "markdown",
   "metadata": {},
   "source": [
    "# Generate all figures"
   ]
  },
  {
   "cell_type": "code",
   "execution_count": null,
   "metadata": {},
   "outputs": [],
   "source": [
    "import numpy as np\n",
    "import matplotlib.pyplot as plt\n",
    "import hypothesis as h\n",
    "from itertools import cycle\n",
    "\n",
    "import time"
   ]
  },
  {
   "cell_type": "code",
   "execution_count": null,
   "metadata": {},
   "outputs": [],
   "source": [
    "from plotting_tools import make_dirs_safe\n",
    "directory = 'figures/'\n",
    "make_dirs_safe(directory)\n",
    "lines = [\"-\", \"--\", \"-.\", \":\"]\n",
    "linecycler = cycle(lines)"
   ]
  },
  {
   "cell_type": "code",
   "execution_count": null,
   "metadata": {},
   "outputs": [],
   "source": [
    "from trajectory_creator import get_trajectory\n",
    "\n",
    "np.random.seed(0)\n",
    "\n",
    "fig, axis = plt.subplots(1, 3, figsize=(6, 2), sharey='row',\n",
    "                        gridspec_kw={'hspace': 0, 'wspace': 0.1})\n",
    "traj = get_trajectory(\"clover\")\n",
    "traj.scale_bounding_box([5, 5])\n",
    "error = np.random.normal(size=traj.coeffs.shape)\n",
    "error = error/np.linalg.norm(error)\n",
    "# todo scale the trajectory\n",
    "for idx, scale in enumerate([0.1, 0.5, 1]):\n",
    "    ax = axis[idx]\n",
    "    traj.plot(ax=ax, linestyle='--')\n",
    "    perturbed = traj.copy()\n",
    "    perturbed.coeffs += scale*error\n",
    "    perturbed.plot(ax=ax)\n",
    "    ax.axis('equal')\n",
    "    ax.set_title(\"error {}m\".format(scale))\n",
    "    if idx==0:\n",
    "        ax.set_ylabel(\"distance [m]\")\n",
    "plt.tight_layout()\n",
    "plt.savefig(directory+\"error_overview.pdf\")"
   ]
  },
  {
   "cell_type": "code",
   "execution_count": null,
   "metadata": {},
   "outputs": [],
   "source": [
    "from plotting_tools import plot_noise\n",
    "plt.rcParams['figure.figsize'] = 5, 2.5"
   ]
  },
  {
   "cell_type": "code",
   "execution_count": null,
   "metadata": {},
   "outputs": [],
   "source": [
    "plot = plot_noise('noise_and_anchors', error_types=['errors'], save_figures=True,  min_noise=0, max_noise=None, background_alpha=0.3, start=30, anchors=True)\n",
    "plt.ylim(5e-6)\n",
    "plt.savefig(directory+'noise_and_anchors.pdf')\n",
    "plt.show()"
   ]
  },
  {
   "cell_type": "code",
   "execution_count": null,
   "metadata": {},
   "outputs": [],
   "source": [
    "plot = plot_noise('noise_to_square_right_inverse', error_types=['errors'], save_figures=False,  max_noise=None, background_alpha=0.2, start=100)\n",
    "plt.savefig(directory+'noise_to_quare_error.pdf')\n",
    "plt.ylim(1e-4, 1e2)\n",
    "plt.show()"
   ]
  },
  {
   "cell_type": "code",
   "execution_count": null,
   "metadata": {},
   "outputs": [],
   "source": [
    "plot = plot_noise('noise_right_inverse', error_types=['errors'], save_figures=True,  max_noise=None, background_alpha=0.3, start=30)\n",
    "plt.savefig(directory+'noise_error.pdf')\n",
    "plt.ylim(1e-4, 1e2)\n",
    "plt.show()"
   ]
  },
  {
   "cell_type": "code",
   "execution_count": null,
   "metadata": {},
   "outputs": [],
   "source": [
    "plot_noise('noise_right_inverse_weighted', error_types=['errors'], save_figures=True,  max_noise=None, background_alpha=0.3, start=30)\n",
    "plt.savefig(directory+'noise_weighted_error.pdf')\n",
    "plt.ylim(1e-4, 1e2)\n",
    "plt.show()"
   ]
  },
  {
   "cell_type": "code",
   "execution_count": null,
   "metadata": {},
   "outputs": [],
   "source": [
    "n_measurement_list = range(10, 40)\n",
    "\n",
    "experiment_params={\n",
    "    \"n_dimensions\": 2,\n",
    "    \"n_constraints\": 5,\n",
    "    \"n_anchors_list\": [3, 4, 5],\n",
    "}\n",
    "\n",
    "start = time.time()\n",
    "probabilities = []\n",
    "for idx, n_anchors in enumerate(experiment_params[\"n_anchors_list\"]):\n",
    "    print(\"{} anchors\".format(n_anchors))\n",
    "    probabilities.append([h.probability_upper_bound_any_measurements(\n",
    "        n_dimensions=experiment_params[\"n_dimensions\"],\n",
    "        n_constraints=experiment_params[\"n_constraints\"],\n",
    "        n_measurements=n,\n",
    "        position_wise=False,\n",
    "        n_anchors=n_anchors,\n",
    "        n_positions=np.Infinity,\n",
    "        full_matrix=True\n",
    "    ) for n in n_measurement_list])\n",
    "probabilities = np.array(probabilities)\n",
    "print(\"total time: {:.2f}s\".format(time.time()-start))"
   ]
  },
  {
   "cell_type": "code",
   "execution_count": null,
   "metadata": {},
   "outputs": [],
   "source": [
    "linecycler = cycle(lines)\n",
    "f, ax = plt.subplots()\n",
    "for idx, n_anchors in enumerate(experiment_params[\"n_anchors_list\"]):\n",
    "\n",
    "    p = plt.step(\n",
    "        n_measurement_list,\n",
    "        probabilities[idx],\n",
    "        label=\"{} anchors\".format(n_anchors),\n",
    "        where='post',\n",
    "        linestyle=next(linecycler))\n",
    "plt.xlabel(\"number of measurements\")\n",
    "plt.ylabel(\"probability\")\n",
    "plt.ylim(0)\n",
    "plt.grid()\n",
    "plt.legend(loc='lower right')\n",
    "plt.tight_layout()\n",
    "plt.savefig(directory + 'probability_anchors.pdf')\n",
    "\n",
    "plt.show()"
   ]
  },
  {
   "cell_type": "code",
   "execution_count": null,
   "metadata": {},
   "outputs": [],
   "source": [
    "experiment_params={\n",
    "    \"n_dimensions\": 2,\n",
    "    \"n_constraints_list\": [3, 5, 7],\n",
    "    \"n_anchors\": 4,\n",
    "}\n",
    "\n",
    "start = time.time()\n",
    "probabilities = []\n",
    "for idx, n_constraints in enumerate(experiment_params[\"n_constraints_list\"]):\n",
    "    print(\"{} constraints\".format(n_constraints))\n",
    "    probabilities.append([h.probability_upper_bound_any_measurements(\n",
    "        n_dimensions=experiment_params[\"n_dimensions\"],\n",
    "        n_constraints=n_constraints,\n",
    "        n_measurements=n,\n",
    "        position_wise=False,\n",
    "        n_anchors=experiment_params[\"n_anchors\"],\n",
    "        n_positions=np.Infinity,\n",
    "        full_matrix=True,\n",
    "    ) for n in n_measurement_list])\n",
    "probabilities = np.array(probabilities)\n",
    "print(\"total time: {:.2f}s\".format(time.time()-start))"
   ]
  },
  {
   "cell_type": "code",
   "execution_count": null,
   "metadata": {},
   "outputs": [],
   "source": [
    "linecycler = cycle(lines)\n",
    "f, ax = plt.subplots()\n",
    "for idx, n_constraints in enumerate(experiment_params[\"n_constraints_list\"]):\n",
    "\n",
    "    p = plt.step(\n",
    "        n_measurement_list,\n",
    "        probabilities[idx],\n",
    "        label=\"{} d.o.f.\".format(n_constraints),\n",
    "        where='post',\n",
    "        linestyle=next(linecycler))\n",
    "plt.xlabel(\"number of measurements\")\n",
    "plt.ylabel(\"probability\")\n",
    "plt.ylim(0)\n",
    "plt.grid()\n",
    "plt.legend()\n",
    "plt.tight_layout()\n",
    "plt.savefig(directory + 'probability_dof.pdf')\n",
    "\n",
    "plt.show()"
   ]
  },
  {
   "cell_type": "code",
   "execution_count": null,
   "metadata": {},
   "outputs": [],
   "source": []
  }
 ],
 "metadata": {
  "kernelspec": {
   "display_name": "Python 3",
   "language": "python",
   "name": "python3"
  },
  "language_info": {
   "codemirror_mode": {
    "name": "ipython",
    "version": 3
   },
   "file_extension": ".py",
   "mimetype": "text/x-python",
   "name": "python",
   "nbconvert_exporter": "python",
   "pygments_lexer": "ipython3",
   "version": "3.6.7"
  }
 },
 "nbformat": 4,
 "nbformat_minor": 2
}
