{
 "cells": [
  {
   "cell_type": "code",
   "execution_count": 2,
   "metadata": {},
   "outputs": [],
   "source": [
    "import numpy as np\n",
    "import matplotlib.pyplot as plt\n",
    "from EDMtools import *\n",
    "from SampTrajsTools import *\n",
    "%matplotlib inline\n",
    "%reload_ext autoreload\n",
    "%autoreload 2"
   ]
  },
  {
   "cell_type": "code",
   "execution_count": 3,
   "metadata": {},
   "outputs": [],
   "source": [
    "dim = 2 #dimension\n",
    "n_anchors = 5 #number of anchors\n",
    "n_positions = 20 #number of robot sample positions\n",
    "n_complexity = 4 #model complexity"
   ]
  },
  {
   "cell_type": "code",
   "execution_count": 4,
   "metadata": {},
   "outputs": [
    {
     "data": {
      "text/plain": [
       "[<matplotlib.lines.Line2D at 0xb12ebc6d8>]"
      ]
     },
     "execution_count": 4,
     "metadata": {},
     "output_type": "execute_result"
    },
    {
     "data": {
      "image/png": "[encoded data removed]",
      "text/plain": [
       "<Figure size 432x288 with 1 Axes>"
      ]
     },
     "metadata": {},
     "output_type": "display_data"
    }
   ],
   "source": [
    "np.random.seed(1)\n",
    "coeffs = 5 * np.random.rand(dim, n_complexity)\n",
    "anchors = 10 * np.random.rand(dim, n_anchors)\n",
    "\n",
    "\n",
    "k=np.reshape(range(n_complexity), [n_complexity, 1])\n",
    "n=np.reshape(range(n_positions), [1, n_positions])\n",
    "basis = np.cos(np.pi * k * n / n_positions)\n",
    "\n",
    "trajectory = coeffs @ basis\n",
    "\n",
    "#continuous trajectory for plotting\n",
    "n_cont=np.reshape(np.linspace(0, n_positions, 1000), [1, 1000])\n",
    "basis_cont = np.cos(np.pi * k * n / n_positions)\n",
    "trajectory_cont = coeffs @ basis_cont\n",
    "\n",
    "plt.scatter(*anchors, color='blue')\n",
    "plt.scatter(*trajectory,color='orange')\n",
    "plt.plot(*trajectory_cont, color='orange')\n",
    "#plt.axis('off')\n",
    "#plt.savefig('traj_setup.png')"
   ]
  },
  {
   "cell_type": "code",
   "execution_count": 5,
   "metadata": {},
   "outputs": [],
   "source": [
    "#EDM stuff\n",
    "X = np.hstack([trajectory,anchors])\n",
    "G = X.T @ X\n",
    "D = np.outer(np.ones(n_positions + n_anchors),np.diag(G))+np.outer(np.diag(G),np.ones(n_positions+n_anchors))-2*G"
   ]
  },
  {
   "cell_type": "code",
   "execution_count": 6,
   "metadata": {},
   "outputs": [
    {
     "data": {
      "image/png": "[encoded data removed]",
      "text/plain": [
       "<Figure size 288x288 with 1 Axes>"
      ]
     },
     "metadata": {},
     "output_type": "display_data"
    }
   ],
   "source": [
    "D_tilde = D.copy()\n",
    "D_tilde[:n_positions,:n_positions] = 0\n",
    "plt.matshow(D_tilde)\n",
    "D_topright = D[:n_positions,n_positions:] "
   ]
  },
  {
   "cell_type": "markdown",
   "metadata": {},
   "source": [
    "## SDP - based approach\n",
    "### Noiseless case"
   ]
  },
  {
   "cell_type": "code",
   "execution_count": 7,
   "metadata": {},
   "outputs": [
    {
     "name": "stdout",
     "output_type": "stream",
     "text": [
      "Make sure that your cvxpy version is >= 1.0.6!\n",
      "Your version: 1.0.6\n",
      "Running with options: {'max_iters': 100, 'abstol': 0.1, 'reltol': 0.1, 'feastol': 0.1, 'refinement': 0, 'kktsolver': 'robust'}\n",
      "     pcost       dcost       gap    pres   dres   k/t\n",
      " 0:  0.0000e+00 -0.0000e+00  4e+01  7e+00  3e+00  1e+00\n",
      " 1: -7.2253e+08  2.8422e-01  9e+00  2e+00  1e+00  6e-01\n",
      "Certificate of dual infeasibility found.\n"
     ]
    }
   ],
   "source": [
    "print(\"Make sure that your cvxpy version is >= 1.0.6!\")\n",
    "import cvxpy\n",
    "print(\"Your version:\", cvxpy.__version__)\n",
    "\n",
    "from SampTrajsTools import OPTIONS\n",
    "\n",
    "# We cane change the global variable OPTIONS here. \n",
    "\n",
    "#OPTIONS[cvxpy.SCS][\"max_iters\"] = 200\n",
    "# Seems to have no effect: \n",
    "#OPTIONS[cvxpy.SCS][\"use_indirect\"] = False \n",
    "# Seems to have no effect either: \n",
    "#OPTIONS[cvxpy.SCS][\"eps\"] = 1e-1\n",
    "# Seems to have no effect either: \n",
    "#OPTIONS[cvxpy.SCS][\"scale\"] = 1\n",
    "\n",
    "\n",
    "# Fails completely without this:\n",
    "OPTIONS[cvxpy.CVXOPT][\"kktsolver\"] = \"robust\"\n",
    "\n",
    "# have no effect:\n",
    "OPTIONS[cvxpy.CVXOPT][\"feastol\"] = 1e-1\n",
    "OPTIONS[cvxpy.CVXOPT][\"reltol\"] = 1e-1\n",
    "OPTIONS[cvxpy.CVXOPT][\"abstol\"] = 1e-1\n",
    "\n",
    "# leads to faster non-convergence: \n",
    "OPTIONS[cvxpy.CVXOPT][\"refinement\"] = 0\n",
    "\n",
    "\n",
    "X = semidefRelaxationNoiseless(D_topright, anchors, basis, cvxpy.CVXOPT)\n",
    "#X = semidefRelaxation(D_topright, anchors, basis)"
   ]
  },
  {
   "cell_type": "markdown",
   "metadata": {},
   "source": [
    "### Debugging - Start"
   ]
  },
  {
   "cell_type": "code",
   "execution_count": 8,
   "metadata": {},
   "outputs": [
    {
     "name": "stdout",
     "output_type": "stream",
     "text": [
      "[[ True]]\n",
      "[[ True]]\n",
      "[[ True]]\n",
      "[[ True]]\n",
      "[[ True]]\n",
      "[[ True]]\n",
      "[[ True]]\n",
      "[[ True]]\n",
      "[[ True]]\n",
      "[[ True]]\n",
      "[[ True]]\n",
      "[[ True]]\n",
      "[[ True]]\n",
      "[[ True]]\n",
      "[[ True]]\n",
      "[[ True]]\n",
      "[[ True]]\n",
      "[[ True]]\n",
      "[[ True]]\n",
      "[[ True]]\n",
      "[[ True]]\n",
      "[[ True]]\n",
      "[[ True]]\n",
      "[[ True]]\n",
      "[[ True]]\n",
      "[[ True]]\n",
      "[[ True]]\n",
      "[[ True]]\n",
      "[[ True]]\n",
      "[[ True]]\n",
      "[[ True]]\n",
      "[[ True]]\n",
      "[[ True]]\n",
      "[[ True]]\n",
      "[[ True]]\n",
      "[[ True]]\n",
      "[[ True]]\n",
      "[[ True]]\n",
      "[[ True]]\n",
      "[[ True]]\n",
      "[[ True]]\n",
      "[[ True]]\n",
      "[[ True]]\n",
      "[[ True]]\n",
      "[[ True]]\n",
      "[[ True]]\n",
      "[[ True]]\n",
      "[[ True]]\n",
      "[[ True]]\n",
      "[[ True]]\n",
      "[[ True]]\n",
      "[[ True]]\n",
      "[[ True]]\n",
      "[[ True]]\n",
      "[[ True]]\n",
      "[[ True]]\n",
      "[[ True]]\n",
      "[[ True]]\n",
      "[[ True]]\n",
      "[[ True]]\n",
      "[[ True]]\n",
      "[[ True]]\n",
      "[[ True]]\n",
      "[[ True]]\n",
      "[[ True]]\n",
      "[[ True]]\n",
      "[[ True]]\n",
      "[[ True]]\n",
      "[[ True]]\n",
      "[[ True]]\n",
      "[[ True]]\n",
      "[[ True]]\n",
      "[[ True]]\n",
      "[[ True]]\n",
      "[[ True]]\n",
      "[[ True]]\n",
      "[[ True]]\n",
      "[[ True]]\n",
      "[[ True]]\n",
      "[[ True]]\n",
      "[[ True]]\n",
      "[[ True]]\n",
      "[[ True]]\n",
      "[[ True]]\n",
      "[[ True]]\n",
      "[[ True]]\n",
      "[[ True]]\n",
      "[[ True]]\n",
      "[[ True]]\n",
      "[[ True]]\n",
      "[[ True]]\n",
      "[[ True]]\n",
      "[[ True]]\n",
      "[[ True]]\n",
      "[[ True]]\n",
      "[[ True]]\n",
      "[[ True]]\n",
      "[[ True]]\n",
      "[[ True]]\n",
      "[[ True]]\n",
      "[[ True]]\n",
      "[[ True]]\n",
      "[[ True]]\n",
      "[[ True]]\n"
     ]
    }
   ],
   "source": [
    "#check the correct trajectory satisfies constraints\n",
    "Z_opt = np.vstack([np.hstack([np.eye(2),coeffs]),np.hstack([coeffs.T,coeffs.T@coeffs])])\n",
    "\n",
    "for d in range(dim):\n",
    "    e_d = np.zeros((dim + n_complexity, 1))\n",
    "    e_d[d] = 1.0\n",
    "    for dprime in range(dim):\n",
    "        e_dprime = np.zeros((dim + n_complexity, 1))\n",
    "        e_dprime[dprime] = 1.0\n",
    "        \n",
    "        delta = 1.0 if d == dprime else 0.0\n",
    "        \n",
    "        print(e_d.T @ Z_opt @ e_dprime == delta)\n",
    "\n",
    "\n",
    "W = D_topright > 0\n",
    "Ns, Ms = np.where(W)\n",
    "\n",
    "for i, (m, n) in enumerate(zip(Ms, Ns)):\n",
    "    e_n = np.zeros((n_positions, 1))\n",
    "    e_n[n] = 1.0\n",
    "    a_m = np.reshape(anchors[:, m], (-1, 1))\n",
    "    t_mn = np.r_[a_m, -basis @ e_n]\n",
    "    \n",
    "    print(np.isclose(t_mn.T @ Z_opt @ t_mn, D_topright[n ,m]))"
   ]
  },
  {
   "cell_type": "code",
   "execution_count": 9,
   "metadata": {},
   "outputs": [
    {
     "name": "stdout",
     "output_type": "stream",
     "text": [
      "[ 2.25887071e+01 -3.94649591e-16  3.62000582e+00  6.82184491e-16\n",
      " -4.97461246e-16 -8.56312041e-17]\n"
     ]
    }
   ],
   "source": [
    "#check the correct trajectory is PSD\n",
    "w, v = np.linalg.eig(Z_opt)\n",
    "print(w)"
   ]
  },
  {
   "cell_type": "code",
   "execution_count": 10,
   "metadata": {},
   "outputs": [
    {
     "name": "stdout",
     "output_type": "stream",
     "text": [
      "(100, 36)\n",
      "[5.77430570e+02 2.23768204e+02 7.65158639e+01 7.14969439e+01\n",
      " 6.62508022e+01 5.79070065e+01 2.78316373e+01 2.60811111e+01\n",
      " 2.41142889e+01 1.43917281e+01 6.19773693e+00 5.02580453e+00\n",
      " 4.49165628e+00 3.43566667e+00 2.68436363e+00 2.27678206e+00\n",
      " 2.14938373e+00 4.04596575e-14 4.04596575e-14 4.04596575e-14\n",
      " 4.04596575e-14 4.04596575e-14 4.04596575e-14 4.04596575e-14\n",
      " 4.04596575e-14 4.04596575e-14 4.04596575e-14 4.04596575e-14\n",
      " 4.04596575e-14 4.04596575e-14 4.04596575e-14 4.04596575e-14\n",
      " 4.04596575e-14 4.04596575e-14 4.04596575e-14 3.07366156e-15]\n"
     ]
    }
   ],
   "source": [
    "#check that we have enough independant constraints. Think we need (K+D)*(K+D+1)/2-(D*(D+1)/2)=K(K+1)/2+DK=18\n",
    "TmnStack = []\n",
    "for i, (m, n) in enumerate(zip(Ms, Ns)):\n",
    "    e_n = np.zeros((n_positions, 1))\n",
    "    e_n[n] = 1.0\n",
    "    a_m = np.reshape(anchors[:, m], (-1, 1))\n",
    "    t_mn = np.r_[a_m, -basis @ e_n]\n",
    "    Tmn=t_mn@t_mn.T\n",
    "    TmnStack.append(Tmn.flatten())\n",
    "TmnStack=np.array(TmnStack)\n",
    "print(TmnStack.shape)\n",
    "u, s, vh = np.linalg.svd(TmnStack)\n",
    "print(s)"
   ]
  },
  {
   "cell_type": "markdown",
   "metadata": {},
   "source": [
    "## Investigate null space"
   ]
  },
  {
   "cell_type": "code",
   "execution_count": 52,
   "metadata": {},
   "outputs": [
    {
     "name": "stdout",
     "output_type": "stream",
     "text": [
      "[ True  True  True  True  True  True  True  True  True  True  True  True\n",
      "  True  True  True  True  True  True  True  True  True  True  True  True\n",
      "  True  True  True  True  True  True  True  True  True  True  True  True\n",
      "  True  True  True  True  True  True  True  True  True  True  True  True\n",
      "  True  True  True  True  True  True  True  True  True  True  True  True\n",
      "  True  True  True  True  True  True  True  True  True  True  True  True\n",
      "  True  True  True  True  True  True  True  True  True  True  True  True\n",
      "  True  True  True  True  True  True  True  True  True  True  True  True\n",
      "  True  True  True  True  True  True  True  True  True  True  True  True\n",
      "  True  True  True  True  True  True  True  True  True  True  True]\n",
      "(119, 36)\n",
      "(119,)\n",
      "[5.77431e+02 2.23770e+02 7.65160e+01 7.14970e+01 6.62510e+01 5.79150e+01\n",
      " 2.78320e+01 2.60810e+01 2.41140e+01 1.43930e+01 6.19800e+00 5.02600e+00\n",
      " 4.49900e+00 3.43600e+00 2.68400e+00 2.27700e+00 2.14900e+00 1.73200e+00\n",
      " 1.41400e+00 1.41400e+00 1.41400e+00 1.41400e+00 1.41400e+00 1.41400e+00\n",
      " 1.41400e+00 1.41400e+00 1.41400e+00 1.41400e+00 1.41400e+00 1.41400e+00\n",
      " 1.41400e+00 1.41400e+00 2.80000e-02 0.00000e+00 0.00000e+00 0.00000e+00]\n"
     ]
    }
   ],
   "source": [
    "#Write all constraints as a matrix vector product\n",
    "\n",
    "ConstraintsMat = []\n",
    "ConstraintsVec = []\n",
    "\n",
    "#constraints for identity submatrix\n",
    "for d in range(dim):\n",
    "    e_d = np.zeros((dim + n_complexity, 1))\n",
    "    e_d[d] = 1.0\n",
    "    for dprime in range(dim):\n",
    "        e_dprime = np.zeros((dim + n_complexity, 1))\n",
    "        e_dprime[dprime] = 1.0\n",
    "        \n",
    "        delta = 1.0 if d == dprime else 0.0\n",
    "        \n",
    "        tmp = e_dprime@e_d.T\n",
    "        ConstraintsMat.append(tmp.flatten())\n",
    "        ConstraintsVec.append(delta)\n",
    "\n",
    "#constraints for distance measurements\n",
    "for i, (m, n) in enumerate(zip(Ms, Ns)):\n",
    "    e_n = np.zeros((n_positions, 1))\n",
    "    e_n[n] = 1.0\n",
    "    a_m = np.reshape(anchors[:, m], (-1, 1))\n",
    "    t_mn = np.r_[a_m, -basis @ e_n]\n",
    "    tmp=t_mn@t_mn.T\n",
    "    ConstraintsMat.append(tmp.flatten())\n",
    "    ConstraintsVec.append(D_topright[n ,m])\n",
    "\n",
    "#constraints for symmetry\n",
    "for i in range(dim + n_complexity):\n",
    "    for j in range(i+1,dim + n_complexity):\n",
    "        tmp = np.zeros((dim + n_complexity)*(dim + n_complexity))\n",
    "        tmp[i*(dim + n_complexity)+j]=1\n",
    "        tmp[j*(dim + n_complexity)+i]=-1\n",
    "        ConstraintsMat.append(tmp.flatten())\n",
    "        ConstraintsVec.append(0)\n",
    "\n",
    "ConstraintsMat=np.array(ConstraintsMat)\n",
    "ConstraintsVec=np.array(ConstraintsVec)\n",
    "\n",
    "print(np.isclose(ConstraintsMat@Z_opt.flatten(),ConstraintsVec))\n",
    "\n",
    "print(ConstraintsMat.shape)\n",
    "print(ConstraintsVec.shape)\n",
    "u, s, vh = np.linalg.svd(ConstraintsMat, full_matrices=True)\n",
    "print(np.around(s,3))"
   ]
  },
  {
   "cell_type": "code",
   "execution_count": 53,
   "metadata": {},
   "outputs": [
    {
     "name": "stdout",
     "output_type": "stream",
     "text": [
      "[ True  True  True  True  True  True  True  True  True  True  True  True\n",
      "  True  True  True  True  True  True  True  True  True  True  True  True\n",
      "  True  True  True  True  True  True  True  True  True  True  True  True\n",
      "  True  True  True  True  True  True  True  True  True  True  True  True\n",
      "  True  True  True  True  True  True  True  True  True  True  True  True\n",
      "  True  True  True  True  True  True  True  True  True  True  True  True\n",
      "  True  True  True  True  True  True  True  True  True  True  True  True\n",
      "  True  True  True  True  True  True  True  True  True  True  True  True\n",
      "  True  True  True  True  True  True  True  True  True  True  True  True\n",
      "  True  True  True  True  True  True  True  True  True  True  True]\n",
      "[[ True  True  True  True]\n",
      " [ True  True  True  True]]\n"
     ]
    }
   ],
   "source": [
    "#construct right inverse and check meets constraints\n",
    "num_zero_SVs = len(np.where(s<1e-10)[0])\n",
    "Z_hat = vh[:-num_zero_SVs,:].T@np.diag(1/s[:-num_zero_SVs])@u[:,:len(s)-num_zero_SVs].T@ConstraintsVec #right inverse\n",
    "Z_hat = Z_hat.reshape([dim + n_complexity,dim + n_complexity])\n",
    "print(np.isclose(ConstraintsMat@Z_hat.flatten(),ConstraintsVec)) #should satisfy constraints since it's a right inverse\n",
    "coeffs_hat = Z_hat[:dim,dim:]\n",
    "print(np.isclose(coeffs,coeffs_hat))"
   ]
  },
  {
   "cell_type": "code",
   "execution_count": 54,
   "metadata": {},
   "outputs": [
    {
     "name": "stdout",
     "output_type": "stream",
     "text": [
      "(3, 36)\n",
      "[ True  True  True  True  True  True  True  True  True  True  True  True\n",
      "  True  True  True  True  True  True  True  True  True  True  True  True\n",
      "  True  True  True  True  True  True  True  True  True  True  True  True\n",
      "  True  True  True  True  True  True  True  True  True  True  True  True\n",
      "  True  True  True  True  True  True  True  True  True  True  True  True\n",
      "  True  True  True  True  True  True  True  True  True  True  True  True\n",
      "  True  True  True  True  True  True  True  True  True  True  True  True\n",
      "  True  True  True  True  True  True  True  True  True  True  True  True\n",
      "  True  True  True  True  True  True  True  True  True  True  True  True\n",
      "  True  True  True  True  True  True  True  True  True  True  True]\n"
     ]
    }
   ],
   "source": [
    "tmp = vh[-num_zero_SVs:,:]\n",
    "print(tmp.shape)\n",
    "nullSpace = []\n",
    "for i in range(num_zero_SVs):\n",
    "    nullSpace.append(tmp[i,:].reshape([dim + n_complexity,dim + n_complexity]))\n",
    "\n",
    "nullSpace = np.array(nullSpace)\n",
    "Z_hat2 = Z_hat+nullSpace[0,:]+2*nullSpace[1,:]+3*nullSpace[2,:]\n",
    "print(np.isclose(ConstraintsMat@(Z_hat2.flatten()),ConstraintsVec))"
   ]
  },
  {
   "cell_type": "code",
   "execution_count": 55,
   "metadata": {},
   "outputs": [
    {
     "name": "stdout",
     "output_type": "stream",
     "text": [
      "[[ 0.       0.       0.      -0.      -0.      -0.     ]\n",
      " [-0.      -0.      -0.      -0.       0.       0.     ]\n",
      " [-0.      -0.      -0.21223  0.23083  0.11357  0.23083]\n",
      " [-0.      -0.       0.23083 -0.0149  -0.46166 -0.21968]\n",
      " [-0.      -0.       0.11357 -0.46166  0.43936 -0.     ]\n",
      " [-0.      -0.       0.23083 -0.21968 -0.      -0.     ]]\n",
      "[[ 0.       0.       0.       0.       0.       0.     ]\n",
      " [-0.       0.       0.       0.       0.      -0.     ]\n",
      " [-0.       0.      -0.26116 -0.17313  0.16247 -0.17313]\n",
      " [-0.      -0.      -0.17313 -0.06379  0.34625 -0.29305]\n",
      " [ 0.      -0.       0.16247  0.34625  0.5861  -0.     ]\n",
      " [ 0.      -0.      -0.17313 -0.29305  0.      -0.     ]]\n",
      "[[ 0.       0.      -0.       0.      -0.      -0.     ]\n",
      " [-0.      -0.      -0.       0.      -0.       0.     ]\n",
      " [-0.      -0.       0.4236   0.00891  0.21464  0.00891]\n",
      " [-0.       0.       0.00891 -0.85289 -0.01783 -0.00284]\n",
      " [ 0.      -0.       0.21464 -0.01783  0.00568  0.     ]\n",
      " [ 0.       0.       0.00891 -0.00284 -0.       0.     ]]\n"
     ]
    }
   ],
   "source": [
    "print(np.around(nullSpace[0,:],5))\n",
    "print(np.around(nullSpace[1,:],5))\n",
    "print(np.around(nullSpace[2,:],5))"
   ]
  },
  {
   "cell_type": "markdown",
   "metadata": {},
   "source": [
    "### cvxopt"
   ]
  },
  {
   "cell_type": "code",
   "execution_count": 97,
   "metadata": {},
   "outputs": [
    {
     "name": "stdout",
     "output_type": "stream",
     "text": [
      "{'status': 'optimal', 'x': <36x1 matrix, tc='d'>, 's': <66x1 matrix, tc='d'>, 'y': <0x1 matrix, tc='d'>, 'z': <66x1 matrix, tc='d'>, 'primal objective': 90.78998261966372, 'dual objective': 90.78998261966372, 'gap': 1.2459768295483948e-14, 'relative gap': 1.3723725829621818e-16, 'primal infeasibility': 1.3428407630744117e-16, 'dual infeasibility': 4.025611124295535e-15, 'primal slack': -7.056857988792678e-13, 'dual slack': -3.4234767798402288e-15, 'residual as primal infeasibility certificate': None, 'residual as dual infeasibility certificate': None}\n",
      "[[ True  True  True  True  True  True]\n",
      " [ True  True  True  True  True  True]\n",
      " [ True  True False False False False]\n",
      " [ True  True False False False False]\n",
      " [ True  True False False False  True]\n",
      " [ True  True False False  True  True]]\n"
     ]
    }
   ],
   "source": [
    "# try linear program\n",
    "from cvxopt import matrix, solvers\n",
    "tmpMat=np.diag(s[:-num_zero_SVs])@vh[:-num_zero_SVs,:]\n",
    "tmpVec = u[:,:len(s)-num_zero_SVs].T@ConstraintsVec\n",
    "A = matrix(np.vstack([tmpMat,-tmpMat]))\n",
    "b = matrix(np.hstack([tmpVec,-tmpVec]))\n",
    "c = matrix(np.ones((dim + n_complexity)*(dim + n_complexity)))\n",
    "sol=solvers.lp(c,A,b, solver='glpk') #doesn't work eith defualt solver but glpk good\n",
    "print(sol)\n",
    "Z_hat = np.array(sol['x']).reshape([dim + n_complexity,dim + n_complexity])\n",
    "print(np.isclose(Z_hat,Z_opt))"
   ]
  },
  {
   "cell_type": "code",
   "execution_count": null,
   "metadata": {},
   "outputs": [],
   "source": []
  },
  {
   "cell_type": "markdown",
   "metadata": {},
   "source": [
    "### Debugging - End"
   ]
  },
  {
   "cell_type": "markdown",
   "metadata": {},
   "source": [
    "## MDS - based approach\n",
    "### Noiseless case"
   ]
  },
  {
   "cell_type": "code",
   "execution_count": 13,
   "metadata": {},
   "outputs": [
    {
     "name": "stdout",
     "output_type": "stream",
     "text": [
      "[[2.08511002e+00 3.60162247e+00 5.71874087e-04 1.51166286e+00]\n",
      " [7.33779454e-01 4.61692974e-01 9.31301057e-01 1.72780364e+00]]\n",
      "[[2.08511002e+00 3.60162247e+00 5.71874087e-04 1.51166286e+00]\n",
      " [7.33779454e-01 4.61692974e-01 9.31301057e-01 1.72780364e+00]]\n"
     ]
    }
   ],
   "source": [
    "# find new coefficients\n",
    "coeffs_est = customMDS(D_topright, basis, anchors)\n",
    "print(coeffs_est)\n",
    "print(coeffs)"
   ]
  },
  {
   "cell_type": "code",
   "execution_count": null,
   "metadata": {},
   "outputs": [],
   "source": [
    "trajectory_est = coeffs_est @ basis\n",
    "trajectory_est_cont = coeffs_est @ basis_cont\n",
    "\n",
    "plt.scatter(*anchors)\n",
    "plt.scatter(*trajectory, color='orange', label='true')\n",
    "plt.plot(*trajectory_cont, color='orange')\n",
    "plt.scatter(*trajectory_est, color = 'red', label='estimated')\n",
    "plt.plot(*trajectory_est_cont, color='red')\n",
    "plt.axis('off')"
   ]
  },
  {
   "cell_type": "markdown",
   "metadata": {},
   "source": [
    "### Noisy case"
   ]
  },
  {
   "cell_type": "code",
   "execution_count": null,
   "metadata": {},
   "outputs": [],
   "source": [
    "sigma = 4\n",
    "\n",
    "#state = np.random.RandomState(1)\n",
    "np.random.seed(1)\n",
    "\n",
    "D_topright_noisy = D_topright + sigma * np.random.randn(*(D_topright.shape))\n",
    "coeffs_est_noisy = customMDS(D_topright_noisy, basis, anchors)\n",
    "\n",
    "coeffs_est_noisy, costs = gradientDescent(\n",
    "    anchors, basis, coeffs_est_noisy, \n",
    "    D_topright_noisy,maxIters=50)\n",
    "#print(checkStationaryPointSRLS(A,F,C_hat,DTR_tilde))\n",
    "#plt.plot(costs)"
   ]
  },
  {
   "cell_type": "code",
   "execution_count": null,
   "metadata": {},
   "outputs": [],
   "source": [
    "trajectory_est_noisy = coeffs_est_noisy @ basis\n",
    "trajectory_est_noisy_cont = coeffs_est_noisy @ basis_cont\n",
    "\n",
    "plt.scatter(*anchors, color='blue')\n",
    "plt.plot(*trajectory_cont, color='orange')\n",
    "plt.scatter(*trajectory_est_noisy, color='red')\n",
    "plt.plot(*trajectory_est_noisy_cont, color='red')"
   ]
  },
  {
   "cell_type": "markdown",
   "metadata": {},
   "source": [
    "### Missing measurements\n",
    "\n",
    "missing measurements between anchors, and between anchors and robot"
   ]
  },
  {
   "cell_type": "code",
   "execution_count": null,
   "metadata": {},
   "outputs": [],
   "source": [
    "np.random.seed(1)\n",
    "\n",
    "sigma = 2\n",
    "missing_proportion = 0.9\n",
    "\n",
    "D_right = D[:,n_positions:]\n",
    "mask = np.ones(D_right.shape)\n",
    "\n",
    "mask[:n_positions, :] *= (np.random.rand(n_positions,n_anchors)>missing_proportion)\n",
    "D_right_missing = mask * D_right\n",
    "\n",
    "# TODO: why are anchor positions not noisy? \n",
    "np.random.seed(1)\n",
    "D_right_missing[:n_positions,:] += sigma * np.random.randn(n_positions, n_anchors)\n",
    "D_right_est, errs = alternateGDandKEonDR(D_right_missing, mask, basis, anchors, \n",
    "                                    niter=40, DR_true=D_right)\n",
    "plt.plot(errs)\n",
    "coeffs_est_missing = customMDS(D_right_est[:n_positions,:], basis, anchors)\n",
    "#print(C_hat)\n",
    "#print(C)"
   ]
  },
  {
   "cell_type": "code",
   "execution_count": null,
   "metadata": {},
   "outputs": [],
   "source": [
    "trajectory_est_missing = coeffs_est_missing @ basis\n",
    "trajectory_est_missing_cont = coeffs_est_missing @ basis_cont\n",
    "\n",
    "plt.scatter(*anchors, color='blue')\n",
    "#plt.scatter(*trajectory, color='orange')\n",
    "plt.plot(*trajectory_cont, color='orange')\n",
    "plt.scatter(*trajectory_est_missing, color='red')\n",
    "plt.plot(*trajectory_est_missing_cont, color='red')\n",
    "plt.axis('off')\n",
    "#plt.savefig('traj_rec_with_noise.png')"
   ]
  },
  {
   "cell_type": "code",
   "execution_count": null,
   "metadata": {},
   "outputs": [],
   "source": [
    "plt.scatter(*anchors, color='blue')\n",
    "plt.plot(*trajectory_cont, color='orange')\n",
    "trajectory_useful = trajectory[:,np.any(mask[:n_positions,:]!=0,axis=1)]\n",
    "plt.scatter(*trajectory_useful, color='orange')\n",
    "#plt.axis('off')\n",
    "#plt.savefig('traj_useful.png')"
   ]
  },
  {
   "cell_type": "code",
   "execution_count": null,
   "metadata": {},
   "outputs": [],
   "source": [
    "plt.figure()\n",
    "plt.scatter(*anchors)\n",
    "plt.plot(*trajectory_cont, color='orange')\n",
    "for i in range(n_positions):\n",
    "    point = trajectory[:, i]\n",
    "    if np.sum(mask[i,:])==1:\n",
    "        plt.scatter(*point,color='orange')\n",
    "    if np.sum(mask[i,:])==2:\n",
    "        plt.scatter(*point,color='red')\n",
    "    if np.sum(mask[i,:])>2:\n",
    "        plt.scatter(*point,color='green')\n",
    "plt.scatter(-2.8,6)\n",
    "plt.scatter(-2.8,5,color='orange')\n",
    "plt.scatter(-2.8,4,color='red')\n",
    "plt.scatter(-2.8,3,color='green')\n",
    "#plt.axis('off')\n",
    "#plt.legend()\n",
    "#plt.savefig('traj_useful_colorcoded.png')"
   ]
  },
  {
   "cell_type": "code",
   "execution_count": null,
   "metadata": {},
   "outputs": [],
   "source": [
    "D_right_est, errs = alternateGDandKEonDR(D_right_missing, \n",
    "                                    mask, basis, anchors, \n",
    "                                    niter=30, DR_true=D_right)\n",
    "plt.plot(errs)\n",
    "coeffs_est = customMDS(D_right_est[:n_positions,:], basis, anchors)"
   ]
  },
  {
   "cell_type": "code",
   "execution_count": null,
   "metadata": {},
   "outputs": [],
   "source": [
    "trajectory_est = coeffs_est @ basis\n",
    "trajectory_est_cont = coeffs_est @ basis_cont\n",
    "\n",
    "plt.scatter(*anchors)\n",
    "plt.scatter(*trajectory,color='orange')\n",
    "plt.plot(*trajectory_cont,color='orange')\n",
    "\n",
    "plt.scatter(*trajectory_est,color='red')\n",
    "plt.plot(*trajectory_est_cont,color='red')\n",
    "#plt.axis('off')\n",
    "#plt.savefig('traj_rec.png')"
   ]
  },
  {
   "cell_type": "code",
   "execution_count": null,
   "metadata": {},
   "outputs": [],
   "source": [
    "np.set_printoptions(formatter={'float': lambda x: \"{0:0.2f}\".format(x)})\n",
    "tmp = D_right[:n_positions,:]\n",
    "print(tmp[mask[:n_positions,:]==1])\n",
    "print(mask[:n_positions,:]*tmp)\n",
    "\n",
    "tmp = D_right_missing[:n_positions,:]\n",
    "print(tmp[mask[:n_positions,:]==1])\n",
    "print(mask[:n_positions,:]*tmp)"
   ]
  },
  {
   "cell_type": "code",
   "execution_count": null,
   "metadata": {},
   "outputs": [],
   "source": []
  }
 ],
 "metadata": {
  "kernelspec": {
   "display_name": "Python 3",
   "language": "python",
   "name": "python3"
  },
  "language_info": {
   "codemirror_mode": {
    "name": "ipython",
    "version": 3
   },
   "file_extension": ".py",
   "mimetype": "text/x-python",
   "name": "python",
   "nbconvert_exporter": "python",
   "pygments_lexer": "ipython3",
   "version": "3.6.6"
  }
 },
 "nbformat": 4,
 "nbformat_minor": 2
}
