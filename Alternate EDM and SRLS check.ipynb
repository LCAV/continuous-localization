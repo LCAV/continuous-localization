{
 "cells": [
  {
   "cell_type": "code",
   "execution_count": null,
   "metadata": {},
   "outputs": [],
   "source": [
    "import numpy as np\n",
    "import matplotlib.pyplot as plt\n",
    "from EDMtools import *\n",
    "from SampTrajsTools import *\n",
    "%matplotlib inline"
   ]
  },
  {
   "cell_type": "code",
   "execution_count": null,
   "metadata": {},
   "outputs": [],
   "source": [
    "d=2 #dimension\n",
    "M=5 #number of anchors\n",
    "A = 10*np.random.rand(d,M)\n",
    "#A = np.array([[1,5,8,2],[5,4,7,9]])\n",
    "plt.scatter(A[0,:],A[1,:])"
   ]
  },
  {
   "cell_type": "code",
   "execution_count": null,
   "metadata": {},
   "outputs": [],
   "source": [
    "N=50 #number of robot sample positions\n",
    "K=4 #model complexity\n",
    "\n",
    "C = 5*np.random.rand(d,K)\n",
    "k=np.reshape(range(K),[K,1])\n",
    "n=np.reshape(range(N),[1,N])\n",
    "F = np.cos(np.pi*k*n/N)\n",
    "R = C@F\n",
    "\n",
    "#continuous trajectory for plotting\n",
    "n_cont=np.reshape(np.linspace(0,N,1000),[1,1000])\n",
    "F_cont = np.cos(np.pi*k*n_cont/N)\n",
    "R_cont = C@F_cont\n",
    "\n",
    "plt.scatter(A[0,:],A[1,:])\n",
    "plt.scatter(R[0,:],R[1,:],color='orange')\n",
    "plt.plot(R_cont[0,:],R_cont[1,:])\n",
    "#plt.axis('off')\n",
    "#plt.savefig('traj_setup.png')"
   ]
  },
  {
   "cell_type": "code",
   "execution_count": null,
   "metadata": {},
   "outputs": [],
   "source": [
    "X = np.hstack([R,A])\n",
    "G = X.transpose()@X\n",
    "D = np.outer(np.ones(N+M),np.diag(G))+np.outer(np.diag(G),np.ones(N+M))-2*G"
   ]
  },
  {
   "cell_type": "code",
   "execution_count": null,
   "metadata": {},
   "outputs": [],
   "source": [
    "D_tilde = D.copy()\n",
    "D_tilde[:N,:N] = 0\n",
    "DTR_tilde = D[:N,N:]"
   ]
  },
  {
   "cell_type": "code",
   "execution_count": null,
   "metadata": {},
   "outputs": [],
   "source": [
    "print(checkStationaryPointSRLS(A,F,C,DTR_tilde))"
   ]
  },
  {
   "cell_type": "code",
   "execution_count": null,
   "metadata": {},
   "outputs": [],
   "source": [
    "C_hat = customMDS(DTR_tilde, F, A)\n",
    "print(C_hat)\n",
    "print(C)"
   ]
  },
  {
   "cell_type": "code",
   "execution_count": null,
   "metadata": {},
   "outputs": [],
   "source": [
    "R_hat = C_hat@F\n",
    "R_hat_cont = C_hat@F_cont\n",
    "\n",
    "plt.scatter(A[0,:],A[1,:])\n",
    "plt.scatter(R[0,:],R[1,:])\n",
    "plt.scatter(R_hat[0,:],R_hat[1,:])\n",
    "plt.plot(R_cont[0,:],R_cont[1,:])\n",
    "plt.plot(R_hat_cont[0,:],R_hat_cont[1,:])\n",
    "plt.axis('off')"
   ]
  },
  {
   "cell_type": "markdown",
   "metadata": {},
   "source": [
    "### Noisy case"
   ]
  },
  {
   "cell_type": "code",
   "execution_count": null,
   "metadata": {},
   "outputs": [],
   "source": [
    "sigma = 40\n",
    "DTR_tilde = D[:N,N:]+sigma*np.random.randn(N,M)\n",
    "C_hat = customMDS(DTR_tilde+sigma*np.random.randn(N,M), F, A)\n",
    "print(C_hat)\n",
    "print(C)\n",
    "print(checkStationaryPointSRLS(A,F,C_hat,DTR_tilde))\n",
    "C_hat, costs = gradientDescent(A,F,C,DTR_tilde,maxIters=50)\n",
    "print(checkStationaryPointSRLS(A,F,C_hat,DTR_tilde))\n",
    "plt.plot(costs)"
   ]
  },
  {
   "cell_type": "code",
   "execution_count": null,
   "metadata": {},
   "outputs": [],
   "source": [
    "R_hat = C_hat@F\n",
    "R_hat_cont = C_hat@F_cont\n",
    "\n",
    "plt.scatter(A[0,:],A[1,:])\n",
    "plt.scatter(R[0,:],R[1,:])\n",
    "plt.scatter(R_hat[0,:],R_hat[1,:])\n",
    "plt.plot(R_cont[0,:],R_cont[1,:])\n",
    "plt.plot(R_hat_cont[0,:],R_hat_cont[1,:])"
   ]
  },
  {
   "cell_type": "markdown",
   "metadata": {},
   "source": [
    "### Missing measurements"
   ]
  },
  {
   "cell_type": "code",
   "execution_count": null,
   "metadata": {},
   "outputs": [],
   "source": [
    "sigma = 2\n",
    "DR = D[:,N:]\n",
    "W = np.ones([M+N,M])\n",
    "W[:N,:]*=np.random.rand(N,M)>0.9\n",
    "print(W)\n",
    "DR_tilde = W*DR\n",
    "DR_tilde[:N,:]+=sigma*np.random.randn(N,M)\n",
    "DR_hat, errs = alternateGDandKEonDR(DR_tilde, W, F, A, niter=400, DR_true=DR)\n",
    "plt.plot(errs)\n",
    "C_hat = customMDS(DR_hat[:N,:], F, A)\n",
    "print(C_hat)\n",
    "print(C)"
   ]
  },
  {
   "cell_type": "code",
   "execution_count": null,
   "metadata": {},
   "outputs": [],
   "source": [
    "R_hat = C_hat@F\n",
    "R_hat_cont = C_hat@F_cont\n",
    "\n",
    "plt.scatter(A[0,:],A[1,:])\n",
    "plt.scatter(R[0,:],R[1,:],color='orange')\n",
    "plt.scatter(R_hat[0,:],R_hat[1,:],color='green')\n",
    "plt.plot(R_cont[0,:],R_cont[1,:],color='orange')\n",
    "plt.plot(R_hat_cont[0,:],R_hat_cont[1,:],color='green')\n",
    "plt.axis('off')\n",
    "#plt.savefig('traj_rec_with_noise.png')"
   ]
  },
  {
   "cell_type": "code",
   "execution_count": null,
   "metadata": {},
   "outputs": [],
   "source": [
    "plt.scatter(A[0,:],A[1,:])\n",
    "plt.plot(R_cont[0,:],R_cont[1,:])\n",
    "R_useful = R[:,np.any(W[:N,:]!=0,axis=1)]\n",
    "plt.scatter(R_useful[0,:],R_useful[1,:])\n",
    "#plt.axis('off')\n",
    "#plt.savefig('traj_useful.png')"
   ]
  },
  {
   "cell_type": "code",
   "execution_count": null,
   "metadata": {},
   "outputs": [],
   "source": [
    "plt.scatter(A[0,:],A[1,:])\n",
    "plt.plot(R_cont[0,:],R_cont[1,:])\n",
    "for i in range(N):\n",
    "    if np.sum(W[i,:])==1:\n",
    "        plt.scatter(R[0,i],R[1,i],color='orange')\n",
    "        \n",
    "    if np.sum(W[i,:])==2:\n",
    "        plt.scatter(R[0,i],R[1,i],color='red')\n",
    "\n",
    "    if np.sum(W[i,:])>2:\n",
    "        plt.scatter(R[0,i],R[1,i],color='green')\n",
    "#plt.axis('off')\n",
    "#plt.savefig('traj_useful_colorcoded.png')"
   ]
  },
  {
   "cell_type": "code",
   "execution_count": null,
   "metadata": {},
   "outputs": [],
   "source": [
    "plt.plot(R_cont[0,:],R_cont[1,:])\n",
    "plt.scatter(8,6)\n",
    "plt.scatter(8,4,color='orange')\n",
    "plt.scatter(8,2,color='red')\n",
    "plt.scatter(8,0,color='green')\n",
    "#plt.axis('off')\n",
    "#plt.savefig('traj_key.png')"
   ]
  },
  {
   "cell_type": "code",
   "execution_count": null,
   "metadata": {},
   "outputs": [],
   "source": [
    "DR_tilde = W*DR\n",
    "DR_tilde[:N,:]+=sigma*np.random.randn(N,M)\n",
    "DR_hat, errs = alternateGDandKEonDR(DR_tilde, W, F, A, niter=300, DR_true=DR)\n",
    "plt.plot(errs)\n",
    "C_hat = customMDS(DR_hat[:N,:], F, A)"
   ]
  },
  {
   "cell_type": "code",
   "execution_count": null,
   "metadata": {},
   "outputs": [],
   "source": [
    "R_hat = C_hat@F\n",
    "R_hat_cont = C_hat@F_cont\n",
    "\n",
    "plt.scatter(A[0,:],A[1,:])\n",
    "plt.scatter(R[0,:],R[1,:],color='orange')\n",
    "plt.scatter(R_hat[0,:],R_hat[1,:],color='green')\n",
    "plt.plot(R_cont[0,:],R_cont[1,:],color='orange')\n",
    "plt.plot(R_hat_cont[0,:],R_hat_cont[1,:],color='green')\n",
    "#plt.axis('off')\n",
    "#plt.savefig('traj_rec.png')"
   ]
  },
  {
   "cell_type": "code",
   "execution_count": null,
   "metadata": {},
   "outputs": [],
   "source": [
    "np.set_printoptions(formatter={'float': lambda x: \"{0:0.2f}\".format(x)})\n",
    "tmp = DR[:N,:]\n",
    "print(tmp[W[:N,:]==1])\n",
    "print(W[:N,:]*tmp)\n",
    "\n",
    "tmp = DR_tilde[:N,:]\n",
    "print(tmp[W[:N,:]==1])\n",
    "print(W[:N,:]*tmp)"
   ]
  },
  {
   "cell_type": "code",
   "execution_count": null,
   "metadata": {},
   "outputs": [],
   "source": []
  }
 ],
 "metadata": {
  "kernelspec": {
   "display_name": "Python 3",
   "language": "python",
   "name": "python3"
  },
  "language_info": {
   "codemirror_mode": {
    "name": "ipython",
    "version": 3
   },
   "file_extension": ".py",
   "mimetype": "text/x-python",
   "name": "python",
   "nbconvert_exporter": "python",
   "pygments_lexer": "ipython3",
   "version": "3.5.2"
  }
 },
 "nbformat": 4,
 "nbformat_minor": 2
}
