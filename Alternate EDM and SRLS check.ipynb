{
 "cells": [
  {
   "cell_type": "code",
   "execution_count": null,
   "metadata": {},
   "outputs": [],
   "source": [
    "import numpy as np\n",
    "import matplotlib.pyplot as plt\n",
    "from EDMtools import *\n",
    "from SampTrajsTools import *\n",
    "%matplotlib inline\n",
    "%reload_ext autoreload\n",
    "%autoreload 2"
   ]
  },
  {
   "cell_type": "code",
   "execution_count": null,
   "metadata": {},
   "outputs": [],
   "source": [
    "dim = 2 #dimension\n",
    "n_anchors = 5 #number of anchors\n",
    "n_positions = 20 #number of robot sample positions\n",
    "n_complexity = 4 #model complexity"
   ]
  },
  {
   "cell_type": "code",
   "execution_count": null,
   "metadata": {},
   "outputs": [],
   "source": [
    "np.random.seed(1)\n",
    "coeffs = 5 * np.random.rand(dim, n_complexity)\n",
    "anchors = 10 * np.random.rand(dim, n_anchors)\n",
    "\n",
    "\n",
    "k=np.reshape(range(n_complexity), [n_complexity, 1])\n",
    "n=np.reshape(range(n_positions), [1, n_positions])\n",
    "basis = np.cos(np.pi * k * n / n_positions)\n",
    "\n",
    "trajectory = coeffs @ basis\n",
    "\n",
    "#continuous trajectory for plotting\n",
    "n_cont=np.reshape(np.linspace(0, n_positions, 1000), [1, 1000])\n",
    "basis_cont = np.cos(np.pi * k * n / n_positions)\n",
    "trajectory_cont = coeffs @ basis_cont\n",
    "\n",
    "plt.scatter(*anchors, color='blue')\n",
    "plt.scatter(*trajectory,color='orange')\n",
    "plt.plot(*trajectory_cont, color='orange')\n",
    "#plt.axis('off')\n",
    "#plt.savefig('traj_setup.png')"
   ]
  },
  {
   "cell_type": "code",
   "execution_count": null,
   "metadata": {},
   "outputs": [],
   "source": [
    "#EDM stuff\n",
    "X = np.hstack([trajectory,anchors])\n",
    "G = X.T @ X\n",
    "D = np.outer(np.ones(n_positions + n_anchors),np.diag(G))+np.outer(np.diag(G),np.ones(n_positions+n_anchors))-2*G"
   ]
  },
  {
   "cell_type": "code",
   "execution_count": null,
   "metadata": {},
   "outputs": [],
   "source": [
    "D_tilde = D.copy()\n",
    "D_tilde[:n_positions,:n_positions] = 0\n",
    "plt.matshow(D_tilde)\n",
    "D_topright = D[:n_positions,n_positions:] "
   ]
  },
  {
   "cell_type": "markdown",
   "metadata": {},
   "source": [
    "## SDP - based approach\n",
    "### Noiseless case"
   ]
  },
  {
   "cell_type": "code",
   "execution_count": null,
   "metadata": {},
   "outputs": [],
   "source": [
    "print(\"Make sure that your cvxpy version is >= 1.0.6!\")\n",
    "import cvxpy\n",
    "print(\"Your version:\", cvxpy.__version__)\n",
    "\n",
    "from SampTrajsTools import OPTIONS\n",
    "\n",
    "# We cane change the global variable OPTIONS here. \n",
    "\n",
    "#OPTIONS[cvxpy.SCS][\"max_iters\"] = 200\n",
    "# Seems to have no effect: \n",
    "#OPTIONS[cvxpy.SCS][\"use_indirect\"] = False \n",
    "# Seems to have no effect either: \n",
    "#OPTIONS[cvxpy.SCS][\"eps\"] = 1e-1\n",
    "# Seems to have no effect either: \n",
    "#OPTIONS[cvxpy.SCS][\"scale\"] = 1\n",
    "\n",
    "\n",
    "# Fails completely without this:\n",
    "OPTIONS[cvxpy.CVXOPT][\"kktsolver\"] = \"robust\"\n",
    "\n",
    "# have no effect:\n",
    "OPTIONS[cvxpy.CVXOPT][\"feastol\"] = 1e-1\n",
    "OPTIONS[cvxpy.CVXOPT][\"reltol\"] = 1e-1\n",
    "OPTIONS[cvxpy.CVXOPT][\"abstol\"] = 1e-1\n",
    "\n",
    "# leads to faster non-convergence: \n",
    "OPTIONS[cvxpy.CVXOPT][\"refinement\"] = 0\n",
    "\n",
    "\n",
    "X = semidefRelaxationNoiseless(D_topright, anchors, basis, cvxpy.CVXOPT)\n",
    "#X = semidefRelaxation(D_topright, anchors, basis)"
   ]
  },
  {
   "cell_type": "markdown",
   "metadata": {},
   "source": [
    "## MDS - based approach\n",
    "### Noiseless case"
   ]
  },
  {
   "cell_type": "code",
   "execution_count": null,
   "metadata": {},
   "outputs": [],
   "source": [
    "# find new coefficients\n",
    "coeffs_est = customMDS(D_topright, basis, anchors)\n",
    "print(coeffs_est)\n",
    "print(coeffs)"
   ]
  },
  {
   "cell_type": "code",
   "execution_count": null,
   "metadata": {},
   "outputs": [],
   "source": [
    "trajectory_est = coeffs_est @ basis\n",
    "trajectory_est_cont = coeffs_est @ basis_cont\n",
    "\n",
    "plt.scatter(*anchors)\n",
    "plt.scatter(*trajectory, color='orange', label='true')\n",
    "plt.plot(*trajectory_cont, color='orange')\n",
    "plt.scatter(*trajectory_est, color = 'red', label='estimated')\n",
    "plt.plot(*trajectory_est_cont, color='red')\n",
    "plt.axis('off')"
   ]
  },
  {
   "cell_type": "markdown",
   "metadata": {},
   "source": [
    "### Noisy case"
   ]
  },
  {
   "cell_type": "code",
   "execution_count": null,
   "metadata": {},
   "outputs": [],
   "source": [
    "sigma = 4\n",
    "\n",
    "#state = np.random.RandomState(1)\n",
    "np.random.seed(1)\n",
    "\n",
    "D_topright_noisy = D_topright + sigma * np.random.randn(*(D_topright.shape))\n",
    "coeffs_est_noisy = customMDS(D_topright_noisy, basis, anchors)\n",
    "\n",
    "coeffs_est_noisy, costs = gradientDescent(\n",
    "    anchors, basis, coeffs_est_noisy, \n",
    "    D_topright_noisy,maxIters=50)\n",
    "#print(checkStationaryPointSRLS(A,F,C_hat,DTR_tilde))\n",
    "#plt.plot(costs)"
   ]
  },
  {
   "cell_type": "code",
   "execution_count": null,
   "metadata": {},
   "outputs": [],
   "source": [
    "trajectory_est_noisy = coeffs_est_noisy @ basis\n",
    "trajectory_est_noisy_cont = coeffs_est_noisy @ basis_cont\n",
    "\n",
    "plt.scatter(*anchors, color='blue')\n",
    "plt.plot(*trajectory_cont, color='orange')\n",
    "plt.scatter(*trajectory_est_noisy, color='red')\n",
    "plt.plot(*trajectory_est_noisy_cont, color='red')"
   ]
  },
  {
   "cell_type": "markdown",
   "metadata": {},
   "source": [
    "### Missing measurements\n",
    "\n",
    "missing measurements between anchors, and between anchors and robot"
   ]
  },
  {
   "cell_type": "code",
   "execution_count": null,
   "metadata": {},
   "outputs": [],
   "source": [
    "np.random.seed(1)\n",
    "\n",
    "sigma = 2\n",
    "missing_proportion = 0.9\n",
    "\n",
    "D_right = D[:,n_positions:]\n",
    "mask = np.ones(D_right.shape)\n",
    "\n",
    "mask[:n_positions, :] *= (np.random.rand(n_positions,n_anchors)>missing_proportion)\n",
    "D_right_missing = mask * D_right\n",
    "\n",
    "# TODO: why are anchor positions not noisy? \n",
    "np.random.seed(1)\n",
    "D_right_missing[:n_positions,:] += sigma * np.random.randn(n_positions, n_anchors)\n",
    "D_right_est, errs = alternateGDandKEonDR(D_right_missing, mask, basis, anchors, \n",
    "                                    niter=40, DR_true=D_right)\n",
    "plt.plot(errs)\n",
    "coeffs_est_missing = customMDS(D_right_est[:n_positions,:], basis, anchors)\n",
    "#print(C_hat)\n",
    "#print(C)"
   ]
  },
  {
   "cell_type": "code",
   "execution_count": null,
   "metadata": {},
   "outputs": [],
   "source": [
    "trajectory_est_missing = coeffs_est_missing @ basis\n",
    "trajectory_est_missing_cont = coeffs_est_missing @ basis_cont\n",
    "\n",
    "plt.scatter(*anchors, color='blue')\n",
    "#plt.scatter(*trajectory, color='orange')\n",
    "plt.plot(*trajectory_cont, color='orange')\n",
    "plt.scatter(*trajectory_est_missing, color='red')\n",
    "plt.plot(*trajectory_est_missing_cont, color='red')\n",
    "plt.axis('off')\n",
    "#plt.savefig('traj_rec_with_noise.png')"
   ]
  },
  {
   "cell_type": "code",
   "execution_count": null,
   "metadata": {},
   "outputs": [],
   "source": [
    "plt.scatter(*anchors, color='blue')\n",
    "plt.plot(*trajectory_cont, color='orange')\n",
    "trajectory_useful = trajectory[:,np.any(mask[:n_positions,:]!=0,axis=1)]\n",
    "plt.scatter(*trajectory_useful, color='orange')\n",
    "#plt.axis('off')\n",
    "#plt.savefig('traj_useful.png')"
   ]
  },
  {
   "cell_type": "code",
   "execution_count": null,
   "metadata": {},
   "outputs": [],
   "source": [
    "plt.figure()\n",
    "plt.scatter(*anchors)\n",
    "plt.plot(*trajectory_cont, color='orange')\n",
    "for i in range(n_positions):\n",
    "    point = trajectory[:, i]\n",
    "    if np.sum(mask[i,:])==1:\n",
    "        plt.scatter(*point,color='orange')\n",
    "    if np.sum(mask[i,:])==2:\n",
    "        plt.scatter(*point,color='red')\n",
    "    if np.sum(mask[i,:])>2:\n",
    "        plt.scatter(*point,color='green')\n",
    "plt.scatter(-2.8,6)\n",
    "plt.scatter(-2.8,5,color='orange')\n",
    "plt.scatter(-2.8,4,color='red')\n",
    "plt.scatter(-2.8,3,color='green')\n",
    "#plt.axis('off')\n",
    "#plt.legend()\n",
    "#plt.savefig('traj_useful_colorcoded.png')"
   ]
  },
  {
   "cell_type": "code",
   "execution_count": null,
   "metadata": {},
   "outputs": [],
   "source": [
    "D_right_est, errs = alternateGDandKEonDR(D_right_missing, \n",
    "                                    mask, basis, anchors, \n",
    "                                    niter=30, DR_true=D_right)\n",
    "plt.plot(errs)\n",
    "coeffs_est = customMDS(D_right_est[:n_positions,:], basis, anchors)"
   ]
  },
  {
   "cell_type": "code",
   "execution_count": null,
   "metadata": {},
   "outputs": [],
   "source": [
    "trajectory_est = coeffs_est @ basis\n",
    "trajectory_est_cont = coeffs_est @ basis_cont\n",
    "\n",
    "plt.scatter(*anchors)\n",
    "plt.scatter(*trajectory,color='orange')\n",
    "plt.plot(*trajectory_cont,color='orange')\n",
    "\n",
    "plt.scatter(*trajectory_est,color='red')\n",
    "plt.plot(*trajectory_est_cont,color='red')\n",
    "#plt.axis('off')\n",
    "#plt.savefig('traj_rec.png')"
   ]
  },
  {
   "cell_type": "code",
   "execution_count": null,
   "metadata": {},
   "outputs": [],
   "source": [
    "np.set_printoptions(formatter={'float': lambda x: \"{0:0.2f}\".format(x)})\n",
    "tmp = D_right[:n_positions,:]\n",
    "print(tmp[mask[:n_positions,:]==1])\n",
    "print(mask[:n_positions,:]*tmp)\n",
    "\n",
    "tmp = D_right_missing[:n_positions,:]\n",
    "print(tmp[mask[:n_positions,:]==1])\n",
    "print(mask[:n_positions,:]*tmp)"
   ]
  },
  {
   "cell_type": "code",
   "execution_count": null,
   "metadata": {},
   "outputs": [],
   "source": []
  }
 ],
 "metadata": {
  "kernelspec": {
   "display_name": "Python 3",
   "language": "python",
   "name": "python3"
  },
  "language_info": {
   "codemirror_mode": {
    "name": "ipython",
    "version": 3
   },
   "file_extension": ".py",
   "mimetype": "text/x-python",
   "name": "python",
   "nbconvert_exporter": "python",
   "pygments_lexer": "ipython3",
   "version": "3.5.2"
  }
 },
 "nbformat": 4,
 "nbformat_minor": 2
}
