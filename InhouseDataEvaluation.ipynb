{
 "cells": [
  {
   "cell_type": "markdown",
   "metadata": {},
   "source": [
    "# Inhouse data evaluation\n",
    "\n",
    "Evaluate the RTT and Tango measurements of our robot moving along given trajectories in BC329, at EPFL. See *experiments/robot_test* folder."
   ]
  },
  {
   "cell_type": "code",
   "execution_count": null,
   "metadata": {},
   "outputs": [],
   "source": [
    "import math\n",
    "import matplotlib.pyplot as plt\n",
    "import numpy as np\n",
    "import pandas as pd\n",
    "import seaborn as sns\n",
    "\n",
    "import os\n",
    "\n",
    "%matplotlib notebook\n",
    "%reload_ext autoreload\n",
    "%autoreload 2\n",
    "\n",
    "np.set_printoptions(precision=2)"
   ]
  },
  {
   "cell_type": "code",
   "execution_count": null,
   "metadata": {},
   "outputs": [],
   "source": [
    "#print(os.listdir('experiments/robot_test/'))\n",
    "\n",
    "in_model =  ['circle2_double.csv', \n",
    "             'circle3_triple.csv', \n",
    "             'clover.csv',\n",
    "             'eight2_double.csv', \n",
    "             'rounds.csv', \n",
    "             'straight1.csv', \n",
    "             'straight2.csv', \n",
    "             'straight3.csv', \n",
    "             'straight4.csv', \n",
    "             'straight5.csv', \n",
    "             'straight6.csv', \n",
    "             'triangle_double.csv']\n",
    "     \n",
    "out_of_model = ['pentagone_double.csv', \n",
    "                'walking.csv', \n",
    "                'stopping.csv',\n",
    "                'walking_circle1.csv', \n",
    "                'walking_circle2.csv', \n",
    "                'walking_circle3.csv']\n",
    "\n",
    "\n",
    "# TODO: currently we have analyzed only in_model. \n",
    "names = in_model\n",
    "#names = out_of_model\n",
    "\n",
    "datafile = 'experiments/robot_test/' + names[0]\n",
    "anchorsfile = 'experiments/anchors.csv'\n",
    "\n",
    "from global_variables import TANGO_SYSTEM_ID\n"
   ]
  },
  {
   "cell_type": "code",
   "execution_count": null,
   "metadata": {
    "scrolled": true
   },
   "outputs": [],
   "source": [
    "from evaluate_dataset import read_anchors_df\n",
    "anchors_df = read_anchors_df(anchorsfile)\n",
    "anchors_df.head()"
   ]
  },
  {
   "cell_type": "markdown",
   "metadata": {},
   "source": [
    "# Distance filtering"
   ]
  },
  {
   "cell_type": "markdown",
   "metadata": {},
   "source": [
    "## Resampling"
   ]
  },
  {
   "cell_type": "code",
   "execution_count": null,
   "metadata": {
    "deletable": false,
    "editable": false,
    "run_control": {
     "frozen": true
    },
    "scrolled": true
   },
   "outputs": [],
   "source": [
    "raise ValueError('Comment this out if you really want to regenerate results.')\n",
    "\n",
    "from evaluate_dataset import resample, read_dataset\n",
    "for name in names:#\n",
    "    datafile = 'experiments/robot_test/' + name\n",
    "    datafile_name = datafile.split('.')[0]\n",
    "    resample_name = datafile_name + '_resampled.pkl'\n",
    "    print('Creating new results.'.format(resample_name))\n",
    "\n",
    "    data_df = read_dataset(datafile, anchors_df)\n",
    "    tmax = data_df.timestamp.max()\n",
    "    tmin = data_df.timestamp.min()\n",
    "    resampled_df_rtt = resample(data_df, t_range=[tmin, tmax], t_delta=0.5, t_window=1.0, system_id='Range') \n",
    "    resampled_df_tango = resample(data_df, t_range=[tmin, tmax], t_delta=0.5, t_window=0.1, system_id='GT') \n",
    "    resampled_df = pd.concat((resampled_df_rtt, resampled_df_tango), ignore_index=True)\n",
    "    resampled_df.sort_values([\"timestamp\", \"anchor_name\"], inplace=True)\n",
    "    resampled_df.to_pickle(resample_name)\n",
    "    print('Saved as', resample_name)"
   ]
  },
  {
   "cell_type": "markdown",
   "metadata": {},
   "source": [
    "## Find calibration vs. trajectory times"
   ]
  },
  {
   "cell_type": "code",
   "execution_count": null,
   "metadata": {
    "scrolled": false
   },
   "outputs": [],
   "source": [
    "%matplotlib notebook\n",
    "from evaluate_dataset import read_correct_dataset\n",
    "\n",
    "# hard-coded time indices of datasets where automatic detection did not work. \n",
    "\n",
    "# We can do below either with the raw dat or with resampled data. \n",
    "use_raw = False # set True if you want to use raw data. Probably better to use resampled \n",
    "\n",
    "\n",
    "simplified = dict(\n",
    "    resampled = { # [start_idx, end_idx] for each trajectory bit.\n",
    "    'experiments/robot_test/circle3_triple.csv':[[67,155],[160, 250],[299,386]],\n",
    "    'experiments/robot_test/clover.csv':[[37, 382]], \n",
    "    'experiments/robot_test/eight2_double.csv': [[40, 412]]\n",
    "    }, \n",
    "    raw = {\n",
    "    'experiments/robot_test/circle3_triple.csv':[[67,155],[160, 250],[299,386]],\n",
    "    'experiments/robot_test/clover.csv':[[37, 382]], \n",
    "    'experiments/robot_test/eight2_double.csv': [[40, 412]]\n",
    "    }\n",
    ")\n",
    "\n",
    "\n",
    "for datafile in sorted(simplified.keys()):\n",
    "    print(\"not remaking unnecessary plots.\"); continue\n",
    "    # below was used to find above hardcoded values. \n",
    "    data_df = read_correct_dataset(datafile, anchors_df, use_raw)\n",
    "    \n",
    "    tango_df = data_df.loc[data_df.system_id==\"GT\"]\n",
    "    tango_df.loc[:, \"length\"] = get_length(tango_df)\n",
    "    \n",
    "    fig = plt.figure()\n",
    "    plt.plot(tango_df.index, tango_df.length)\n",
    "    plt.title(datafile)\n",
    "    plt.ylim([0, 0.1])"
   ]
  },
  {
   "cell_type": "code",
   "execution_count": null,
   "metadata": {
    "deletable": false,
    "editable": false,
    "run_control": {
     "frozen": true
    }
   },
   "outputs": [],
   "source": [
    "raise ValueError('Comment this out if you really want to regenerate results.')\n",
    "\n",
    "%matplotlib inline\n",
    "import json\n",
    "\n",
    "from evaluate_dataset import find_start_times, find_end_times\n",
    "from evaluate_dataset import get_length, find_calibration_data\n",
    "\n",
    "\n",
    "for name in names:\n",
    "    \n",
    "    # calibration_data will store the start and end times of the calibration dataset.\n",
    "    # for example, calibration_data[10] = [t1, t2] means that for the trajectory\n",
    "    # starting at index 10, the times between t1 and t2 are valid calibration times. \n",
    "    calibration_data = {\n",
    "         'calibration':[],\n",
    "         'trajectory':[]\n",
    "    }\n",
    "    \n",
    "    datafile = 'experiments/robot_test/' + name\n",
    "    datafile_root = datafile.split('.')[0]\n",
    "    data_df = read_correct_dataset(datafile, anchors_df, use_raw)\n",
    "\n",
    "    tango_df = data_df.loc[data_df.system_id==\"GT\"]\n",
    "    tango_df.loc[:, \"length\"] = get_length(tango_df, plot=False)\n",
    "    print(len(tango_df.length))\n",
    "    \n",
    "    plt.figure()\n",
    "    plt.plot(tango_df.timestamp, tango_df.length)\n",
    "    plt.title(datafile_root)\n",
    "    \n",
    "    \n",
    "    simplified_picked = simplified['raw'] if use_raw else simplified['resampled']\n",
    "\n",
    "    if datafile in simplified_picked.keys():\n",
    "        print('using simplified calculation for', datafile_root)\n",
    "        \n",
    "        times = tango_df.timestamp.values\n",
    "        \n",
    "        tuples = simplified_picked[datafile] # [start_move, end_move]\n",
    "        start_indices = sorted([t[0] for t in tuples])\n",
    "        end_indices = sorted([t[1] for t in tuples])\n",
    "        \n",
    "        calibration_data['calibration'].append([times[0], times[start_indices[0]]])\n",
    "        calibration_data['trajectory'].append([times[start_indices[0]], times[end_indices[0]]])\n",
    "        for s, e1, e2 in zip(start_indices[1:], end_indices[:-1], end_indices[1:]):\n",
    "            calibration_data['calibration'].append([times[e1], times[s]])\n",
    "            calibration_data['trajectory'].append([times[s], times[e2]])\n",
    "    else:\n",
    "        start_times, start_indices = find_start_times(tango_df, plot=False)\n",
    "        end_times, end_indices = find_end_times(tango_df, plot=False)\n",
    "        calibration_data = find_calibration_data(tango_df, start_times, start_indices)\n",
    "        calibration_data['trajectory'][-1][1] = end_times[-1]\n",
    "        \n",
    "    print(calibration_data)\n",
    "    for idx, [start_time, end_time] in enumerate(calibration_data['calibration']):\n",
    "        plt.plot([start_time, start_time], [tango_df.length.min(), tango_df.length.max()], \n",
    "                 color='green')\n",
    "        plt.plot([end_time, end_time], [tango_df.length.min(), tango_df.length.max()], \n",
    "                 color='orange')\n",
    "    for idx, [__, end_time] in enumerate(calibration_data['trajectory']):\n",
    "        plt.plot([end_time, end_time], [tango_df.length.min(), tango_df.length.max()], \n",
    "                 color='red')\n",
    "        \n",
    "    timesfile = datafile_root + '_times.json'\n",
    "    with open(timesfile, 'w+') as file:\n",
    "        valid_data = calibration_data\n",
    "        json.dump(valid_data, file)\n",
    "    print('saved as ', timesfile)"
   ]
  },
  {
   "cell_type": "markdown",
   "metadata": {},
   "source": [
    "## Calibrate distances"
   ]
  },
  {
   "cell_type": "code",
   "execution_count": null,
   "metadata": {
    "deletable": false,
    "editable": false,
    "run_control": {
     "frozen": true
    },
    "scrolled": true
   },
   "outputs": [],
   "source": [
    "raise ValueError('Comment this out if you really want to regenerate results.')\n",
    "import json\n",
    "from evaluate_dataset import apply_calibrate\n",
    "\n",
    "for name in names:\n",
    "    datafile = 'experiments/robot_test/' + name\n",
    "    datafile_root = datafile.split('.')[0]\n",
    "    data_df = read_correct_dataset(datafile, anchors_df, use_raw)\n",
    "   \n",
    "    timesfile = datafile_root + '_times.json'\n",
    "    with open(timesfile, 'r') as file:\n",
    "        calibration_data = json.load(file)\n",
    "        \n",
    "    ########### Calibrate using the available \n",
    "    print('calibrating {}....'.format(datafile_root))\n",
    "    rtt_df = data_df[data_df.system_id=='Range']\n",
    "    \n",
    "    # calculate offsets\n",
    "    calib_dict = dict() \n",
    "    for i, (anchor_name, df) in enumerate(rtt_df.groupby('anchor_name')):\n",
    "        print(df.columns)\n",
    "        errors = df.distance.values - df.distance_gt.values\n",
    "        calib_dict[anchor_name] = dict(all_mean=np.mean(errors), all_median=np.median(errors))\n",
    "        \n",
    "    # calibrate distances\n",
    "    data_df.loc[:, 'distance_mean_all'] = data_df.apply(lambda row: apply_calibrate(row, calib_dict, 'all_mean'), axis=1)\n",
    "    data_df.loc[:, 'distance_median_all'] = data_df.apply(lambda row: apply_calibrate(row, calib_dict, 'all_median'), axis=1)\n",
    "    \n",
    "    \n",
    "    for j in range(len(calibration_data['calibration'])): \n",
    "        (start_calib, end_calib) = calibration_data['calibration'][j]\n",
    "        (start_traj, end_traj) = calibration_data['trajectory'][j]\n",
    "        # calculate offsets\n",
    "        calib_dict = dict()\n",
    "        for i, (anchor_name, df) in enumerate(rtt_df.groupby('anchor_name')):\n",
    "            df = df[(df.timestamp >= start_calib) & (df.timestamp <= end_calib)]\n",
    "            errors = df.distance.values - df.distance_gt.values\n",
    "            calib_dict[anchor_name] = dict(mean=np.mean(errors),  median=np.median(errors))\n",
    "\n",
    "        # calibrate distances\n",
    "        data_df.loc[:, 'distance_mean_{}'.format(j)] = data_df.apply(lambda row: apply_calibrate(row, calib_dict, 'mean'), axis=1)\n",
    "        data_df.loc[:, 'distance_median_{}'.format(j)] = data_df.apply(lambda row: apply_calibrate(row, calib_dict, 'median'), axis=1)\n",
    "        \n",
    "        reduced_df = data_df[(data_df.timestamp >= start_traj) & (data_df.timestamp <= end_traj)]\n",
    "        reduced_name = '{}_{}_calibrated.pkl'.format(datafile_root, j)\n",
    "        reduced_df.to_pickle(reduced_name)\n",
    "        print('saved as', reduced_name)\n",
    "        \n",
    "    calibrate_name = datafile_root + '_calibrated.pkl'\n",
    "    data_df.to_pickle(calibrate_name)\n",
    "    print('saved as', calibrate_name)"
   ]
  },
  {
   "cell_type": "markdown",
   "metadata": {},
   "source": [
    "## Calibrate using static positions"
   ]
  },
  {
   "cell_type": "code",
   "execution_count": null,
   "metadata": {},
   "outputs": [],
   "source": [
    "# TODO use calib1-calib5 datasets for calibration. Not sure if we want to do this, \n",
    "# but it could be a more realistic calibration variant compared to the others."
   ]
  },
  {
   "cell_type": "markdown",
   "metadata": {},
   "source": [
    "# Plot results\n",
    "\n",
    "### Run below cell first. Then, either inspect individual plots, or jumping down to regenerating all plots. "
   ]
  },
  {
   "cell_type": "code",
   "execution_count": null,
   "metadata": {},
   "outputs": [],
   "source": [
    "%matplotlib inline\n",
    "\n",
    "from plotting_tools import make_dirs_safe, read_plot_df\n",
    "\n",
    "name = names[0]\n",
    "name = 'circle3_triple_2'\n",
    "\n",
    "out_dir = 'experiments/robot_test/plots/'\n",
    "make_dirs_safe(out_dir)\n",
    "print('will save under', out_dir)\n",
    "\n",
    "data_df, plot_df = read_plot_df(name)\n",
    "plot_df.head()"
   ]
  },
  {
   "cell_type": "code",
   "execution_count": null,
   "metadata": {},
   "outputs": [],
   "source": [
    "data_df.head()"
   ]
  },
  {
   "cell_type": "code",
   "execution_count": null,
   "metadata": {},
   "outputs": [],
   "source": [
    "from plotting_tools import plot_cdfs\n",
    "\n",
    "filename = '{}{}_cdfs.png'.format(out_dir, name.split('.')[0])\n",
    "print(filename)\n",
    "plot_cdfs(plot_df)"
   ]
  },
  {
   "cell_type": "code",
   "execution_count": null,
   "metadata": {},
   "outputs": [],
   "source": [
    "from plotting_tools import plot_times\n",
    "\n",
    "plot_times(plot_df)"
   ]
  },
  {
   "cell_type": "code",
   "execution_count": null,
   "metadata": {},
   "outputs": [],
   "source": [
    "from plotting_tools import plot_rssis\n",
    "        \n",
    "plot_rssis(plot_df)"
   ]
  },
  {
   "cell_type": "code",
   "execution_count": null,
   "metadata": {},
   "outputs": [],
   "source": [
    "from plotting_tools import plot_tango_components\n",
    "\n",
    "plot_tango_components(data_df)"
   ]
  },
  {
   "cell_type": "code",
   "execution_count": null,
   "metadata": {},
   "outputs": [],
   "source": [
    "from plotting_tools import plot_tango_2d\n",
    "    \n",
    "plot_tango_2d(data_df, anchors_df, '')"
   ]
  },
  {
   "cell_type": "markdown",
   "metadata": {},
   "source": [
    "## (can directly jump here) Plot all and save"
   ]
  },
  {
   "cell_type": "code",
   "execution_count": null,
   "metadata": {
    "deletable": false,
    "editable": false,
    "run_control": {
     "frozen": true
    },
    "scrolled": true
   },
   "outputs": [],
   "source": [
    "for name in names:\n",
    "    data_df, plot_df = read_plot_df(name)\n",
    "    \n",
    "    pure_name = name.split('.')[0]\n",
    "    \n",
    "    skeleton = out_dir + '{}_{}.png'\n",
    "    plot_cdfs(plot_df, skeleton.format('cdf', pure_name))\n",
    "    plot_times(plot_df, skeleton.format('time', pure_name))\n",
    "    plot_tango_components(data_df, skeleton.format('tango_components', pure_name))\n",
    "    plot_tango_2d(data_df, anchors_df=anchors_df, filename=skeleton.format('tango_2d', pure_name))\n",
    "    \n",
    "    plot_cdfs(plot_df, skeleton.format(pure_name, 'cdf'))\n",
    "    plot_times(plot_df, skeleton.format(pure_name, 'time'))\n",
    "    plot_tango_components(data_df, skeleton.format(pure_name, 'tango_components'))\n",
    "    plot_tango_2d(data_df, anchors_df=anchors_df, filename=skeleton.format(pure_name, 'tango_2d'))"
   ]
  },
  {
   "cell_type": "markdown",
   "metadata": {},
   "source": [
    "# (in beta-stage) Position prediction"
   ]
  },
  {
   "cell_type": "code",
   "execution_count": null,
   "metadata": {},
   "outputs": [],
   "source": [
    "from trajectory_creator import get_trajectory\n",
    "from evaluate_dataset import get_length, find_start_times, find_end_times\n",
    "\n",
    "# TODO read the correct trajectory\n",
    "name = 'circle2_double.csv'\n",
    "datafile = 'experiments/robot_test/'\n",
    "data_df, plot_df = read_plot_df(name)\n",
    "tango_df = data_df[data_df.system_id=='GT']\n",
    "\n",
    "\n",
    "print(datafile, simplified)\n",
    "if datafile in simplified.keys():\n",
    "    print('using simplified.')\n",
    "    tuples = simplified[datafile]\n",
    "    start_indices = [t[0] for t in tuples]\n",
    "    end_indices = [t[1] for t in tuples]\n",
    "    print(start_indices, end_indices)\n",
    "else:\n",
    "    start_times, start_indices = find_start_times(tango_df, plot=False)\n",
    "    end_times, end_indices = find_end_times(tango_df, plot=False)\n",
    "\n",
    "print(name)\n",
    "trajectory = get_trajectory(name)\n",
    "\n",
    "df_predicted = pd.DataFrame(index=range(len(tango_df)), columns=[\"px\", \"py\", \"pz\", \"timestamp\", \"model_timestamp\"])\n",
    "df_predicted.loc[:, \"timestamp\"] = tango_df.timestamp\n",
    "df_predicted.reset_index(inplace=True, drop=True)\n",
    "\n",
    "tango_df.loc[:, \"length\"] = get_length(tango_df)\n",
    "\n",
    "previous_end = 0\n",
    "for i in range(len(start_indices)):\n",
    "    i0 = start_indices[i]\n",
    "    iN = end_indices[i]\n",
    "    \n",
    "    indices = np.arange(i0, iN)\n",
    "    \n",
    "    # TODO we are relying on tango-lengths here instead of constant velocity. \n",
    "    # should be changed. \n",
    "    \n",
    "    lengths = tango_df.length.values[indices]\n",
    "    \n",
    "    distances = np.cumsum(lengths)\n",
    "    times, _, _  = trajectory.get_times_from_distances(arbitrary_distances=distances, plot=False)\n",
    "    \n",
    "    basis = trajectory.get_basis(times=times)\n",
    "    points = trajectory.get_sampling_points(basis=basis)\n",
    "    \n",
    "    plt.figure()\n",
    "    trajectory.plot(basis=basis)\n",
    "    plt.scatter(points[0, :], points[1, :])\n",
    "    plt.axis('equal')\n",
    "    \n",
    "    df_predicted.loc[i0:iN-1, [\"px\", \"py\"]] = points.T\n",
    "    df_predicted.loc[i0:iN-1, \"model_timestamp\"] = times\n",
    "    \n",
    "    # fill also the stationary points:\n",
    "    df_predicted.loc[previous_end:i0, [\"px\", \"py\"]] = points.T[0]\n",
    "    df_predicted.loc[iN:-1, [\"px\", \"py\"]] = points.T[-1]\n",
    "    previous_end = iN\n",
    "df_predicted.loc[:, \"pz\"] = 0.0"
   ]
  },
  {
   "cell_type": "code",
   "execution_count": null,
   "metadata": {},
   "outputs": [],
   "source": [
    "plt.figure()\n",
    "sns.scatterplot(data=df_predicted, x='px', y='py', hue='timestamp', \n",
    "               linewidth=0.0, alpha=0.1)\n",
    "df_predicted.head()"
   ]
  },
  {
   "cell_type": "markdown",
   "metadata": {},
   "source": [
    "### Rotation and translation example"
   ]
  },
  {
   "cell_type": "code",
   "execution_count": null,
   "metadata": {},
   "outputs": [],
   "source": [
    "from evaluate_dataset import match_reference\n",
    "p = np.array([df_predicted.px.values, df_predicted.py.values], dtype=float)\n",
    "R = np.array([tango_df.px.values, tango_df.py.values], dtype=float)\n",
    "R = R[:, ~np.isnan(p).any(axis=0)]\n",
    "p = p[:, ~np.isnan(p).any(axis=0)]\n",
    "\n",
    "rotated, _ = match_reference(R, p)\n",
    "plt.plot(R[0], R[1], \"o\", label=\"Tango\", alpha=0.3)\n",
    "plt.plot(p[0], p[1], \"o\", label=\"expected\", alpha=0.3)\n",
    "plt.plot(rotated[0], rotated[1], \"o\", label=\"expected to Tango\", alpha=0.3)\n",
    "plt.axis('equal')\n",
    "plt.legend()\n",
    "plt.show()"
   ]
  },
  {
   "cell_type": "markdown",
   "metadata": {},
   "source": [
    "# Additional processing \n",
    "\n",
    "## This used to be useful. Could probably be deleted at some point."
   ]
  },
  {
   "cell_type": "code",
   "execution_count": null,
   "metadata": {
    "scrolled": true
   },
   "outputs": [],
   "source": [
    "from evaluate_dataset import add_median_raw, add_median_raw_rolling\n",
    "from evaluate_dataset import read_dataset\n",
    "import time\n",
    "\n",
    "data_df = read_dataset(datafile + 'circle2_double.csv', anchors_df)\n",
    "data_df.head()\n",
    "\n",
    "# Our (centered) way\n",
    "t1 = time.time()\n",
    "data_df = add_median_raw(data_df)\n",
    "print(\"took {:.2f} seconds.\".format(time.time() - t1))\n",
    "\n",
    "# Alternative (non-centered) way. \n",
    "t1 = time.time()\n",
    "data_df = add_median_raw_rolling(data_df)\n",
    "print(\"took {:.2f} seconds.\".format(time.time() - t1))"
   ]
  },
  {
   "cell_type": "code",
   "execution_count": null,
   "metadata": {},
   "outputs": [],
   "source": [
    "%matplotlib inline \n",
    "\n",
    "from evaluate_dataset import add_gt_raw, apply_distance_gt\n",
    "#data_df = add_gt_raw(data_df)\n",
    "data_df.loc[:, \"distance_gt\"] = data_df.apply(lambda row: apply_distance_gt(row, anchors_df), axis=1)\n",
    "fg = sns.FacetGrid(data_df, col='anchor_name', col_wrap=4, col_order=sorted(data_df.anchor_name.unique()))\n",
    "fg.map(plt.plot, 'timestamp', 'distance')\n",
    "fg.map(plt.plot, 'timestamp', 'distance_gt')\n",
    "\n",
    "def plot_distances(data_df):\n",
    "    import itertools\n",
    "    colors = itertools.cycle(plt.get_cmap('tab10').colors)\n",
    "    rtt_ids = anchors_df[anchors_df.system_id=='Range'].anchor_id.unique()\n",
    "    fig, axs = plt.subplots(1, len(rtt_ids), sharey=True)\n",
    "    fig.set_size_inches(15, 5)\n",
    "    for ax, anchor_id in zip(axs, rtt_ids):\n",
    "        color = next(colors)\n",
    "        data = data_df[data_df.anchor_id==anchor_id]\n",
    "        anchor_name = anchors_df.loc[anchors_df.anchor_id==anchor_id, 'anchor_name']\n",
    "        ax.plot(data.timestamp, data.distance_gt, linestyle=':', label=anchor_name, color=color)\n",
    "        ax.plot(data.timestamp, data.distance, linestyle='-', color=color)\n",
    "        ax.set_ylim(0, 15)\n",
    "    \n",
    "plot_distances(data_df)\n",
    "plt.show()"
   ]
  },
  {
   "cell_type": "code",
   "execution_count": null,
   "metadata": {
    "scrolled": false
   },
   "outputs": [],
   "source": [
    "from evaluate_dataset import convert_room_to_robot\n",
    "\n",
    "import os\n",
    "folder = 'experiments/robot_test/'\n",
    "file_list = os.listdir(folder)\n",
    "plt.figure()\n",
    "\n",
    "end_points_lines_room = np.array([\n",
    "    [5.046, 5.615, 0.0],\n",
    "    [4.869, 4.231, 0.0],\n",
    "    [5.870, 1.830, 0.0],\n",
    "    [4.254, 1.567, 0.0],\n",
    "    [2.924, 1.867, 0.0],\n",
    "    [1.198, 1.416, 0.0]]).T\n",
    "start_point_room = np.array([1.034, 5.410, 0.0]).reshape((3, 1))\n",
    "end_points_lines = convert_room_to_robot(end_points_lines_room)\n",
    "start_point = convert_room_to_robot(start_point_room)\n",
    "\n",
    "for datafile in sorted(file_list):\n",
    "    if datafile[-4:] != '.csv':\n",
    "        continue\n",
    "    if (datafile[:8] != 'straight') and (datafile[:5] != 'calib') or (datafile[:10] == 'calibratio'):\n",
    "        continue\n",
    "    data_df = pd.read_csv(folder + datafile)\n",
    "    #data_df.loc[:, 'seconds'] = (data_df.timestamp.values - data_df.timestamp.min()) / 1000. # in seconds\n",
    "    data = data_df[data_df.system_id==TANGO_SYSTEM_ID]\n",
    "    sns.scatterplot(data=data, x='px', y='py', label=datafile, linewidth=0.0)\n",
    "\n",
    "plt.scatter(*start_point[:2], color='black', s=10.0)\n",
    "for end_point in end_points_lines.T:\n",
    "    print(end_point)\n",
    "    plt.scatter(*end_point[:2], color='black', s=5.0)\n",
    "    plt.plot([start_point[0], end_point[0]], [start_point[1], end_point[1]], color='black')\n",
    "    \n",
    "plt.axis('equal')\n",
    "plt.legend(loc='lower left', bbox_to_anchor=[0.8, 0])\n",
    "#plt.legend()\n",
    "#fill_ground_truth(data_df, current_gt=position)"
   ]
  },
  {
   "cell_type": "code",
   "execution_count": null,
   "metadata": {},
   "outputs": [],
   "source": []
  }
 ],
 "metadata": {
  "kernelspec": {
   "display_name": "Python 3",
   "language": "python",
   "name": "python3"
  },
  "language_info": {
   "codemirror_mode": {
    "name": "ipython",
    "version": 3
   },
   "file_extension": ".py",
   "mimetype": "text/x-python",
   "name": "python",
   "nbconvert_exporter": "python",
   "pygments_lexer": "ipython3",
   "version": "3.6.8"
  }
 },
 "nbformat": 4,
 "nbformat_minor": 2
}
