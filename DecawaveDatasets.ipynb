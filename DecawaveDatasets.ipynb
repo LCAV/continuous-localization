{
 "cells": [
  {
   "cell_type": "markdown",
   "metadata": {},
   "source": [
    "# Decawave processing"
   ]
  },
  {
   "cell_type": "code",
   "execution_count": null,
   "metadata": {},
   "outputs": [],
   "source": [
    "import matplotlib.pyplot as plt\n",
    "import matplotlib\n",
    "import numpy as np\n",
    "import pandas as pd\n",
    "import seaborn as sns\n",
    "\n",
    "%matplotlib inline\n",
    "%reload_ext autoreload\n",
    "%autoreload 2\n",
    "\n",
    "experiment_path = 'experiments/UWB/'\n",
    "\n",
    "#plt.rcParams['figure.figsize'] = 7, 3\n",
    "#matplotlib.rcParams['pdf.fonttype'] = 42\n",
    "#matplotlib.rcParams['ps.fonttype'] = 42\n",
    "\n",
    "# set the random seed so can reproduce when something didn't work. \n",
    "# (only when cells are run in order)\n",
    "np.random.seed(1)"
   ]
  },
  {
   "cell_type": "code",
   "execution_count": null,
   "metadata": {},
   "outputs": [],
   "source": [
    "anchors_df = pd.read_pickle(experiment_path + 'monday_anchors.pkl')\n",
    "data_df = pd.read_pickle(experiment_path + 'monday.pkl')"
   ]
  },
  {
   "cell_type": "code",
   "execution_count": null,
   "metadata": {},
   "outputs": [],
   "source": [
    "anchor_ids = anchors_df.anchor_id.unique()\n",
    "#nticks = 10\n",
    "fig, axs = plt.subplots(1, len(anchor_ids), sharey=True, sharex=True)\n",
    "fig.set_size_inches(10, 10/len(anchor_ids))\n",
    "for i, (chosen_anchor, ax) in enumerate(zip(anchor_ids, axs)):\n",
    "    plot_data = data_df[data_df.anchor_id==chosen_anchor]\n",
    "    sns.scatterplot(data=plot_data, x='time', y='distance', ax=ax, color=f'C{i}', \n",
    "                    style='quality')\n",
    "    #xticks = np.linspace(plot_data.time.min(), plot_data.time.max(), nticks)\n",
    "    #ax.set_xticks(xticks)\n",
    "    ax.set_title(f'anchor {chosen_anchor}')\n",
    "    ax.set_xlabel('time [s]')\n",
    "    ax.set_ylabel('distance [m]')"
   ]
  },
  {
   "cell_type": "code",
   "execution_count": null,
   "metadata": {},
   "outputs": [],
   "source": []
  }
 ],
 "metadata": {
  "kernelspec": {
   "display_name": "Python 3",
   "language": "python",
   "name": "python3"
  },
  "language_info": {
   "codemirror_mode": {
    "name": "ipython",
    "version": 3
   },
   "file_extension": ".py",
   "mimetype": "text/x-python",
   "name": "python",
   "nbconvert_exporter": "python",
   "pygments_lexer": "ipython3",
   "version": "3.6.8"
  }
 },
 "nbformat": 4,
 "nbformat_minor": 2
}
