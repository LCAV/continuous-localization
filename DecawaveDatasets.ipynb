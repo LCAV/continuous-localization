{
 "cells": [
  {
   "cell_type": "markdown",
   "metadata": {},
   "source": [
    "# Decawave processing"
   ]
  },
  {
   "cell_type": "code",
   "execution_count": null,
   "metadata": {},
   "outputs": [],
   "source": [
    "import matplotlib.pyplot as plt\n",
    "import matplotlib\n",
    "import numpy as np\n",
    "import pandas as pd\n",
    "import seaborn as sns\n",
    "\n",
    "%matplotlib inline\n",
    "%reload_ext autoreload\n",
    "%autoreload 2\n",
    "\n",
    "experiment_path = 'experiments/UWB/'\n",
    "\n",
    "#plt.rcParams['figure.figsize'] = 7, 3\n",
    "#matplotlib.rcParams['pdf.fonttype'] = 42\n",
    "#matplotlib.rcParams['ps.fonttype'] = 42\n",
    "\n",
    "# set the random seed so can reproduce when something didn't work. \n",
    "# (only when cells are run in order)\n",
    "np.random.seed(1)"
   ]
  },
  {
   "cell_type": "code",
   "execution_count": null,
   "metadata": {},
   "outputs": [],
   "source": [
    "experiment_name = 'monday'\n",
    "experiment_name = 'tuesday1'\n",
    "#experiment_name = 'tuesday2'\n",
    "\n",
    "try:\n",
    "    fname = f\"{experiment_path}/{experiment_name}_anchors.pkl\"\n",
    "    anchors_df = pd.read_pickle(fname)\n",
    "    print('read', fname)\n",
    "except FileNotFoundError:\n",
    "    fname = f\"{experiment_path}/{experiment_name[:-1]}_anchors.csv\"\n",
    "    anchors_df = pd.read_csv(fname, skipinitialspace=True)\n",
    "    print('read', fname)\n",
    "anchors_df.head()"
   ]
  },
  {
   "cell_type": "code",
   "execution_count": null,
   "metadata": {},
   "outputs": [],
   "source": [
    "data_df = pd.read_pickle(f\"{experiment_path}/{experiment_name}.pkl\")\n",
    "data_df.head()"
   ]
  },
  {
   "cell_type": "code",
   "execution_count": null,
   "metadata": {},
   "outputs": [],
   "source": [
    "anchor_ids = anchors_df.anchor_id.unique()\n",
    "#nticks = 10\n",
    "fig, axs = plt.subplots(1, len(anchor_ids), sharey=True, sharex=True)\n",
    "fig.set_size_inches(10, 10/len(anchor_ids))\n",
    "for i, (chosen_anchor, ax) in enumerate(zip(anchor_ids, axs)):\n",
    "    plot_data = data_df[data_df.anchor_id==chosen_anchor]\n",
    "    sns.scatterplot(data=plot_data, x='time', y='distance', ax=ax, color=f'C{i}')\n",
    "    #xticks = np.linspace(plot_data.time.min(), plot_data.time.max(), nticks)\n",
    "    #ax.set_xticks(xticks)\n",
    "    ax.set_title(f'anchor {chosen_anchor}')\n",
    "    ax.set_xlabel('time [s]')\n",
    "    ax.set_ylabel('distance [m]')"
   ]
  },
  {
   "cell_type": "code",
   "execution_count": null,
   "metadata": {},
   "outputs": [],
   "source": [
    "fig, ax = plt.subplots()\n",
    "sns.scatterplot(data=data_df, x='px', y='py', hue='anchor_id', hue_order=sorted(anchors_df.anchor_id), ax=ax, \n",
    "                size='time')\n",
    "anchors_df.sort_values('anchor_id', inplace=True)\n",
    "anchors_df.reset_index(inplace=True, drop=True)\n",
    "for __, anchor in anchors_df.iterrows():\n",
    "    ax.scatter(anchor.px, anchor.py, marker='x')\n",
    "#sns.scatterplot(data=anchors_df, x='px', y='py', hue='anchor_id', ax=ax, hue_order=sorted(anchors_df.anchor_id), \n",
    "#                legend=False, markers=['*'])\n",
    "ax.set_title('position plot'), ax.set_xlabel('x [m]'), ax.set_ylabel('y [m]')\n",
    "ax.legend(loc='lower left', bbox_to_anchor=(1.0, 0))\n",
    "ax.axis('equal')"
   ]
  },
  {
   "cell_type": "code",
   "execution_count": null,
   "metadata": {},
   "outputs": [],
   "source": []
  }
 ],
 "metadata": {
  "kernelspec": {
   "display_name": "Python 3",
   "language": "python",
   "name": "python3"
  },
  "language_info": {
   "codemirror_mode": {
    "name": "ipython",
    "version": 3
   },
   "file_extension": ".py",
   "mimetype": "text/x-python",
   "name": "python",
   "nbconvert_exporter": "python",
   "pygments_lexer": "ipython3",
   "version": "3.6.8"
  }
 },
 "nbformat": 4,
 "nbformat_minor": 2
}
