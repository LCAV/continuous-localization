{
 "cells": [
  {
   "cell_type": "code",
   "execution_count": null,
   "metadata": {},
   "outputs": [],
   "source": [
    "import numpy as np\n",
    "import matplotlib.pyplot as plt\n",
    "%matplotlib notebook\n",
    "%reload_ext autoreload\n",
    "%autoreload 2\n",
    "\n",
    "np.set_printoptions(precision=2)"
   ]
  },
  {
   "cell_type": "code",
   "execution_count": null,
   "metadata": {},
   "outputs": [],
   "source": [
    "from trajectory import Trajectory\n",
    "from environment import Environment\n",
    "from global_variables import DIM\n",
    "\n",
    "from measurements import create_mask, get_D_topright\n",
    "from solvers import alternativePseudoInverse, exactSolution\n",
    "\n",
    "n_anchors = 4 #number of anchors\n",
    "n_positions = 10 #number of robot sample positions\n",
    "n_complexity = 3 #model complexity\n",
    "\n",
    "trajectory = Trajectory(n_complexity, dim=DIM, model='polynomial')\n",
    "environment = Environment(n_anchors)\n",
    "\n",
    "basis = trajectory.get_basis(n_samples=n_positions)\n",
    "\n",
    "environment.set_random_anchors(seed=2)\n",
    "plt.figure()\n",
    "environment.plot()\n",
    "trajectory.plot(basis)"
   ]
  },
  {
   "cell_type": "markdown",
   "metadata": {},
   "source": [
    "A few first observations from cell below: \n",
    "\n",
    "* looks like when we use exactly K*D measurements, such as with strategy 'simple', there is almost never a unique solution.\n",
    "* when we add one more measurements, we get more unique solutions. \n",
    "* "
   ]
  },
  {
   "cell_type": "code",
   "execution_count": null,
   "metadata": {},
   "outputs": [],
   "source": [
    "n_it = 12\n",
    "\n",
    "## Problem: this actually returns garbage if the first estimate is not feasible. \n",
    "## See here: https://github.com/scipy/scipy/issues/7618\n",
    "#method = 'minimize'  \n",
    "\n",
    "# Problem: this returns the least squares estimate, but does not impose the quadratic constraints. \n",
    "# the residuals of this might be non-zero.\n",
    "method = 'least_squares'\n",
    "\n",
    "# Problem: produces memory error even for small problem size. \n",
    "#method = 'grid'\n",
    "\n",
    "# Problem: can only take into account exactly K*dim constraints. \n",
    "#method = 'roots'\n",
    "\n",
    "# the first point sees dim+1 anchors, the next K-2 points see the first two anchors, the Kth point sees only one. \n",
    "strategy = 'simple'\n",
    "\n",
    "\n",
    "for i in range(n_it):\n",
    "    # create random trajectory\n",
    "    trajectory.set_coeffs(seed=i)\n",
    "    basis = trajectory.get_basis(n_samples=n_positions)\n",
    "    sample_points = trajectory.get_sampling_points(basis=basis)\n",
    "\n",
    "    D_complete = get_D_topright(environment.anchors, sample_points)\n",
    "    mask = create_mask(n_positions, n_anchors, strategy=strategy, dim=DIM, n_complexity=n_complexity, seed=i)\n",
    "    D_missing = np.multiply(D_complete, mask)\n",
    "\n",
    "    try:\n",
    "        X = exactSolution(D_missing, environment.anchors, basis, method, verbose=True)\n",
    "        assert np.allclose(X, trajectory.coeffs, atol=1e-3)\n",
    "        \n",
    "        #X_noiseless = exactSolution(D_complete, environment.anchors, basis, method)\n",
    "        #assert np.allclose(X_noiseless, trajectory.coeffs)\n",
    "        print('Seed {} ok.'.format(i))\n",
    "        \n",
    "    except ValueError as e:\n",
    "        print('ValueError for seed {}:{}'.format(i, e))\n",
    "        \n",
    "    except AssertionError:\n",
    "        print('Result not exact for seed:', i)\n",
    "        #print('diff noiseless ok:', np.sum(np.abs(X_noiseless - trajectory.coeffs)) < 1e-10)\n",
    "        print('diff noisy:    ', X - trajectory.coeffs)\n",
    "        break\n",
    "        \n",
    "    except Exception as e:\n",
    "        print('Singular matrix for seed {}? Error message:'.format(i)) \n",
    "        raise e\n",
    "\n",
    "from exact_solution import objective_root\n",
    "print('objective_root found:')\n",
    "print(objective_root(X, environment.anchors, basis, D_missing))\n",
    "print('objective_root original:')\n",
    "print(objective_root(trajectory.coeffs, environment.anchors, basis, D_missing))"
   ]
  },
  {
   "cell_type": "code",
   "execution_count": null,
   "metadata": {},
   "outputs": [],
   "source": [
    "traj_second_solution = trajectory.copy()\n",
    "traj_second_solution.set_coeffs(coeffs=X)\n",
    "\n",
    "plt.figure()\n",
    "plt.title('plot of two ambiguous solutions')\n",
    "\n",
    "trajectory.plot(basis, mask=mask, color='green')\n",
    "trajectory.plot_connections(basis, environment.anchors, mask, color='k', linestyle=':', linewidth=0.5)\n",
    "trajectory.plot_number_measurements(basis, mask, legend=True)\n",
    "\n",
    "traj_second_solution.plot(basis, mask=mask, color='red')\n",
    "traj_second_solution.plot_connections(basis, environment.anchors, mask, color='k', linestyle=':', linewidth=0.5)\n",
    "traj_second_solution.plot_number_measurements(basis, mask, legend=False)\n",
    "environment.plot()\n",
    "environment.annotate()\n",
    "\n",
    "plt.axis('equal')\n",
    "#plt.xlim([0, 6])\n",
    "#plt.ylim([0, 6])"
   ]
  },
  {
   "cell_type": "code",
   "execution_count": null,
   "metadata": {},
   "outputs": [],
   "source": []
  }
 ],
 "metadata": {
  "kernelspec": {
   "display_name": "Python 3",
   "language": "python",
   "name": "python3"
  },
  "language_info": {
   "codemirror_mode": {
    "name": "ipython",
    "version": 3
   },
   "file_extension": ".py",
   "mimetype": "text/x-python",
   "name": "python",
   "nbconvert_exporter": "python",
   "pygments_lexer": "ipython3",
   "version": "3.5.2"
  }
 },
 "nbformat": 4,
 "nbformat_minor": 2
}
