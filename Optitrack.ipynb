{
 "cells": [
  {
   "cell_type": "code",
   "execution_count": null,
   "metadata": {},
   "outputs": [],
   "source": [
    "import matplotlib.pyplot as plt\n",
    "import matplotlib\n",
    "import numpy as np\n",
    "import pandas as pd\n",
    "import seaborn as sns\n",
    "\n",
    "%matplotlib inline\n",
    "%reload_ext autoreload\n",
    "%autoreload 2\n",
    "\n",
    "experiment_path = 'experiments/UWB/'\n",
    "\n",
    "#plt.rcParams['figure.figsize'] = 7, 3\n",
    "#matplotlib.rcParams['pdf.fonttype'] = 42\n",
    "#matplotlib.rcParams['ps.fonttype'] = 42\n",
    "\n",
    "# set the random seed so can reproduce when something didn't work. \n",
    "# (only when cells are run in order)\n",
    "np.random.seed(1)"
   ]
  },
  {
   "cell_type": "code",
   "execution_count": null,
   "metadata": {},
   "outputs": [],
   "source": [
    "experiment_dir = 'experiments/UWB/uwb_ball_29-12-2019/'\n",
    "fname = 'eights'"
   ]
  },
  {
   "cell_type": "code",
   "execution_count": null,
   "metadata": {},
   "outputs": [],
   "source": [
    "# Extract the multiindex from somewhat messy Optitrack csv file header.\n",
    "header_df = pd.read_csv(f\"{experiment_dir}/{fname}.csv\", low_memory=False, skiprows=range(2), header=None)[:5]\n",
    "names = header_df.iloc[0, :].values.astype(str)\n",
    "ids = header_df.iloc[1, :].values.astype(str)\n",
    "types = header_df.iloc[3, :].values.astype(str)\n",
    "labels = header_df.iloc[4, :].values.astype(str)\n",
    "valid_indices = [j for j, name_ in enumerate(names) if name_ in ['Rigid Body', 'Rigid Body Marker', 'nan']]\n",
    "tuples = list(tuple(zip(names, ids, types, labels)))\n",
    "tuples = [t for i, t in enumerate(tuples) if i in valid_indices]\n",
    "index = pd.MultiIndex.from_tuples(tuples)"
   ]
  },
  {
   "cell_type": "code",
   "execution_count": null,
   "metadata": {},
   "outputs": [],
   "source": [
    "# Read csv file and change index accordingly\n",
    "\n",
    "data_df = pd.read_csv(f\"{experiment_dir}/{fname}.csv\", skiprows=range(7), usecols=valid_indices)\n",
    "\n",
    "# change columns to multiindex\n",
    "data_df.columns = index\n",
    "\n",
    "# change all numeric columns from default double to single precision.\n",
    "data_df = data_df.apply(pd.to_numeric, downcast='float', errors='ignore', axis=1)\n",
    "\n",
    "# change index to frames and times\n",
    "frames = data_df[\"nan\", \"nan\", \"nan\", \"Frame\"].values\n",
    "times = data_df[\"nan\", \"nan\", \"nan\", \"Time (Seconds)\"].values\n",
    "index = pd.MultiIndex.from_tuples(list(zip(frames, times)), names=['frame', 'time'])\n",
    "data_df.index = index\n",
    "data_df.drop(columns='nan', inplace=True)\n",
    "\n",
    "# drop useless columns\n",
    "drop_columns = [c for c in data_df.columns if (\"Marker Quality\" in c) or (\"Error Per Marker\" in c)]\n",
    "data_df.drop(columns=drop_columns, inplace=True)\n",
    "\n",
    "data_df"
   ]
  },
  {
   "cell_type": "code",
   "execution_count": null,
   "metadata": {},
   "outputs": [],
   "source": [
    "test_x = data_df.loc[:, (\"Rigid Body Marker\", \"default 01:Marker1\", \"Position\", \"X\")].values\n",
    "test_y = data_df.loc[:, (\"Rigid Body Marker\", \"default 01:Marker1\", \"Position\", \"Y\")].values\n",
    "test_z = data_df.loc[:, (\"Rigid Body Marker\", \"default 01:Marker1\", \"Position\", \"Z\")].values\n",
    "\n",
    "test_x = data_df.loc[:, (\"Rigid Body\", \"default 01\", \"Position\", \"X\")].values\n",
    "test_y = data_df.loc[:, (\"Rigid Body\", \"default 01\", \"Position\", \"Y\")].values\n",
    "test_z = data_df.loc[:, (\"Rigid Body\", \"default 01\", \"Position\", \"Z\")].values\n",
    "\n",
    "print(test_x, test_y)\n",
    "print('all nan:', all(np.isnan(test_x)))\n",
    "print('all nan:', all(np.isnan(test_y)))"
   ]
  },
  {
   "cell_type": "code",
   "execution_count": null,
   "metadata": {},
   "outputs": [],
   "source": [
    "fig, ax = plt.subplots()\n",
    "ax.scatter(test_x, test_y)\n",
    "fig, ax = plt.subplots()\n",
    "ax.scatter(test_x, test_z)\n",
    "fig, ax = plt.subplots()\n",
    "ax.scatter(test_y, test_z)"
   ]
  },
  {
   "cell_type": "code",
   "execution_count": null,
   "metadata": {},
   "outputs": [],
   "source": []
  }
 ],
 "metadata": {
  "kernelspec": {
   "display_name": "Python 3",
   "language": "python",
   "name": "python3"
  },
  "language_info": {
   "codemirror_mode": {
    "name": "ipython",
    "version": 3
   },
   "file_extension": ".py",
   "mimetype": "text/x-python",
   "name": "python",
   "nbconvert_exporter": "python",
   "pygments_lexer": "ipython3",
   "version": "3.6.8"
  }
 },
 "nbformat": 4,
 "nbformat_minor": 2
}
