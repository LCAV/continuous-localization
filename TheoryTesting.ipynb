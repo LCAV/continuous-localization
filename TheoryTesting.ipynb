{
 "cells": [
  {
   "cell_type": "code",
   "execution_count": null,
   "metadata": {},
   "outputs": [],
   "source": [
    "import sys\n",
    "import time\n",
    "sys.path.append('source/')\n",
    "\n",
    "import numpy as np\n",
    "import matplotlib.pyplot as plt\n",
    "\n",
    "import probability as p\n",
    "from plotting_tools import plot_probabilities"
   ]
  },
  {
   "cell_type": "markdown",
   "metadata": {},
   "source": [
    "# Analysis of the rank of the constraint matrix\n",
    "\n",
    "This notebook is meant to give more intuiton on when the constraint matrix, denotend $[\\pmb{T}_A, \\pmb{U\\Sigma}]$ in the paper is full rank, and thus when the unique solution to the linear system exists.\n",
    "We use the notation from the proof of Theorem 1. Thus, by *left matrix* we mean the matrix consisting of rows\n",
    "\n",
    "$$\\text{vec}\\left(\\begin{bmatrix} \\pmb{a}_{m_n} \\\\ 1\\end{bmatrix}  \\pmb{f}_n^\\top \\right)^\\top.$$\n",
    "\n",
    "By *full matrix* we mean the matrix consising of rows \n",
    "\n",
    "$$\\begin{bmatrix}\\text{vec}\\left(\\begin{bmatrix} \\pmb{a}_{m_n} \\\\ 1\\end{bmatrix}  \\pmb{f}_n^\\top \\right)^\\top \n",
    "& f_K(t_n) \\dots f_{2K-1}(t_n)\\end{bmatrix}.$$\n",
    "\n",
    "To switch between full matrix and left matrix use the flag `full_matrix`.\n",
    "\n",
    "In the Relax and Recover paper, we assume that at each time, there is maximum one measurement taken. To see what happens if is not the case, you can set the flag `one_per_time` to `False`.\n"
   ]
  },
  {
   "cell_type": "code",
   "execution_count": null,
   "metadata": {},
   "outputs": [],
   "source": [
    "full_matrix = True\n",
    "one_per_time = True "
   ]
  },
  {
   "cell_type": "markdown",
   "metadata": {},
   "source": [
    "### Run simulations and calculate matrix rank \n",
    "Calculate the matrix rank for `n_repetitions` for different trajectories, anchros positions and different measurements subsets. From this, we can estimate the probability that the matrix is full rank for given parameters."
   ]
  },
  {
   "cell_type": "code",
   "execution_count": null,
   "metadata": {},
   "outputs": [],
   "source": [
    "experiment_params={\n",
    "    \"n_dimensions\": 2,\n",
    "    \"n_constraints\": 5,\n",
    "    \"n_repetitions\": 500, # do 5000 for smooth results\n",
    "    \"full_matrix\": full_matrix,\n",
    "    \"n_anchors_list\": [3, 4, 6, 20], # calcualte different number of anchors in a loop\n",
    "    \"n_times\": 40 if one_per_time else 15, # reduce number of times if many measurements per time are available\n",
    "    \"one_per_time\": one_per_time,\n",
    "}\n",
    "\n",
    "start = time.time()\n",
    "ranks, params = p.matrix_rank_experiment(**experiment_params)\n",
    "end = time.time()\n",
    "print(\"elapsed time: {:.2f}s\".format(end - start))\n",
    "\n",
    "estimated_probabilities = np.mean(ranks >= params[\"max_rank\"], axis=2)\n",
    "estimated_variance = np.var(ranks >= params[\"max_rank\"], axis=2)"
   ]
  },
  {
   "cell_type": "markdown",
   "metadata": {},
   "source": [
    "### Calculate the probability based on Theorem 1 \n",
    "If only one measurement per time is used, then the Theorem 1 holds and the upper bound calculated below becomes a tight bound. If many measurements per time are allowed, then Theorem gives a necessary, but not sufficient condition (thus an upper bound)."
   ]
  },
  {
   "cell_type": "code",
   "execution_count": null,
   "metadata": {},
   "outputs": [],
   "source": [
    "probabilities = []\n",
    "\n",
    "start = time.time()\n",
    "for idx, n_anchors in enumerate(params[\"n_anchors_list\"]):\n",
    "    print(\"{} anchors\".format(n_anchors))\n",
    "    probabilities.append([p.probability_upper_bound(\n",
    "        params[\"n_dimensions\"],\n",
    "        params[\"n_constraints\"],\n",
    "        n_measurements=n,\n",
    "        position_wise=False,\n",
    "        n_anchors=n_anchors,\n",
    "        n_times=np.Infinity if one_per_time else params[\"n_times\"],\n",
    "        full_matrix=params[\"full_matrix\"]\n",
    "    ) for n in params[\"n_measurements_list\"]])\n",
    "probabilities = np.array(probabilities)\n",
    "print(\"time: {:.2f}s\".format(time.time()-start))"
   ]
  },
  {
   "cell_type": "markdown",
   "metadata": {},
   "source": [
    "### Plot the resutls"
   ]
  },
  {
   "cell_type": "code",
   "execution_count": null,
   "metadata": {},
   "outputs": [],
   "source": [
    "f, ax = plt.subplots(figsize=(10, 5))\n",
    "plot_probabilities(estimated_probabilities, params, ax, linestyle=\":\", variance=estimated_variance)\n",
    "plot_probabilities(probabilities.T, params, ax, label=\"calcualted\")\n",
    "matrix_name = \"Full matrix\" if params[\"full_matrix\"] else \"Left hand side\"\n",
    "measurements_type = \"one measurement per time\" if params[\"one_per_time\"] else \"many measurements per time\"\n",
    "ax.set_title(\"{}, {}, complexity {}\".format(matrix_name, measurements_type, params[\"n_constraints\"]))\n",
    "plt.show()"
   ]
  },
  {
   "cell_type": "code",
   "execution_count": null,
   "metadata": {},
   "outputs": [],
   "source": []
  }
 ],
 "metadata": {
  "kernelspec": {
   "display_name": "Python 3",
   "language": "python",
   "name": "python3"
  },
  "language_info": {
   "codemirror_mode": {
    "name": "ipython",
    "version": 3
   },
   "file_extension": ".py",
   "mimetype": "text/x-python",
   "name": "python",
   "nbconvert_exporter": "python",
   "pygments_lexer": "ipython3",
   "version": "3.7.5"
  }
 },
 "nbformat": 4,
 "nbformat_minor": 2
}
