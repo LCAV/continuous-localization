{
 "cells": [
  {
   "cell_type": "code",
   "execution_count": null,
   "metadata": {},
   "outputs": [],
   "source": [
    "import numpy as np\n",
    "import matplotlib.pyplot as plt\n",
    "%matplotlib inline\n",
    "%reload_ext autoreload\n",
    "%autoreload 2"
   ]
  },
  {
   "cell_type": "markdown",
   "metadata": {},
   "source": [
    "# Problem Setup"
   ]
  },
  {
   "cell_type": "code",
   "execution_count": null,
   "metadata": {},
   "outputs": [],
   "source": [
    "from trajectory import Trajectory\n",
    "from environment import Environment\n",
    "from global_variables import DIM\n",
    "\n",
    "n_anchors = 5 #number of anchors\n",
    "n_positions = 10 #number of robot sample positions\n",
    "n_complexity = 4 #model complexity\n",
    "\n",
    "trajectory = Trajectory(n_positions, n_complexity)\n",
    "environment = Environment(n_anchors)\n",
    "\n",
    "trajectory.set_trajectory(seed=1)\n",
    "environment.set_random_anchors(seed=1)\n",
    "\n",
    "\n",
    "plt.figure()\n",
    "environment.plot()\n",
    "trajectory.plot(color='orange')\n",
    "#plt.axis('off')\n",
    "#plt.savefig('traj_setup.png')\n",
    "\n",
    "environment.set_D(trajectory)\n",
    "D_topright = environment.D[:n_positions,n_positions:] "
   ]
  },
  {
   "cell_type": "code",
   "execution_count": null,
   "metadata": {},
   "outputs": [],
   "source": []
  },
  {
   "cell_type": "code",
   "execution_count": null,
   "metadata": {},
   "outputs": [],
   "source": []
  },
  {
   "cell_type": "markdown",
   "metadata": {},
   "source": [
    "## SDP - based approach\n",
    "### Noiseless case - single experiment"
   ]
  },
  {
   "cell_type": "code",
   "execution_count": null,
   "metadata": {},
   "outputs": [],
   "source": [
    "print(\"Make sure that your cvxpy version is >= 1.0.6!\")\n",
    "import cvxpy\n",
    "print(\"Your version:\", cvxpy.__version__)\n",
    "\n",
    "from solvers import OPTIONS, semidefRelaxationNoiseless\n",
    "\n",
    "# We cane change the global variable OPTIONS here. \n",
    "\n",
    "#OPTIONS[cvxpy.SCS][\"max_iters\"] = 200\n",
    "# Seems to have no effect: \n",
    "#OPTIONS[cvxpy.SCS][\"use_indirect\"] = False \n",
    "# Seems to have no effect either: \n",
    "#OPTIONS[cvxpy.SCS][\"eps\"] = 1e-1\n",
    "# Seems to have no effect either: \n",
    "#OPTIONS[cvxpy.SCS][\"scale\"] = 1\n",
    "\n",
    "# Fails completely without this:\n",
    "#OPTIONS[cvxpy.CVXOPT][\"kktsolver\"] = \"robust\"\n",
    "\n",
    "# have no effect:\n",
    "#OPTIONS[cvxpy.CVXOPT][\"feastol\"] = 1e-3\n",
    "#OPTIONS[cvxpy.CVXOPT][\"reltol\"] = 1e-5\n",
    "#OPTIONS[cvxpy.CVXOPT][\"abstol\"] = 1e-5\n",
    "\n",
    "# leads to faster non-convergence: \n",
    "#OPTIONS[cvxpy.CVXOPT][\"refinement\"] = 0\n",
    "\n",
    "#OPTIONS[cvxpy.SCS][\"verbose\"] = False\n",
    "print(trajectory.basis.shape)\n",
    "\n",
    "X = semidefRelaxationNoiseless(D_topright, environment.anchors, trajectory.basis, chosen_solver=cvxpy.CVXOPT)\n",
    "print('should be identity:\\n', X[:DIM, :DIM])\n",
    "print('should be equal:\\n', X[:DIM:, DIM:])\n",
    "print(trajectory.coeffs)"
   ]
  },
  {
   "cell_type": "code",
   "execution_count": null,
   "metadata": {},
   "outputs": [],
   "source": [
    "def robust_increment(arr, i, j):\n",
    "    \"\"\" increment value of array if inside bound, and set to 1 if previously nan. \"\"\"\n",
    "    if j < arr.shape[1]:\n",
    "        # TODO nan test not required anymore. \n",
    "        if np.isnan(arr[i, j]):\n",
    "            arr[i, j] = 1\n",
    "        else:\n",
    "            arr[i, j] += 1\n",
    "    \n",
    "\n",
    "# multiple setups. \n",
    "from solvers import OPTIONS, semidefRelaxationNoiseless\n",
    "environment = Environment(n_anchors)\n",
    "\n",
    "\n",
    "n_complexity = 4\n",
    "n_anchors = 7\n",
    "positions = np.arange(1, 10)\n",
    "\n",
    "successes = np.full((len(positions), len(positions) * n_anchors), np.nan)\n",
    "\n",
    "num_not_solved = np.full(successes.shape, np.nan)\n",
    "num_not_accurate = np.full(successes.shape, np.nan)\n",
    "\n",
    "n_its = 5\n",
    "\n",
    "for n_it in range(n_its):\n",
    "    for i, n_positions in enumerate(positions):\n",
    "        print('n_positions', n_positions)\n",
    "        trajectory = Trajectory(n_positions, n_complexity)\n",
    "\n",
    "        trajectory.set_trajectory(seed=n_it)\n",
    "        environment.set_random_anchors(seed=n_it)\n",
    "        environment.set_D(trajectory)\n",
    "        \n",
    "        # remove some measurements\n",
    "        \n",
    "        n_measurements = n_positions * n_anchors\n",
    "        \n",
    "        pairs = np.array(np.meshgrid(range(n_positions), range(n_anchors)))\n",
    "        pairs.resize((2, n_positions * n_anchors))\n",
    "        for j, n_missing in enumerate(range(n_measurements)):\n",
    "            \n",
    "            # set all values to 0 since we have visited them. \n",
    "            if np.isnan(successes[i, j]):\n",
    "                successes[i, j] = 0.0 \n",
    "            if np.isnan(num_not_solved[i, j]):\n",
    "                num_not_solved[i, j] = 0.0 \n",
    "            if np.isnan(num_not_accurate[i, j]):\n",
    "                num_not_accurate[i, j] = 0.0\n",
    "            \n",
    "            #print('n_misisng', n_missing)\n",
    "            D_topright = environment.D[:n_positions,n_positions:].copy()\n",
    "            indices = np.random.choice(n_measurements, size=n_missing, replace=False)\n",
    "            xs = pairs[0, indices]\n",
    "            ys = pairs[1, indices] \n",
    "            assert len(xs) == n_missing\n",
    "            assert len(ys) == n_missing\n",
    "            D_topright[xs, ys] = 0.0\n",
    "            \n",
    "            # assert correct number of missing measurements\n",
    "            idx = np.where(D_topright == 0.0)\n",
    "            assert n_missing == len(idx[0])\n",
    "            \n",
    "            try:\n",
    "                X = semidefRelaxationNoiseless(D_topright, environment.anchors, trajectory.basis, chosen_solver=cvxpy.CVXOPT)\n",
    "                \n",
    "                assert not np.any(np.abs(X[:DIM, DIM:] - trajectory.coeffs) > 1e-10) \n",
    "                \n",
    "                # TODO: why does this not work? \n",
    "                #assert np.testing.assert_array_almost_equal(X[:DIM, DIM:], trajectory.coeffs)\n",
    "                \n",
    "                robust_increment(successes, i, j)\n",
    "            except cvxpy.SolverError:\n",
    "                #print(\"could not solve n_positions={}, n_missing={}\".format(n_positions, n_missing))\n",
    "                robust_increment(num_not_solved, i, j)\n",
    "            except ZeroDivisionError:\n",
    "                #print(\"could not solve n_positions={}, n_missing={}\".format(n_positions, n_missing))\n",
    "                robust_increment(num_not_solved, i, j)\n",
    "            except AssertionError:\n",
    "                #print(\"result not accurate n_positions={}, n_missing={}\".format(n_positions, n_missing))\n",
    "                robust_increment(num_not_accurate, i, j)\n"
   ]
  },
  {
   "cell_type": "code",
   "execution_count": null,
   "metadata": {},
   "outputs": [],
   "source": [
    "import time\n",
    "import os\n",
    "from experiment import save_params, save_results\n",
    "\n",
    "key = 'fixed_complexity'\n",
    "\n",
    "complexities = [n_complexity]\n",
    "anchors = [n_anchors]\n",
    "\n",
    "parameters = {\n",
    "    'key': key, \n",
    "    'time': time.time(), \n",
    "    'positions': positions, \n",
    "    'complexities': complexities, \n",
    "    'anchors': anchors, \n",
    "}\n",
    "\n",
    "results = {\n",
    "    'successes': successes, \n",
    "    'num-not-solved': num_not_solved, \n",
    "    'num-not-accurate': num_not_accurate}\n",
    "\n",
    "if not os.lstat('./results'):\n",
    "    os.mkdir('./results')\n",
    "    \n",
    "foldername = 'results/{}/'.format(key)\n",
    "if not os.lstat(foldername):\n",
    "    os.mkdir(foldername)\n",
    "\n",
    "save_params(foldername + 'parameters.json', **parameters)\n",
    "save_results(foldername + 'result_{}_{}.csv', results)"
   ]
  },
  {
   "cell_type": "code",
   "execution_count": null,
   "metadata": {},
   "outputs": [],
   "source": [
    "## Experiment 1: fixed K, increasing N and increasing number of missing measurements\n",
    "from experiment import read_results\n",
    "foldername = 'results/{}/'.format(key)\n",
    "\n",
    "#print(foldername.split('/')[:-1])\n",
    "\n",
    "def read_results(filestart):\n",
    "    results = {} \n",
    "    dirname = os.path.dirname(filestart)\n",
    "    for filename in os.listdir(dirname):\n",
    "        full_path = os.path.join(dirname, filename)\n",
    "        if os.path.isfile(full_path) and filestart in full_path:\n",
    "            print('reading', full_path)\n",
    "            key = filename.split('_')[-2]\n",
    "            new_array = np.loadtxt(full_path, delimiter=',')\n",
    "            if key in results.keys():\n",
    "                results[key] += new_array\n",
    "            else:\n",
    "                print('new key:', key)\n",
    "                results[key] = new_array\n",
    "    return results\n",
    "\n",
    "results = read_results(foldername + 'result_')"
   ]
  },
  {
   "cell_type": "code",
   "execution_count": null,
   "metadata": {},
   "outputs": [],
   "source": [
    "def add_plot_decoration():\n",
    "    plt.colorbar()\n",
    "    plt.xlabel('number of missing measurements')\n",
    "    plt.ylabel('n_positions')\n",
    "    plt.yticks(range(len(positions)), positions)\n",
    "    plt.gca().xaxis.tick_bottom()\n",
    "    plt.show()\n",
    "    \n",
    "print(\"NOTE: values are nan if never visited (white)\")\n",
    "    \n",
    "plt.matshow(results['successes'])\n",
    "plt.title('Number of successful solutions')\n",
    "add_plot_decoration()\n",
    "\n",
    "\n",
    "plt.matshow(results['num-not-solved'])\n",
    "plt.title('Number of solver failures')\n",
    "add_plot_decoration()\n",
    "\n",
    "plt.matshow(results['num-not-accurate'])\n",
    "plt.title('Number of inaccurate solutions')\n",
    "add_plot_decoration()\n",
    "\n",
    "bound_theory = np.zeros_like(successes)\n",
    "n_min = n_complexity * (n_complexity + 1) / 2 + DIM * n_complexity\n",
    "print('needed number of measurements:',  n_min)\n",
    "for i, n_pos in enumerate(positions):\n",
    "    max_missing_allowed = max(int(n_pos * n_anchors - n_min), 0)\n",
    "    if max_missing_allowed < bound_theory.shape[1]:\n",
    "        bound_theory[i, max_missing_allowed] = 1.0\n",
    "    if n_pos * n_anchors < bound_theory.shape[1]:\n",
    "        bound_theory[i, (n_pos * n_anchors):] = np.nan\n",
    "\n",
    "print(\"NOTE: shows theoretical bound () and value from which zero measurements are left (white)\")\n",
    "plt.matshow(bound_theory)\n",
    "plt.title('theoretical bound')\n",
    "add_plot_decoration()"
   ]
  },
  {
   "cell_type": "code",
   "execution_count": null,
   "metadata": {
    "scrolled": true
   },
   "outputs": [],
   "source": [
    "from solvers import semidefRelaxation\n",
    "from solvers import OPTIONS\n",
    "#OPTIONS[cvxpy.SCS][\"max_iters\"] = 00\n",
    "X = semidefRelaxation(D_topright, environment.anchors, trajectory.basis)\n",
    "\n",
    "plt.matshow(X[:20, :20])\n",
    "plt.colorbar()\n",
    "\n",
    "plt.matshow(X[-20:, -20:])\n",
    "plt.colorbar()\n",
    "\n",
    "print('should be identity:\\n', X[:DIM, :DIM])\n",
    "print('should be equal:\\n', X[DIM:, DIM:])\n",
    "print(coeffs)"
   ]
  },
  {
   "cell_type": "markdown",
   "metadata": {},
   "source": [
    "## Investigate null space"
   ]
  },
  {
   "cell_type": "code",
   "execution_count": null,
   "metadata": {},
   "outputs": [],
   "source": [
    "#Write all constraints as a matrix vector product\n",
    "\n",
    "from constraints import *\n",
    "\n",
    "ConstraintsMat, ConstraintsVec = get_constraints_matrix(D_topright, environment.anchors, trajectory.basis)\n",
    "ConstraintsMat=np.array(ConstraintsMat)\n",
    "ConstraintsVec=np.array(ConstraintsVec)\n",
    "\n",
    "print(np.isclose(ConstraintsMat@trajectory.Z_opt.flatten(),ConstraintsVec))\n",
    "\n",
    "print(ConstraintsMat.shape)\n",
    "print(ConstraintsVec.shape)\n",
    "u, s, vh = np.linalg.svd(ConstraintsMat, full_matrices=True)\n",
    "print(np.around(s,3))"
   ]
  },
  {
   "cell_type": "code",
   "execution_count": null,
   "metadata": {},
   "outputs": [],
   "source": [
    "#construct right inverse and check meets constraints\n",
    "num_zero_SVs = len(np.where(s<1e-10)[0])\n",
    "Z_hat = vh[:-num_zero_SVs,:].T@np.diag(1/s[:-num_zero_SVs])@u[:,:len(s)-num_zero_SVs].T@ConstraintsVec #right inverse\n",
    "Z_hat = Z_hat.reshape([DIM + n_complexity,DIM + n_complexity])\n",
    "print(np.isclose(ConstraintsMat@Z_hat.flatten(),ConstraintsVec)) #should satisfy constraints since it's a right inverse\n",
    "coeffs_hat = Z_hat[:DIM,DIM:]\n",
    "print(np.isclose(trajectory.coeffs,coeffs_hat))"
   ]
  },
  {
   "cell_type": "code",
   "execution_count": null,
   "metadata": {},
   "outputs": [],
   "source": [
    "print('find basis vectors of null space')\n",
    "tmp = vh[-num_zero_SVs:,:]\n",
    "print(tmp.shape)\n",
    "nullSpace = []\n",
    "for i in range(num_zero_SVs):\n",
    "    nullSpace.append(tmp[i,:].reshape([DIM + n_complexity,DIM + n_complexity]))\n",
    "\n",
    "nullSpace = np.array(nullSpace)\n",
    "Z_hat2 = Z_hat+nullSpace[0,:]+2*nullSpace[1,:]+3*nullSpace[2,:]\n",
    "print(np.isclose(ConstraintsMat@(Z_hat2.flatten()),ConstraintsVec))"
   ]
  },
  {
   "cell_type": "code",
   "execution_count": null,
   "metadata": {},
   "outputs": [],
   "source": [
    "print(np.around(nullSpace[0,:],5))\n",
    "print(np.around(nullSpace[1,:],5))\n",
    "print(np.around(nullSpace[2,:],5))"
   ]
  },
  {
   "cell_type": "markdown",
   "metadata": {},
   "source": [
    "### Solve as linear program"
   ]
  },
  {
   "cell_type": "code",
   "execution_count": null,
   "metadata": {},
   "outputs": [],
   "source": [
    "# try linear program\n",
    "from cvxopt import matrix, solvers\n",
    "\n",
    "tmpMat=np.diag(s[:-num_zero_SVs])@vh[:-num_zero_SVs,:]\n",
    "tmpVec = u[:,:len(s)-num_zero_SVs].T@ConstraintsVec\n",
    "A = matrix(np.vstack([tmpMat,-tmpMat]))\n",
    "b = matrix(np.hstack([tmpVec,-tmpVec]))\n",
    "c = matrix(np.ones((DIM + n_complexity)*(DIM + n_complexity)))\n",
    "sol=solvers.lp(c,A,b, solver='glpk') #doesn't work eith defualt solver but glpk good\n",
    "print(sol)\n",
    "Z_hat = np.array(sol['x']).reshape([DIM + n_complexity,DIM + n_complexity])\n",
    "print(np.isclose(Z_hat,trajectory.Z_opt))"
   ]
  },
  {
   "cell_type": "code",
   "execution_count": null,
   "metadata": {},
   "outputs": [],
   "source": []
  },
  {
   "cell_type": "markdown",
   "metadata": {},
   "source": [
    "### Debugging - End"
   ]
  },
  {
   "cell_type": "markdown",
   "metadata": {},
   "source": [
    "## MDS - based approach\n",
    "### Noiseless case"
   ]
  },
  {
   "cell_type": "code",
   "execution_count": null,
   "metadata": {},
   "outputs": [],
   "source": [
    "# find new coefficients\n",
    "from solvers import customMDS\n",
    "coeffs_est = customMDS(D_topright, trajectory.basis, environment.anchors)\n",
    "print(coeffs_est.shape)\n",
    "print(coeffs_est)\n",
    "print(trajectory.coeffs)"
   ]
  },
  {
   "cell_type": "code",
   "execution_count": null,
   "metadata": {},
   "outputs": [],
   "source": [
    "from trajectory import Trajectory\n",
    "trajectory_est = Trajectory(n_positions, n_complexity)\n",
    "trajectory_est.set_trajectory(coeffs=coeffs_est)\n",
    "\n",
    "plt.figure()\n",
    "environment.plot()\n",
    "trajectory_est.plot(color='red', linestyle=':')\n",
    "trajectory.plot(color='green', linestyle='--')"
   ]
  },
  {
   "cell_type": "markdown",
   "metadata": {},
   "source": [
    "### Noisy case"
   ]
  },
  {
   "cell_type": "code",
   "execution_count": null,
   "metadata": {},
   "outputs": [],
   "source": [
    "from solvers import gradientDescent\n",
    "\n",
    "sigma = 4\n",
    "\n",
    "np.random.seed(1)\n",
    "D_topright_noisy = D_topright + sigma * np.random.randn(*(D_topright.shape))\n",
    "coeffs_est_noisy = customMDS(D_topright_noisy, trajectory.basis, environment.anchors)\n",
    "\n",
    "coeffs_est_noisy, costs = gradientDescent(\n",
    "    environment.anchors, trajectory.basis, coeffs_est_noisy, \n",
    "    D_topright_noisy,maxIters=50)\n",
    "#print(checkStationaryPointSRLS(A,F,C_hat,DTR_tilde))\n",
    "#plt.plot(costs)"
   ]
  },
  {
   "cell_type": "code",
   "execution_count": null,
   "metadata": {},
   "outputs": [],
   "source": [
    "trajectory_est_noisy = Trajectory(n_positions, n_complexity)\n",
    "trajectory_est_noisy.set_trajectory(coeffs=coeffs_est_noisy)\n",
    "\n",
    "plt.figure()\n",
    "environment.plot()\n",
    "trajectory_est_noisy.plot(color='red', linestyle=':')\n",
    "trajectory.plot(color='green', linestyle='--')"
   ]
  },
  {
   "cell_type": "markdown",
   "metadata": {},
   "source": [
    "### Missing measurements\n",
    "\n",
    "missing measurements between anchors, and between anchors and robot"
   ]
  },
  {
   "cell_type": "code",
   "execution_count": null,
   "metadata": {},
   "outputs": [],
   "source": [
    "from solvers import alternateGDandKEonDR\n",
    "\n",
    "np.random.seed(1)\n",
    "\n",
    "sigma = 2\n",
    "missing_proportion = 0.8\n",
    "\n",
    "D_right = environment.D[:,n_positions:]\n",
    "mask = np.ones(D_right.shape)\n",
    "\n",
    "mask[:n_positions, :] *= (np.random.rand(n_positions,n_anchors)>missing_proportion)\n",
    "D_right_missing = mask * D_right\n",
    "\n",
    "# TODO: why are anchor positions not noisy? \n",
    "np.random.seed(1)\n",
    "D_right_missing[:n_positions,:] += sigma * np.random.randn(n_positions, n_anchors)\n",
    "D_right_est, errs = alternateGDandKEonDR(D_right_missing, mask, trajectory.basis, environment.anchors, \n",
    "                                         niter=40, DR_true=D_right)\n",
    "plt.plot(errs)\n",
    "coeffs_est_missing = customMDS(D_right_est[:n_positions,:], trajectory.basis, environment.anchors)\n",
    "#print(C_hat)\n",
    "#print(C)"
   ]
  },
  {
   "cell_type": "code",
   "execution_count": null,
   "metadata": {},
   "outputs": [],
   "source": [
    "trajectory_est_missing = Trajectory(n_positions, n_complexity)\n",
    "trajectory_est_missing.set_trajectory(coeffs=coeffs_est_missing)\n",
    "\n",
    "plt.figure()\n",
    "trajectory_est_missing.plot(color='red')\n",
    "trajectory.plot(color='green')\n",
    "environment.plot()"
   ]
  },
  {
   "cell_type": "code",
   "execution_count": null,
   "metadata": {},
   "outputs": [],
   "source": [
    "plt.figure()\n",
    "trajectory_est_missing.plot(color='red', mask=mask)\n",
    "trajectory.plot(color='green')\n",
    "environment.plot()\n",
    "#plt.axis('off')\n",
    "#plt.savefig('traj_useful.png')"
   ]
  },
  {
   "cell_type": "code",
   "execution_count": null,
   "metadata": {},
   "outputs": [],
   "source": [
    "trajectory_est_missing.plot_number_measurements(mask=mask)"
   ]
  },
  {
   "cell_type": "code",
   "execution_count": null,
   "metadata": {},
   "outputs": [],
   "source": [
    "D_right_est, errs = alternateGDandKEonDR(D_right_missing, \n",
    "                                    mask, trajectory.basis, environment.anchors, \n",
    "                                    niter=30, DR_true=D_right)\n",
    "plt.plot(errs)\n",
    "coeffs_est = customMDS(D_right_est[:n_positions,:], trajectory.basis, environment.anchors)"
   ]
  },
  {
   "cell_type": "code",
   "execution_count": null,
   "metadata": {},
   "outputs": [],
   "source": [
    "trajectory_est = Trajectory(n_positions, n_complexity)\n",
    "trajectory_est.set_trajectory(coeffs=coeffs_est)\n",
    "\n",
    "plt.figure()\n",
    "trajectory_est.plot(color='red')\n",
    "trajectory.plot(color='green')"
   ]
  },
  {
   "cell_type": "code",
   "execution_count": null,
   "metadata": {},
   "outputs": [],
   "source": [
    "np.set_printoptions(formatter={'float': lambda x: \"{0:0.2f}\".format(x)})\n",
    "tmp = D_right[:n_positions,:]\n",
    "print(tmp[mask[:n_positions,:]==1])\n",
    "print(mask[:n_positions,:]*tmp)\n",
    "\n",
    "tmp = D_right_missing[:n_positions,:]\n",
    "print(tmp[mask[:n_positions,:]==1])\n",
    "print(mask[:n_positions,:]*tmp)"
   ]
  },
  {
   "cell_type": "code",
   "execution_count": null,
   "metadata": {},
   "outputs": [],
   "source": []
  },
  {
   "cell_type": "code",
   "execution_count": null,
   "metadata": {},
   "outputs": [],
   "source": []
  }
 ],
 "metadata": {
  "kernelspec": {
   "display_name": "Python 3",
   "language": "python",
   "name": "python3"
  },
  "language_info": {
   "codemirror_mode": {
    "name": "ipython",
    "version": 3
   },
   "file_extension": ".py",
   "mimetype": "text/x-python",
   "name": "python",
   "nbconvert_exporter": "python",
   "pygments_lexer": "ipython3",
   "version": "3.5.2"
  }
 },
 "nbformat": 4,
 "nbformat_minor": 2
}
