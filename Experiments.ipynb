{
 "cells": [
  {
   "cell_type": "code",
   "execution_count": null,
   "metadata": {},
   "outputs": [],
   "source": [
    "import numpy as np\n",
    "import matplotlib.pyplot as plt\n",
    "%matplotlib inline\n",
    "%reload_ext autoreload\n",
    "%autoreload 2"
   ]
  },
  {
   "cell_type": "markdown",
   "metadata": {},
   "source": [
    "# Problem Setup"
   ]
  },
  {
   "cell_type": "code",
   "execution_count": null,
   "metadata": {},
   "outputs": [],
   "source": [
    "from trajectory import Trajectory\n",
    "from environment import Environment\n",
    "from global_variables import DIM\n",
    "\n",
    "n_anchors = 5 #number of anchors\n",
    "n_positions = 10 #number of robot sample positions\n",
    "n_complexity = 4 #model complexity\n",
    "\n",
    "trajectory = Trajectory(n_positions, n_complexity)\n",
    "environment = Environment(n_anchors)\n",
    "trajectory.set_trajectory(seed=1)\n",
    "environment.set_random_anchors(seed=1)\n",
    "\n",
    "\n",
    "plt.figure()\n",
    "environment.plot()\n",
    "trajectory.plot(color='orange')\n",
    "#plt.axis('off')\n",
    "#plt.savefig('traj_setup.png')\n",
    "\n",
    "environment.set_D(trajectory)\n",
    "D_topright = environment.D[:n_positions,n_positions:] "
   ]
  },
  {
   "cell_type": "markdown",
   "metadata": {},
   "source": [
    "## SDP - based approach\n",
    "### Noiseless case - single experiment"
   ]
  },
  {
   "cell_type": "code",
   "execution_count": null,
   "metadata": {},
   "outputs": [],
   "source": [
    "print(\"Make sure that your cvxpy version is >= 1.0.6!\")\n",
    "import cvxpy\n",
    "print(\"Your version:\", cvxpy.__version__)\n",
    "\n",
    "from solvers import OPTIONS, semidefRelaxationNoiseless\n",
    "\n",
    "# We cane change the global variable OPTIONS here. \n",
    "\n",
    "#OPTIONS[cvxpy.SCS][\"max_iters\"] = 200\n",
    "# Seems to have no effect: \n",
    "#OPTIONS[cvxpy.SCS][\"use_indirect\"] = False \n",
    "# Seems to have no effect either: \n",
    "#OPTIONS[cvxpy.SCS][\"eps\"] = 1e-1\n",
    "# Seems to have no effect either: \n",
    "#OPTIONS[cvxpy.SCS][\"scale\"] = 1\n",
    "\n",
    "# Fails completely without this:\n",
    "#OPTIONS[cvxpy.CVXOPT][\"kktsolver\"] = \"robust\"\n",
    "\n",
    "# have no effect:\n",
    "#OPTIONS[cvxpy.CVXOPT][\"feastol\"] = 1e-3\n",
    "#OPTIONS[cvxpy.CVXOPT][\"reltol\"] = 1e-5\n",
    "#OPTIONS[cvxpy.CVXOPT][\"abstol\"] = 1e-5\n",
    "\n",
    "# leads to faster non-convergence: \n",
    "#OPTIONS[cvxpy.CVXOPT][\"refinement\"] = 0\n",
    "\n",
    "#OPTIONS[cvxpy.SCS][\"verbose\"] = False\n",
    "print(trajectory.basis.shape)\n",
    "\n",
    "X = semidefRelaxationNoiseless(D_topright, environment.anchors, trajectory.basis, chosen_solver=cvxpy.CVXOPT)\n",
    "print('should be identity:\\n', X[:DIM, :DIM])\n",
    "print('should be equal:\\n', X[:DIM:, DIM:])\n",
    "print(trajectory.coeffs)"
   ]
  },
  {
   "cell_type": "markdown",
   "metadata": {},
   "source": [
    "# Do new simulations "
   ]
  },
  {
   "cell_type": "code",
   "execution_count": null,
   "metadata": {},
   "outputs": [],
   "source": [
    "### Option 1: Reproduce results\n",
    "\n",
    "#key = 'fixed_complexity'\n",
    "#paramfolder = 'results/{}/'.format(key)\n",
    "#results = run_simulation(paramfolder, outfolder=None)\n",
    "\n",
    "### Option 2: Add new results to existing folder \n",
    "\n",
    "#run_simulation(paramfolder, outfolder=paramfolder)\n",
    "\n",
    "### Option 3: Created completely new results or add new to existing folder.\n",
    "\n",
    "parameters = {\n",
    "    'key': 'test_k_6', \n",
    "    'n_its': 2, \n",
    "    'time': 'undefined', \n",
    "    'positions': [15],\n",
    "    'complexities': [6], \n",
    "    'anchors': [10], \n",
    "}\n",
    "outfolder = 'results/{}/'.format(parameters['key'])\n",
    "run_simulation(parameters, outfolder)"
   ]
  },
  {
   "cell_type": "markdown",
   "metadata": {},
   "source": [
    "# Read and plot results"
   ]
  },
  {
   "cell_type": "code",
   "execution_count": null,
   "metadata": {},
   "outputs": [],
   "source": [
    "key =  'test_k_6'\n",
    "resultfolder = 'results/{}/'.format(key)\n",
    "results = read_results(resultfolder + 'result_')\n",
    "parameters = read_params(resultfolder + 'parameters.json')\n",
    "\n",
    "def add_plot_decoration():\n",
    "    plt.colorbar()\n",
    "    plt.xlabel('number of missing measurements')\n",
    "    plt.ylabel('n_positions')\n",
    "    plt.yticks(range(len(positions)), positions)\n",
    "    plt.gca().xaxis.tick_bottom()\n",
    "    plt.show()\n",
    "    \n",
    "print(\"NOTE: values are nan if never visited (white)\")\n",
    "    \n",
    "if results['successes'].ndim > 1:\n",
    "    plt.matshow(results['successes'])\n",
    "    plt.title('Number of successful solutions')\n",
    "    add_plot_decoration()\n",
    "\n",
    "    plt.matshow(results['num-not-solved'])\n",
    "    plt.title('Number of solver failures')\n",
    "    add_plot_decoration()\n",
    "\n",
    "    plt.matshow(results['num-not-accurate'])\n",
    "    plt.title('Number of inaccurate solutions')\n",
    "    add_plot_decoration()\n",
    "\n",
    "    bound_theory = np.zeros_like(successes)\n",
    "    n_min = n_complexity * (n_complexity + 1) / 2 + DIM * n_complexity\n",
    "    print('needed number of measurements:',  n_min)\n",
    "    for i, n_pos in enumerate(positions):\n",
    "        max_missing_allowed = max(int(n_pos * n_anchors - n_min), 0)\n",
    "        if max_missing_allowed < bound_theory.shape[1]:\n",
    "            bound_theory[i, max_missing_allowed] = 1.0\n",
    "        if n_pos * n_anchors < bound_theory.shape[1]:\n",
    "            bound_theory[i, (n_pos * n_anchors):] = np.nan\n",
    "\n",
    "    print(\"NOTE: shows theoretical bound () and value from which zero measurements are left (white)\")\n",
    "    plt.matshow(bound_theory)\n",
    "    plt.title('theoretical bound')\n",
    "    add_plot_decoration()\n",
    "else:\n",
    "    plt.plot(results['successes'], label='success', linestyle=\"-\")\n",
    "    plt.plot(results['num-not-solved'], label='not-solved', linestyle=\":\")\n",
    "    plt.plot(results['num-not-accurate'], label='not-accurate', linestyle=\":\")\n",
    "    plt.legend(loc='center left')\n",
    "    print(str(parameters))\n",
    "    plt.title('K={}, N={}, M={}'.format(parameters['complexities'][0],\n",
    "                                        parameters['positions'][0],\n",
    "                                        parameters['anchors'][0]))\n",
    "    fig = plt.gcf()\n",
    "    fig.set_size_inches(10, 5)"
   ]
  },
  {
   "cell_type": "code",
   "execution_count": null,
   "metadata": {
    "scrolled": true
   },
   "outputs": [],
   "source": [
    "from solvers import semidefRelaxation\n",
    "from solvers import OPTIONS\n",
    "#OPTIONS[cvxpy.SCS][\"max_iters\"] = 00\n",
    "X = semidefRelaxation(D_topright, environment.anchors, trajectory.basis)\n",
    "\n",
    "plt.matshow(X[:20, :20])\n",
    "plt.colorbar()\n",
    "\n",
    "plt.matshow(X[-20:, -20:])\n",
    "plt.colorbar()\n",
    "\n",
    "print('should be identity:\\n', X[:DIM, :DIM])\n",
    "print('should be equal:\\n', X[DIM:, DIM:])\n",
    "print(coeffs)"
   ]
  },
  {
   "cell_type": "markdown",
   "metadata": {},
   "source": [
    "## Investigate null space"
   ]
  },
  {
   "cell_type": "code",
   "execution_count": null,
   "metadata": {},
   "outputs": [],
   "source": [
    "from constraints import *\n",
    "\n",
    "n_anchors = 5 #number of anchors\n",
    "n_positions = 10 #number of robot sample positions\n",
    "n_complexity = 4 #model complexity\n",
    "\n",
    "trajectory = Trajectory(n_positions, n_complexity)\n",
    "environment = Environment(n_anchors)\n",
    "trajectory.set_trajectory(seed=1)\n",
    "environment.set_random_anchors(seed=1)\n",
    "\n",
    "ConstraintsMat, ConstraintsVec = get_constraints_matrix(D_topright, environment.anchors, trajectory.basis)\n",
    "ConstraintsMat=np.array(ConstraintsMat)\n",
    "ConstraintsVec=np.array(ConstraintsVec)\n",
    "\n",
    "print(np.isclose(ConstraintsMat@trajectory.Z_opt.flatten(),ConstraintsVec))\n",
    "\n",
    "print(ConstraintsMat.shape)\n",
    "print(ConstraintsVec.shape)\n",
    "u, s, vh = np.linalg.svd(ConstraintsMat, full_matrices=True)\n",
    "print(np.around(s,3))"
   ]
  },
  {
   "cell_type": "code",
   "execution_count": null,
   "metadata": {},
   "outputs": [],
   "source": [
    "#construct right inverse and check meets constraints\n",
    "num_zero_SVs = len(np.where(s<1e-10)[0])\n",
    "Z_hat = vh[:-num_zero_SVs,:].T@np.diag(1/s[:-num_zero_SVs])@u[:,:len(s)-num_zero_SVs].T@ConstraintsVec #right inverse\n",
    "Z_hat = Z_hat.reshape([DIM + n_complexity,DIM + n_complexity])\n",
    "print(np.isclose(ConstraintsMat@Z_hat.flatten(),ConstraintsVec)) #should satisfy constraints since it's a right inverse\n",
    "coeffs_hat = Z_hat[:DIM,DIM:]\n",
    "print(np.isclose(trajectory.coeffs,coeffs_hat))"
   ]
  },
  {
   "cell_type": "code",
   "execution_count": null,
   "metadata": {},
   "outputs": [],
   "source": [
    "print('find basis vectors of null space')\n",
    "tmp = vh[-num_zero_SVs:,:]\n",
    "print(tmp.shape)\n",
    "nullSpace = []\n",
    "for i in range(num_zero_SVs):\n",
    "    nullSpace.append(tmp[i,:].reshape([DIM + n_complexity,DIM + n_complexity]))\n",
    "\n",
    "nullSpace = np.array(nullSpace)\n",
    "Z_hat2 = Z_hat+nullSpace[0,:]+2*nullSpace[1,:]+3*nullSpace[2,:]\n",
    "print(np.isclose(ConstraintsMat@(Z_hat2.flatten()),ConstraintsVec))"
   ]
  },
  {
   "cell_type": "code",
   "execution_count": null,
   "metadata": {},
   "outputs": [],
   "source": [
    "print(np.around(nullSpace[0,:],5))\n",
    "print(np.around(nullSpace[1,:],5))\n",
    "print(np.around(nullSpace[2,:],5))"
   ]
  },
  {
   "cell_type": "markdown",
   "metadata": {},
   "source": [
    "### Solve as linear program"
   ]
  },
  {
   "cell_type": "code",
   "execution_count": null,
   "metadata": {},
   "outputs": [],
   "source": [
    "# try linear program\n",
    "from cvxopt import matrix, solvers\n",
    "\n",
    "tmpMat=np.diag(s[:-num_zero_SVs])@vh[:-num_zero_SVs,:]\n",
    "tmpVec = u[:,:len(s)-num_zero_SVs].T@ConstraintsVec\n",
    "A = matrix(np.vstack([tmpMat,-tmpMat]))\n",
    "b = matrix(np.hstack([tmpVec,-tmpVec]))\n",
    "c = matrix(np.ones((DIM + n_complexity)*(DIM + n_complexity)))\n",
    "sol=solvers.lp(c,A,b, solver='glpk') #doesn't work eith defualt solver but glpk good\n",
    "print(sol)\n",
    "Z_hat = np.array(sol['x']).reshape([DIM + n_complexity,DIM + n_complexity])\n",
    "print(np.isclose(Z_hat,trajectory.Z_opt))"
   ]
  },
  {
   "cell_type": "markdown",
   "metadata": {},
   "source": [
    "## MDS - based approach\n",
    "### Noiseless case"
   ]
  },
  {
   "cell_type": "code",
   "execution_count": null,
   "metadata": {},
   "outputs": [],
   "source": [
    "# find new coefficients\n",
    "from solvers import customMDS\n",
    "coeffs_est = customMDS(D_topright, trajectory.basis, environment.anchors)\n",
    "print(coeffs_est.shape)\n",
    "print(coeffs_est)\n",
    "print(trajectory.coeffs)"
   ]
  },
  {
   "cell_type": "code",
   "execution_count": null,
   "metadata": {},
   "outputs": [],
   "source": [
    "from trajectory import Trajectory\n",
    "trajectory_est = Trajectory(n_positions, n_complexity)\n",
    "trajectory_est.set_trajectory(coeffs=coeffs_est)\n",
    "\n",
    "plt.figure()\n",
    "environment.plot()\n",
    "trajectory_est.plot(color='red', linestyle=':')\n",
    "trajectory.plot(color='green', linestyle='--')"
   ]
  },
  {
   "cell_type": "markdown",
   "metadata": {},
   "source": [
    "### Noisy case"
   ]
  },
  {
   "cell_type": "code",
   "execution_count": null,
   "metadata": {},
   "outputs": [],
   "source": [
    "from solvers import gradientDescent\n",
    "\n",
    "sigma = 4\n",
    "\n",
    "np.random.seed(1)\n",
    "D_topright_noisy = D_topright + sigma * np.random.randn(*(D_topright.shape))\n",
    "coeffs_est_noisy = customMDS(D_topright_noisy, trajectory.basis, environment.anchors)\n",
    "\n",
    "coeffs_est_noisy, costs = gradientDescent(\n",
    "    environment.anchors, trajectory.basis, coeffs_est_noisy, \n",
    "    D_topright_noisy,maxIters=50)\n",
    "#print(checkStationaryPointSRLS(A,F,C_hat,DTR_tilde))\n",
    "#plt.plot(costs)"
   ]
  },
  {
   "cell_type": "code",
   "execution_count": null,
   "metadata": {},
   "outputs": [],
   "source": [
    "trajectory_est_noisy = Trajectory(n_positions, n_complexity)\n",
    "trajectory_est_noisy.set_trajectory(coeffs=coeffs_est_noisy)\n",
    "\n",
    "plt.figure()\n",
    "environment.plot()\n",
    "trajectory_est_noisy.plot(color='red', linestyle=':')\n",
    "trajectory.plot(color='green', linestyle='--')"
   ]
  },
  {
   "cell_type": "markdown",
   "metadata": {},
   "source": [
    "### Missing measurements\n",
    "\n",
    "missing measurements between anchors, and between anchors and robot"
   ]
  },
  {
   "cell_type": "code",
   "execution_count": null,
   "metadata": {},
   "outputs": [],
   "source": [
    "from solvers import alternateGDandKEonDR\n",
    "\n",
    "np.random.seed(1)\n",
    "\n",
    "sigma = 2\n",
    "missing_proportion = 0.8\n",
    "\n",
    "D_right = environment.D[:,n_positions:]\n",
    "mask = np.ones(D_right.shape)\n",
    "\n",
    "mask[:n_positions, :] *= (np.random.rand(n_positions,n_anchors)>missing_proportion)\n",
    "D_right_missing = mask * D_right\n",
    "\n",
    "# TODO: why are anchor positions not noisy? \n",
    "np.random.seed(1)\n",
    "D_right_missing[:n_positions,:] += sigma * np.random.randn(n_positions, n_anchors)\n",
    "D_right_est, errs = alternateGDandKEonDR(D_right_missing, mask, trajectory.basis, environment.anchors, \n",
    "                                         niter=40, DR_true=D_right)\n",
    "plt.plot(errs)\n",
    "coeffs_est_missing = customMDS(D_right_est[:n_positions,:], trajectory.basis, environment.anchors)\n",
    "#print(C_hat)\n",
    "#print(C)"
   ]
  },
  {
   "cell_type": "code",
   "execution_count": null,
   "metadata": {},
   "outputs": [],
   "source": [
    "trajectory_est_missing = Trajectory(n_positions, n_complexity)\n",
    "trajectory_est_missing.set_trajectory(coeffs=coeffs_est_missing)\n",
    "\n",
    "plt.figure()\n",
    "trajectory_est_missing.plot(color='red')\n",
    "trajectory.plot(color='green')\n",
    "environment.plot()"
   ]
  },
  {
   "cell_type": "code",
   "execution_count": null,
   "metadata": {},
   "outputs": [],
   "source": [
    "plt.figure()\n",
    "trajectory_est_missing.plot(color='red', mask=mask)\n",
    "trajectory.plot(color='green')\n",
    "environment.plot()\n",
    "#plt.axis('off')\n",
    "#plt.savefig('traj_useful.png')"
   ]
  },
  {
   "cell_type": "code",
   "execution_count": null,
   "metadata": {},
   "outputs": [],
   "source": [
    "trajectory_est_missing.plot_number_measurements(mask=mask)"
   ]
  },
  {
   "cell_type": "code",
   "execution_count": null,
   "metadata": {},
   "outputs": [],
   "source": [
    "D_right_est, errs = alternateGDandKEonDR(D_right_missing, \n",
    "                                    mask, trajectory.basis, environment.anchors, \n",
    "                                    niter=30, DR_true=D_right)\n",
    "plt.plot(errs)\n",
    "coeffs_est = customMDS(D_right_est[:n_positions,:], trajectory.basis, environment.anchors)"
   ]
  },
  {
   "cell_type": "code",
   "execution_count": null,
   "metadata": {},
   "outputs": [],
   "source": [
    "trajectory_est = Trajectory(n_positions, n_complexity)\n",
    "trajectory_est.set_trajectory(coeffs=coeffs_est)\n",
    "\n",
    "plt.figure()\n",
    "trajectory_est.plot(color='red')\n",
    "trajectory.plot(color='green')"
   ]
  },
  {
   "cell_type": "code",
   "execution_count": null,
   "metadata": {},
   "outputs": [],
   "source": [
    "np.set_printoptions(formatter={'float': lambda x: \"{0:0.2f}\".format(x)})\n",
    "tmp = D_right[:n_positions,:]\n",
    "print(tmp[mask[:n_positions,:]==1])\n",
    "print(mask[:n_positions,:]*tmp)\n",
    "\n",
    "tmp = D_right_missing[:n_positions,:]\n",
    "print(tmp[mask[:n_positions,:]==1])\n",
    "print(mask[:n_positions,:]*tmp)"
   ]
  },
  {
   "cell_type": "code",
   "execution_count": null,
   "metadata": {},
   "outputs": [],
   "source": []
  },
  {
   "cell_type": "code",
   "execution_count": null,
   "metadata": {},
   "outputs": [],
   "source": []
  }
 ],
 "metadata": {
  "kernelspec": {
   "display_name": "Python 3",
   "language": "python",
   "name": "python3"
  },
  "language_info": {
   "codemirror_mode": {
    "name": "ipython",
    "version": 3
   },
   "file_extension": ".py",
   "mimetype": "text/x-python",
   "name": "python",
   "nbconvert_exporter": "python",
   "pygments_lexer": "ipython3",
   "version": "3.5.2"
  }
 },
 "nbformat": 4,
 "nbformat_minor": 2
}
