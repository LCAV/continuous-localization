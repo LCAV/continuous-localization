{
 "cells": [
  {
   "cell_type": "markdown",
   "metadata": {},
   "source": [
    "# Trajectory estimation"
   ]
  },
  {
   "cell_type": "code",
   "execution_count": null,
   "metadata": {},
   "outputs": [],
   "source": [
    "import math\n",
    "import matplotlib.pyplot as plt\n",
    "import numpy as np\n",
    "import pandas as pd\n",
    "import seaborn as sns\n",
    "\n",
    "import os\n",
    "\n",
    "%matplotlib inline\n",
    "%reload_ext autoreload\n",
    "%autoreload 2\n",
    "\n",
    "np.set_printoptions(precision=2)"
   ]
  },
  {
   "cell_type": "markdown",
   "metadata": {},
   "source": [
    "## Read and plot dataset"
   ]
  },
  {
   "cell_type": "code",
   "execution_count": null,
   "metadata": {},
   "outputs": [],
   "source": [
    "dimension = 2 # can be 2 or 3.\n",
    "n_measurements = -1 # set to None or -1 to use all. \n",
    "chosen_distance = 'distance_tango_2D'#'distance_median_0'\n",
    "\n",
    "sigma = 10 # noise for simulated measurements\n",
    "\n",
    "out_dir = 'experiments/robot_test/'\n",
    "anchorsfile = 'experiments/anchors.csv'\n",
    "\n",
    "name = 'circle2_double'\n",
    "df = pd.read_pickle(out_dir + name + '_0_calibrated.pkl')\n",
    "df.reset_index(inplace=True, drop=True)\n",
    "df.timestamp -= df.timestamp.values[0]\n",
    "df.head()"
   ]
  },
  {
   "cell_type": "code",
   "execution_count": null,
   "metadata": {},
   "outputs": [],
   "source": [
    "tango_df = df[df.system_id=='Tango']\n",
    "plt.figure()\n",
    "sns.scatterplot(x='px', y='py', hue='timestamp', data=tango_df)\n",
    "plt.title('2D of Tango data')\n",
    "plt.xlabel('x [m]'); plt.ylabel('y [m]')\n",
    "plt.figure()\n",
    "plt.plot(tango_df.timestamp, tango_df.pz)\n",
    "plt.title('z of Tango data')\n",
    "plt.xlabel('time [s]'); plt.ylabel('z [m]')"
   ]
  },
  {
   "cell_type": "markdown",
   "metadata": {},
   "source": [
    "## Construct D, basis and anchors"
   ]
  },
  {
   "cell_type": "code",
   "execution_count": null,
   "metadata": {},
   "outputs": [],
   "source": [
    "from evaluate_dataset import read_anchors_df\n",
    "anchors_df = read_anchors_df(anchorsfile)\n",
    "\n",
    "anchor_names = sorted(df[df.system_id=='RTT'].anchor_name.unique().tolist())\n",
    "n_anchors = len(anchor_names)\n",
    "\n",
    "# if we do not have all we could do something elegant with pandas. \n",
    "anchors = anchors_df.loc[anchors_df.anchor_name.isin(anchor_names), ['px', 'py', 'pz']].values.T\n",
    "\n",
    "for anchor_name in anchor_names:\n",
    "    anchor_coord = anchors_df.loc[anchors_df.anchor_name==anchor_name, ['px','py']].values\n",
    "    points = tango_df.loc[:, ['px', 'py']].values\n",
    "    vecs = points.reshape((-1, 2)) - anchor_coord.reshape((1, 2))\n",
    "    distances = np.linalg.norm(vecs.astype(np.float32), axis=1)\n",
    "\n",
    "    df_rtt0 = df[df.anchor_name == anchor_name]\n",
    "\n",
    "    plt.figure()\n",
    "    plt.scatter(tango_df.timestamp, distances, label='tango', s=2)\n",
    "    for distance in ['distance_tango_2D', 'distance_tango', 'distance', 'distance_median_all', 'distance_median_0']:\n",
    "        plt.scatter(df_rtt0.timestamp, df_rtt0.loc[:, distance], s=2, label=distance)\n",
    "    plt.xlabel('time [s]'); plt.ylabel('distance [m]'); plt.legend()"
   ]
  },
  {
   "cell_type": "code",
   "execution_count": null,
   "metadata": {},
   "outputs": [],
   "source": [
    "from trajectory_creator import get_trajectory\n",
    "#from trajectory import Trajectory\n",
    "from global_variables import TAU, ROBOT_HEIGHT\n",
    "\n",
    "traj = get_trajectory(name + '.csv')\n",
    "# scramble coefficients.\n",
    "traj.set_coeffs(seed=3)\n",
    "\n",
    "times = df.iloc[:n_measurements].timestamp.unique().astype(np.float32)\n",
    "n_times = len(times)\n",
    "\n",
    "#lengths = tango_df.length.values[indices]\n",
    "#distances = np.cumsum(lengths)\n",
    "speed = 1/6. # 10m/min\n",
    "distances = speed * times * TAU # TODO need to understand why TAU.\n",
    "\n",
    "# get times in terms of trajectory\n",
    "times_corr, _, _  = traj.get_times_from_distances(arbitrary_distances=distances, plot=False)\n",
    "basis = traj.get_basis(times=times_corr)\n",
    "\n",
    "fig, ax = plt.subplots()\n",
    "ax = traj.plot(basis=basis, alpha=0.5)"
   ]
  },
  {
   "cell_type": "markdown",
   "metadata": {},
   "source": [
    "## real measurements"
   ]
  },
  {
   "cell_type": "code",
   "execution_count": null,
   "metadata": {},
   "outputs": [],
   "source": [
    "D_topright_real = np.zeros((n_times, n_anchors))\n",
    "\n",
    "for i, t in enumerate(times):\n",
    "    this_slice = df[(df.system_id=='RTT') & (df.timestamp == t)]\n",
    "    \n",
    "    # this can be done more elegantly with pandas\n",
    "    for anchor_name in this_slice.anchor_name:\n",
    "        a_id = anchor_names.index(anchor_name)\n",
    "        distance = this_slice.loc[this_slice.anchor_name==anchor_name, chosen_distance].values[0]\n",
    "        \n",
    "        if dimension == 3:\n",
    "            D_topright_real[i, a_id] = distance ** 2\n",
    "        else:\n",
    "            if chosen_distance != 'distance_tango_2D':\n",
    "                anchor_height = anchors_df[anchors_df.anchor_name==anchor_name].pz\n",
    "                distance_sq = distance ** 2 - (anchor_height - ROBOT_HEIGHT) ** 2\n",
    "            else:\n",
    "                distance_sq = distance ** 2\n",
    "            D_topright_real[i, a_id] = distance_sq\n",
    "        \n",
    "plt.figure()\n",
    "plt.matshow(D_topright[:40, :].T)\n",
    "plt.title('first 40 rows of D_topright, transposed')"
   ]
  },
  {
   "cell_type": "markdown",
   "metadata": {},
   "source": [
    "## simulated measurements"
   ]
  },
  {
   "cell_type": "code",
   "execution_count": null,
   "metadata": {},
   "outputs": [],
   "source": [
    "# now we need the real trajectory, so we do not scramble.\n",
    "traj = get_trajectory(name + '.csv')\n",
    "\n",
    "points = traj.get_sampling_points(basis=basis)\n",
    "plt.figure()\n",
    "plt.scatter(*points[:2])\n",
    "plt.axis('equal')\n",
    "\n",
    "from measurements import get_D_topright, add_noise\n",
    "D_topright_sim = get_D_topright(anchors=anchors[:dimension], samples=points[:2])\n",
    "np.random.seed(1)\n",
    "D_topright_sim = add_noise(D_topright_sim, sigma, noise_to_square=False)"
   ]
  },
  {
   "cell_type": "markdown",
   "metadata": {},
   "source": [
    "## Estimate trajectory"
   ]
  },
  {
   "cell_type": "code",
   "execution_count": null,
   "metadata": {},
   "outputs": [],
   "source": [
    "from solvers import alternativePseudoInverse\n",
    "\n",
    "#D_topright = D_topright_sim\n",
    "D_topright = D_topright_real\n",
    "print(anchors.shape)\n",
    "\n",
    "coeffs = alternativePseudoInverse(D_topright, anchors[:2], basis, \n",
    "                                  weighted=False)\n",
    "print(coeffs)\n",
    "#print(traj.coeffs)\n",
    "trajectory_estimated = traj.copy()\n",
    "trajectory_estimated.set_coeffs(coeffs=coeffs)\n",
    "plt.figure()\n",
    "ax = trajectory_estimated.plot()\n",
    "points = trajectory_estimated.get_sampling_points(basis=basis)\n",
    "points_true = traj.get_sampling_points(basis=basis)\n",
    "ax.scatter(*points[:2])\n",
    "ax.scatter(*points_true[:2])\n",
    "for a_coord, a_name in zip(anchors[:2].T, anchor_names):\n",
    "    ax.scatter(*a_coord, color='green'); ax.annotate(s=a_name, xy=a_coord, color='green')\n",
    "plt.axis('equal')\n",
    "if dimension > 2:\n",
    "    plt.figure()\n",
    "    plt.plot(times, points[2])\n",
    "    plt.plot(times, points_true[2])"
   ]
  },
  {
   "cell_type": "markdown",
   "metadata": {},
   "source": [
    "When setting sigma to 10 in simulated measurements, then the recovered trajectory looks very similar to the reconstruction using real noisy measurements. We should investigate why. Hypothesis: we take samples at the same time so maybe we oversample in one region compared to the other region.  "
   ]
  },
  {
   "cell_type": "code",
   "execution_count": null,
   "metadata": {},
   "outputs": [],
   "source": []
  }
 ],
 "metadata": {
  "kernelspec": {
   "display_name": "Python 3",
   "language": "python",
   "name": "python3"
  },
  "language_info": {
   "codemirror_mode": {
    "name": "ipython",
    "version": 3
   },
   "file_extension": ".py",
   "mimetype": "text/x-python",
   "name": "python",
   "nbconvert_exporter": "python",
   "pygments_lexer": "ipython3",
   "version": "3.5.2"
  }
 },
 "nbformat": 4,
 "nbformat_minor": 2
}
