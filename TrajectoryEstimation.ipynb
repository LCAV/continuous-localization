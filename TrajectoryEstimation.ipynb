{
 "cells": [
  {
   "cell_type": "markdown",
   "metadata": {},
   "source": [
    "# Trajectory estimation"
   ]
  },
  {
   "cell_type": "code",
   "execution_count": null,
   "metadata": {},
   "outputs": [],
   "source": [
    "import math\n",
    "import matplotlib.pyplot as plt\n",
    "import numpy as np\n",
    "import pandas as pd\n",
    "import seaborn as sns\n",
    "\n",
    "import os\n",
    "\n",
    "%matplotlib inline\n",
    "%reload_ext autoreload\n",
    "%autoreload 2\n",
    "\n",
    "np.set_printoptions(precision=2)"
   ]
  },
  {
   "cell_type": "markdown",
   "metadata": {},
   "source": [
    "## Read and plot dataset"
   ]
  },
  {
   "cell_type": "code",
   "execution_count": null,
   "metadata": {},
   "outputs": [],
   "source": [
    "dimension = 2 # can be 2 or 3.\n",
    "n_measurements = -1 # set to None or -1 to use all. \n",
    "# chosen_distance = 'distance_tango_2D'\n",
    "chosen_distance = 'distance'\n",
    "chosen_anchor_names = ['RTT 0', 'RTT 1', 'RTT 2', 'RTT 6']\n",
    "\n",
    "sigma = 10 # noise for simulated measurements\n",
    "\n",
    "out_dir = 'experiments/robot_test/'\n",
    "anchorsfile = 'experiments/anchors.csv'\n",
    "\n",
    "# All comments are with Tango, right?\n",
    "name = 'circle2_double_0' # OK, the speed 1/7\n",
    "# name = 'circle2_double_1' # OK, the speed  1/7 \n",
    "# (is it possible that we get more correct resutl with 1/6 but the Tango is off?)\n",
    "# name = 'circle3_triple_0' # OK, the speed  1/6\n",
    "# name = 'circle3_triple_2' # OK, the speed  1/6\n",
    "# name = 'clover_0' # does not work, obviously\n",
    "# name = 'straight1_0' # good\n",
    "# name = 'straight2_0' # good\n",
    "# name = 'straight3_0' # good now\n",
    "# name = 'straight4_0' # good now\n",
    "# name = 'straight5_0' # good now\n",
    "# name = 'straight6_0' # good\n",
    "\n",
    "df = pd.read_pickle(out_dir + name + '_calibrated.pkl')\n",
    "df.reset_index(inplace=True, drop=True)\n",
    "df.timestamp -= df.timestamp.values[0]\n",
    "df.head()"
   ]
  },
  {
   "cell_type": "code",
   "execution_count": null,
   "metadata": {},
   "outputs": [],
   "source": [
    "tango_df = df[df.system_id=='Tango']\n",
    "plt.figure()\n",
    "sns.scatterplot(x='px', y='py', hue='timestamp', data=tango_df)\n",
    "plt.title('2D of Tango data')\n",
    "plt.xlabel('x [m]'); plt.ylabel('y [m]')\n",
    "plt.axis('equal')\n",
    "plt.figure()\n",
    "plt.plot(tango_df.timestamp, tango_df.pz)\n",
    "plt.title('z of Tango data')\n",
    "plt.xlabel('time [s]'); plt.ylabel('z [m]')"
   ]
  },
  {
   "cell_type": "code",
   "execution_count": null,
   "metadata": {},
   "outputs": [],
   "source": [
    "from evaluate_dataset import read_anchors_df\n",
    "anchors_df = read_anchors_df(anchorsfile)\n",
    "\n",
    "all_anchor_names = set(sorted(df[df.system_id=='RTT'].anchor_name.unique()))\n",
    "anchor_names = list(sorted(all_anchor_names.intersection(chosen_anchor_names)))\n",
    "n_anchors = len(anchor_names)\n",
    "\n",
    "# if we do not have all we could do something elegant with pandas. \n",
    "anchors = anchors_df.loc[anchors_df.anchor_name.isin(anchor_names), ['px', 'py', 'pz']].values.T\n",
    "\n",
    "for anchor_name in anchor_names:\n",
    "    anchor_coord = anchors_df.loc[anchors_df.anchor_name==anchor_name, ['px','py']].values\n",
    "    points = tango_df.loc[:, ['px', 'py']].values\n",
    "    vecs = points.reshape((-1, 2)) - anchor_coord.reshape((1, 2))\n",
    "    distances = np.linalg.norm(vecs.astype(np.float32), axis=1)\n",
    "\n",
    "    df_rtt0 = df[df.anchor_name == anchor_name]\n",
    "\n",
    "    plt.figure()\n",
    "    plt.plot(tango_df.timestamp, distances, label='tango')\n",
    "    for distance in ['distance_tango_2D', 'distance_tango', 'distance', 'distance_median_all', 'distance_median_0']:\n",
    "        plt.scatter(df_rtt0.timestamp, df_rtt0.loc[:, distance], s=2, label=distance)\n",
    "    plt.xlabel('time [s]'); plt.ylabel('distance [m]'); plt.legend()\n",
    "    plt.title(anchor_name)"
   ]
  },
  {
   "cell_type": "markdown",
   "metadata": {},
   "source": [
    "## Construct D, basis and anchors"
   ]
  },
  {
   "cell_type": "code",
   "execution_count": null,
   "metadata": {},
   "outputs": [],
   "source": [
    "from global_variables import TAU, ROBOT_HEIGHT\n",
    "from evaluate_dataset import get_length\n",
    "\n",
    "# EITHER: compute distances from ground truth\n",
    "lengths = get_length(tango_df)\n",
    "distances = np.cumsum(lengths)\n",
    "\n",
    "# OR: compute distances from constant speed assumption.\n",
    "times = df.iloc[:n_measurements].timestamp.unique().astype(np.float32)\n",
    "speed = 1/6. # should be 10m/min\n",
    "distances = speed * times #* TAU # TODO need to understand why TAU.\n",
    "\n",
    "plt.figure()\n",
    "plt.hist(distances[times>0] / times[times>0])\n",
    "plt.title('speed histogram')\n",
    "\n",
    "print('used speed:', speed)\n",
    "print('average speed:',np.mean(distances[times>0] / times[times>0]))"
   ]
  },
  {
   "cell_type": "code",
   "execution_count": null,
   "metadata": {},
   "outputs": [],
   "source": [
    "# get times in terms of trajectory\n",
    "from trajectory_creator import get_trajectory\n",
    "#from trajectory import Trajectory\n",
    "traj = get_trajectory(name)\n",
    "times_corr, _, _  = traj.get_times_from_distances(arbitrary_distances=distances, plot=False, time_steps=10000)\n",
    "basis = traj.get_basis(times=times_corr)\n",
    "\n",
    "fig, ax = plt.subplots()\n",
    "ax = traj.plot(times=times_corr, alpha=0.5)"
   ]
  },
  {
   "cell_type": "markdown",
   "metadata": {},
   "source": [
    "## real measurements"
   ]
  },
  {
   "cell_type": "code",
   "execution_count": null,
   "metadata": {},
   "outputs": [],
   "source": [
    "from evaluate_dataset import compute_distance_matrix\n",
    "\n",
    "D_topright_real = compute_distance_matrix(df, anchors_df, anchor_names, times, \n",
    "                                          chosen_distance, dimension=dimension, \n",
    "                                          robot_height=ROBOT_HEIGHT)\n",
    "        \n",
    "plt.figure()\n",
    "plt.matshow(D_topright_real[:40, :].T)\n",
    "plt.title('first 40 rows of D_topright, transposed')"
   ]
  },
  {
   "cell_type": "markdown",
   "metadata": {},
   "source": [
    "## simulated measurements"
   ]
  },
  {
   "cell_type": "code",
   "execution_count": null,
   "metadata": {},
   "outputs": [],
   "source": [
    "# now we need the real trajectory, so we do not scramble.\n",
    "traj = get_trajectory(name)\n",
    "\n",
    "points = traj.get_sampling_points(basis=basis)\n",
    "plt.figure()\n",
    "plt.scatter(*points[:2])\n",
    "plt.axis('equal')\n",
    "\n",
    "from measurements import get_D_topright, add_noise\n",
    "D_topright_sim = get_D_topright(anchors=anchors[:dimension], samples=points[:2])\n",
    "np.random.seed(1)\n",
    "D_topright_sim = add_noise(D_topright_sim, sigma, noise_to_square=False)"
   ]
  },
  {
   "cell_type": "markdown",
   "metadata": {},
   "source": [
    "## Estimate trajectory\n",
    "### Using Tango measurements with added noise"
   ]
  },
  {
   "cell_type": "code",
   "execution_count": null,
   "metadata": {},
   "outputs": [],
   "source": [
    "from solvers import alternativePseudoInverse\n",
    "\n",
    "#D_topright = D_topright_sim\n",
    "# D_topright = D_topright_real\n",
    "if 'tango' in chosen_distance:\n",
    "    for sigma in [0., 0.1, 1, 2, 3, 4]:\n",
    "        D_topright = add_noise(D_topright_real, sigma, noise_to_square=False)\n",
    "        print(anchors.shape)\n",
    "\n",
    "        coeffs = alternativePseudoInverse(D_topright, anchors[:2], basis, \n",
    "                                          weighted=False)\n",
    "        print(coeffs)\n",
    "        #print(traj.coeffs)\n",
    "        trajectory_estimated = traj.copy()\n",
    "        trajectory_estimated.set_coeffs(coeffs=coeffs)\n",
    "        plt.figure()\n",
    "        ax = trajectory_estimated.plot()\n",
    "        points = trajectory_estimated.get_sampling_points(basis=basis)\n",
    "        points_true = traj.get_sampling_points(basis=basis)\n",
    "        points_tango = tango_df.loc[:, ['px', 'py']].values.T\n",
    "        ax.scatter(*points_true[:2], label='model')\n",
    "        ax.scatter(*points[:2], label='reconstructed')\n",
    "        ax.plot(*points_tango[:2], label='tango', color='black')\n",
    "        for a_coord, a_name in zip(anchors[:2].T, anchor_names):\n",
    "            ax.scatter(*a_coord, color='black'); ax.annotate(s=a_name, xy=a_coord, color='black')\n",
    "        plt.axis('equal')\n",
    "        if dimension > 2:\n",
    "            plt.figure()\n",
    "            plt.plot(times, points_true[2], label='model')\n",
    "            plt.plot(times, points[2], label='reconstructed')\n",
    "        plt.title(r\"$\\sigma$: {}\".format(sigma))\n",
    "        plt.legend()"
   ]
  },
  {
   "cell_type": "markdown",
   "metadata": {},
   "source": [
    "When setting sigma to 10 in simulated measurements, then the recovered trajectory looks very similar to the reconstruction using real noisy measurements. We should investigate why. Hypothesis: we take samples at the same time so maybe we oversample in one region compared to the other region.  "
   ]
  },
  {
   "cell_type": "markdown",
   "metadata": {},
   "source": [
    "### Plot variance in the RTT data.\n",
    "If we split measurements from RTTs to different sets by dividing them modulo number of stes (`split`) we get very similar reconstruction. This might mean that there is the bias in our data, but it is also possible that it is an artefact of resampling."
   ]
  },
  {
   "cell_type": "code",
   "execution_count": null,
   "metadata": {
    "scrolled": false
   },
   "outputs": [],
   "source": [
    "#D_topright = D_topright_sim\n",
    "# D_topright = D_topright_real\n",
    "\n",
    "\n",
    "#Recalibrate using params from the other notebook, for 2D data (yes, I know it's ugly):\n",
    "[a, b] = [1.1960015109177586, 3.078068231948606]\n",
    "D_topright_all = (D_topright_real - b)/a\n",
    "\n",
    "if 'tango' not in chosen_distance:\n",
    "    split = 20\n",
    "    fig, ax = plt.subplots(1, figsize=(10, 10))\n",
    "    points_tango = tango_df.loc[:, ['px', 'py']].values.T\n",
    "    ax.plot(*points_tango[:2], label='tango', color='black')\n",
    "    for idx in range(split):\n",
    "        D_topright = D_topright_all[idx::split]\n",
    "        coeffs = alternativePseudoInverse(D_topright, anchors[:2], basis[:, idx::split], \n",
    "                                          weighted=False)\n",
    "        trajectory_estimated = traj.copy()\n",
    "        trajectory_estimated.set_coeffs(coeffs=coeffs)\n",
    "        points = trajectory_estimated.get_sampling_points(basis=basis)\n",
    "        points_true = traj.get_sampling_points(basis=basis)\n",
    "        \n",
    "        ax.scatter(*points[:2], label='reconstructed', alpha=0.3)\n",
    "        for a_coord, a_name in zip(anchors[:2].T, anchor_names):\n",
    "            ax.scatter(*a_coord, color='black'); ax.annotate(s=a_name, xy=a_coord, color='black')\n",
    "        plt.axis('equal')\n",
    "        if dimension > 2:\n",
    "            plt.figure()\n",
    "            plt.plot(times, points_true[2], label='model')\n",
    "            plt.plot(times, points[2], label='reconstructed')\n",
    "        plt.title(r\"$\\sigma$: {}\".format(sigma))\n",
    "        plt.legend()\n",
    "    plt.show()"
   ]
  },
  {
   "cell_type": "markdown",
   "metadata": {},
   "source": [
    "### Plot reconstruction error depending both on noise on distances and wrong speed estimation"
   ]
  },
  {
   "cell_type": "code",
   "execution_count": null,
   "metadata": {},
   "outputs": [],
   "source": [
    "from solvers import alternativePseudoInverse\n",
    "from measurements import get_D_topright, add_noise\n",
    "\n",
    "# now we need the real trajectory, so we do not scramble.\n",
    "generator_name = '_'.join(name.split('_')[:-1])\n",
    "traj = get_trajectory(generator_name + '.csv')\n",
    "times = traj.get_times(n_samples=50)\n",
    "basis = traj.get_basis(times=times)\n",
    "points = traj.get_sampling_points(basis=basis)\n",
    "D_topright = get_D_topright(anchors=anchors[:dimension], samples=points[:2])\n",
    "\n",
    "sigmas = [0.1, 1, 2]\n",
    "speeds = [0.8, 0.9, 1, 1.1, 1.25]\n",
    "\n",
    "fig, axis = plt.subplots(len(speeds), len(sigmas), figsize=(15,20))\n",
    "\n",
    "for j, speed in enumerate(speeds):\n",
    "    for i, sigma in enumerate(sigmas):\n",
    "        # Plots look very different for different seeds\n",
    "        # I fix seed so it is easier to observe the efects of noise and speed\n",
    "        np.random.seed(3)\n",
    "        D_topright_noise = add_noise(D_topright, sigma, noise_to_square=False)\n",
    "        jittered_times = times * speed\n",
    "        jittered_basis = traj.get_basis(times=jittered_times)\n",
    "        coeffs = alternativePseudoInverse(D_topright_noise, anchors[:2], jittered_basis, \n",
    "                                          weighted=False)\n",
    "        trajectory_estimated = traj.copy()\n",
    "        trajectory_estimated.set_coeffs(coeffs=coeffs)\n",
    "        traj.plot(ax=axis[j][i], c=\"C0\")\n",
    "        trajectory_estimated.plot(ax=axis[j][i], c=\"C1\")\n",
    "        points = trajectory_estimated.get_sampling_points(basis=jittered_basis)\n",
    "        points_true = traj.get_sampling_points(basis=basis)\n",
    "        axis[j][i].scatter(*points_true[:2], label='model', c=\"C0\")\n",
    "        axis[j][i].scatter(*points[:2], label='reconstructed', c=\"C1\")\n",
    "\n",
    "        for a_coord, a_name in zip(anchors[:2].T, anchor_names):\n",
    "            axis[j][i].scatter(*a_coord, color='black'); ax.annotate(s=a_name, xy=a_coord, color='black')\n",
    "        axis[j][i].axis('equal')\n",
    "        axis[j][i].legend()\n",
    "        axis[j][i].set_title(r\"$\\sigma$: {}, speed: {:.2f}\".format(sigma, speed))"
   ]
  },
  {
   "cell_type": "markdown",
   "metadata": {},
   "source": [
    "### Plot reconstruction error depending both on noise on distances and noisy times \n",
    "This should mimic for example the non constant speed, it's just an approximation, because in practice time noise will be corelated and not iid gaussian like here. But it seems that small amount of jitter is not an issue.\n",
    "\n",
    "And sorry for copypasting code, but I don't know how much of it we want to keep."
   ]
  },
  {
   "cell_type": "code",
   "execution_count": null,
   "metadata": {},
   "outputs": [],
   "source": [
    "from solvers import alternativePseudoInverse\n",
    "from measurements import get_D_topright, add_noise\n",
    "\n",
    "# now we need the real trajectory, so we do not scramble.\n",
    "generator_name = '_'.join(name.split('_')[:-1])\n",
    "traj = get_trajectory(generator_name + '.csv')\n",
    "times = traj.get_times(n_samples=50)\n",
    "basis = traj.get_basis(times=times)\n",
    "points = traj.get_sampling_points(basis=basis)\n",
    "D_topright = get_D_topright(anchors=anchors[:dimension], samples=points[:2])\n",
    "\n",
    "sigmas = [0.1, 1, 2]\n",
    "time_sigmas = [0., 0.05, 0.1, 0.5, 1]\n",
    "\n",
    "fig, axis = plt.subplots(len(speeds), len(sigmas), figsize=(15,20))\n",
    "\n",
    "for j, time_sigma in enumerate(time_sigmas):\n",
    "    for i, sigma in enumerate(sigmas):\n",
    "        # Plots look very different for different seeds\n",
    "        # I fix seed so it is easier to observe the efects of noise and speed\n",
    "        np.random.seed(3)\n",
    "        D_topright_noise = add_noise(D_topright, sigma, noise_to_square=False)\n",
    "        jittered_times = times + time_sigma * np.random.randn(len(times))\n",
    "        jittered_basis = traj.get_basis(times=jittered_times)\n",
    "        coeffs = alternativePseudoInverse(D_topright_noise, anchors[:2], jittered_basis, weighted=False)\n",
    "        trajectory_estimated = traj.copy()\n",
    "        trajectory_estimated.set_coeffs(coeffs=coeffs)\n",
    "        traj.plot(ax=axis[j][i], c=\"C0\")\n",
    "        trajectory_estimated.plot(ax=axis[j][i], c=\"C1\")\n",
    "        points = trajectory_estimated.get_sampling_points(basis=jittered_basis)\n",
    "        points_true = traj.get_sampling_points(basis=basis)\n",
    "        axis[j][i].scatter(*points_true[:2], label='model', c=\"C0\")\n",
    "        axis[j][i].scatter(*points[:2], label='reconstructed', c=\"C1\")\n",
    "\n",
    "        for a_coord, a_name in zip(anchors[:2].T, anchor_names):\n",
    "            axis[j][i].scatter(*a_coord, color='black'); ax.annotate(s=a_name, xy=a_coord, color='black')\n",
    "        axis[j][i].axis('equal')\n",
    "        axis[j][i].legend()\n",
    "        axis[j][i].set_title(r\"$\\sigma$: {}, $\\sigma_t$: {}\".format(sigma, time_sigma))"
   ]
  },
  {
   "cell_type": "markdown",
   "metadata": {},
   "source": [
    "## Debugging"
   ]
  },
  {
   "cell_type": "code",
   "execution_count": null,
   "metadata": {},
   "outputs": [],
   "source": [
    "distances = df.loc[df.anchor_name=='RTT 2', chosen_distance].values\n",
    "print(distances)\n",
    "\n",
    "# first point\n",
    "start_point = tango_df.iloc[0][['px', 'py']].values\n",
    "end_point = tango_df.iloc[-1][['px', 'py']].values\n",
    "\n",
    "print(start_point, end_point)\n",
    "\n",
    "#start_time = df.iloc[0].timestamp\n",
    "#end_time = df.iloc[-1].timestamp\n",
    "start_time = times_corr[0]\n",
    "end_time = times_corr[-1]\n",
    "print(start_time, end_time)\n",
    "points = trajectory_estimated.get_sampling_points(times=[start_time, end_time]).T.tolist()\n",
    "print(points)\n",
    "\n",
    "# anchors is of shape  dimxK\n",
    "for i in range(anchors.shape[1]):\n",
    "    a = anchors[:2, i]\n",
    "    anchor_name = 'RTT {}'.format(i)\n",
    "    print(anchor_name)\n",
    "    \n",
    "    print('start distance')\n",
    "    print(np.linalg.norm(a - start_point))\n",
    "    \n",
    "    dist = df[df.anchor_name==anchor_name].iloc[0].loc[chosen_distance]\n",
    "    print(dist)\n",
    "    \n",
    "    print('end distance')\n",
    "    print(np.linalg.norm(a - end_point))\n",
    "    time = df[df.anchor_name==anchor_name].iloc[-1].timestamp\n",
    "    dist = df[df.anchor_name==anchor_name].iloc[-1].loc[chosen_distance]\n",
    "    print(dist)"
   ]
  },
  {
   "cell_type": "code",
   "execution_count": null,
   "metadata": {},
   "outputs": [],
   "source": []
  }
 ],
 "metadata": {
  "kernelspec": {
   "display_name": "Python 3",
   "language": "python",
   "name": "python3"
  },
  "language_info": {
   "codemirror_mode": {
    "name": "ipython",
    "version": 3
   },
   "file_extension": ".py",
   "mimetype": "text/x-python",
   "name": "python",
   "nbconvert_exporter": "python",
   "pygments_lexer": "ipython3",
   "version": "3.5.2"
  }
 },
 "nbformat": 4,
 "nbformat_minor": 2
}
