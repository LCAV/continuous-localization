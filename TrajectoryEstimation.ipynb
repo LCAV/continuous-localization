{
 "cells": [
  {
   "cell_type": "markdown",
   "metadata": {},
   "source": [
    "# Trajectory estimation"
   ]
  },
  {
   "cell_type": "code",
   "execution_count": null,
   "metadata": {},
   "outputs": [],
   "source": [
    "import math\n",
    "import matplotlib.pyplot as plt\n",
    "import numpy as np\n",
    "import pandas as pd\n",
    "import seaborn as sns\n",
    "\n",
    "import os\n",
    "\n",
    "%matplotlib notebook\n",
    "%reload_ext autoreload\n",
    "%autoreload 2\n",
    "\n",
    "np.set_printoptions(precision=2)"
   ]
  },
  {
   "cell_type": "markdown",
   "metadata": {},
   "source": [
    "## Read and plot dataset"
   ]
  },
  {
   "cell_type": "code",
   "execution_count": null,
   "metadata": {},
   "outputs": [],
   "source": [
    "import pickle\n",
    "\n",
    "dimension = 2\n",
    "chosen_distance = 'distance_tango'#'distance_median_0'\n",
    "\n",
    "out_dir = 'experiments/robot_test/'\n",
    "\n",
    "name = 'circle2_double'\n",
    "df = pd.read_pickle(out_dir + name + '_0_calibrated.pkl')\n",
    "df.reset_index(inplace=True, drop=True)\n",
    "df.timestamp -= df.timestamp.values[0]\n",
    "df.head()"
   ]
  },
  {
   "cell_type": "code",
   "execution_count": null,
   "metadata": {},
   "outputs": [],
   "source": [
    "tango_df = df[df.system_id=='Tango']\n",
    "plt.figure()\n",
    "sns.scatterplot(x='px', y='py', hue='timestamp', data=tango_df)\n",
    "plt.title('2D of Tango data')\n",
    "plt.xlabel('x [m]'); plt.ylabel('y [m]')\n",
    "plt.figure()\n",
    "plt.plot(tango_df.timestamp, tango_df.pz)\n",
    "plt.title('z of Tango data')\n",
    "plt.xlabel('time [s]'); plt.ylabel('z [m]')"
   ]
  },
  {
   "cell_type": "code",
   "execution_count": null,
   "metadata": {},
   "outputs": [],
   "source": [
    "df_rtt0 = df[df.anchor_name == 'RTT 0']\n",
    "plt.scatter(df_rtt0.timestamp, df_rtt0.loc[:, chosen_distance])"
   ]
  },
  {
   "cell_type": "markdown",
   "metadata": {},
   "source": [
    "## Construct D, basis and anchors"
   ]
  },
  {
   "cell_type": "code",
   "execution_count": null,
   "metadata": {},
   "outputs": [],
   "source": [
    "from evaluate_dataset import read_anchors_df\n",
    "anchorsfile = 'experiments/anchors.csv'\n",
    "anchors_df = read_anchors_df(anchorsfile)\n",
    "\n",
    "# if we do not have all we could do something elegant with pandas. \n",
    "print(anchor_names)\n",
    "anchors = anchors_df.loc[anchors_df.anchor_name.isin(anchor_names), ['px', 'py', 'pz']].values.T\n",
    "print(anchors.shape)"
   ]
  },
  {
   "cell_type": "code",
   "execution_count": null,
   "metadata": {},
   "outputs": [],
   "source": [
    "from trajectory import Trajectory\n",
    "from global_variables import TAU\n",
    "\n",
    "#from trajectory_creator import get_trajectory\n",
    "#traj = get_trajectory(name + '.csv')\n",
    "traj = Trajectory(n_complexity=3, dim=dimension, model='full_bandlimited')\n",
    "traj.set_coeffs(seed=3)\n",
    "robot_height = 0.25"
   ]
  },
  {
   "cell_type": "code",
   "execution_count": null,
   "metadata": {},
   "outputs": [],
   "source": [
    "n_measurements = -1\n",
    "# N_times x N_anchors\n",
    "anchor_names = sorted(df[df.system_id=='RTT'].anchor_name.unique().tolist())\n",
    "n_anchors = len(anchor_names)\n",
    "\n",
    "times = df.iloc[:n_measurements].timestamp.unique().astype(np.float32)\n",
    "n_times = len(times)\n",
    "D_topright = np.zeros((n_times, n_anchors))\n",
    "\n",
    "fig, ax = plt.subplots()\n",
    "ax = traj.plot()\n",
    "#lengths = tango_df.length.values[indices]\n",
    "#distances = np.cumsum(lengths)\n",
    "speed = 1/6. # 10m/min\n",
    "distances = speed * times * TAU\n",
    "times_corr, _, _  = traj.get_times_from_distances(arbitrary_distances=distances, plot=False)\n",
    "    \n",
    "basis = traj.get_basis(times=times_corr)\n",
    "print(basis.shape)\n",
    "points = traj.get_sampling_points(basis=basis)\n",
    "ax.scatter(*points[:2]) "
   ]
  },
  {
   "cell_type": "markdown",
   "metadata": {},
   "source": [
    "## real measurements"
   ]
  },
  {
   "cell_type": "code",
   "execution_count": null,
   "metadata": {},
   "outputs": [],
   "source": [
    "for i, t in enumerate(times):\n",
    "    this_slice = df[(df.system_id=='RTT') & (df.timestamp == t)]\n",
    "    \n",
    "    # this can be done more elegantly with pandas\n",
    "    for anchor_name in this_slice.anchor_name:\n",
    "        a_id = anchor_names.index(anchor_name)\n",
    "        distance = this_slice.loc[this_slice.anchor_name==anchor_name, chosen_distance].values[0]\n",
    "        \n",
    "        if dimension == 3:\n",
    "            D_topright[i, a_id] = distance ** 2\n",
    "        else:\n",
    "            anchor_height = anchors_df[anchors_df.anchor_name==anchor_name].pz\n",
    "            distance_sq = distance ** 2 - (anchor_height - robot_height) ** 2\n",
    "            D_topright[i, a_id] = distance_sq\n",
    "        \n",
    "#plt.figure()\n",
    "#plt.matshow(D_topright)"
   ]
  },
  {
   "cell_type": "markdown",
   "metadata": {},
   "source": [
    "## simulated measurements"
   ]
  },
  {
   "cell_type": "code",
   "execution_count": null,
   "metadata": {},
   "outputs": [],
   "source": [
    "if dimension == 3:\n",
    "    coeffs = np.array([[0, 2, 0], [0, 0, 2], [robot_height, 0, 0]])\n",
    "else:\n",
    "    coeffs = np.array([[0, 2, 0], [0, 0, 2]])\n",
    "    print(coeffs.shape)\n",
    "traj.set_coeffs(coeffs=coeffs)\n",
    "basis = traj.get_basis(times=times_corr)\n",
    "points = traj.get_sampling_points(basis=basis)\n",
    "plt.scatter(*points[:2])\n",
    "plt.axis('equal')\n",
    "\n",
    "from measurements import get_D_topright, add_noise\n",
    "D_topright = get_D_topright(anchors=anchors[:dimension], samples=points)\n",
    "sigma = 10#0.1\n",
    "D_topright = add_noise(D_topright, sigma, noise_to_square=False)"
   ]
  },
  {
   "cell_type": "code",
   "execution_count": null,
   "metadata": {},
   "outputs": [],
   "source": [
    "from constraints import get_C_constraints\n",
    "\n",
    "anchors = anchors[:dimension]\n",
    "\n",
    "# sanity check if dimensions etc. are correct\n",
    "T_A, T_B, b = get_C_constraints(D_topright, anchors, basis)"
   ]
  },
  {
   "cell_type": "markdown",
   "metadata": {},
   "source": [
    "## Estimate trajectory"
   ]
  },
  {
   "cell_type": "code",
   "execution_count": null,
   "metadata": {},
   "outputs": [],
   "source": [
    "from solvers import alternativePseudoInverse\n",
    "coeffs = alternativePseudoInverse(D_topright, anchors, basis, \n",
    "                                  weighted=False)\n",
    "print(coeffs)\n",
    "#print(traj.coeffs)\n",
    "trajectory_estimated = traj.copy()\n",
    "trajectory_estimated.set_coeffs(coeffs=coeffs)\n",
    "ax = trajectory_estimated.plot()\n",
    "points = trajectory_estimated.get_sampling_points(basis=basis)\n",
    "points_true = traj.get_sampling_points(basis=basis)\n",
    "ax.scatter(*points[:2])\n",
    "ax.scatter(*points_true[:2])\n",
    "#ax.scatter(*tango_df.loc[:, ['px', 'py']].values.T)\n",
    "plt.axis('equal')\n",
    "if dimension > 2:\n",
    "    plt.figure()\n",
    "    plt.plot(times, points[2])\n",
    "    plt.plot(times, points_true[2])"
   ]
  },
  {
   "cell_type": "markdown",
   "metadata": {},
   "source": [
    "When setting sigma to 10 in simulated measurements, then the recovered trajectory looks very similar to the reconstruction using real noisy measurements. We should investigate why. Hypothesis: we take samples at the same time so maybe we oversample in one region compared to the other region.  "
   ]
  },
  {
   "cell_type": "code",
   "execution_count": null,
   "metadata": {},
   "outputs": [],
   "source": []
  }
 ],
 "metadata": {
  "kernelspec": {
   "display_name": "Python 3",
   "language": "python",
   "name": "python3"
  },
  "language_info": {
   "codemirror_mode": {
    "name": "ipython",
    "version": 3
   },
   "file_extension": ".py",
   "mimetype": "text/x-python",
   "name": "python",
   "nbconvert_exporter": "python",
   "pygments_lexer": "ipython3",
   "version": "3.5.2"
  }
 },
 "nbformat": 4,
 "nbformat_minor": 2
}
