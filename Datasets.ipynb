{
 "cells": [
  {
   "cell_type": "code",
   "execution_count": null,
   "metadata": {},
   "outputs": [],
   "source": [
    "import matplotlib.pyplot as plt\n",
    "import numpy as np\n",
    "import pandas as pd\n",
    "from scipy.io import loadmat\n",
    "import seaborn as sns\n",
    "\n",
    "%matplotlib inline\n",
    "%reload_ext autoreload\n",
    "%autoreload 2\n",
    "\n",
    "plt.rcParams['figure.figsize'] = 10, 5"
   ]
  },
  {
   "cell_type": "markdown",
   "metadata": {},
   "source": [
    "# Range-only data for localization \n",
    "\n",
    "WiFi: http://www.robesafe.es/repository/UAHWiFiDataset/\n",
    "\n",
    "Landmower: https://github.com/gtrll/gpslam/tree/master/matlab/data\n",
    "\n",
    "Download .mat files and save in folder ./datasets/\n",
    "\n",
    "\n",
    "File description (from WiFi website, seems to be similar for Landmower): \n",
    "```\n",
    "GT: Groundtruth path from Laser Scan matching\n",
    "Time (sec) \tX_pose (m) \tY_pose (m) \tHeading (rad)\n",
    "\n",
    "DR: Odometry Input (delta distance traveled and delta heading change)\n",
    "Time (sec) \tDelta Dist. Trav. (m) \tDelta Heading (rad)\n",
    "\n",
    "DR_PROC: Dead Reckoned Path from Odometry\n",
    "Time (sec) \tX_pose (m) \tY_pose (m) \tHeading (rad)\n",
    "\n",
    "TL: Surveyed Beacon Locations\n",
    "Time (sec) \tX_pose (m) \tY_pose (m)\n",
    "*NOTE by Frederike: above is probably ID instead of time.\n",
    "\n",
    "TD:\n",
    "Time (sec) \tSender / Antenna ID \tReceiver Node ID \tRange (m)\n",
    "```"
   ]
  },
  {
   "cell_type": "code",
   "execution_count": null,
   "metadata": {},
   "outputs": [],
   "source": [
    "# Need to give different systems a name.\n",
    "gt_system_id = \"GT\"\n",
    "gt_anchor_id = \"GT\"\n",
    "range_system_id = \"Range\"\n",
    "\n",
    "t_window = 1 # Time window to use for ground truth interpolation (see add_gt_raw).\n",
    "\n",
    "filename = 'datasets/uah1.mat'; # fingers\n",
    "#filename = 'datasets/uah2.mat'; # square\n",
    "#filename = 'datasets/Plaza1.mat'; # zig zag\n",
    "#filename = 'datasets/Plaza2.mat'; # triangle\n",
    "\n",
    "max_time = 1000 # maximum time to analyze.\n",
    "\n",
    "result_dict = loadmat(filename)\n",
    "print('keys:', result_dict.keys())"
   ]
  },
  {
   "cell_type": "code",
   "execution_count": null,
   "metadata": {},
   "outputs": [],
   "source": [
    "from evaluate_dataset import format_anchors_df, format_data_df\n",
    "\n",
    "anchor_data = result_dict['TL']\n",
    "anchors_df = pd.DataFrame(columns=['anchor_id', 'system_id', 'px', 'py', 'pz'])\n",
    "anchor_ids = np.unique(anchor_data[:, 0])\n",
    "for i, anchor_id in enumerate(anchor_ids):\n",
    "    anchors_df.loc[i, 'anchor_id'] = anchor_id \n",
    "    anchors_df.loc[i, 'system_id'] = range_system_id\n",
    "    \n",
    "    # it is weird that there is more than one value for each anchor, it looks\n",
    "    # like this was a bug in the dataset. we make sure they are all\n",
    "    # the same and pick the first.\n",
    "    px_values = np.unique(anchor_data[anchor_data[:, 0]==anchor_id, 1])\n",
    "    py_values = np.unique(anchor_data[anchor_data[:, 0]==anchor_id, 2])\n",
    "    assert len(px_values) == 1\n",
    "    assert len(py_values) == 1\n",
    "    anchors_df.loc[i, 'px'] = px_values[0]\n",
    "    anchors_df.loc[i, 'py'] = py_values[0]\n",
    "    \n",
    "anchors_df = format_anchors_df(anchors_df, range_system_id=range_system_id, \n",
    "                               gt_system_id=gt_system_id)\n",
    "print('anchors: \\n', anchors_df)\n",
    "\n",
    "range_df = pd.DataFrame(columns=['timestamp', 'px', 'py', 'pz', 'distance', \n",
    "                            'system_id', 'anchor_id'])\n",
    "range_df.loc[:, 'distance'] = result_dict['TD'][:, 3]\n",
    "range_df.loc[:, 'timestamp'] = result_dict['TD'][:, 0]\n",
    "range_df.loc[:, 'anchor_id'] = result_dict['TD'][:, 2]\n",
    "range_df.loc[:, 'system_id'] = range_system_id \n",
    "\n",
    "gt_df = pd.DataFrame(columns=range_df.columns)\n",
    "gt_df.loc[:, 'px'] = result_dict['GT'][:, 1]\n",
    "gt_df.loc[:, 'py'] = result_dict['GT'][:, 2]\n",
    "gt_df.loc[:, 'timestamp'] = result_dict['GT'][:, 0]\n",
    "gt_df.loc[:, 'anchor_id'] = gt_anchor_id\n",
    "gt_df.loc[:, 'system_id'] = gt_system_id\n",
    "\n",
    "full_df = pd.concat([range_df, gt_df], ignore_index=True)\n",
    "full_df.sort_values('timestamp', inplace=True)\n",
    "full_df.reset_index(drop=True, inplace=True)\n",
    "full_df.loc[:, 'timestamp'] = full_df.timestamp -full_df.timestamp.min()\n",
    "print('time going from {:.1f} to {:.1f}'.format(full_df.timestamp.min(), full_df.timestamp.max()))\n",
    "dropping = len(full_df[full_df.timestamp > max_time])\n",
    "print('warning: dropping {}/{}'.format(dropping, len(full_df)))\n",
    "full_df = full_df[full_df.timestamp <= max_time]\n",
    "full_df = format_data_df(full_df, anchors_df, gt_system_id=gt_system_id, \n",
    "                         range_system_id=range_system_id)"
   ]
  },
  {
   "cell_type": "code",
   "execution_count": null,
   "metadata": {},
   "outputs": [],
   "source": [
    "fig, axs = plt.subplots(1, 2)\n",
    "sns.scatterplot(data=full_df, x='px', y='py', hue='timestamp', linewidth=0.0, \n",
    "                ax=axs[0])\n",
    "sns.scatterplot(data=full_df, x='timestamp', y='px', hue='timestamp', linewidth=0.0, \n",
    "                 ax=axs[1])"
   ]
  },
  {
   "cell_type": "code",
   "execution_count": null,
   "metadata": {},
   "outputs": [],
   "source": [
    "from evaluate_dataset import add_gt_raw\n",
    "full_df = add_gt_raw(full_df, t_window=t_window, gt_system_id=gt_system_id)"
   ]
  },
  {
   "cell_type": "code",
   "execution_count": null,
   "metadata": {},
   "outputs": [],
   "source": [
    "fig, axs = plt.subplots(1, 2)\n",
    "range_df = full_df[full_df.system_id==range_system_id]\n",
    "sns.scatterplot(data=range_df, x='px', y='py', hue='timestamp', linewidth=0.0, \n",
    "                ax=axs[0])\n",
    "sns.scatterplot(data=anchors_df, x='px', y='py', linewidth=0.0,  ax=axs[0], color='red')\n",
    "sns.scatterplot(data=range_df, x='timestamp', y='px', hue='timestamp', linewidth=0.0, \n",
    "                 ax=axs[1])"
   ]
  },
  {
   "cell_type": "code",
   "execution_count": null,
   "metadata": {},
   "outputs": [],
   "source": [
    "from evaluate_dataset import apply_distance_gt\n",
    "full_df.loc[:, \"distance_gt\"] = full_df.apply(lambda row: apply_distance_gt(row, anchors_df, gt_system_id=gt_system_id), axis=1)"
   ]
  },
  {
   "cell_type": "code",
   "execution_count": null,
   "metadata": {},
   "outputs": [],
   "source": [
    "range_ids = full_df[full_df.system_id==range_system_id].anchor_id.unique()\n",
    "fig, axs = plt.subplots(len(range_ids), sharex=True)\n",
    "fig.set_size_inches(10, 10)\n",
    "for i, anchor_id in enumerate(sorted(range_ids)):\n",
    "    this_df = full_df[full_df.anchor_id==anchor_id]\n",
    "    axs[i].scatter(this_df.timestamp, this_df.distance, color='red', label='measured distance')\n",
    "    axs[i].scatter(this_df.timestamp, this_df.distance_gt, color='green', label='real distance')\n",
    "    axs[i].legend(loc='upper right')\n",
    "    axs[i].set_title('anchor {}'.format(anchor_id))\n",
    "    axs[i].set_ylabel('distance [m]')\n",
    "axs[i].set_xlabel('time [s]')"
   ]
  },
  {
   "cell_type": "code",
   "execution_count": null,
   "metadata": {},
   "outputs": [],
   "source": [
    "from evaluate_dataset import get_length, compute_distance_matrix\n",
    "from trajectory import Trajectory\n",
    "\n",
    "dimension=2\n",
    "\n",
    "# We want to find out the times of distance measurements, \n",
    "# and by how much we have moved.\n",
    "range_df = full_df[full_df.system_id==range_system_id]\n",
    "times = range_df.timestamp.unique()\n",
    "\n",
    "# We need to translate the times to \"trajectory space\"\n",
    "lengths = get_length(range_df)\n",
    "distances = np.cumsum(lengths)\n",
    "traj = Trajectory(n_complexity=5, dim=dimension, model='bandlimited', \n",
    "                  period=1000, full_period=True)\n",
    "times_corr,*_ = traj.get_times_from_distances(arbitrary_distances=distances)\n",
    "basis = traj.get_basis(times=times_corr)\n",
    "\n",
    "\n",
    "chosen_distance = 'distance'\n",
    "anchor_names = None # use all anchors.\n",
    "D = compute_distance_matrix(full_df, anchors_df, \n",
    "                            anchor_names, times, chosen_distance)\n",
    "\n",
    "plt.figure()\n",
    "plt.matshow(D[:10, :])\n",
    "plt.title('First 10 rows of D matrix')"
   ]
  },
  {
   "cell_type": "code",
   "execution_count": null,
   "metadata": {},
   "outputs": [],
   "source": []
  }
 ],
 "metadata": {
  "kernelspec": {
   "display_name": "Python 3",
   "language": "python",
   "name": "python3"
  },
  "language_info": {
   "codemirror_mode": {
    "name": "ipython",
    "version": 3
   },
   "file_extension": ".py",
   "mimetype": "text/x-python",
   "name": "python",
   "nbconvert_exporter": "python",
   "pygments_lexer": "ipython3",
   "version": "3.5.2"
  }
 },
 "nbformat": 4,
 "nbformat_minor": 2
}
