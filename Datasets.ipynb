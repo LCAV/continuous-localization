{
 "cells": [
  {
   "cell_type": "code",
   "execution_count": null,
   "metadata": {},
   "outputs": [],
   "source": [
    "import matplotlib.pyplot as plt\n",
    "import numpy as np\n",
    "import pandas as pd\n",
    "from scipy.io import loadmat\n",
    "import seaborn as sns\n",
    "\n",
    "%matplotlib inline\n",
    "%reload_ext autoreload\n",
    "%autoreload 2\n",
    "\n",
    "plt.rcParams['figure.figsize'] = 10, 5"
   ]
  },
  {
   "cell_type": "markdown",
   "metadata": {},
   "source": [
    "# Range-only data for localization \n",
    "\n",
    "WiFi: http://www.robesafe.es/repository/UAHWiFiDataset/\n",
    "\n",
    "Landmower: https://github.com/gtrll/gpslam/tree/master/matlab/data\n",
    "\n",
    "Download .mat files and save in folder ./datasets/\n",
    "\n",
    "\n",
    "File description (from WiFi website, seems to be similar for Landmower): \n",
    "```\n",
    "GT: Groundtruth path from Laser Scan matching\n",
    "Time (sec) \tX_pose (m) \tY_pose (m) \tHeading (rad)\n",
    "\n",
    "DR: Odometry Input (delta distance traveled and delta heading change)\n",
    "Time (sec) \tDelta Dist. Trav. (m) \tDelta Heading (rad)\n",
    "\n",
    "DR_PROC: Dead Reckoned Path from Odometry\n",
    "Time (sec) \tX_pose (m) \tY_pose (m) \tHeading (rad)\n",
    "\n",
    "TL: Surveyed Beacon Locations\n",
    "Time (sec) \tX_pose (m) \tY_pose (m)\n",
    "*NOTE by Frederike: above is probably ID instead of time.\n",
    "\n",
    "TD:\n",
    "Time (sec) \tSender / Antenna ID \tReceiver Node ID \tRange (m)\n",
    "```"
   ]
  },
  {
   "cell_type": "code",
   "execution_count": null,
   "metadata": {},
   "outputs": [],
   "source": [
    "# Need to give different systems a name.\n",
    "gt_system_id = \"GT\"\n",
    "gt_anchor_id = \"GT\"\n",
    "range_system_id = \"Range\"\n",
    "\n",
    "t_window = 1 # Time window to use for ground truth interpolation (see add_gt_raw).\n",
    "\n",
    "# How many anchors to skip:\n",
    "# Because of dataset bug, for uah1 and uah2 the anchros in TL file appear 4 times.\n",
    "skip_anchors = 1 \n",
    "\n",
    "filename = 'datasets/uah1.mat'; skip_anchors=4 # fingers\n",
    "#filename = 'datasets/uah2.mat'; skip_anchors=4 # square\n",
    "#filename = 'datasets/Plaza1.mat'; # zig zag\n",
    "#filename = 'datasets/Plaza2.mat'; # triangle\n",
    "\n",
    "max_time = 1000 # maximum time to analyze.\n",
    "\n",
    "result_dict = loadmat(filename)\n",
    "print('keys:', result_dict.keys())"
   ]
  },
  {
   "cell_type": "code",
   "execution_count": null,
   "metadata": {},
   "outputs": [],
   "source": [
    "range_df = pd.DataFrame(columns=['timestamp', 'px', 'py', 'pz', 'distance', \n",
    "                            'system_id', 'anchor_id'])\n",
    "range_df.loc[:, 'distance'] = result_dict['TD'][:, 3]\n",
    "range_df.loc[:, 'timestamp'] = result_dict['TD'][:, 0]\n",
    "range_df.loc[:, 'anchor_id'] = result_dict['TD'][:, 2]\n",
    "range_df.loc[:, 'system_id'] = range_system_id \n",
    "\n",
    "gt_df = pd.DataFrame(columns=range_df.columns)\n",
    "gt_df.loc[:, 'px'] = result_dict['GT'][:, 1]\n",
    "gt_df.loc[:, 'py'] = result_dict['GT'][:, 2]\n",
    "gt_df.loc[:, 'timestamp'] = result_dict['GT'][:, 0]\n",
    "gt_df.loc[:, 'anchor_id'] = gt_anchor_id\n",
    "gt_df.loc[:, 'system_id'] = gt_system_id\n",
    "\n",
    "full_df = pd.concat([range_df, gt_df], ignore_index=True)\n",
    "full_df.sort_values('timestamp', inplace=True)\n",
    "full_df.reset_index(drop=True, inplace=True)\n",
    "full_df.loc[:, 'timestamp'] = full_df.timestamp -full_df.timestamp.min()\n",
    "print('time going from {:.1f} to {:.1f}'.format(full_df.timestamp.min(), full_df.timestamp.max()))\n",
    "dropping = len(full_df[full_df.timestamp > max_time])\n",
    "print('warning: dropping {}/{}'.format(dropping, len(full_df)))\n",
    "full_df = full_df[full_df.timestamp <= max_time]\n",
    "\n",
    "anchors_df = pd.DataFrame(columns=['anchor_id', 'system_id', 'px', 'py', 'pz'])\n",
    "anchors_df.loc[:, 'anchor_id'] = result_dict['TL'][::skip_anchors, 0]\n",
    "anchors_df.loc[:, 'px'] = result_dict['TL'][::skip_anchors, 1]\n",
    "anchors_df.loc[:, 'py'] = result_dict['TL'][::skip_anchors, 2]\n",
    "anchors_df.loc[:, 'system_id'] = range_system_id\n",
    "print('anchors:', anchors_df)"
   ]
  },
  {
   "cell_type": "code",
   "execution_count": null,
   "metadata": {},
   "outputs": [],
   "source": [
    "fig, axs = plt.subplots(1, 2)\n",
    "sns.scatterplot(data=full_df, x='px', y='py', hue='timestamp', linewidth=0.0, \n",
    "                ax=axs[0])\n",
    "sns.scatterplot(data=full_df, x='timestamp', y='px', hue='timestamp', linewidth=0.0, \n",
    "                 ax=axs[1])"
   ]
  },
  {
   "cell_type": "code",
   "execution_count": null,
   "metadata": {},
   "outputs": [],
   "source": [
    "from evaluate_dataset import add_gt_raw\n",
    "full_df = add_gt_raw(full_df, t_window=t_window, gt_system_id=gt_system_id)"
   ]
  },
  {
   "cell_type": "code",
   "execution_count": null,
   "metadata": {},
   "outputs": [],
   "source": [
    "fig, axs = plt.subplots(1, 2)\n",
    "range_df = full_df[full_df.system_id==range_system_id]\n",
    "sns.scatterplot(data=range_df, x='px', y='py', hue='timestamp', linewidth=0.0, \n",
    "                ax=axs[0])\n",
    "sns.scatterplot(data=anchors_df, x='px', y='py', linewidth=0.0,  ax=axs[0], color='red')\n",
    "sns.scatterplot(data=range_df, x='timestamp', y='px', hue='timestamp', linewidth=0.0, \n",
    "                 ax=axs[1])"
   ]
  },
  {
   "cell_type": "code",
   "execution_count": null,
   "metadata": {},
   "outputs": [],
   "source": [
    "from evaluate_dataset import apply_distance_gt\n",
    "full_df.loc[:, \"distance_gt\"] = full_df.apply(lambda row: apply_distance_gt(row, anchors_df, gt_system_id=gt_system_id), axis=1)"
   ]
  },
  {
   "cell_type": "code",
   "execution_count": null,
   "metadata": {},
   "outputs": [],
   "source": [
    "range_ids = full_df[full_df.system_id==range_system_id].anchor_id.unique()\n",
    "fig, axs = plt.subplots(len(range_ids), sharex=True)\n",
    "fig.set_size_inches(10, 10)\n",
    "for i, anchor_id in enumerate(sorted(range_ids)):\n",
    "    this_df = full_df[full_df.anchor_id==anchor_id]\n",
    "    axs[i].scatter(this_df.timestamp, this_df.distance, color='red', label='real distance')\n",
    "    axs[i].scatter(this_df.timestamp, this_df.distance_gt, color='green', label='measured distance')\n",
    "    axs[i].legend(loc='upper right')\n",
    "    axs[i].set_title('anchor {}'.format(anchor_id))\n",
    "    axs[i].set_ylabel('distance [m]')\n",
    "axs[i].set_xlabel('time [s]')"
   ]
  },
  {
   "cell_type": "code",
   "execution_count": null,
   "metadata": {},
   "outputs": [],
   "source": []
  }
 ],
 "metadata": {
  "kernelspec": {
   "display_name": "Python 3",
   "language": "python",
   "name": "python3"
  },
  "language_info": {
   "codemirror_mode": {
    "name": "ipython",
    "version": 3
   },
   "file_extension": ".py",
   "mimetype": "text/x-python",
   "name": "python",
   "nbconvert_exporter": "python",
   "pygments_lexer": "ipython3",
   "version": "3.5.2"
  }
 },
 "nbformat": 4,
 "nbformat_minor": 2
}
