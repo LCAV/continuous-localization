{
 "cells": [
  {
   "cell_type": "code",
   "execution_count": null,
   "metadata": {},
   "outputs": [],
   "source": [
    "import matplotlib.pyplot as plt\n",
    "import numpy as np\n",
    "import pandas as pd\n",
    "from scipy.io import loadmat\n",
    "import seaborn as sns\n",
    "\n",
    "%matplotlib inline\n",
    "#%matplotlib notebook\n",
    "%reload_ext autoreload\n",
    "%autoreload 2\n",
    "\n",
    "from data_utils import *\n",
    "\n",
    "plt.rcParams['figure.figsize'] = 7, 3"
   ]
  },
  {
   "cell_type": "markdown",
   "metadata": {},
   "source": [
    "# Range-only datasets for localization \n",
    "\n",
    "### Download .mat files and save them in folder ./datasets/\n",
    "\n",
    "WiFi: http://www.robesafe.es/repository/UAHWiFiDataset/\n",
    "\n",
    "Landmower: https://github.com/gtrll/gpslam/tree/master/matlab/data\n",
    "\n",
    "See README for file description. "
   ]
  },
  {
   "cell_type": "markdown",
   "metadata": {},
   "source": [
    "## Choose dataset"
   ]
  },
  {
   "cell_type": "code",
   "execution_count": null,
   "metadata": {},
   "outputs": [],
   "source": [
    "anchor_names = None  # use all anchors by default.\n",
    "\n",
    "#filename = 'datasets/uah1.mat'\n",
    "# fingers. works ok.\n",
    "#filename = 'datasets/Plaza1.mat'; # zig zag. does not work super well.\n",
    "filename = 'datasets/Plaza2.mat' # triangle. works well.\n",
    "\n",
    "verbose = False\n",
    "period_it = 10\n",
    "traj = get_trajectory(filename)\n",
    "dataname = filename.split('/')[-1].split('.')[0]\n",
    "\n",
    "if dataname == 'uah1':\n",
    "    t_window = 1.0\n",
    "    eps = 2.0\n",
    "    xlim = 0, 50\n",
    "    ylim = -20, 20\n",
    "\n",
    "    min_time = 0\n",
    "    max_time = 1000\n",
    "\n",
    "    # for iterative.\n",
    "    n_complexity_it = 2\n",
    "    model_it = 'polynomial'\n",
    "    t_window_it = 80\n",
    "\n",
    "elif dataname == 'Plaza1':\n",
    "    t_window = 0.5\n",
    "    eps = 0.5\n",
    "    xlim = -50, 10\n",
    "    ylim = -20, 75\n",
    "\n",
    "    # choose one:\n",
    "    min_time = 0  # first big circle\n",
    "    max_time = 200  # first big circle\n",
    "    min_time = 510  # first loop\n",
    "    max_time = 600  # first loop\n",
    "    min_time = 0  # first few loops\n",
    "    max_time = 1000  # first few loops.\n",
    "\n",
    "    # for iterative.\n",
    "    n_complexity_it = 3\n",
    "    model_it = 'full_bandlimited'\n",
    "    period_it = 40\n",
    "    t_window_it = 20\n",
    "\n",
    "elif dataname == 'Plaza2':\n",
    "    t_window = 0.1\n",
    "    eps = 0.2\n",
    "    xlim = -80, 10\n",
    "    ylim = -20, 75\n",
    "\n",
    "    min_time = 45.1\n",
    "    period = 100.3 - 45.1\n",
    "    num_loops = 1\n",
    "    max_time = min_time + num_loops * period\n",
    "    traj.period = period\n",
    "\n",
    "    # for iterative.\n",
    "    n_complexity_it = 3\n",
    "    model_it = 'bandlimited'\n",
    "    period_it = 40\n",
    "    t_window_it = 40\n",
    "\n",
    "result_dict = loadmat(filename)"
   ]
  },
  {
   "cell_type": "markdown",
   "metadata": {},
   "source": [
    "## Prepare dataset"
   ]
  },
  {
   "cell_type": "code",
   "execution_count": null,
   "metadata": {},
   "outputs": [],
   "source": [
    "anchor_data = result_dict['TL']\n",
    "range_data = result_dict['TD']\n",
    "gt_data = result_dict['GT']\n",
    "\n",
    "anchors_df = create_anchors_df(anchor_data)\n",
    "anchors_df = format_anchors_df(anchors_df, range_system_id=range_system_id, gt_system_id=gt_system_id)\n",
    "\n",
    "full_df = create_full_df(range_data, gt_data)\n",
    "full_df = format_data_df(full_df, anchors_df, gt_system_id=gt_system_id, range_system_id=range_system_id)\n",
    "if verbose:\n",
    "    print('time going from {:.1f} to {:.1f}'.format(full_df.timestamp.min(), full_df.timestamp.max()))\n",
    "full_df = full_df[(full_df.timestamp >= min_time) & (full_df.timestamp <= max_time)]\n",
    "full_df.loc[:, 'timestamp'] = full_df.timestamp - full_df.timestamp.min()\n",
    "\n",
    "fig, axs = plt.subplots(1, 2)\n",
    "sns.scatterplot(data=full_df, x='px', y='py', hue='timestamp', linewidth=0.0, ax=axs[0])\n",
    "sns.scatterplot(data=full_df, x='timestamp', y='px', hue='timestamp', linewidth=0.0, ax=axs[1])\n",
    "sns.scatterplot(data=anchors_df, x='px', y='py', linewidth=0.0,  ax=axs[0], color='red')\n",
    "\n",
    "print('adding ground truth...')\n",
    "full_df = add_gt_raw(full_df, t_window=t_window, gt_system_id=gt_system_id)\n",
    "full_df.loc[:, \"distance_gt\"] = full_df.apply(\n",
    "    lambda row: apply_distance_gt(row, anchors_df, gt_system_id=gt_system_id), axis=1)\n",
    "print('...done')"
   ]
  },
  {
   "cell_type": "markdown",
   "metadata": {},
   "source": [
    "## Plot distance measurements"
   ]
  },
  {
   "cell_type": "code",
   "execution_count": null,
   "metadata": {},
   "outputs": [],
   "source": [
    "fig, axs = plt.subplots(1, 2)\n",
    "range_df = full_df.loc[full_df.system_id == range_system_id]\n",
    "sns.scatterplot(data=range_df, x='px', y='py', hue='timestamp', linewidth=0.0, ax=axs[0])\n",
    "sns.scatterplot(data=anchors_df, x='px', y='py', linewidth=0.0,  ax=axs[0], color='red')\n",
    "sns.scatterplot(data=range_df, x='timestamp', y='px', hue='timestamp', linewidth=0.0, ax=axs[1])\n",
    "\n",
    "plot_distance_times(full_df)\n",
    "ax = plot_distance_errors(full_df)\n",
    "ax.set_title(dataname)"
   ]
  },
  {
   "cell_type": "code",
   "execution_count": null,
   "metadata": {},
   "outputs": [],
   "source": [
    "plt.figure()\n",
    "range_df.loc[:, 'distance_error'] = range_df.distance.values - range_df.distance_gt.values\n",
    "sns.scatterplot(data=range_df, x='px', y='py', hue='distance_error', linewidth=0.0)"
   ]
  },
  {
   "cell_type": "code",
   "execution_count": null,
   "metadata": {},
   "outputs": [],
   "source": [
    "plt.figure()\n",
    "sns.scatterplot(data=range_df, x='px', y='py', hue='anchor_name', linewidth=0.0)"
   ]
  },
  {
   "cell_type": "markdown",
   "metadata": {},
   "source": [
    "## Filter measurements"
   ]
  },
  {
   "cell_type": "code",
   "execution_count": null,
   "metadata": {},
   "outputs": [],
   "source": [
    "filtered_df = full_df[full_df.distance<=30]\n",
    "\n",
    "plot_distance_times(filtered_df)\n",
    "ax = plot_distance_errors(filtered_df)"
   ]
  },
  {
   "cell_type": "markdown",
   "metadata": {},
   "source": [
    "## Construct parameters."
   ]
  },
  {
   "cell_type": "code",
   "execution_count": null,
   "metadata": {},
   "outputs": [],
   "source": [
    "from evaluate_dataset import compute_distance_matrix\n",
    "\n",
    "chosen_df = full_df\n",
    "#chosen_df = filtered_df\n",
    "chosen_distance = 'distance'\n",
    "#chosen_distance = 'distance_gt'\n",
    "\n",
    "## Construct anchors. \n",
    "if anchor_names is None:\n",
    "    anchors = anchors_df.loc[:, ['px', 'py', 'pz']].values.astype(np.float32).T\n",
    "else:\n",
    "    anchors_df = anchors_df.loc[anchors_df.anchor_name.isin(anchor_names)]\n",
    "    anchors = get_coordinates(anchors_df, anchor_names)\n",
    "\n",
    "## Construct times.\n",
    "range_df = chosen_df[chosen_df.system_id == range_system_id]\n",
    "times = range_df.timestamp.unique()\n",
    "\n",
    "## Construct D.\n",
    "D, times = compute_distance_matrix(chosen_df, anchors_df, anchor_names, times, chosen_distance)\n",
    "if np.sum(D > 0) > D.shape[0]:\n",
    "    print('Warning: multiple measurements for times:{}/{}!'.format(\n",
    "          np.sum(np.sum(D > 0, axis=1)>1), D.shape[0]))\n",
    "\n",
    "## Construct ground truth.\n",
    "ground_truth_pos = get_ground_truth(chosen_df, times)"
   ]
  },
  {
   "cell_type": "markdown",
   "metadata": {},
   "source": [
    "# Global algorithm"
   ]
  },
  {
   "cell_type": "code",
   "execution_count": null,
   "metadata": {},
   "outputs": [],
   "source": [
    "list_complexities = [3, 5, 21, 51]\n",
    "for n_complexity in list_complexities:\n",
    "\n",
    "    traj.set_n_complexity(n_complexity)\n",
    "    basis = traj.get_basis(times=times)\n",
    "\n",
    "    Chat_weighted = alternativePseudoInverse(D, anchors[:2, :], basis, weighted=True)\n",
    "    Chat = alternativePseudoInverse(D, anchors[:2, :], basis, weighted=False)\n",
    "\n",
    "    traj.set_coeffs(coeffs=Chat)\n",
    "\n",
    "    traj_weighted = traj.copy()\n",
    "    traj_weighted.set_coeffs(coeffs=Chat_weighted)\n",
    "\n",
    "    fig, ax = plt.subplots()\n",
    "    traj.plot(times=times, color='green', label='non-weighted', ax=ax)\n",
    "    traj_weighted.plot(times=times, color='blue', label='weighted', ax=ax)\n",
    "    ax.plot(full_df.px, full_df.py, color='black', label='ground truth')\n",
    "    ax.set_xlabel('x [m]')\n",
    "    ax.set_ylabel('y [m]')\n",
    "    ax.set_title('K={}'.format(traj.n_complexity))\n",
    "    ax.set_xlim(*xlim)\n",
    "    ax.set_ylim(*ylim)\n",
    "    ax.legend()"
   ]
  },
  {
   "cell_type": "markdown",
   "metadata": {},
   "source": [
    "# Iterative algorithms"
   ]
  },
  {
   "cell_type": "code",
   "execution_count": null,
   "metadata": {},
   "outputs": [],
   "source": [
    "traj_it = traj.copy()\n",
    "traj_it.set_n_complexity(n_complexity_it)\n",
    "traj_it.model = model_it\n",
    "traj_it.period = period_it\n",
    "basis = traj_it.get_basis(times=times)\n",
    "print('Using trajectory model: \\n model={}, K={}, period={}'.format(traj_it.model, traj_it.n_complexity, traj_it.period))"
   ]
  },
  {
   "cell_type": "code",
   "execution_count": null,
   "metadata": {},
   "outputs": [],
   "source": [
    "### Averaging algorithm\n",
    "print('averaging with time window', t_window_it)\n",
    "C_list, t_list = averaging_algorithm(D, anchors[:2, :], basis, times, t_window=t_window_it)\n",
    "ax1 = plot_individual(C_list, t_list, traj_it)\n",
    "ax1.plot(ground_truth_pos.px, ground_truth_pos.py, color='black')\n",
    "result_df = get_smooth_points(C_list, t_list, traj_it)\n",
    "ax2 = plot_smooth(result_df)\n",
    "ax2.plot(ground_truth_pos.px, ground_truth_pos.py, color='black')\n",
    "[[ax.set_xlim(*xlim), ax.set_ylim(*ylim)] for ax in [ax1, ax2]]"
   ]
  },
  {
   "cell_type": "code",
   "execution_count": null,
   "metadata": {},
   "outputs": [],
   "source": [
    "### Build up algorithm\n",
    "C_list, t_list = build_up_algorithm(D, anchors[:2, :], basis, times, eps=eps, verbose=False)\n",
    "ax1 = plot_individual(C_list, t_list, traj_it.copy())\n",
    "ax1.plot(ground_truth_pos.px, ground_truth_pos.py, color='black')\n",
    "\n",
    "result_df = get_smooth_points(C_list, t_list, traj_it)\n",
    "ax2 = plot_smooth(result_df)\n",
    "ax2.plot(ground_truth_pos.px, ground_truth_pos.py, color='black')\n",
    "[[ax.set_xlim(*xlim), ax.set_ylim(*ylim)] for ax in [ax1, ax2]]"
   ]
  },
  {
   "cell_type": "code",
   "execution_count": null,
   "metadata": {},
   "outputs": [],
   "source": []
  }
 ],
 "metadata": {
  "kernelspec": {
   "display_name": "Python 3",
   "language": "python",
   "name": "python3"
  },
  "language_info": {
   "codemirror_mode": {
    "name": "ipython",
    "version": 3
   },
   "file_extension": ".py",
   "mimetype": "text/x-python",
   "name": "python",
   "nbconvert_exporter": "python",
   "pygments_lexer": "ipython3",
   "version": "3.5.2"
  }
 },
 "nbformat": 4,
 "nbformat_minor": 2
}
