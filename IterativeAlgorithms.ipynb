{
 "cells": [
  {
   "cell_type": "code",
   "execution_count": 1,
   "metadata": {},
   "outputs": [],
   "source": [
    "import matplotlib.pyplot as plt\n",
    "import numpy as np\n",
    "import pandas as pd\n",
    "import seaborn as sns\n",
    "\n",
    "%matplotlib inline\n",
    "#%matplotlib notebook\n",
    "%reload_ext autoreload\n",
    "%autoreload 2\n",
    "\n",
    "plt.rcParams['figure.figsize'] = 10, 5\n",
    "np.set_printoptions(precision=5, suppress=True)"
   ]
  },
  {
   "cell_type": "markdown",
   "metadata": {},
   "source": [
    "# Toy example"
   ]
  },
  {
   "cell_type": "code",
   "execution_count": 2,
   "metadata": {},
   "outputs": [
    {
     "name": "stdout",
     "output_type": "stream",
     "text": [
      "(30, 5) (2, 30)\n"
     ]
    },
    {
     "data": {
      "image/png": "[encoded data removed]",
      "text/plain": [
       "<Figure size 432x288 with 1 Axes>"
      ]
     },
     "metadata": {
      "needs_background": "light"
     },
     "output_type": "display_data"
    }
   ],
   "source": [
    "from trajectory import Trajectory\n",
    "\n",
    "np.random.seed(1)\n",
    "t1 = Trajectory(dim=2, n_complexity=2, model='polynomial', \n",
    "                coeffs=np.array([[0., 0.], [0., 1.]]))\n",
    "t2 = Trajectory(dim=2, n_complexity=2, model='polynomial', \n",
    "                coeffs=np.array([[-3., 3.], [1., 0.]]))\n",
    "times1 = np.linspace(0, 1, 10)\n",
    "times2 = np.linspace(1, 2, 20)\n",
    "anchors = 4 * np.random.rand(2, 5)\n",
    "fig, ax = plt.subplots()\n",
    "ax.scatter(*anchors, color='red')\n",
    "t1.plot(times=times1, ax=ax, color='black')\n",
    "t2.plot(times=times2, ax=ax, color='black')\n",
    "ax.axis('equal')\n",
    "\n",
    "from measurements import get_measurements\n",
    "\n",
    "b1, D1 = get_measurements(t1, anchors, seed=1, times=times1)\n",
    "b2, D2 = get_measurements(t2, anchors, seed=1, times=times2)\n",
    "F = np.hstack((b1, b2))\n",
    "D = np.vstack((D1, D2))\n",
    "times = np.r_[times1, times2]\n",
    "print(D.shape, F.shape)\n",
    "\n",
    "#plt.matshow(D)"
   ]
  },
  {
   "cell_type": "code",
   "execution_count": 3,
   "metadata": {},
   "outputs": [
    {
     "name": "stdout",
     "output_type": "stream",
     "text": [
      "range(0, 5)\n"
     ]
    },
    {
     "data": {
      "text/html": [
       "<div>\n",
       "<style scoped>\n",
       "    .dataframe tbody tr th:only-of-type {\n",
       "        vertical-align: middle;\n",
       "    }\n",
       "\n",
       "    .dataframe tbody tr th {\n",
       "        vertical-align: top;\n",
       "    }\n",
       "\n",
       "    .dataframe thead th {\n",
       "        text-align: right;\n",
       "    }\n",
       "</style>\n",
       "<table border=\"1\" class=\"dataframe\">\n",
       "  <thead>\n",
       "    <tr style=\"text-align: right;\">\n",
       "      <th></th>\n",
       "      <th>timestamp</th>\n",
       "      <th>anchor_id</th>\n",
       "      <th>distance</th>\n",
       "    </tr>\n",
       "  </thead>\n",
       "  <tbody>\n",
       "    <tr>\n",
       "      <th>0</th>\n",
       "      <td>0</td>\n",
       "      <td>0</td>\n",
       "      <td>2.92056</td>\n",
       "    </tr>\n",
       "    <tr>\n",
       "      <th>1</th>\n",
       "      <td>0</td>\n",
       "      <td>1</td>\n",
       "      <td>8.85635</td>\n",
       "    </tr>\n",
       "    <tr>\n",
       "      <th>2</th>\n",
       "      <td>0</td>\n",
       "      <td>2</td>\n",
       "      <td>1.91007</td>\n",
       "    </tr>\n",
       "    <tr>\n",
       "      <th>3</th>\n",
       "      <td>0</td>\n",
       "      <td>3</td>\n",
       "      <td>3.9802</td>\n",
       "    </tr>\n",
       "    <tr>\n",
       "      <th>4</th>\n",
       "      <td>0</td>\n",
       "      <td>4</td>\n",
       "      <td>4.99064</td>\n",
       "    </tr>\n",
       "  </tbody>\n",
       "</table>\n",
       "</div>"
      ],
      "text/plain": [
       "  timestamp anchor_id distance\n",
       "0         0         0  2.92056\n",
       "1         0         1  8.85635\n",
       "2         0         2  1.91007\n",
       "3         0         3   3.9802\n",
       "4         0         4  4.99064"
      ]
     },
     "execution_count": 3,
     "metadata": {},
     "output_type": "execute_result"
    }
   ],
   "source": [
    "## Convert toy example to something more realistic. \n",
    "df = pd.DataFrame(columns=['timestamp', 'anchor_id', 'distance'])\n",
    "i = 0\n",
    "\n",
    "anchor_ids = range(anchors.shape[1])\n",
    "print(anchor_ids)\n",
    "\n",
    "noise = 1e-3\n",
    "np.random.seed(1)\n",
    "\n",
    "for d_mn_row, time in zip(D, times):\n",
    "    anchor_indexes = np.where(d_mn_row>0)[0]\n",
    "    for anchor_idx in anchor_indexes:\n",
    "        distance=d_mn_row[anchor_idx]\n",
    "        if noise > 0:\n",
    "            distance += np.random.normal(scale=noise)\n",
    "        df.loc[i, :] = dict(\n",
    "            timestamp=time,\n",
    "            anchor_id=anchor_ids[anchor_idx],\n",
    "            distance=distance\n",
    "        )\n",
    "        i += 1\n",
    "df.head()"
   ]
  },
  {
   "cell_type": "markdown",
   "metadata": {},
   "source": [
    "# Averaging Algorithm\n",
    "\n",
    "Estimate the trajectory recursively over a fixed  time window."
   ]
  },
  {
   "cell_type": "code",
   "execution_count": 4,
   "metadata": {},
   "outputs": [
    {
     "data": {
      "image/png": "[encoded data removed]",
      "text/plain": [
       "<Figure size 432x288 with 1 Axes>"
      ]
     },
     "metadata": {
      "needs_background": "light"
     },
     "output_type": "display_data"
    }
   ],
   "source": [
    "from iterative_algorithms import averaging_algorithm\n",
    "C_list, t_list = averaging_algorithm(D, anchors, F, times, t_window=1.0)\n",
    "\n",
    "np.testing.assert_allclose(C_list[0], t1.coeffs)\n",
    "np.testing.assert_allclose(C_list[-2], t2.coeffs)\n",
    "np.testing.assert_allclose(C_list[-1], t2.coeffs)\n",
    "\n",
    "fig, ax = plt.subplots()\n",
    "for C, t in zip(C_list, t_list):\n",
    "    trajk = t1.copy()\n",
    "    trajk.set_coeffs(coeffs=C)\n",
    "    trajk.plot(ax=ax, times=t)"
   ]
  },
  {
   "cell_type": "markdown",
   "metadata": {},
   "source": [
    "# Build-up Algorithm\n",
    "\n",
    "\n",
    "Refine the current trajectory as long as the new measurements \"fit the model\" well enough. \n",
    "\n",
    "Create a completely new trajectory model with measurements if they stop fitting. "
   ]
  },
  {
   "cell_type": "code",
   "execution_count": 5,
   "metadata": {},
   "outputs": [
    {
     "data": {
      "image/png": "[encoded data removed]",
      "text/plain": [
       "<Figure size 432x288 with 1 Axes>"
      ]
     },
     "metadata": {
      "needs_background": "light"
     },
     "output_type": "display_data"
    }
   ],
   "source": [
    "from iterative_algorithms import build_up_algorithm\n",
    "\n",
    "C_list, t_list = build_up_algorithm(D, anchors, F, times, eps=1e-3)\n",
    "\n",
    "\n",
    "np.testing.assert_allclose(C_list[0], t1.coeffs)\n",
    "np.testing.assert_allclose(C_list[1], t2.coeffs)\n",
    "\n",
    "\n",
    "fig, ax = plt.subplots()\n",
    "for C, t in zip(C_list, t_list):\n",
    "    trajk = t1.copy()\n",
    "    trajk.set_coeffs(coeffs=C)\n",
    "    trajk.plot(ax=ax, times=t)"
   ]
  },
  {
   "cell_type": "code",
   "execution_count": null,
   "metadata": {},
   "outputs": [],
   "source": []
  }
 ],
 "metadata": {
  "kernelspec": {
   "display_name": "Python 3",
   "language": "python",
   "name": "python3"
  },
  "language_info": {
   "codemirror_mode": {
    "name": "ipython",
    "version": 3
   },
   "file_extension": ".py",
   "mimetype": "text/x-python",
   "name": "python",
   "nbconvert_exporter": "python",
   "pygments_lexer": "ipython3",
   "version": "3.6.8"
  }
 },
 "nbformat": 4,
 "nbformat_minor": 2
}
