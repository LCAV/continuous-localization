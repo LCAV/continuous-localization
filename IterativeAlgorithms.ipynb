{
 "cells": [
  {
   "cell_type": "markdown",
   "metadata": {},
   "source": [
    "# Iterative algorithms\n",
    "\n",
    "Test piecewise algorithms, constructing different trajectory models over time. This is still work in progress, but the functioning of two example algorithms is proven on simulated data in this notebook."
   ]
  },
  {
   "cell_type": "code",
   "execution_count": null,
   "metadata": {},
   "outputs": [],
   "source": [
    "import matplotlib.pyplot as plt\n",
    "import numpy as np\n",
    "import pandas as pd\n",
    "import seaborn as sns\n",
    "\n",
    "from iterative_algorithms import *\n",
    "\n",
    "\n",
    "%matplotlib inline\n",
    "#%matplotlib notebook\n",
    "%reload_ext autoreload\n",
    "%autoreload 2\n",
    "\n",
    "plt.rcParams['figure.figsize'] = 10, 5\n",
    "np.set_printoptions(precision=5, suppress=True)"
   ]
  },
  {
   "cell_type": "markdown",
   "metadata": {},
   "source": [
    "# Toy example"
   ]
  },
  {
   "cell_type": "code",
   "execution_count": null,
   "metadata": {},
   "outputs": [],
   "source": [
    "from trajectory import Trajectory\n",
    "\n",
    "np.random.seed(1)\n",
    "t1 = Trajectory(dim=2, n_complexity=2, model='polynomial', \n",
    "                coeffs=np.array([[0., 0.], [0., 1.]]))\n",
    "t2 = Trajectory(dim=2, n_complexity=2, model='polynomial', \n",
    "                coeffs=np.array([[-3., 3.], [1., 0.]]))\n",
    "times1 = np.linspace(0, 1, 10)\n",
    "times2 = np.linspace(1, 2, 20)\n",
    "anchors = 4 * np.random.rand(2, 5)\n",
    "fig, ax = plt.subplots()\n",
    "ax.scatter(*anchors, color='red')\n",
    "t1.plot(times=times1, ax=ax, color='black')\n",
    "t2.plot(times=times2, ax=ax, color='black')\n",
    "ax.axis('equal')\n",
    "\n",
    "from measurements import get_measurements\n",
    "\n",
    "b1, D1 = get_measurements(t1, anchors, seed=1, times=times1)\n",
    "b2, D2 = get_measurements(t2, anchors, seed=1, times=times2)\n",
    "F = np.hstack((b1, b2))\n",
    "D = np.vstack((D1, D2))\n",
    "times = np.r_[times1, times2]\n",
    "print(D.shape, F.shape)\n",
    "\n",
    "#plt.matshow(D)"
   ]
  },
  {
   "cell_type": "code",
   "execution_count": null,
   "metadata": {},
   "outputs": [],
   "source": [
    "## Convert toy example to something more realistic. \n",
    "df = pd.DataFrame(columns=['timestamp', 'anchor_id', 'distance'])\n",
    "i = 0\n",
    "\n",
    "anchor_ids = range(anchors.shape[1])\n",
    "print(anchor_ids)\n",
    "\n",
    "noise = 1e-3\n",
    "np.random.seed(1)\n",
    "\n",
    "for d_mn_row, time in zip(D, times):\n",
    "    anchor_indexes = np.where(d_mn_row>0)[0]\n",
    "    for anchor_idx in anchor_indexes:\n",
    "        distance=d_mn_row[anchor_idx]\n",
    "        if noise > 0:\n",
    "            distance += np.random.normal(scale=noise)\n",
    "        df.loc[i, :] = dict(\n",
    "            timestamp=time,\n",
    "            anchor_id=anchor_ids[anchor_idx],\n",
    "            distance=distance\n",
    "        )\n",
    "        i += 1\n",
    "df.head()"
   ]
  },
  {
   "cell_type": "markdown",
   "metadata": {},
   "source": [
    "### 1. Averaging algorithm\n",
    "\n",
    "Estimate the trajectory recursively over a fixed  time window."
   ]
  },
  {
   "cell_type": "code",
   "execution_count": null,
   "metadata": {},
   "outputs": [],
   "source": [
    "C_list, t_list = averaging_algorithm(D, anchors, F, times, t_window=1.0)\n",
    "\n",
    "np.testing.assert_allclose(C_list[0], t1.coeffs)\n",
    "np.testing.assert_allclose(C_list[-2], t2.coeffs)\n",
    "np.testing.assert_allclose(C_list[-1], t2.coeffs)\n",
    "\n",
    "fig, ax = plt.subplots()\n",
    "for C, t in zip(C_list, t_list):\n",
    "    trajk = t1.copy()\n",
    "    trajk.set_coeffs(coeffs=C)\n",
    "    trajk.plot(ax=ax, times=t)\n",
    "fig.set_size_inches(5, 3)\n",
    "ax.set_xlabel('x')\n",
    "ax.set_ylabel('y')\n",
    "plt.tight_layout()\n",
    "fig.savefig('results/moving_window.png')"
   ]
  },
  {
   "cell_type": "markdown",
   "metadata": {},
   "source": [
    "### 2. Build-up algorithm\n",
    "\n",
    "Refine the current trajectory as long as the new measurements \"fit the model\" well enough. \n",
    "\n",
    "Create a completely new trajectory model with measurements if they stop fitting. "
   ]
  },
  {
   "cell_type": "code",
   "execution_count": null,
   "metadata": {},
   "outputs": [],
   "source": [
    "C_list, t_list = build_up_algorithm(D, anchors, F, times, eps=1e-3)\n",
    "\n",
    "np.testing.assert_allclose(C_list[0], t1.coeffs)\n",
    "np.testing.assert_allclose(C_list[1], t2.coeffs)\n",
    "    \n",
    "fig, ax = plt.subplots()\n",
    "for C, t in zip(C_list, t_list):\n",
    "    trajk = t1.copy()\n",
    "    trajk.set_coeffs(coeffs=C)\n",
    "    trajk.plot(ax=ax, times=t)\n",
    "fig.set_size_inches(5, 3)\n",
    "ax.set_xlabel('x')\n",
    "ax.set_ylabel('y')\n",
    "plt.tight_layout()\n",
    "fig.savefig('results/iterative.png')"
   ]
  },
  {
   "cell_type": "markdown",
   "metadata": {},
   "source": [
    "# Real example"
   ]
  },
  {
   "cell_type": "code",
   "execution_count": null,
   "metadata": {},
   "outputs": [],
   "source": [
    "from public_data_utils import *\n",
    "#filename = 'datasets/uah1.mat' # fingers\n",
    "#filename = 'datasets/Plaza1.mat'; # zig zag. \n",
    "filename = 'datasets/Plaza2.mat' # triangle\n",
    "\n",
    "full_df, anchors_df, traj = read_dataset(filename)\n",
    "xlim, ylim = get_plotting_params(filename)"
   ]
  },
  {
   "cell_type": "code",
   "execution_count": null,
   "metadata": {},
   "outputs": [],
   "source": [
    "from evaluate_dataset import compute_distance_matrix, compute_anchors\n",
    "\n",
    "chosen_df = full_df\n",
    "#chosen_df = filtered_df\n",
    "chosen_distance = 'distance'\n",
    "#chosen_distance = 'distance_gt'\n",
    "anchor_names = None\n",
    "\n",
    "## Construct anchors. \n",
    "anchors = compute_anchors(anchors_df, anchor_names)\n",
    "\n",
    "## Construct times.\n",
    "times = chosen_df[chosen_df.system_id == range_system_id].timestamp.unique()\n",
    "\n",
    "## Construct D.\n",
    "D, times = compute_distance_matrix(chosen_df, anchors_df, anchor_names, times, chosen_distance)\n",
    "if np.sum(D > 0) > D.shape[0]:\n",
    "    print('Warning: multiple measurements for times:{}/{}!'.format(\n",
    "          np.sum(np.sum(D > 0, axis=1)>1), D.shape[0]))\n",
    "\n",
    "## Construct ground truth.\n",
    "points_gt = get_ground_truth(chosen_df, times)"
   ]
  },
  {
   "cell_type": "code",
   "execution_count": null,
   "metadata": {},
   "outputs": [],
   "source": [
    "period_it = 10\n",
    "dataname = filename.split('/')[-1].split('.')[0]\n",
    "if dataname == 'uah1':\n",
    "    # for iterative.\n",
    "    n_complexity_it = 2\n",
    "    model_it = 'polynomial'\n",
    "    t_window_it = 80\n",
    "    eps = 2.0\n",
    "elif dataname == 'Plaza1':\n",
    "    # for iterative.\n",
    "    n_complexity_it = 3\n",
    "    model_it = 'full_bandlimited'\n",
    "    period_it = 40\n",
    "    t_window_it = 20\n",
    "    eps = 0.5\n",
    "elif dataname == 'Plaza2':\n",
    "    # for iterative.\n",
    "    n_complexity_it = 3\n",
    "    model_it = 'bandlimited'\n",
    "    period_it = 40\n",
    "    t_window_it = 40\n",
    "    eps = 0.2"
   ]
  },
  {
   "cell_type": "code",
   "execution_count": null,
   "metadata": {},
   "outputs": [],
   "source": [
    "traj_it = traj.copy()\n",
    "traj_it.set_n_complexity(n_complexity_it)\n",
    "traj_it.model = model_it\n",
    "traj_it.period = period_it\n",
    "basis = traj_it.get_basis(times=times)\n",
    "print('Using trajectory model: \\n model={}, K={}, period={}'.format(traj_it.model, traj_it.n_complexity, traj_it.period))"
   ]
  },
  {
   "cell_type": "markdown",
   "metadata": {},
   "source": [
    "### 1. Averaging algorithm"
   ]
  },
  {
   "cell_type": "code",
   "execution_count": null,
   "metadata": {},
   "outputs": [],
   "source": [
    "print('averaging with time window', t_window_it)\n",
    "C_list, t_list = averaging_algorithm(D, anchors[:2, :], basis, times, t_window=t_window_it)\n",
    "ax1 = plot_individual(C_list, t_list, traj_it)\n",
    "ax1.plot(points_gt.px, points_gt.py, color='black')\n",
    "result_df = get_smooth_points(C_list, t_list, traj_it)\n",
    "ax2 = plot_smooth(result_df)\n",
    "ax2.plot(points_gt.px, points_gt.py, color='black')\n",
    "[[ax.set_xlim(*xlim), ax.set_ylim(*ylim)] for ax in [ax1, ax2]]"
   ]
  },
  {
   "cell_type": "markdown",
   "metadata": {},
   "source": [
    "### 2. Build-up algorithm"
   ]
  },
  {
   "cell_type": "code",
   "execution_count": null,
   "metadata": {},
   "outputs": [],
   "source": [
    "\n",
    "C_list, t_list = build_up_algorithm(D, anchors[:2, :], basis, times, eps=eps, verbose=False)\n",
    "ax1 = plot_individual(C_list, t_list, traj_it.copy())\n",
    "ax1.plot(points_gt.px, points_gt.py, color='black')\n",
    "\n",
    "result_df = get_smooth_points(C_list, t_list, traj_it)\n",
    "ax2 = plot_smooth(result_df)\n",
    "ax2.plot(points_gt.px, points_gt.py, color='black')\n",
    "[[ax.set_xlim(*xlim), ax.set_ylim(*ylim)] for ax in [ax1, ax2]]"
   ]
  },
  {
   "cell_type": "code",
   "execution_count": null,
   "metadata": {},
   "outputs": [],
   "source": []
  }
 ],
 "metadata": {
  "kernelspec": {
   "display_name": "Python 3",
   "language": "python",
   "name": "python3"
  },
  "language_info": {
   "codemirror_mode": {
    "name": "ipython",
    "version": 3
   },
   "file_extension": ".py",
   "mimetype": "text/x-python",
   "name": "python",
   "nbconvert_exporter": "python",
   "pygments_lexer": "ipython3",
   "version": "3.6.8"
  }
 },
 "nbformat": 4,
 "nbformat_minor": 2
}
