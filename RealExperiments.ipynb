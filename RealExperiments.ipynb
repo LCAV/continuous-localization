{
 "cells": [
  {
   "cell_type": "markdown",
   "metadata": {},
   "source": [
    "# Real experiment evaluation"
   ]
  },
  {
   "cell_type": "code",
   "execution_count": null,
   "metadata": {},
   "outputs": [],
   "source": [
    "import math\n",
    "import matplotlib.pyplot as plt\n",
    "import numpy as np\n",
    "import pandas as pd\n",
    "import seaborn as sns\n",
    "\n",
    "%matplotlib notebook\n",
    "%reload_ext autoreload\n",
    "%autoreload 2\n",
    "\n",
    "np.set_printoptions(precision=2)"
   ]
  },
  {
   "cell_type": "code",
   "execution_count": null,
   "metadata": {},
   "outputs": [],
   "source": [
    "def convert_room_to_robot(x_room):\n",
    "    '''\n",
    "    Convert coordinates in room reference to robot reference. \n",
    "    '''\n",
    "    assert x_room.shape[0] == 3\n",
    "    assert x_room.ndim > 1 and x_room.shape[1] >= 1\n",
    "    \n",
    "    from math import cos, sin, pi\n",
    "    \n",
    "    theta = pi/2.0\n",
    "    R = np.array([[cos(theta), -sin(theta), 0], [sin(theta), cos(theta), 0], [0, 0, 1]])\n",
    "    #origin = np.array([3.4, 3.58, 0.0]).reshape((3, 1))\n",
    "    origin = np.array([3.58, 3.4, 0.0]).reshape((3, 1))\n",
    "    x_robot = R.dot(x_room - origin)\n",
    "    return x_robot\n",
    "    \n",
    "datafile = 'experiments/robot_test/circle2_double.csv'\n",
    "anchorsfile = 'experiments/anchors.csv'\n",
    "\n",
    "tango_system_id = 7585\n",
    "rtt_system_id = 7592"
   ]
  },
  {
   "cell_type": "code",
   "execution_count": null,
   "metadata": {
    "scrolled": true
   },
   "outputs": [],
   "source": [
    "rtt_counter = -1\n",
    "tango_counter = -1\n",
    "\n",
    "def add_name(row):\n",
    "    global rtt_counter\n",
    "    global tango_counter \n",
    "    if row.system_id == tango_system_id:\n",
    "        tango_counter += 1\n",
    "        return 'Tango {}'.format(tango_counter)\n",
    "    elif row.system_id == rtt_system_id:\n",
    "        rtt_counter += 1\n",
    "        return 'RTT {}'.format(rtt_counter)\n",
    "    \n",
    "def clean_anchor_id(row):\n",
    "    return row.anchor_id.strip()\n",
    "\n",
    "anchors_df = pd.read_csv(anchorsfile)\n",
    "anchors_df.loc[:, 'anchor_id'] = anchors_df.apply(lambda row: clean_anchor_id(row),  axis=1)\n",
    "anchors_df.loc[:, 'anchor_name'] = anchors_df.apply(lambda row: add_name(row), axis=1) \n",
    "anchors_df"
   ]
  },
  {
   "cell_type": "markdown",
   "metadata": {},
   "source": [
    "# Distance filtering"
   ]
  },
  {
   "cell_type": "code",
   "execution_count": null,
   "metadata": {
    "scrolled": false
   },
   "outputs": [],
   "source": [
    "def change_name(row, anchors_df):\n",
    "    return anchors_df.loc[anchors_df.anchor_id==row.anchor_id, \"anchor_name\"].values[0]\n",
    "\n",
    "def change_system_id(row):\n",
    "    if row.system_id==rtt_system_id:\n",
    "        return 'RTT'\n",
    "    elif row.system_id==tango_system_id:\n",
    "        return 'Tango'\n",
    "    \n",
    "def filter_columns(data_df):\n",
    "    all_columns = set(data_df.columns)\n",
    "    keep_columns = set(['timestamp', 'system_id', 'anchor_id',\n",
    "                    'px', 'py', 'pz',\n",
    "                    'theta_x', 'theta_y', 'theta_z',\n",
    "                    'distance', 'rssi', 'seconds'])\n",
    "    drop_columns = all_columns - keep_columns # this is a set difference\n",
    "    data_df.drop(drop_columns, axis=1, inplace=True)\n",
    "\n",
    "def read_dataset(datafile):\n",
    "    data_df = pd.read_csv(datafile)\n",
    "    filter_columns(data_df)\n",
    "    data_df.loc[:, 'timestamp'] = (data_df.timestamp.values - data_df.timestamp.min()) / 1000. # in seconds\n",
    "    data_df.loc[:, 'anchor_name'] = data_df.apply(lambda row: change_name(row, anchors_df), axis=1)\n",
    "    data_df.loc[:, 'system_id'] = data_df.apply(lambda row: change_system_id(row), axis=1)\n",
    "    return data_df"
   ]
  },
  {
   "cell_type": "markdown",
   "metadata": {},
   "source": [
    "## Resampling"
   ]
  },
  {
   "cell_type": "code",
   "execution_count": null,
   "metadata": {
    "scrolled": true
   },
   "outputs": [],
   "source": [
    "from evaluate_dataset import resample\n",
    "\n",
    "datafile_name = datafile.split('.')[0]\n",
    "resample_name = datafile_name + '_resampled.pkl'\n",
    "\n",
    "create_new_results = True\n",
    "\n",
    "try:\n",
    "    assert not create_new_results, \"Asked for result recreation.\"\n",
    "    resampled_df = pd.read_pickle(resample_name)\n",
    "    print('Read', resample_name)\n",
    "except (FileNotFoundError, AssertionError) as e:\n",
    "    print(e)\n",
    "    print('Creating new results.'.format(resample_name))\n",
    "    \n",
    "    data_df = read_dataset(datafile)\n",
    "    tmax = data_df.timestamp.max()\n",
    "    tmin = data_df.timestamp.min()\n",
    "    resampled_df_rtt = resample(data_df, t_range=[tmin, tmax], t_delta=0.5, t_window=1.0, system_id='RTT') \n",
    "    resampled_df_tango = resample(data_df, t_range=[tmin, tmax], t_delta=0.5, t_window=0.1, system_id='Tango') \n",
    "    resampled_df = pd.concat((resampled_df_rtt, resampled_df_tango), ignore_index=True)\n",
    "    resampled_df['anchor_name'] = resampled_df.apply(lambda row: change_name(row, anchors_df), axis=1)\n",
    "    resampled_df.sort_values([\"timestamp\", \"anchor_name\"], inplace=True)\n",
    "    resampled_df.to_pickle(resample_name)\n",
    "    print(resampled_df.head())\n",
    "    print('Saved as', resample_name)"
   ]
  },
  {
   "cell_type": "code",
   "execution_count": null,
   "metadata": {},
   "outputs": [],
   "source": [
    "from evaluate_dataset import add_gt_resampled\n",
    "import time\n",
    "tstart=time.time()\n",
    "add_gt_resampled(resampled_df, anchors_df, gt_system_id=\"Tango\")\n",
    "\n",
    "print('{:.2f}'.format(time.time() - tstart))\n",
    "fg = sns.FacetGrid(resampled_df, col='anchor_name', col_wrap=4, col_order=sorted(resampled_df.anchor_name.unique()))\n",
    "fg.map(plt.plot, 'timestamp', 'distance')\n",
    "fg.map(plt.plot, 'timestamp', 'distance_tango')"
   ]
  },
  {
   "cell_type": "markdown",
   "metadata": {},
   "source": [
    "## Calibration"
   ]
  },
  {
   "cell_type": "code",
   "execution_count": null,
   "metadata": {},
   "outputs": [],
   "source": [
    "data_df = read_dataset(datafile)"
   ]
  },
  {
   "cell_type": "code",
   "execution_count": null,
   "metadata": {},
   "outputs": [],
   "source": [
    "tango_df = data_df[data_df.system_id==\"Tango\"]\n",
    "#tango_df = resampled_df[resampled_df.system_id==\"Tango\"]\n",
    "\n",
    "def diff(rolling):\n",
    "    if len(rolling) > 1:\n",
    "        return rolling[1] - rolling[0]\n",
    "    else: \n",
    "        return 0.0\n",
    "\n",
    "import datetime\n",
    "tango_df.index = [datetime.datetime.fromtimestamp(t) for t in tango_df.timestamp]\n",
    "v_x = tango_df.loc[:, [\"px\"]].rolling(min_periods=1, window=2, center=False).apply(func=diff, raw=True)\n",
    "v_y = tango_df.loc[:, [\"py\"]].rolling(min_periods=1, window=2, center=False).apply(func=diff, raw=True)\n",
    "v_z = tango_df.loc[:, [\"pz\"]].rolling(min_periods=1, window=2, center=False).apply(func=diff, raw=True)\n",
    "tango_df.reset_index(inplace=True, drop=True)\n",
    "\n",
    "v = np.hstack((\n",
    "    v_x.values.astype(np.float32),\n",
    "    v_y.values.astype(np.float32),\n",
    "    v_z.values.astype(np.float32)))\n",
    "tango_df.loc[:, \"velocity\"] = np.linalg.norm(v, axis=1)\n",
    "\n",
    "print(tango_df.head())\n",
    "\n",
    "fig, ax = plt.subplots()\n",
    "sns.lineplot(data=tango_df, x=\"timestamp\", y=\"velocity\", ax=ax)\n",
    "t0 = tango_df.loc[tango_df.velocity >= 0.005, \"timestamp\"].values[0]\n",
    "ax.plot([t0, t0], [tango_df.velocity.min(), tango_df.velocity.max()], label='t0')"
   ]
  },
  {
   "cell_type": "code",
   "execution_count": null,
   "metadata": {},
   "outputs": [],
   "source": [
    "def find_edge(window):\n",
    "    pattern = [1, 1, 1, 1, -1, -1, -1]\n",
    "    if len(window) < len(pattern):\n",
    "        pattern = pattern[:-len(window)]\n",
    "    sum_ = np.sum([a*b for (a, b) in zip(pattern, window)])\n",
    "    return sum_\n",
    "    \n",
    "tango_df.index = [datetime.datetime.fromtimestamp(t) for t in tango_df.timestamp]\n",
    "normalized_series = tango_df.loc[:, \"velocity\"]/tango_df.velocity.max()\n",
    "df = normalized_series.rolling(window=7, center=False, min_periods=1).apply(find_edge, raw=True)\n",
    "tango_df.reset_index(inplace=True, drop=True)\n",
    "\n",
    "# find start indices\n",
    "all_indices = np.where(df.values<-0.5)[0]\n",
    "all_times = [tango_df.timestamp[i] for i in all_indices]\n",
    "\n",
    "start_times = [all_times[0]]\n",
    "start_indices = [indices[0]]\n",
    "for s, i in zip(all_times, all_indices):\n",
    "    if s > start_times[-1] + 10: # assume that start indices cannot be closer than 10 seconds.\n",
    "        start_times.append(s)\n",
    "        start_indices.append(i)\n",
    "        \n",
    "plt.figure()\n",
    "plt.plot(tango_df.timestamp, tango_df.velocity)\n",
    "for s in start_times:\n",
    "    plt.plot([s, s], [tango_df.velocity.min(), tango_df.velocity.max()], label='t0', color='orange')\n",
    "    \n",
    "# find calibration indices\n",
    "# valid indices are close-to-zero velocity indices before the start times. \n",
    "calibration_indices = {}\n",
    "\n",
    "# weird name inconsistency because in terms of calibration start_time is the end-time. \n",
    "for end_time, end_index in zip(start_times, start_indices):\n",
    "    num_max = min(100, end_index)\n",
    "    for num_indices in range(num_max):\n",
    "        if tango_df.iloc[end_index - num_indices].velocity > 0.01:\n",
    "            break\n",
    "            \n",
    "    start_index = end_index - num_indices\n",
    "    start_time = tango_df.iloc[start_index].timestamp\n",
    "    calibration_indices[start_index] = [start_time, end_time]\n",
    "    plt.plot([start_time, start_time], [tango_df.velocity.min(), tango_df.velocity.max()], \n",
    "            color='green')"
   ]
  },
  {
   "cell_type": "code",
   "execution_count": null,
   "metadata": {},
   "outputs": [],
   "source": [
    "from evaluate_dataset import add_gt_raw\n",
    "## do calibration. \n",
    "\n",
    "def distance_gt(row, anchors_df):\n",
    "    if row.system_id == \"Tango\":\n",
    "        return 0.0\n",
    "    anchor_coord = anchors_df.loc[anchors_df.anchor_id==row.anchor_id, ['px', 'py', 'pz']].values.astype(np.float32)\n",
    "    point_coord = np.array([row.px, row.py, row.pz], dtype=np.float32)\n",
    "    return np.linalg.norm(point_coord - anchor_coord)\n",
    "\n",
    "#data_df = add_gt_raw(data_df, t_window=0.1)\n",
    "data_df.loc[:, 'distance_tango'] = data_df.apply(lambda row: distance_gt(row, anchors_df), axis=1)"
   ]
  },
  {
   "cell_type": "code",
   "execution_count": null,
   "metadata": {},
   "outputs": [],
   "source": [
    "def calibrate(row, calib_dict, calib_type):\n",
    "    if row.system_id == 'Tango':\n",
    "        return 0.0\n",
    "    offset = calib_dict[row.anchor_name][calib_type]\n",
    "    return row.distance - offset\n",
    "\n",
    "for j, start_index in enumerate(sorted(calibration_indices.keys())):\n",
    "\n",
    "    start_time, end_time = calibration_indices[start_index]\n",
    "    # calculate offsets\n",
    "    rtt_df = data_df[data_df.system_id=='RTT']\n",
    "    \n",
    "    calib_dict = dict()\n",
    "    \n",
    "    fig, axs = plt.subplots(1, len(rtt_df.anchor_id.unique()), sharex=True, sharey=True)\n",
    "    fig.set_size_inches(15, 5)\n",
    "    fig.suptitle('calibration from {} to {}'.format(start_time, end_time))\n",
    "    for i, (anchor_name, df) in enumerate(rtt_df.groupby('anchor_name')):\n",
    "        df = df[(df.timestamp >= start_time) & (df.timestamp <= end_time)]\n",
    "        \n",
    "        errors = df.distance.values - df.distance_tango.values\n",
    "        \n",
    "        axs[i].hist(errors)\n",
    "        axs[i].set_title(anchor_name)\n",
    "        \n",
    "        # mean calibration parameters\n",
    "        calib_dict[anchor_name] = dict(mean=np.mean(errors),  median=np.median(errors))\n",
    "        \n",
    "    # calibrate distances\n",
    "    data_df.loc[:, 'distance_mean_{}'.format(j)] = data_df.apply(lambda row: calibrate(row, calib_dict, 'mean'), axis=1)\n",
    "    data_df.loc[:, 'distance_median_{}'.format(j)] = data_df.apply(lambda row: calibrate(row, calib_dict, 'median'), axis=1)"
   ]
  },
  {
   "cell_type": "markdown",
   "metadata": {},
   "source": [
    "## Calibrate using all measurements"
   ]
  },
  {
   "cell_type": "code",
   "execution_count": null,
   "metadata": {},
   "outputs": [],
   "source": [
    "rtt_df = data_df[data_df.system_id=='RTT']\n",
    "    \n",
    "calib_dict = {} \n",
    "    \n",
    "fig, axs = plt.subplots(1, len(rtt_df.anchor_id.unique()), sharex=True, sharey=True)\n",
    "fig.set_size_inches(15, 5)\n",
    "fig.suptitle('calibration using all measurements')\n",
    "for i, (anchor_name, df) in enumerate(rtt_df.groupby('anchor_name')):\n",
    "    errors = df.distance.values - df.distance_tango.values\n",
    "    axs[i].hist(errors)\n",
    "    axs[i].set_title(anchor_name)\n",
    "    calib_dict[anchor_name] = dict(all_mean=np.mean(errors), all_median=np.median(errors))\n",
    "data_df.loc[:, 'distance_mean_all'.format(j)] = data_df.apply(lambda row: calibrate(row, calib_dict, 'all_mean'), axis=1)\n",
    "data_df.loc[:, 'distance_median_all'.format(j)] = data_df.apply(lambda row: calibrate(row, calib_dict, 'all_median'), axis=1)"
   ]
  },
  {
   "cell_type": "markdown",
   "metadata": {},
   "source": [
    "## Calibrate using static positions"
   ]
  },
  {
   "cell_type": "code",
   "execution_count": null,
   "metadata": {},
   "outputs": [],
   "source": [
    "# TODO use calib1-calib5 datasets for calibration. "
   ]
  },
  {
   "cell_type": "markdown",
   "metadata": {},
   "source": [
    "## Plot results"
   ]
  },
  {
   "cell_type": "code",
   "execution_count": null,
   "metadata": {},
   "outputs": [],
   "source": [
    "id_vars = [c for c in data_df.columns if c[:8]!='distance']\n",
    "plot_df = data_df.melt(id_vars=id_vars, \n",
    "                       var_name=\"distance_type\", \n",
    "                       value_name=\"distance\")\n",
    "plot_df = plot_df[plot_df.system_id=='RTT']\n",
    "plot_df.sort_values(['timestamp', 'anchor_name'], inplace=True)\n",
    "plot_df.reset_index(inplace=True, drop=True)\n",
    "plot_df.head()"
   ]
  },
  {
   "cell_type": "code",
   "execution_count": null,
   "metadata": {},
   "outputs": [],
   "source": [
    "fg = sns.FacetGrid(plot_df, col='anchor_name', col_wrap=3, hue='distance_type', col_order=sorted(plot_df.anchor_name.unique()), \n",
    "                   hue_order=['distance', 'distance_tango', 'distance_median_0', 'distance_median_1', 'distance_median_all'])\n",
    "fg.map(sns.lineplot, 'timestamp', 'distance')\n",
    "plt.gcf().set_size_inches(15, 15)\n",
    "plt.legend()"
   ]
  },
  {
   "cell_type": "code",
   "execution_count": null,
   "metadata": {},
   "outputs": [],
   "source": [
    "from plotting_tools import plot_cdf_raw\n",
    "from itertools import cycle\n",
    "\n",
    "colors = sns.color_palette('deep')\n",
    "\n",
    "fig, axarr = plt.subplots(3, 3)\n",
    "fig.set_size_inches(15, 15)\n",
    "axarr = axarr.reshape((-1, ))\n",
    "for i, (anchor_name, df) in enumerate(plot_df.sort_values(\"anchor_name\").groupby(\"anchor_name\")):\n",
    "    \n",
    "    axarr[i].set_title(anchor_name)\n",
    "    df = df.sort_values(\"timestamp\")\n",
    "    gt_df = df[df.distance_type==\"distance_tango\"]\n",
    "    \n",
    "    color_cycle = cycle(colors)\n",
    "    for distance_type in sorted(df.distance_type.unique()):\n",
    "        if distance_type == \"distance_tango\" or distance_type == \"distance_gt\":\n",
    "            continue\n",
    "        meas_df = df[df.distance_type==distance_type]\n",
    "        \n",
    "        assert np.allclose(meas_df.timestamp.values, gt_df.timestamp.values)\n",
    "        \n",
    "        errors = np.abs(meas_df.distance.values - gt_df.distance.values)\n",
    "        plot_cdf_raw(errors, ax=axarr[i], color=next(color_cycle), label=distance_type)\n",
    "        axarr[i].set_ylabel('')\n",
    "    axarr[i].legend(loc='lower right')\n",
    "for j in range(i+1, 9):\n",
    "    axarr[j].axis('off')"
   ]
  },
  {
   "cell_type": "code",
   "execution_count": null,
   "metadata": {},
   "outputs": [],
   "source": [
    "from itertools import cycle\n",
    "\n",
    "colors = sns.color_palette('deep')\n",
    "\n",
    "fig, axarr = plt.subplots(3, 3)\n",
    "fig.set_size_inches(15, 15)\n",
    "axarr = axarr.reshape((-1, ))\n",
    "for i, (anchor_name, df) in enumerate(plot_df.sort_values(\"anchor_name\").groupby(\"anchor_name\")):\n",
    "    \n",
    "    axarr[i].set_title(anchor_name)\n",
    "    df = df.sort_values(\"timestamp\")\n",
    "    gt_df = df[df.distance_type==\"distance_tango\"]\n",
    "    \n",
    "    color_cycle = cycle(colors)\n",
    "    meas_df = df[df.distance_type==\"distance_median_all\"]\n",
    "        \n",
    "    assert np.allclose(meas_df.timestamp.values, gt_df.timestamp.values)\n",
    "        \n",
    "    errors = np.abs(meas_df.distance.values - gt_df.distance.values)\n",
    "    rssis = meas_df.rssi.values\n",
    "        \n",
    "    axarr[i].scatter(rssis, errors)\n",
    "for j in range(i+1, 9):\n",
    "    axarr[j].axis('off')"
   ]
  },
  {
   "cell_type": "markdown",
   "metadata": {},
   "source": [
    "# Position processing"
   ]
  },
  {
   "cell_type": "code",
   "execution_count": null,
   "metadata": {},
   "outputs": [],
   "source": [
    "plt.figure()\n",
    "data = data_df[data_df.system_id==\"Tango\"]\n",
    "sns.scatterplot(data=data, x='seconds', y='px', linewidth=0.0, label='x')\n",
    "sns.scatterplot(data=data, x='seconds', y='py', linewidth=0.0, label='y')\n",
    "sns.scatterplot(data=data, x='seconds', y='pz', linewidth=0.0, label='z')\n",
    "plt.legend()"
   ]
  },
  {
   "cell_type": "code",
   "execution_count": null,
   "metadata": {},
   "outputs": [],
   "source": [
    "plt.figure()\n",
    "sns.scatterplot(data=data_df[data_df.system_id==\"Tango\"], x='px', y='py', hue='seconds', linewidth=0.0)\n",
    "sns.scatterplot(data=anchors_df, x='px', y='py', hue='anchor_name', linewidth=0.0, style='system_id', legend=False)\n",
    "plt.arrow(0, 0, 1, 0, color='red', head_width=0.2)\n",
    "plt.arrow(0, 0, 0, 1, color='green', head_width=0.2)\n",
    "delta = 0.1\n",
    "for i, a in anchors_df.iterrows():\n",
    "    plt.annotate(a.anchor_name, (a.px+delta, a.py+delta))\n",
    "plt.legend(loc='lower right', bbox_to_anchor=[1.0, 0.0])\n",
    "plt.axis('equal')\n",
    "plt.title(datafile)"
   ]
  },
  {
   "cell_type": "markdown",
   "metadata": {},
   "source": [
    "## Raw processing"
   ]
  },
  {
   "cell_type": "code",
   "execution_count": null,
   "metadata": {
    "scrolled": true
   },
   "outputs": [],
   "source": [
    "from evaluate_dataset import add_median_raw, add_gt_raw\n",
    "\n",
    "print(datafile)\n",
    "data_df = read_dataset(datafile)\n",
    "data_df.head()\n",
    "\n",
    "#data_df = add_median_raw(data_df)\n",
    "#t1=time.time()\n",
    "#data_df = add_gt_raw(data_df, t_window=0.1)\n",
    "print(time.time() - t1)\n",
    "print(data_df.tail())\n",
    "\n",
    "#### Alternative way. \n",
    "### IMPORTANT: this is not centered. Our own implementation add_median_raw is centered. \n",
    "### However it is much much slower...\n",
    "import datetime\n",
    "data_df.sort_values(\"timestamp\", inplace=True)\n",
    "datetimes = [datetime.datetime.fromtimestamp(t/1000.0) for t in data_df.timestamp]\n",
    "data_df.index = [pd.Timestamp(datetime) for datetime in datetimes]\n",
    "for anchor_id in data_df.anchor_id.unique():\n",
    "    anchor_df = data_df[data_df.anchor_id==anchor_id]\n",
    "    rolling_data = anchor_df['distance'].rolling('1s', min_periods=1, center=False)\n",
    "    data_df.loc[data_df.anchor_id==anchor_id, \"distance_mean\"] = rolling_data.mean()\n",
    "    data_df.loc[data_df.anchor_id==anchor_id, \"distance_median\"] = rolling_data.median() \n",
    "data_df.index = range(len(data_df))"
   ]
  },
  {
   "cell_type": "code",
   "execution_count": null,
   "metadata": {},
   "outputs": [],
   "source": []
  },
  {
   "cell_type": "code",
   "execution_count": null,
   "metadata": {},
   "outputs": [],
   "source": [
    "fg = sns.FacetGrid(data_df, col='anchor_name', col_wrap=4, col_order=sorted(data_df.anchor_name.unique()))\n",
    "fg.map(plt.plot, 'seconds', 'distance')\n",
    "fg.map(plt.plot, 'seconds', 'distance_gt')\n",
    "\n",
    "def plot_distances(data_df):\n",
    "    import itertools\n",
    "    colors = itertools.cycle(plt.get_cmap('tab10').colors)\n",
    "    rtt_ids = anchors_df[anchors_df.system_id==rtt_system_id].anchor_id.unique()\n",
    "    fig, axs = plt.subplots(1, len(rtt_ids), sharey=True)\n",
    "    fig.set_size_inches(15, 5)\n",
    "    for ax, anchor_id in zip(axs, rtt_ids):\n",
    "        color = next(colors)\n",
    "        data = data_df[data_df.anchor_id==anchor_id]\n",
    "        anchor_name = anchors_df.loc[anchors_df.anchor_id==anchor_id, 'anchor_name']\n",
    "        ax.plot(data.seconds, data.distance_gt, linestyle=':', label=anchor_name, color=color)\n",
    "        ax.plot(data.seconds, data.distance, linestyle='-', color=color)\n",
    "        ax.set_ylim(0, 15)\n",
    "    #sns.scatterplot(data=data_df[data_df.system_id==rtt_system_id], x='seconds', y='distance_error',hue='anchor_id')\n",
    "plot_distances(data_df)"
   ]
  },
  {
   "cell_type": "code",
   "execution_count": null,
   "metadata": {},
   "outputs": [],
   "source": [
    "parameters = {\n",
    "    'experiments/robot_test/static1.csv':  np.array([0, 0, 0.2]), # on robot, facing window\n",
    "    'experiments/robot_test/static2.csv':  np.array([0, 0, 0.1]), # in wooden thing, facing window\n",
    "    'experiments/robot_test/static3.csv':  np.array([0, 0, 0.1]), # in wooden thing, facing wall\n",
    "    'experiments/robot_test/static4.csv':  np.array([0, 0, 1.1]), # in wooden thing on stand, facing wall\n",
    "    'experiments/robot_test/static5.csv':  np.array([0, 0, 1.1]), # in wooden thing on stand, facing wall\n",
    "    'experiments/robot_test/static6.csv':  np.array([0, 0, 1.1]), # in wooden thing on stand, facing wall\n",
    "    'experiments/robot_test/static7.csv':  np.array([0, 0, 0.2]), # in wooden thing on stand, facing wall\n",
    "    'experiments/robot_test/static8.csv':  np.array([0, 0, 0.2]), # in wooden thing on stand, facing wall\n",
    "}\n",
    "\n",
    "for i in range(1, 9):\n",
    "    datafile = 'experiments/robot_test/static{}.csv'.format(i)\n",
    "    position = parameters[datafile]\n",
    "\n",
    "    data_df = read_dataset(datafile)\n",
    "    plot_distances(data_df)\n",
    "    name = datafile.split('/')[-1]\n",
    "    plt.suptitle(name)"
   ]
  },
  {
   "cell_type": "code",
   "execution_count": null,
   "metadata": {
    "scrolled": false
   },
   "outputs": [],
   "source": [
    "import os\n",
    "folder = 'experiments/robot_test/'\n",
    "file_list = os.listdir(folder)\n",
    "plt.figure()\n",
    "\n",
    "end_points_lines_room = np.array([\n",
    "    [5.046, 5.615, 0.0],\n",
    "    [4.869, 4.231, 0.0],\n",
    "    [5.870, 1.830, 0.0],\n",
    "    [4.254, 1.567, 0.0],\n",
    "    [2.924, 1.867, 0.0],\n",
    "    [1.198, 1.416, 0.0]]).T\n",
    "start_point_room = np.array([1.034, 5.410, 0.0]).reshape((3, 1))\n",
    "\n",
    "end_points_lines = convert_room_to_robot(end_points_lines_room)\n",
    "start_point = convert_room_to_robot(start_point_room)\n",
    "\n",
    "for datafile in sorted(file_list):\n",
    "    if datafile[-4:] != '.csv':\n",
    "        continue\n",
    "    if (datafile[:8] != 'straight') and (datafile[:5] != 'calib') or (datafile[:10] == 'calibratio'):\n",
    "        continue\n",
    "    data_df = pd.read_csv(folder + datafile)\n",
    "    #data_df.loc[:, 'seconds'] = (data_df.timestamp.values - data_df.timestamp.min()) / 1000. # in seconds\n",
    "    data = data_df[data_df.system_id==tango_system_id]\n",
    "    sns.scatterplot(data=data, x='px', y='py', label=datafile, linewidth=0.0)\n",
    "\n",
    "plt.scatter(*start_point[:2], color='black', s=10.0)\n",
    "for end_point in end_points_lines.T:\n",
    "    print(end_point)\n",
    "    plt.scatter(*end_point[:2], color='black', s=5.0)\n",
    "    plt.plot([start_point[0], end_point[0]], [start_point[1], end_point[1]], color='black')\n",
    "    \n",
    "plt.axis('equal')\n",
    "plt.legend(loc='lower left', bbox_to_anchor=[0.8, 0])\n",
    "#plt.legend()\n",
    "#fill_ground_truth(data_df, current_gt=position)"
   ]
  },
  {
   "cell_type": "code",
   "execution_count": null,
   "metadata": {
    "scrolled": false
   },
   "outputs": [],
   "source": [
    "for datafile in sorted(file_list):\n",
    "    if datafile[-4:] != '.csv':\n",
    "        continue\n",
    "    if datafile[:6] == 'static' or datafile[:5] == 'calib':\n",
    "        continue\n",
    "    else:\n",
    "        data_df = pd.read_csv(folder + datafile)\n",
    "        data = data_df[data_df.system_id==tango_system_id]\n",
    "        plt.figure()\n",
    "        sns.scatterplot(data=data, x='px', y='py', label=datafile, linewidth=0.0)"
   ]
  },
  {
   "cell_type": "code",
   "execution_count": null,
   "metadata": {},
   "outputs": [],
   "source": []
  }
 ],
 "metadata": {
  "kernelspec": {
   "display_name": "Python 3",
   "language": "python",
   "name": "python3"
  },
  "language_info": {
   "codemirror_mode": {
    "name": "ipython",
    "version": 3
   },
   "file_extension": ".py",
   "mimetype": "text/x-python",
   "name": "python",
   "nbconvert_exporter": "python",
   "pygments_lexer": "ipython3",
   "version": "3.5.2"
  }
 },
 "nbformat": 4,
 "nbformat_minor": 2
}
