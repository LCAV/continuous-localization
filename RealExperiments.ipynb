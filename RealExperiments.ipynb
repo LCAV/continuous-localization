{
 "cells": [
  {
   "cell_type": "markdown",
   "metadata": {},
   "source": [
    "# Real experiment evaluation"
   ]
  },
  {
   "cell_type": "code",
   "execution_count": null,
   "metadata": {},
   "outputs": [],
   "source": [
    "import math\n",
    "import matplotlib.pyplot as plt\n",
    "import numpy as np\n",
    "import pandas as pd\n",
    "%matplotlib notebook\n",
    "%reload_ext autoreload\n",
    "%autoreload 2\n",
    "\n",
    "np.set_printoptions(precision=2)"
   ]
  },
  {
   "cell_type": "code",
   "execution_count": null,
   "metadata": {
    "scrolled": true
   },
   "outputs": [],
   "source": [
    "datafile = 'experiments/robot_test/circle.csv'\n",
    "#datafile = 'experiments/robot_test/full_bandlimited1.csv'\n",
    "\n",
    "anchorsfile = 'experiments/robot_test.csv'\n",
    "\n",
    "tango_system_id = 7585\n",
    "rtt_system_id = 7592\n",
    "\n",
    "rtt_counter = -1\n",
    "tango_counter = -1\n",
    "\n",
    "def add_name(row):\n",
    "    global rtt_counter\n",
    "    global tango_counter \n",
    "    if row.system_id == tango_system_id:\n",
    "        tango_counter += 1\n",
    "        return 'Tango {}'.format(tango_counter)\n",
    "    elif row.system_id == rtt_system_id:\n",
    "        rtt_counter += 1\n",
    "        return 'RTT {}'.format(rtt_counter)\n",
    "    \n",
    "    \n",
    "def clean_anchor_id(row):\n",
    "    return row.anchor_id.strip()\n",
    "\n",
    "\n",
    "data_df = pd.read_csv(datafile)\n",
    "anchors_df = pd.read_csv(anchorsfile)\n",
    "anchors_df.loc[:, 'anchor_id'] = anchors_df.apply(lambda row: clean_anchor_id(row),  axis=1)\n",
    "anchors_df.loc[:, 'anchor_name'] = anchors_df.apply(lambda row: add_name(row), axis=1) \n",
    "anchors_df"
   ]
  },
  {
   "cell_type": "code",
   "execution_count": null,
   "metadata": {},
   "outputs": [],
   "source": [
    "import seaborn as sns\n",
    "\n",
    "data_df.loc[:, 'seconds'] = (data_df.timestamp.values - data_df.timestamp.min()) / 1000. # in seconds\n",
    "\n",
    "plt.figure()\n",
    "sns.scatterplot(data=data_df[data_df.system_id==tango_system_id], x='px', y='py', hue='seconds', linewidth=0.0)\n",
    "sns.scatterplot(data=anchors_df, x='px', y='py', hue='anchor_name', linewidth=0.0, style='system_id', legend=False)\n",
    "plt.arrow(0, 0, 1, 0, color='red', head_width=0.2)\n",
    "plt.arrow(0, 0, 0, 1, color='green', head_width=0.2)\n",
    "delta = 0.1\n",
    "for i, a in anchors_df.iterrows():\n",
    "    plt.annotate(a.anchor_name, (a.px+delta, a.py+delta))\n",
    "plt.legend(loc='lower right', bbox_to_anchor=[1.0, 0.0])\n",
    "plt.axis('equal')\n",
    "plt.title(datafile)"
   ]
  },
  {
   "cell_type": "code",
   "execution_count": null,
   "metadata": {},
   "outputs": [],
   "source": [
    "plt.figure()\n",
    "data = data_df[data_df.system_id==tango_system_id]\n",
    "sns.scatterplot(data=data, x='seconds', y='px', linewidth=0.0, label='x')\n",
    "sns.scatterplot(data=data, x='seconds', y='py', linewidth=0.0, label='y')\n",
    "sns.scatterplot(data=data, x='seconds', y='pz', linewidth=0.0, label='z')\n",
    "plt.legend()"
   ]
  },
  {
   "cell_type": "code",
   "execution_count": null,
   "metadata": {},
   "outputs": [],
   "source": [
    "current_gt = None\n",
    "for i, row in data_df.iterrows():\n",
    "    if row.system_id == tango_system_id:\n",
    "        current_gt = [row.px, row.py, row.pz]\n",
    "    elif current_gt is not None:\n",
    "        data_df.loc[i, ['px', 'py', 'pz']] = current_gt\n",
    "    else:\n",
    "        print(i, 'no gt yet.')"
   ]
  },
  {
   "cell_type": "code",
   "execution_count": null,
   "metadata": {},
   "outputs": [],
   "source": [
    "def distance_error(row):\n",
    "    if row.system_id == tango_system_id:\n",
    "        return 0.0\n",
    "    anchor_coord = anchors_df.loc[anchors_df.anchor_id==row.anchor_id, ['px', 'py', 'pz']].values.astype(np.float32)\n",
    "    point_coord = np.array([row.px, row.py, row.pz], dtype=np.float32)\n",
    "    return np.linalg.norm(point_coord - anchor_coord)\n",
    "        \n",
    "data_df.loc[:, 'distance_gt'] = data_df.apply(lambda row: distance_error(row), axis=1)\n",
    "data_df.loc[:, 'distance_error'] = np.abs(data_df.distance_gt - data_df.distance)"
   ]
  },
  {
   "cell_type": "code",
   "execution_count": null,
   "metadata": {},
   "outputs": [],
   "source": [
    "import itertools\n",
    "colors = itertools.cycle(plt.get_cmap('tab10').colors)\n",
    "rtt_ids = anchors_df[anchors_df.system_id==rtt_system_id].anchor_id.unique()\n",
    "fig, axs = plt.subplots(1, len(rtt_ids), sharey=True)\n",
    "fig.set_size_inches(10, 5)\n",
    "for ax, anchor_id in zip(axs, rtt_ids):\n",
    "    color = next(colors)\n",
    "    data = data_df[data_df.anchor_id==anchor_id]\n",
    "    anchor_name = anchors_df.loc[anchors_df.anchor_id==anchor_id, 'anchor_name']\n",
    "    ax.plot(data.seconds, data.distance_gt, linestyle=':', label=anchor_name, color=color)\n",
    "    ax.plot(data.seconds, data.distance, linestyle='-', color=color)\n",
    "    ax.set_ylim(0, 15)\n",
    "#sns.scatterplot(data=data_df[data_df.system_id==rtt_system_id], x='seconds', y='distance_error',hue='anchor_id')"
   ]
  },
  {
   "cell_type": "code",
   "execution_count": null,
   "metadata": {},
   "outputs": [],
   "source": []
  }
 ],
 "metadata": {
  "kernelspec": {
   "display_name": "Python 3",
   "language": "python",
   "name": "python3"
  },
  "language_info": {
   "codemirror_mode": {
    "name": "ipython",
    "version": 3
   },
   "file_extension": ".py",
   "mimetype": "text/x-python",
   "name": "python",
   "nbconvert_exporter": "python",
   "pygments_lexer": "ipython3",
   "version": "3.5.2"
  }
 },
 "nbformat": 4,
 "nbformat_minor": 2
}
